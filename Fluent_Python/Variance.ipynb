{
 "cells": [
  {
   "cell_type": "markdown",
   "metadata": {},
   "source": [
    "# Template \n",
    "\n",
    "- Author: Israel Oliveira [\\[e-mail\\]](mailto:'Israel%20Oliveira%20'<prof.israel@gmail.com>)"
   ]
  },
  {
   "cell_type": "code",
   "execution_count": 1,
   "metadata": {
    "execution": {
     "iopub.execute_input": "2022-06-29T15:24:26.338310Z",
     "iopub.status.busy": "2022-06-29T15:24:26.337554Z",
     "iopub.status.idle": "2022-06-29T15:24:26.368385Z",
     "shell.execute_reply": "2022-06-29T15:24:26.366985Z",
     "shell.execute_reply.started": "2022-06-29T15:24:26.338178Z"
    }
   },
   "outputs": [],
   "source": [
    "%load_ext watermark"
   ]
  },
  {
   "cell_type": "code",
   "execution_count": 2,
   "metadata": {
    "execution": {
     "iopub.execute_input": "2022-06-29T15:24:26.524651Z",
     "iopub.status.busy": "2022-06-29T15:24:26.524090Z",
     "iopub.status.idle": "2022-06-29T15:24:26.838440Z",
     "shell.execute_reply": "2022-06-29T15:24:26.837199Z",
     "shell.execute_reply.started": "2022-06-29T15:24:26.524601Z"
    }
   },
   "outputs": [],
   "source": [
    "import pandas as pd"
   ]
  },
  {
   "cell_type": "code",
   "execution_count": 3,
   "metadata": {
    "execution": {
     "iopub.execute_input": "2022-06-29T15:24:26.840312Z",
     "iopub.status.busy": "2022-06-29T15:24:26.839908Z",
     "iopub.status.idle": "2022-06-29T15:24:26.845576Z",
     "shell.execute_reply": "2022-06-29T15:24:26.844738Z",
     "shell.execute_reply.started": "2022-06-29T15:24:26.840292Z"
    }
   },
   "outputs": [],
   "source": [
    "# from tqdm import notebook as tqdm\n",
    "\n",
    "# from glob import glob\n",
    "\n",
    "# import matplotlib.pyplot as plt\n",
    "# %matplotlib inline\n",
    "# from matplotlib import rcParams\n",
    "# from cycler import cycler\n",
    "\n",
    "# rcParams['figure.figsize'] = 12, 8 # 18, 5\n",
    "# rcParams['axes.spines.top'] = False\n",
    "# rcParams['axes.spines.right'] = False\n",
    "# rcParams['axes.grid'] = True\n",
    "# rcParams['axes.prop_cycle'] = cycler(color=['#365977'])\n",
    "# rcParams['lines.linewidth'] = 2.5\n",
    "\n",
    "# import seaborn as sns\n",
    "# sns.set_theme()\n",
    "\n",
    "# pd.set_option(\"max_columns\", None)\n",
    "# pd.set_option(\"max_rows\", None)\n",
    "# pd.set_option('display.max_colwidth', None)\n",
    "\n",
    "# from IPython.display import Markdown, display\n",
    "# def md(arg):\n",
    "#     display(Markdown(arg))\n",
    "\n",
    "# from pandas_profiling import ProfileReport\n",
    "# #report = ProfileReport(#DataFrame here#, minimal=True)\n",
    "# #report.to\n",
    "\n",
    "# import pyarrow.parquet as pq\n",
    "# #df = pq.ParquetDataset(path_to_folder_with_parquets, filesystem=None).read_pandas().to_pandas()\n",
    "\n",
    "# import functools\n",
    "# import operator\n",
    "# def flat(a):\n",
    "#     return functools.reduce(operator.iconcat, a, [])\n",
    "\n",
    "\n",
    "######### LoadDicts\n",
    "\n",
    "# import json\n",
    "# from glob import glob\n",
    "# from typing import Any\n",
    "# from typing import NewType\n",
    "\n",
    "# def np_encoder(object):\n",
    "#     if isinstance(object, np.generic):\n",
    "#         return object.item()\n",
    "\n",
    "\n",
    "# DictsPathType = NewType(\"DictsPath\", str)\n",
    "\n",
    "\n",
    "# def load_file_json(path: DictsPathType):\n",
    "#     with open(path, \"r\") as f:\n",
    "#         return json.load(f)\n",
    "\n",
    "\n",
    "# def dump_file_json(path: DictsPathType, var: Any):\n",
    "#     with open(path, \"w\") as f:\n",
    "#         return json.dump(var, f, indent=4, default=np_encoder)\n",
    "\n",
    "\n",
    "# class LoadDicts:\n",
    "#     def __init__(self, dict_path: DictsPathType = \"./data\"):\n",
    "#         Dicts_glob = glob(f\"{dict_path}/*.json\")\n",
    "#         self.List = []\n",
    "#         self.Dict = {}\n",
    "#         for path_json in Dicts_glob:\n",
    "#             name = path_json.split(\"/\")[-1].replace(\".json\", \"\")\n",
    "#             self.List.append(name)\n",
    "#             self.Dict[name] = load_file_json(path_json)\n",
    "#             setattr(self, name, self.Dict[name])\n",
    "\n",
    "#     def __repr__(self) -> str:\n",
    "#         return \"LoadDicts: {}\".format(\", \".join(self.List))"
   ]
  },
  {
   "cell_type": "code",
   "execution_count": 4,
   "metadata": {
    "execution": {
     "iopub.execute_input": "2022-06-29T15:24:27.138771Z",
     "iopub.status.busy": "2022-06-29T15:24:27.138322Z",
     "iopub.status.idle": "2022-06-29T15:24:28.286224Z",
     "shell.execute_reply": "2022-06-29T15:24:28.284428Z",
     "shell.execute_reply.started": "2022-06-29T15:24:27.138731Z"
    }
   },
   "outputs": [
    {
     "name": "stdout",
     "output_type": "stream",
     "text": [
      "Python implementation: CPython\n",
      "Python version       : 3.9.10\n",
      "IPython version      : 8.4.0\n",
      "\n",
      "Compiler    : GCC 10.2.1 20210110\n",
      "OS          : Linux\n",
      "Release     : 5.14.0-1024-oem\n",
      "Machine     : x86_64\n",
      "Processor   : \n",
      "CPU cores   : 16\n",
      "Architecture: 64bit\n",
      "\n",
      "Git hash: 4e9ab6b79d7e3ff9b952395b75be98c2ff2e6ff7\n",
      "\n",
      "Git repo: https://github.com/ysraell/examples.git\n",
      "\n",
      "Git branch: master\n",
      "\n",
      "pandas: 1.4.2\n",
      "\n",
      "CPU\t: Intel(R) Xeon(R) Gold 6134 CPU @ 3.20GHz\n",
      "Mem:           251G\n",
      "Swap:          2.0G\n"
     ]
    }
   ],
   "source": [
    "# Run this cell before close.\n",
    "%watermark -d --iversion -b -r -g -m -v\n",
    "!cat /proc/cpuinfo |grep 'model name'|head -n 1 |sed -e 's/model\\ name/CPU/'\n",
    "!free -h |cut -d'i' -f1  |grep -v total"
   ]
  },
  {
   "cell_type": "code",
   "execution_count": 6,
   "metadata": {
    "execution": {
     "iopub.execute_input": "2022-06-29T15:29:56.453881Z",
     "iopub.status.busy": "2022-06-29T15:29:56.453276Z",
     "iopub.status.idle": "2022-06-29T15:29:56.466849Z",
     "shell.execute_reply": "2022-06-29T15:29:56.465531Z",
     "shell.execute_reply.started": "2022-06-29T15:29:56.453829Z"
    },
    "tags": []
   },
   "outputs": [],
   "source": [
    "from typing import TypeVar, Generic\n",
    "\n",
    "class Beverage:\n",
    "    \"\"\"Any beverage.\"\"\"\n",
    "    \n",
    "class Juice(Beverage):\n",
    "    \"\"\"Any fruit juice.\"\"\"\n",
    "    \n",
    "class OrangeJuice(Juice):\n",
    "    \"\"\"Delicius juice from Brazilian oranges.\"\"\"\n",
    "    \n",
    "T = TypeVar('T')\n",
    "\n",
    "class BeverageDispenser(Generic[T]):\n",
    "    \n",
    "    def __init__(self, beverage: T) -> None:\n",
    "        self.beverage = beverage\n",
    "    \n",
    "    def dispenser(self) -> T:\n",
    "        return self.beverage\n",
    "        \n",
    "def install(dispenser: BeverageDispenser[Juice]) -> None:\n",
    "    \"\"\"Install a fruit juice dispenser.\"\"\"\n",
    "    \n"
   ]
  },
  {
   "cell_type": "code",
   "execution_count": 7,
   "metadata": {
    "execution": {
     "iopub.execute_input": "2022-06-29T15:31:47.479455Z",
     "iopub.status.busy": "2022-06-29T15:31:47.478863Z",
     "iopub.status.idle": "2022-06-29T15:31:47.486337Z",
     "shell.execute_reply": "2022-06-29T15:31:47.485024Z",
     "shell.execute_reply.started": "2022-06-29T15:31:47.479402Z"
    }
   },
   "outputs": [],
   "source": [
    "juice_dispenser = BeverageDispenser(Juice())\n",
    "install(juice_dispenser)"
   ]
  },
  {
   "cell_type": "code",
   "execution_count": 8,
   "metadata": {
    "execution": {
     "iopub.execute_input": "2022-06-29T15:32:30.129373Z",
     "iopub.status.busy": "2022-06-29T15:32:30.128768Z",
     "iopub.status.idle": "2022-06-29T15:32:30.136531Z",
     "shell.execute_reply": "2022-06-29T15:32:30.134962Z",
     "shell.execute_reply.started": "2022-06-29T15:32:30.129321Z"
    }
   },
   "outputs": [],
   "source": [
    "beverage_dispenser = BeverageDispenser(Beverage())\n",
    "install(beverage_dispenser)"
   ]
  },
  {
   "cell_type": "code",
   "execution_count": null,
   "metadata": {},
   "outputs": [],
   "source": []
  }
 ],
 "metadata": {
  "kernelspec": {
   "display_name": "Python 3 (ipykernel)",
   "language": "python",
   "name": "python3"
  },
  "language_info": {
   "codemirror_mode": {
    "name": "ipython",
    "version": 3
   },
   "file_extension": ".py",
   "mimetype": "text/x-python",
   "name": "python",
   "nbconvert_exporter": "python",
   "pygments_lexer": "ipython3",
   "version": "3.9.10"
  }
 },
 "nbformat": 4,
 "nbformat_minor": 4
}
