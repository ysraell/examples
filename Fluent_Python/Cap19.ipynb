{
 "cells": [
  {
   "cell_type": "code",
   "execution_count": null,
   "id": "022d8560-ba57-4822-a1bb-74a02e18c39e",
   "metadata": {
    "tags": []
   },
   "outputs": [],
   "source": [
    "%%writefile spinner_thread.py\n",
    "\n",
    "import itertools\n",
    "import time\n",
    "from threading import Thread, Event\n",
    "\n",
    "def spin(msg: str, done: Event) -> None:\n",
    "    for char in itertools.cycle(r'\\|/-'):\n",
    "        status = f'\\r{char} {msg}'\n",
    "        print(status, end='', flush=True)\n",
    "        if done.wait(.1):\n",
    "            break\n",
    "        blanks = ' ' * len(status)\n",
    "        print(f'\\r{blanks}\\r', end='')\n",
    "        \n",
    "def slow() -> int:\n",
    "    time.sleep(3)\n",
    "    return 42\n",
    "\n",
    "\n",
    "def supervisor() -> int:\n",
    "    done = Event()\n",
    "    spinner = Thread(target=spin, args=('thinking', done))\n",
    "    print(f'spinner object: {spinner}')\n",
    "    spinner.start()\n",
    "    result = slow()\n",
    "    done.set()\n",
    "    spinner.join()\n",
    "    return result\n",
    "\n",
    "def main() -> None:\n",
    "    result = supervisor()\n",
    "    print(f'\\nAnswer: {result}')\n",
    "    \n",
    "if __name__ == '__main__':\n",
    "    main()\n",
    "    \n",
    "    \n",
    "#EOF"
   ]
  },
  {
   "cell_type": "code",
   "execution_count": null,
   "id": "6753addf-2d23-4ece-84e6-81796e4c8cb4",
   "metadata": {
    "tags": []
   },
   "outputs": [],
   "source": [
    "!python spinner_thread.py"
   ]
  },
  {
   "cell_type": "code",
   "execution_count": null,
   "id": "7f7b466b-5478-4c02-8738-a87657dcd180",
   "metadata": {
    "tags": []
   },
   "outputs": [],
   "source": [
    "%%writefile spinner_proc.py\n",
    "\n",
    "import itertools\n",
    "import time\n",
    "from multiprocessing import Process, Event, synchronize\n",
    "\n",
    "def spin(msg: str, done: synchronize.Event) -> None:\n",
    "    for char in itertools.cycle(r'\\|/-'):\n",
    "        status = f'\\r{char} {msg}'\n",
    "        print(status, end='', flush=True)\n",
    "        if done.wait(.1):\n",
    "            break\n",
    "        blanks = ' ' * len(status)\n",
    "        print(f'\\r{blanks}\\r', end='')\n",
    "        \n",
    "def slow() -> int:\n",
    "    time.sleep(3)\n",
    "    return 42\n",
    "\n",
    "\n",
    "def supervisor() -> int:\n",
    "    done = Event()\n",
    "    spinner = Process(target=spin, args=('thinking', done))\n",
    "    print(f'spinner object: {spinner}')\n",
    "    spinner.start()\n",
    "    result = slow()\n",
    "    done.set()\n",
    "    spinner.join()\n",
    "    return result\n",
    "\n",
    "def main() -> None:\n",
    "    result = supervisor()\n",
    "    print(f'\\nAnswer: {result}')\n",
    "    \n",
    "if __name__ == '__main__':\n",
    "    main()\n",
    "    \n",
    "    \n",
    "#EOF"
   ]
  },
  {
   "cell_type": "code",
   "execution_count": null,
   "id": "cd050521-44ec-4d3f-9fd6-dd300220fb18",
   "metadata": {
    "tags": []
   },
   "outputs": [],
   "source": [
    "!python spinner_proc.py"
   ]
  },
  {
   "cell_type": "code",
   "execution_count": 5,
   "id": "2f36d903-26b6-49b7-b244-36052edfeffd",
   "metadata": {
    "execution": {
     "iopub.execute_input": "2022-11-15T22:17:04.865062Z",
     "iopub.status.busy": "2022-11-15T22:17:04.864182Z",
     "iopub.status.idle": "2022-11-15T22:17:04.879146Z",
     "shell.execute_reply": "2022-11-15T22:17:04.877203Z",
     "shell.execute_reply.started": "2022-11-15T22:17:04.864986Z"
    },
    "tags": []
   },
   "outputs": [
    {
     "name": "stdout",
     "output_type": "stream",
     "text": [
      "Overwriting spinner_async.py\n"
     ]
    }
   ],
   "source": [
    "%%writefile spinner_async.py\n",
    "\n",
    "import itertools\n",
    "import time\n",
    "import asyncio\n",
    "\n",
    "async def spin(msg: str) -> None:\n",
    "    for char in itertools.cycle(r'\\|/-'):\n",
    "        status = f'\\r{char} {msg}'\n",
    "        print(status, end='', flush=True)\n",
    "        \n",
    "async def slow() -> int:\n",
    "    time.sleep(3)\n",
    "    return 42\n",
    "\n",
    "\n",
    "async def supervisor() -> int:\n",
    "    spinner = asyncio.create_task(spin('thinking'))\n",
    "    print(f'spinner object: {spinner}')\n",
    "    result = await slow()\n",
    "    spinner.cancel()\n",
    "    return result\n",
    "\n",
    "def main() -> None:\n",
    "    result = asyncio.run(supervisor())\n",
    "    print(f'\\nAnswer: {result}')\n",
    "    \n",
    "if __name__ == '__main__':\n",
    "    main()\n",
    "    \n",
    "    \n",
    "#EOF"
   ]
  },
  {
   "cell_type": "code",
   "execution_count": 6,
   "id": "d7126cad-179e-4939-a09a-3f7d75ba4110",
   "metadata": {
    "execution": {
     "iopub.execute_input": "2022-11-15T22:17:05.136160Z",
     "iopub.status.busy": "2022-11-15T22:17:05.134308Z",
     "iopub.status.idle": "2022-11-15T22:17:08.745792Z",
     "shell.execute_reply": "2022-11-15T22:17:08.745155Z",
     "shell.execute_reply.started": "2022-11-15T22:17:05.136045Z"
    },
    "tags": []
   },
   "outputs": [
    {
     "name": "stdout",
     "output_type": "stream",
     "text": [
      "spinner object: <Task pending name='Task-2' coro=<spin() running at /work/examples/Fluent_Python/spinner_async.py:6>>\n",
      "\n",
      "Answer: 42\n"
     ]
    }
   ],
   "source": [
    "!python spinner_async.py"
   ]
  },
  {
   "cell_type": "code",
   "execution_count": null,
   "id": "f4ae87a6-128c-4007-82af-ee9a3fac6d3a",
   "metadata": {},
   "outputs": [],
   "source": []
  }
 ],
 "metadata": {
  "kernelspec": {
   "display_name": "Python 3 (ipykernel)",
   "language": "python",
   "name": "python3"
  },
  "language_info": {
   "codemirror_mode": {
    "name": "ipython",
    "version": 3
   },
   "file_extension": ".py",
   "mimetype": "text/x-python",
   "name": "python",
   "nbconvert_exporter": "python",
   "pygments_lexer": "ipython3",
   "version": "3.10.8"
  }
 },
 "nbformat": 4,
 "nbformat_minor": 5
}
