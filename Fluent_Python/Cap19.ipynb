{
 "cells": [
  {
   "cell_type": "code",
   "execution_count": null,
   "id": "022d8560-ba57-4822-a1bb-74a02e18c39e",
   "metadata": {
    "tags": []
   },
   "outputs": [],
   "source": [
    "%%writefile spinner_thread.py\n",
    "\n",
    "import itertools\n",
    "import time\n",
    "from threading import Thread, Event\n",
    "\n",
    "def spin(msg: str, done: Event) -> None:\n",
    "    for char in itertools.cycle(r'\\|/-'):\n",
    "        status = f'\\r{char} {msg}'\n",
    "        print(status, end='', flush=True)\n",
    "        if done.wait(.1):\n",
    "            break\n",
    "        blanks = ' ' * len(status)\n",
    "        print(f'\\r{blanks}\\r', end='')\n",
    "        \n",
    "def slow() -> int:\n",
    "    time.sleep(3)\n",
    "    return 42\n",
    "\n",
    "\n",
    "def supervisor() -> int:\n",
    "    done = Event()\n",
    "    spinner = Thread(target=spin, args=('thinking', done))\n",
    "    print(f'spinner object: {spinner}')\n",
    "    spinner.start()\n",
    "    result = slow()\n",
    "    done.set()\n",
    "    spinner.join()\n",
    "    return result\n",
    "\n",
    "def main() -> None:\n",
    "    result = supervisor()\n",
    "    print(f'\\nAnswer: {result}')\n",
    "    \n",
    "if __name__ == '__main__':\n",
    "    main()\n",
    "    \n",
    "    \n",
    "#EOF"
   ]
  },
  {
   "cell_type": "code",
   "execution_count": null,
   "id": "6753addf-2d23-4ece-84e6-81796e4c8cb4",
   "metadata": {
    "tags": []
   },
   "outputs": [],
   "source": [
    "!python spinner_thread.py"
   ]
  },
  {
   "cell_type": "code",
   "execution_count": null,
   "id": "7f7b466b-5478-4c02-8738-a87657dcd180",
   "metadata": {
    "tags": []
   },
   "outputs": [],
   "source": [
    "%%writefile spinner_proc.py\n",
    "\n",
    "import itertools\n",
    "import time\n",
    "from multiprocessing import Process, Event, synchronize\n",
    "\n",
    "def spin(msg: str, done: synchronize.Event) -> None:\n",
    "    for char in itertools.cycle(r'\\|/-'):\n",
    "        status = f'\\r{char} {msg}'\n",
    "        print(status, end='', flush=True)\n",
    "        if done.wait(.1):\n",
    "            break\n",
    "        blanks = ' ' * len(status)\n",
    "        print(f'\\r{blanks}\\r', end='')\n",
    "        \n",
    "def slow() -> int:\n",
    "    time.sleep(3)\n",
    "    return 42\n",
    "\n",
    "\n",
    "def supervisor() -> int:\n",
    "    done = Event()\n",
    "    spinner = Process(target=spin, args=('thinking', done))\n",
    "    print(f'spinner object: {spinner}')\n",
    "    spinner.start()\n",
    "    result = slow()\n",
    "    done.set()\n",
    "    spinner.join()\n",
    "    return result\n",
    "\n",
    "def main() -> None:\n",
    "    result = supervisor()\n",
    "    print(f'\\nAnswer: {result}')\n",
    "    \n",
    "if __name__ == '__main__':\n",
    "    main()\n",
    "    \n",
    "    \n",
    "#EOF"
   ]
  },
  {
   "cell_type": "code",
   "execution_count": null,
   "id": "cd050521-44ec-4d3f-9fd6-dd300220fb18",
   "metadata": {
    "tags": []
   },
   "outputs": [],
   "source": [
    "!python spinner_proc.py"
   ]
  },
  {
   "cell_type": "code",
   "execution_count": 5,
   "id": "2f36d903-26b6-49b7-b244-36052edfeffd",
   "metadata": {
    "execution": {
     "iopub.execute_input": "2022-11-15T22:17:04.865062Z",
     "iopub.status.busy": "2022-11-15T22:17:04.864182Z",
     "iopub.status.idle": "2022-11-15T22:17:04.879146Z",
     "shell.execute_reply": "2022-11-15T22:17:04.877203Z",
     "shell.execute_reply.started": "2022-11-15T22:17:04.864986Z"
    },
    "tags": []
   },
   "outputs": [
    {
     "name": "stdout",
     "output_type": "stream",
     "text": [
      "Overwriting spinner_async.py\n"
     ]
    }
   ],
   "source": [
    "%%writefile spinner_async.py\n",
    "\n",
    "import itertools\n",
    "import time\n",
    "import asyncio\n",
    "\n",
    "async def spin(msg: str) -> None:\n",
    "    for char in itertools.cycle(r'\\|/-'):\n",
    "        status = f'\\r{char} {msg}'\n",
    "        print(status, end='', flush=True)\n",
    "        \n",
    "async def slow() -> int:\n",
    "    time.sleep(3)\n",
    "    return 42\n",
    "\n",
    "\n",
    "async def supervisor() -> int:\n",
    "    spinner = asyncio.create_task(spin('thinking'))\n",
    "    print(f'spinner object: {spinner}')\n",
    "    result = await slow()\n",
    "    spinner.cancel()\n",
    "    return result\n",
    "\n",
    "def main() -> None:\n",
    "    result = asyncio.run(supervisor())\n",
    "    print(f'\\nAnswer: {result}')\n",
    "    \n",
    "if __name__ == '__main__':\n",
    "    main()\n",
    "    \n",
    "    \n",
    "#EOF"
   ]
  },
  {
   "cell_type": "code",
   "execution_count": 6,
   "id": "d7126cad-179e-4939-a09a-3f7d75ba4110",
   "metadata": {
    "execution": {
     "iopub.execute_input": "2022-11-15T22:17:05.136160Z",
     "iopub.status.busy": "2022-11-15T22:17:05.134308Z",
     "iopub.status.idle": "2022-11-15T22:17:08.745792Z",
     "shell.execute_reply": "2022-11-15T22:17:08.745155Z",
     "shell.execute_reply.started": "2022-11-15T22:17:05.136045Z"
    },
    "tags": []
   },
   "outputs": [
    {
     "name": "stdout",
     "output_type": "stream",
     "text": [
      "spinner object: <Task pending name='Task-2' coro=<spin() running at /work/examples/Fluent_Python/spinner_async.py:6>>\n",
      "\n",
      "Answer: 42\n"
     ]
    }
   ],
   "source": [
    "!python spinner_async.py"
   ]
  },
  {
   "cell_type": "code",
   "execution_count": 3,
   "id": "f4ae87a6-128c-4007-82af-ee9a3fac6d3a",
   "metadata": {
    "execution": {
     "iopub.execute_input": "2022-11-16T16:33:11.056561Z",
     "iopub.status.busy": "2022-11-16T16:33:11.056305Z",
     "iopub.status.idle": "2022-11-16T16:33:11.062826Z",
     "shell.execute_reply": "2022-11-16T16:33:11.060884Z",
     "shell.execute_reply.started": "2022-11-16T16:33:11.056540Z"
    },
    "tags": []
   },
   "outputs": [],
   "source": [
    "#%%writefile primes.py\n",
    "from math import isqrt\n",
    "\n",
    "def is_prime(n: int) -> bool:\n",
    "    if n < 2:\n",
    "        return False\n",
    "    if n == 2:\n",
    "        return True\n",
    "    if n % 2 == 0:\n",
    "        return False\n",
    "    \n",
    "    root = isqrt(n)\n",
    "    for i in range(3, root+1, 2):\n",
    "        if n % i == 0:\n",
    "            return False\n",
    "    return True"
   ]
  },
  {
   "cell_type": "code",
   "execution_count": 15,
   "id": "93db3bd6-d371-476d-9dbe-8bd5a5370f33",
   "metadata": {
    "execution": {
     "iopub.execute_input": "2022-11-16T16:37:10.114247Z",
     "iopub.status.busy": "2022-11-16T16:37:10.113469Z",
     "iopub.status.idle": "2022-11-16T16:37:22.596067Z",
     "shell.execute_reply": "2022-11-16T16:37:22.595605Z",
     "shell.execute_reply.started": "2022-11-16T16:37:10.114174Z"
    },
    "tags": []
   },
   "outputs": [
    {
     "data": {
      "text/plain": [
       "True"
      ]
     },
     "execution_count": 15,
     "metadata": {},
     "output_type": "execute_result"
    }
   ],
   "source": [
    "is_prime(99194853094755497)"
   ]
  },
  {
   "cell_type": "code",
   "execution_count": 16,
   "id": "cd9c08e0-f771-44cd-b109-d7309135077c",
   "metadata": {
    "execution": {
     "iopub.execute_input": "2022-11-16T16:37:33.003172Z",
     "iopub.status.busy": "2022-11-16T16:37:33.002887Z",
     "iopub.status.idle": "2022-11-16T16:37:45.383983Z",
     "shell.execute_reply": "2022-11-16T16:37:45.383507Z",
     "shell.execute_reply.started": "2022-11-16T16:37:33.003153Z"
    }
   },
   "outputs": [
    {
     "data": {
      "text/plain": [
       "True"
      ]
     },
     "execution_count": 16,
     "metadata": {},
     "output_type": "execute_result"
    }
   ],
   "source": [
    "is_prime(99194853094755497)"
   ]
  },
  {
   "cell_type": "code",
   "execution_count": 19,
   "id": "572f873c-00ff-4405-a8e6-99c31ee6ab22",
   "metadata": {
    "execution": {
     "iopub.execute_input": "2022-11-16T16:43:05.684275Z",
     "iopub.status.busy": "2022-11-16T16:43:05.682303Z",
     "iopub.status.idle": "2022-11-16T16:43:05.697530Z",
     "shell.execute_reply": "2022-11-16T16:43:05.694694Z",
     "shell.execute_reply.started": "2022-11-16T16:43:05.684192Z"
    },
    "tags": []
   },
   "outputs": [
    {
     "data": {
      "text/plain": [
       "1000000"
      ]
     },
     "execution_count": 19,
     "metadata": {},
     "output_type": "execute_result"
    }
   ],
   "source": [
    "10 * 100_000"
   ]
  },
  {
   "cell_type": "code",
   "execution_count": 21,
   "id": "6d133d18-5231-410c-b7dc-c8db1230463c",
   "metadata": {
    "execution": {
     "iopub.execute_input": "2022-11-16T16:51:29.229782Z",
     "iopub.status.busy": "2022-11-16T16:51:29.228944Z",
     "iopub.status.idle": "2022-11-16T16:51:29.240367Z",
     "shell.execute_reply": "2022-11-16T16:51:29.239706Z",
     "shell.execute_reply.started": "2022-11-16T16:51:29.229705Z"
    },
    "tags": []
   },
   "outputs": [
    {
     "name": "stdout",
     "output_type": "stream",
     "text": [
      "Writing sequential.py\n"
     ]
    }
   ],
   "source": [
    "%%writefile sequential.py\n",
    "#!/usr/bin/env python3\n",
    "\n",
    "from time import perf_counter\n",
    "from typing import NamedTuple\n",
    "\n",
    "from primes improt is_prime, NUMBERS"
   ]
  },
  {
   "cell_type": "code",
   "execution_count": null,
   "id": "f7779c3b-4eb9-42f9-9658-04664ea411cf",
   "metadata": {},
   "outputs": [],
   "source": []
  }
 ],
 "metadata": {
  "kernelspec": {
   "display_name": "Python 3 (ipykernel)",
   "language": "python",
   "name": "python3"
  },
  "language_info": {
   "codemirror_mode": {
    "name": "ipython",
    "version": 3
   },
   "file_extension": ".py",
   "mimetype": "text/x-python",
   "name": "python",
   "nbconvert_exporter": "python",
   "pygments_lexer": "ipython3",
   "version": "3.10.8"
  }
 },
 "nbformat": 4,
 "nbformat_minor": 5
}
