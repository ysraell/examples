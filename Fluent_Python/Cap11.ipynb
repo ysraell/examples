{
 "cells": [
  {
   "cell_type": "code",
   "execution_count": 1,
   "id": "c7987896-e3b6-43b2-b480-90f8029d1c7d",
   "metadata": {
    "execution": {
     "iopub.execute_input": "2022-06-17T12:46:10.439316Z",
     "iopub.status.busy": "2022-06-17T12:46:10.438458Z",
     "iopub.status.idle": "2022-06-17T12:46:10.458693Z",
     "shell.execute_reply": "2022-06-17T12:46:10.456571Z",
     "shell.execute_reply.started": "2022-06-17T12:46:10.439184Z"
    }
   },
   "outputs": [],
   "source": [
    "class Student:\n",
    "    name = 'unknown' # class attribute\n",
    "    def __init__(self):\n",
    "        self.age = 20  # instance attribute\n",
    "\n",
    "    @classmethod\n",
    "    def tostring(cls):\n",
    "        print('Student Class Attributes: name=',cls.name)"
   ]
  },
  {
   "cell_type": "code",
   "execution_count": 2,
   "id": "a514274a-27fc-4f51-b40c-e8a9f5f4b3df",
   "metadata": {
    "execution": {
     "iopub.execute_input": "2022-06-17T12:46:10.672244Z",
     "iopub.status.busy": "2022-06-17T12:46:10.671824Z",
     "iopub.status.idle": "2022-06-17T12:46:10.676379Z",
     "shell.execute_reply": "2022-06-17T12:46:10.675902Z",
     "shell.execute_reply.started": "2022-06-17T12:46:10.672213Z"
    }
   },
   "outputs": [
    {
     "name": "stdout",
     "output_type": "stream",
     "text": [
      "Student Class Attributes: name= unknown\n"
     ]
    }
   ],
   "source": [
    "Student.tostring()"
   ]
  },
  {
   "cell_type": "code",
   "execution_count": 3,
   "id": "fc9486f8-273b-4fe0-b64b-4999916e6efe",
   "metadata": {
    "execution": {
     "iopub.execute_input": "2022-06-17T12:46:11.096497Z",
     "iopub.status.busy": "2022-06-17T12:46:11.096178Z",
     "iopub.status.idle": "2022-06-17T12:46:11.099399Z",
     "shell.execute_reply": "2022-06-17T12:46:11.098948Z",
     "shell.execute_reply.started": "2022-06-17T12:46:11.096471Z"
    }
   },
   "outputs": [],
   "source": [
    "from array import array\n",
    "import math"
   ]
  },
  {
   "cell_type": "code",
   "execution_count": 4,
   "id": "35b40f5e-fd50-4d04-92b7-b9671bffbca4",
   "metadata": {
    "execution": {
     "iopub.execute_input": "2022-06-17T12:46:11.397514Z",
     "iopub.status.busy": "2022-06-17T12:46:11.397143Z",
     "iopub.status.idle": "2022-06-17T12:46:11.405569Z",
     "shell.execute_reply": "2022-06-17T12:46:11.404663Z",
     "shell.execute_reply.started": "2022-06-17T12:46:11.397481Z"
    }
   },
   "outputs": [],
   "source": [
    "class Vector2d: # v0\n",
    "    typecode = 'd'\n",
    "    \n",
    "    def __init__(self, x, y):\n",
    "        self.x = float(x)\n",
    "        self.y = float(y)\n",
    "        \n",
    "    def __iter__(self):\n",
    "        return (i for i in (self.x, self.y))\n",
    "    \n",
    "    def __repr__(self):\n",
    "        class_name = type(self).__name__\n",
    "        #return f'{class_name}({self.x!r}, {self.y!r})'\n",
    "        return '{}({!r}, {!r})'.format(class_name, *self)\n",
    "    \n",
    "    def __str__(self):\n",
    "        return str(tuple(self))\n",
    "    \n",
    "    def __bytes__(self):\n",
    "        retur (\n",
    "            bytes([ord(self.typecode)]) +\n",
    "            bytes(array(self.typecode, self))\n",
    "        )\n",
    "        \n",
    "    def __eq__(self, other):\n",
    "        return tuple(self) == tuple(other)\n",
    "    \n",
    "    def __abs__(self):\n",
    "        return math.hypot(self.x, self.y)\n",
    "    \n",
    "    def __bool__(self):\n",
    "        return bool(abs(self))"
   ]
  },
  {
   "cell_type": "code",
   "execution_count": 5,
   "id": "64432535-d76a-4f8b-8b0c-0af8ae698fe9",
   "metadata": {
    "execution": {
     "iopub.execute_input": "2022-06-17T12:46:11.650948Z",
     "iopub.status.busy": "2022-06-17T12:46:11.650668Z",
     "iopub.status.idle": "2022-06-17T12:46:11.656809Z",
     "shell.execute_reply": "2022-06-17T12:46:11.656136Z",
     "shell.execute_reply.started": "2022-06-17T12:46:11.650930Z"
    }
   },
   "outputs": [],
   "source": [
    "class Vector2d: # v1\n",
    "    typecode = 'd'\n",
    "    \n",
    "    def __init__(self, x, y):\n",
    "        self.x = float(x)\n",
    "        self.y = float(y)\n",
    "        \n",
    "    def __iter__(self):\n",
    "        return (i for i in (self.x, self.y))\n",
    "    \n",
    "    def __repr__(self):\n",
    "        class_name = type(self).__name__\n",
    "        #return f'{class_name}({self.x!r}, {self.y!r})'\n",
    "        return '{}({!r}, {!r})'.format(class_name, *self)\n",
    "    \n",
    "    def __str__(self):\n",
    "        return str(tuple(self))\n",
    "    \n",
    "    def __bytes__(self):\n",
    "        retur (\n",
    "            bytes([ord(self.typecode)]) +\n",
    "            bytes(array(self.typecode, self))\n",
    "        )\n",
    "        \n",
    "    def __eq__(self, other):\n",
    "        return tuple(self) == tuple(other)\n",
    "    \n",
    "    def __abs__(self):\n",
    "        return math.hypot(self.x, self.y)\n",
    "    \n",
    "    def __bool__(self):\n",
    "        return bool(abs(self))\n",
    "    \n",
    "    @classmethod\n",
    "    def frombytes(cls, octets):\n",
    "        typecode = chr(octets[0])\n",
    "        menv = memoryview(octets[1:]).cast(typecode)\n",
    "        return cls(*menv)"
   ]
  },
  {
   "cell_type": "code",
   "execution_count": 6,
   "id": "c01640a3-a7d4-41cb-b56d-b818a8e97a06",
   "metadata": {
    "execution": {
     "iopub.execute_input": "2022-06-17T12:46:11.851175Z",
     "iopub.status.busy": "2022-06-17T12:46:11.850878Z",
     "iopub.status.idle": "2022-06-17T12:46:11.859874Z",
     "shell.execute_reply": "2022-06-17T12:46:11.859244Z",
     "shell.execute_reply.started": "2022-06-17T12:46:11.851151Z"
    }
   },
   "outputs": [
    {
     "data": {
      "text/plain": [
       "'66.7%'"
      ]
     },
     "execution_count": 6,
     "metadata": {},
     "output_type": "execute_result"
    }
   ],
   "source": [
    "format(2/3, '.1%')"
   ]
  },
  {
   "cell_type": "code",
   "execution_count": 7,
   "id": "65d2b6fd-6cb0-41a1-bb9a-ed3f3869392e",
   "metadata": {
    "execution": {
     "iopub.execute_input": "2022-06-17T12:46:12.024171Z",
     "iopub.status.busy": "2022-06-17T12:46:12.023692Z",
     "iopub.status.idle": "2022-06-17T12:46:12.029472Z",
     "shell.execute_reply": "2022-06-17T12:46:12.028781Z",
     "shell.execute_reply.started": "2022-06-17T12:46:12.024127Z"
    }
   },
   "outputs": [
    {
     "data": {
      "text/plain": [
       "'(3.0, 4.0)'"
      ]
     },
     "execution_count": 7,
     "metadata": {},
     "output_type": "execute_result"
    }
   ],
   "source": [
    "v1 = Vector2d(3, 4)\n",
    "format(v1)"
   ]
  },
  {
   "cell_type": "code",
   "execution_count": 8,
   "id": "dce10d90-0ef3-4f49-9821-b1dfececaac9",
   "metadata": {
    "execution": {
     "iopub.execute_input": "2022-06-17T12:46:12.187931Z",
     "iopub.status.busy": "2022-06-17T12:46:12.187616Z",
     "iopub.status.idle": "2022-06-17T12:46:12.543347Z",
     "shell.execute_reply": "2022-06-17T12:46:12.542364Z",
     "shell.execute_reply.started": "2022-06-17T12:46:12.187913Z"
    }
   },
   "outputs": [
    {
     "ename": "TypeError",
     "evalue": "unsupported format string passed to Vector2d.__format__",
     "output_type": "error",
     "traceback": [
      "\u001b[0;31m---------------------------------------------------------------------------\u001b[0m",
      "\u001b[0;31mTypeError\u001b[0m                                 Traceback (most recent call last)",
      "Input \u001b[0;32mIn [8]\u001b[0m, in \u001b[0;36m<cell line: 1>\u001b[0;34m()\u001b[0m\n\u001b[0;32m----> 1\u001b[0m \u001b[38;5;28;43mformat\u001b[39;49m\u001b[43m(\u001b[49m\u001b[43mv1\u001b[49m\u001b[43m,\u001b[49m\u001b[43m \u001b[49m\u001b[38;5;124;43m'\u001b[39;49m\u001b[38;5;124;43m.3f\u001b[39;49m\u001b[38;5;124;43m'\u001b[39;49m\u001b[43m)\u001b[49m\n",
      "\u001b[0;31mTypeError\u001b[0m: unsupported format string passed to Vector2d.__format__"
     ]
    }
   ],
   "source": [
    "format(v1, '.3f')"
   ]
  },
  {
   "cell_type": "code",
   "execution_count": null,
   "id": "bfaea637-3906-4bb3-8d0e-6bd1112f2b9d",
   "metadata": {
    "execution": {
     "iopub.status.busy": "2022-06-17T12:46:12.544011Z",
     "iopub.status.idle": "2022-06-17T12:46:12.544292Z",
     "shell.execute_reply": "2022-06-17T12:46:12.544166Z",
     "shell.execute_reply.started": "2022-06-17T12:46:12.544154Z"
    }
   },
   "outputs": [],
   "source": [
    "class Vector2d: # v1\n",
    "    typecode = 'd'\n",
    "    \n",
    "    def __init__(self, x, y):\n",
    "        self.x = float(x)\n",
    "        self.y = float(y)\n",
    "        \n",
    "    def __iter__(self):\n",
    "        return (i for i in (self.x, self.y))\n",
    "    \n",
    "    def __repr__(self):\n",
    "        class_name = type(self).__name__\n",
    "        #return f'{class_name}({self.x!r}, {self.y!r})'\n",
    "        return '{}({!r}, {!r})'.format(class_name, *self)\n",
    "    \n",
    "    def __str__(self):\n",
    "        return str(tuple(self))\n",
    "    \n",
    "    def __bytes__(self):\n",
    "        retur (\n",
    "            bytes([ord(self.typecode)]) +\n",
    "            bytes(array(self.typecode, self))\n",
    "        )\n",
    "        \n",
    "    def __eq__(self, other):\n",
    "        return tuple(self) == tuple(other)\n",
    "    \n",
    "    def __abs__(self):\n",
    "        return math.hypot(self.x, self.y)\n",
    "    \n",
    "    def __bool__(self):\n",
    "        return bool(abs(self))\n",
    "    \n",
    "    @classmethod\n",
    "    def frombytes(cls, octets):\n",
    "        typecode = chr(octets[0])\n",
    "        menv = memoryview(octets[1:]).cast(typecode)\n",
    "        return cls(*menv)\n",
    "    \n",
    "    def __format__(self, fmt_spec = ''):\n",
    "        components = (format(c, fmt_spec) for c in self)\n",
    "        return '({}, {})'.format(*components)"
   ]
  },
  {
   "cell_type": "code",
   "execution_count": 9,
   "id": "5ddb6f8d-c8ab-4b2b-b7cc-2280c2d2674b",
   "metadata": {
    "execution": {
     "iopub.execute_input": "2022-06-17T12:46:12.552782Z",
     "iopub.status.busy": "2022-06-17T12:46:12.552504Z",
     "iopub.status.idle": "2022-06-17T12:46:12.565190Z",
     "shell.execute_reply": "2022-06-17T12:46:12.564444Z",
     "shell.execute_reply.started": "2022-06-17T12:46:12.552763Z"
    }
   },
   "outputs": [
    {
     "ename": "TypeError",
     "evalue": "unsupported format string passed to Vector2d.__format__",
     "output_type": "error",
     "traceback": [
      "\u001b[0;31m---------------------------------------------------------------------------\u001b[0m",
      "\u001b[0;31mTypeError\u001b[0m                                 Traceback (most recent call last)",
      "Input \u001b[0;32mIn [9]\u001b[0m, in \u001b[0;36m<cell line: 2>\u001b[0;34m()\u001b[0m\n\u001b[1;32m      1\u001b[0m v1 \u001b[38;5;241m=\u001b[39m Vector2d(\u001b[38;5;241m3\u001b[39m, \u001b[38;5;241m4\u001b[39m)\n\u001b[0;32m----> 2\u001b[0m \u001b[38;5;28;43mformat\u001b[39;49m\u001b[43m(\u001b[49m\u001b[43mv1\u001b[49m\u001b[43m,\u001b[49m\u001b[43m \u001b[49m\u001b[38;5;124;43m'\u001b[39;49m\u001b[38;5;124;43m.2f\u001b[39;49m\u001b[38;5;124;43m'\u001b[39;49m\u001b[43m)\u001b[49m\n",
      "\u001b[0;31mTypeError\u001b[0m: unsupported format string passed to Vector2d.__format__"
     ]
    }
   ],
   "source": [
    "v1 = Vector2d(3, 4)\n",
    "format(v1, '.2f')"
   ]
  },
  {
   "cell_type": "code",
   "execution_count": 10,
   "id": "2d7520ee-4367-458f-ab11-58da952f3551",
   "metadata": {
    "execution": {
     "iopub.execute_input": "2022-06-17T12:46:12.865596Z",
     "iopub.status.busy": "2022-06-17T12:46:12.865334Z",
     "iopub.status.idle": "2022-06-17T12:46:12.872203Z",
     "shell.execute_reply": "2022-06-17T12:46:12.871523Z",
     "shell.execute_reply.started": "2022-06-17T12:46:12.865578Z"
    }
   },
   "outputs": [],
   "source": [
    "class Vector2d: # v1\n",
    "    typecode = 'd'\n",
    "    \n",
    "    def __init__(self, x, y):\n",
    "        self.x = float(x)\n",
    "        self.y = float(y)\n",
    "        \n",
    "    def __iter__(self):\n",
    "        return (i for i in (self.x, self.y))\n",
    "    \n",
    "    def __repr__(self):\n",
    "        class_name = type(self).__name__\n",
    "        #return f'{class_name}({self.x!r}, {self.y!r})'\n",
    "        return '{}({!r}, {!r})'.format(class_name, *self)\n",
    "    \n",
    "    def __str__(self):\n",
    "        return str(tuple(self))\n",
    "    \n",
    "    def __bytes__(self):\n",
    "        retur (\n",
    "            bytes([ord(self.typecode)]) +\n",
    "            bytes(array(self.typecode, self))\n",
    "        )\n",
    "        \n",
    "    def __eq__(self, other):\n",
    "        return tuple(self) == tuple(other)\n",
    "    \n",
    "    def __abs__(self):\n",
    "        return math.hypot(self.x, self.y)\n",
    "    \n",
    "    def __bool__(self):\n",
    "        return bool(abs(self))\n",
    "    \n",
    "    @classmethod\n",
    "    def frombytes(cls, octets):\n",
    "        typecode = chr(octets[0])\n",
    "        menv = memoryview(octets[1:]).cast(typecode)\n",
    "        return cls(*menv)\n",
    "    \n",
    "    def angle(self):\n",
    "        return math.atan2(self.y, self.x)\n",
    "    \n",
    "    def __format__(self, fmt_spec = ''):\n",
    "        if fmt_spec.endswith('p'):\n",
    "            fmt_spec = fmt_spec[:-1]\n",
    "            coords = (abs(self), self.angle())\n",
    "            outer_fmt = '<{}, {}>'\n",
    "        else:\n",
    "            coords = self\n",
    "            outer_fmt = '({}, {})'\n",
    "        \n",
    "        components = (format(c, fmt_spec) for c in coords)\n",
    "        return outer_fmt.format(*components)\n",
    "    \n",
    "\n",
    "    \n",
    "    "
   ]
  },
  {
   "cell_type": "code",
   "execution_count": 11,
   "id": "8544a57f-0e65-48cf-b870-a8eda5d83a9e",
   "metadata": {
    "execution": {
     "iopub.execute_input": "2022-06-17T12:46:13.070065Z",
     "iopub.status.busy": "2022-06-17T12:46:13.069747Z",
     "iopub.status.idle": "2022-06-17T12:46:13.075447Z",
     "shell.execute_reply": "2022-06-17T12:46:13.074723Z",
     "shell.execute_reply.started": "2022-06-17T12:46:13.070041Z"
    }
   },
   "outputs": [
    {
     "data": {
      "text/plain": [
       "'(3.00, 4.00)'"
      ]
     },
     "execution_count": 11,
     "metadata": {},
     "output_type": "execute_result"
    }
   ],
   "source": [
    "v1 = Vector2d(3, 4)\n",
    "format(v1, '.2f')"
   ]
  },
  {
   "cell_type": "code",
   "execution_count": 12,
   "id": "6c61a91d-15b6-4ea2-ac56-38f895c108b2",
   "metadata": {
    "execution": {
     "iopub.execute_input": "2022-06-17T12:46:13.270247Z",
     "iopub.status.busy": "2022-06-17T12:46:13.269969Z",
     "iopub.status.idle": "2022-06-17T12:46:13.276711Z",
     "shell.execute_reply": "2022-06-17T12:46:13.276065Z",
     "shell.execute_reply.started": "2022-06-17T12:46:13.270224Z"
    }
   },
   "outputs": [
    {
     "data": {
      "text/plain": [
       "'<5.00, 0.93>'"
      ]
     },
     "execution_count": 12,
     "metadata": {},
     "output_type": "execute_result"
    }
   ],
   "source": [
    "format(v1, '.2fp')"
   ]
  },
  {
   "cell_type": "code",
   "execution_count": 13,
   "id": "e61870e9-100c-4816-902c-40ad9bb094e9",
   "metadata": {
    "execution": {
     "iopub.execute_input": "2022-06-17T12:46:13.471708Z",
     "iopub.status.busy": "2022-06-17T12:46:13.471066Z",
     "iopub.status.idle": "2022-06-17T12:46:13.483126Z",
     "shell.execute_reply": "2022-06-17T12:46:13.482357Z",
     "shell.execute_reply.started": "2022-06-17T12:46:13.471683Z"
    }
   },
   "outputs": [
    {
     "ename": "TypeError",
     "evalue": "unhashable type: 'Vector2d'",
     "output_type": "error",
     "traceback": [
      "\u001b[0;31m---------------------------------------------------------------------------\u001b[0m",
      "\u001b[0;31mTypeError\u001b[0m                                 Traceback (most recent call last)",
      "Input \u001b[0;32mIn [13]\u001b[0m, in \u001b[0;36m<cell line: 1>\u001b[0;34m()\u001b[0m\n\u001b[0;32m----> 1\u001b[0m \u001b[38;5;28;43mhash\u001b[39;49m\u001b[43m(\u001b[49m\u001b[43mv1\u001b[49m\u001b[43m)\u001b[49m\n",
      "\u001b[0;31mTypeError\u001b[0m: unhashable type: 'Vector2d'"
     ]
    }
   ],
   "source": [
    "hash(v1)"
   ]
  },
  {
   "cell_type": "code",
   "execution_count": 14,
   "id": "5f9f75dc-c591-49cd-bf8c-0df177b8bad8",
   "metadata": {
    "execution": {
     "iopub.execute_input": "2022-06-17T12:46:13.635156Z",
     "iopub.status.busy": "2022-06-17T12:46:13.634440Z",
     "iopub.status.idle": "2022-06-17T12:46:13.643194Z",
     "shell.execute_reply": "2022-06-17T12:46:13.642583Z",
     "shell.execute_reply.started": "2022-06-17T12:46:13.635129Z"
    }
   },
   "outputs": [],
   "source": [
    "class Vector2d: # v1\n",
    "    typecode = 'd'\n",
    "    \n",
    "    def __init__(self, x, y):\n",
    "        self.__x = float(x)\n",
    "        self.__y = float(y)\n",
    "\n",
    "    @property\n",
    "    def x(self):\n",
    "        return self.__x\n",
    "        \n",
    "    @property\n",
    "    def y(self):\n",
    "        return self.__y\n",
    "    \n",
    "    def __hash__(self):\n",
    "        return hash((self.x, self.y))\n",
    "    \n",
    "    def __iter__(self):\n",
    "        return (i for i in (self.x, self.y))\n",
    "    \n",
    "    def __repr__(self):\n",
    "        class_name = type(self).__name__\n",
    "        #return f'{class_name}({self.x!r}, {self.y!r})'\n",
    "        return '{}({!r}, {!r})'.format(class_name, *self)\n",
    "    \n",
    "    def __str__(self):\n",
    "        return str(tuple(self))\n",
    "    \n",
    "    def __bytes__(self):\n",
    "        retur (\n",
    "            bytes([ord(self.typecode)]) +\n",
    "            bytes(array(self.typecode, self))\n",
    "        )\n",
    "        \n",
    "    def __eq__(self, other):\n",
    "        return tuple(self) == tuple(other)\n",
    "    \n",
    "    def __abs__(self):\n",
    "        return math.hypot(self.x, self.y)\n",
    "    \n",
    "    def __bool__(self):\n",
    "        return bool(abs(self))\n",
    "    \n",
    "    @classmethod\n",
    "    def frombytes(cls, octets):\n",
    "        typecode = chr(octets[0])\n",
    "        menv = memoryview(octets[1:]).cast(typecode)\n",
    "        return cls(*menv)\n",
    "    \n",
    "    def angle(self):\n",
    "        return math.atan2(self.y, self.x)\n",
    "    \n",
    "    def __format__(self, fmt_spec = ''):\n",
    "        if fmt_spec.endswith('p'):\n",
    "            fmt_spec = fmt_spec[:-1]\n",
    "            coords = (abs(self), self.angle())\n",
    "            outer_fmt = '<{}, {}>'\n",
    "        else:\n",
    "            coords = self\n",
    "            outer_fmt = '({}, {})'\n",
    "        \n",
    "        components = (format(c, fmt_spec) for c in coords)\n",
    "        return outer_fmt.format(*components)\n",
    "    \n",
    "\n",
    "    \n",
    "    "
   ]
  },
  {
   "cell_type": "code",
   "execution_count": 15,
   "id": "3cacc2e3-25f3-4738-a42d-cfb9766af505",
   "metadata": {
    "execution": {
     "iopub.execute_input": "2022-06-17T12:46:13.819858Z",
     "iopub.status.busy": "2022-06-17T12:46:13.819354Z",
     "iopub.status.idle": "2022-06-17T12:46:13.823325Z",
     "shell.execute_reply": "2022-06-17T12:46:13.822362Z",
     "shell.execute_reply.started": "2022-06-17T12:46:13.819832Z"
    }
   },
   "outputs": [],
   "source": [
    "v1 = Vector2d(3, 4)\n",
    "v3 = Vector2d(3, 4)\n",
    "v2 = Vector2d(-3, 4.1)"
   ]
  },
  {
   "cell_type": "code",
   "execution_count": 16,
   "id": "5e3aa15c-ea65-4faf-a08a-38b4daf7e0bf",
   "metadata": {
    "execution": {
     "iopub.execute_input": "2022-06-17T12:46:14.004244Z",
     "iopub.status.busy": "2022-06-17T12:46:14.003957Z",
     "iopub.status.idle": "2022-06-17T12:46:14.009703Z",
     "shell.execute_reply": "2022-06-17T12:46:14.008954Z",
     "shell.execute_reply.started": "2022-06-17T12:46:14.004221Z"
    }
   },
   "outputs": [
    {
     "data": {
      "text/plain": [
       "(1079245023883434373, -4610304789187604438, 1079245023883434373)"
      ]
     },
     "execution_count": 16,
     "metadata": {},
     "output_type": "execute_result"
    }
   ],
   "source": [
    "hash(v1), hash(v2), hash(v3)"
   ]
  },
  {
   "cell_type": "code",
   "execution_count": 17,
   "id": "033ccd2c-7923-4f15-b51d-cd00349253c5",
   "metadata": {
    "execution": {
     "iopub.execute_input": "2022-06-17T12:46:14.183590Z",
     "iopub.status.busy": "2022-06-17T12:46:14.183279Z",
     "iopub.status.idle": "2022-06-17T12:46:14.191146Z",
     "shell.execute_reply": "2022-06-17T12:46:14.190496Z",
     "shell.execute_reply.started": "2022-06-17T12:46:14.183564Z"
    }
   },
   "outputs": [],
   "source": [
    "class Vector2d: # v1\n",
    "    typecode = 'd'\n",
    "    __match_args__ = ('x', 'y')\n",
    "    \n",
    "    def __init__(self, x, y):\n",
    "        self.__x = float(x)\n",
    "        self.__y = float(y)\n",
    "\n",
    "    @property\n",
    "    def x(self):\n",
    "        return self.__x\n",
    "        \n",
    "    @property\n",
    "    def y(self):\n",
    "        return self.__y\n",
    "    \n",
    "    def __hash__(self):\n",
    "        return hash((self.x, self.y))\n",
    "    \n",
    "    def __iter__(self):\n",
    "        return (i for i in (self.x, self.y))\n",
    "    \n",
    "    def __repr__(self):\n",
    "        class_name = type(self).__name__\n",
    "        #return f'{class_name}({self.x!r}, {self.y!r})'\n",
    "        return '{}({!r}, {!r})'.format(class_name, *self)\n",
    "    \n",
    "    def __str__(self):\n",
    "        return str(tuple(self))\n",
    "    \n",
    "    def __bytes__(self):\n",
    "        return (\n",
    "            bytes([ord(self.typecode)]) +\n",
    "            bytes(array(self.typecode, self))\n",
    "        )\n",
    "        \n",
    "    def __eq__(self, other):\n",
    "        return tuple(self) == tuple(other)\n",
    "    \n",
    "    def __abs__(self):\n",
    "        return math.hypot(self.x, self.y)\n",
    "    \n",
    "    def __bool__(self):\n",
    "        return bool(abs(self))\n",
    "    \n",
    "    @classmethod\n",
    "    def frombytes(cls, octets):\n",
    "        typecode = chr(octets[0])\n",
    "        menv = memoryview(octets[1:]).cast(typecode)\n",
    "        return cls(*menv)\n",
    "    \n",
    "    def angle(self):\n",
    "        return math.atan2(self.y, self.x)\n",
    "    \n",
    "    def __format__(self, fmt_spec = ''):\n",
    "        if fmt_spec.endswith('p'):\n",
    "            fmt_spec = fmt_spec[:-1]\n",
    "            coords = (abs(self), self.angle())\n",
    "            outer_fmt = '<{}, {}>'\n",
    "        else:\n",
    "            coords = self\n",
    "            outer_fmt = '({}, {})'\n",
    "        \n",
    "        components = (format(c, fmt_spec) for c in coords)\n",
    "        return outer_fmt.format(*components)\n",
    "    "
   ]
  },
  {
   "cell_type": "code",
   "execution_count": 18,
   "id": "894766a3-589d-4325-a2d6-b14164874af8",
   "metadata": {
    "execution": {
     "iopub.execute_input": "2022-06-17T12:46:14.370810Z",
     "iopub.status.busy": "2022-06-17T12:46:14.370501Z",
     "iopub.status.idle": "2022-06-17T12:46:14.374447Z",
     "shell.execute_reply": "2022-06-17T12:46:14.373858Z",
     "shell.execute_reply.started": "2022-06-17T12:46:14.370783Z"
    }
   },
   "outputs": [],
   "source": [
    "v1 = Vector2d(3, 4)\n",
    "v2 = Vector2d(0, 4)\n",
    "v3 = Vector2d(6, 0)\n",
    "v4 = Vector2d(0, 0)"
   ]
  },
  {
   "cell_type": "code",
   "execution_count": 19,
   "id": "30748999-8eed-43c6-b82e-c6efb2bb6986",
   "metadata": {
    "execution": {
     "iopub.execute_input": "2022-06-17T12:46:14.549653Z",
     "iopub.status.busy": "2022-06-17T12:46:14.548959Z",
     "iopub.status.idle": "2022-06-17T12:46:14.553126Z",
     "shell.execute_reply": "2022-06-17T12:46:14.552585Z",
     "shell.execute_reply.started": "2022-06-17T12:46:14.549627Z"
    }
   },
   "outputs": [],
   "source": [
    "def pos_match_demo(v: Vector2d):\n",
    "    match v:\n",
    "        case Vector2d(0, 0):\n",
    "            print(f'{v!r} is null')\n",
    "        case Vector2d(_, 0):\n",
    "            print(f'{v!r} is lying down.')\n",
    "        case Vector2d(0, _):\n",
    "            print(f'{v!r} is standing.')\n",
    "        case _:\n",
    "            print(f'{v!r} I duno!')"
   ]
  },
  {
   "cell_type": "code",
   "execution_count": 20,
   "id": "ddf0bba2-b329-41b5-ada4-783f3266696e",
   "metadata": {
    "execution": {
     "iopub.execute_input": "2022-06-17T12:46:14.738231Z",
     "iopub.status.busy": "2022-06-17T12:46:14.737738Z",
     "iopub.status.idle": "2022-06-17T12:46:14.742700Z",
     "shell.execute_reply": "2022-06-17T12:46:14.741869Z",
     "shell.execute_reply.started": "2022-06-17T12:46:14.738200Z"
    }
   },
   "outputs": [
    {
     "name": "stdout",
     "output_type": "stream",
     "text": [
      "Vector2d(3.0, 4.0) I duno!\n",
      "Vector2d(0.0, 4.0) is standing.\n",
      "Vector2d(6.0, 0.0) is lying down.\n",
      "Vector2d(0.0, 0.0) is null\n"
     ]
    }
   ],
   "source": [
    "for v in [v1, v2, v3, v4]:\n",
    "    pos_match_demo(v)"
   ]
  },
  {
   "cell_type": "code",
   "execution_count": 21,
   "id": "b02a62d4-c5be-4045-94c2-dc55061ba1df",
   "metadata": {
    "execution": {
     "iopub.execute_input": "2022-06-17T12:46:14.911187Z",
     "iopub.status.busy": "2022-06-17T12:46:14.910897Z",
     "iopub.status.idle": "2022-06-17T12:46:14.915732Z",
     "shell.execute_reply": "2022-06-17T12:46:14.915047Z",
     "shell.execute_reply.started": "2022-06-17T12:46:14.911168Z"
    }
   },
   "outputs": [
    {
     "data": {
      "text/plain": [
       "3.0"
      ]
     },
     "execution_count": 21,
     "metadata": {},
     "output_type": "execute_result"
    }
   ],
   "source": [
    "v1.x"
   ]
  },
  {
   "cell_type": "code",
   "execution_count": 22,
   "id": "17e4d7c3-537f-417f-a346-a1d68e685788",
   "metadata": {
    "execution": {
     "iopub.execute_input": "2022-06-17T12:46:15.071558Z",
     "iopub.status.busy": "2022-06-17T12:46:15.071264Z",
     "iopub.status.idle": "2022-06-17T12:46:15.076436Z",
     "shell.execute_reply": "2022-06-17T12:46:15.075857Z",
     "shell.execute_reply.started": "2022-06-17T12:46:15.071536Z"
    }
   },
   "outputs": [
    {
     "data": {
      "text/plain": [
       "{'_Vector2d__x': 3.0, '_Vector2d__y': 4.0}"
      ]
     },
     "execution_count": 22,
     "metadata": {},
     "output_type": "execute_result"
    }
   ],
   "source": [
    "v1.__dict__"
   ]
  },
  {
   "cell_type": "code",
   "execution_count": 23,
   "id": "7d8d4a8a-6a54-40d7-852f-5feb9c3fa8a6",
   "metadata": {
    "execution": {
     "iopub.execute_input": "2022-06-17T12:46:15.234885Z",
     "iopub.status.busy": "2022-06-17T12:46:15.234516Z",
     "iopub.status.idle": "2022-06-17T12:46:15.238006Z",
     "shell.execute_reply": "2022-06-17T12:46:15.237463Z",
     "shell.execute_reply.started": "2022-06-17T12:46:15.234858Z"
    }
   },
   "outputs": [],
   "source": [
    "class ShortVector2d(Vector2d):\n",
    "    typecode = 'f'"
   ]
  },
  {
   "cell_type": "code",
   "execution_count": 24,
   "id": "bf01c58c-d6f3-41b3-acbb-1277bd39800d",
   "metadata": {
    "execution": {
     "iopub.execute_input": "2022-06-17T12:46:15.399273Z",
     "iopub.status.busy": "2022-06-17T12:46:15.398947Z",
     "iopub.status.idle": "2022-06-17T12:46:15.402614Z",
     "shell.execute_reply": "2022-06-17T12:46:15.402079Z",
     "shell.execute_reply.started": "2022-06-17T12:46:15.399247Z"
    }
   },
   "outputs": [],
   "source": [
    "sv1 = ShortVector2d(3, 4)\n",
    "sv2 = ShortVector2d(0, 4)\n",
    "sv3 = ShortVector2d(6, 0)\n",
    "sv4 = ShortVector2d(0, 0)"
   ]
  },
  {
   "cell_type": "code",
   "execution_count": 25,
   "id": "256b7b48-4836-43e4-846f-12286b92807f",
   "metadata": {
    "execution": {
     "iopub.execute_input": "2022-06-17T12:46:15.552748Z",
     "iopub.status.busy": "2022-06-17T12:46:15.552474Z",
     "iopub.status.idle": "2022-06-17T12:46:15.557397Z",
     "shell.execute_reply": "2022-06-17T12:46:15.556602Z",
     "shell.execute_reply.started": "2022-06-17T12:46:15.552725Z"
    }
   },
   "outputs": [
    {
     "data": {
      "text/plain": [
       "(17, 9)"
      ]
     },
     "execution_count": 25,
     "metadata": {},
     "output_type": "execute_result"
    }
   ],
   "source": [
    "len(bytes(v1)), len(bytes(sv1))"
   ]
  },
  {
   "cell_type": "code",
   "execution_count": 26,
   "id": "82d21928-872a-4485-9342-6c62cd1a8318",
   "metadata": {
    "execution": {
     "iopub.execute_input": "2022-06-17T12:46:15.703318Z",
     "iopub.status.busy": "2022-06-17T12:46:15.703000Z",
     "iopub.status.idle": "2022-06-17T12:46:15.707451Z",
     "shell.execute_reply": "2022-06-17T12:46:15.706805Z",
     "shell.execute_reply.started": "2022-06-17T12:46:15.703293Z"
    }
   },
   "outputs": [
    {
     "data": {
      "text/plain": [
       "ShortVector2d(3.0, 4.0)"
      ]
     },
     "execution_count": 26,
     "metadata": {},
     "output_type": "execute_result"
    }
   ],
   "source": [
    "sv1"
   ]
  },
  {
   "cell_type": "code",
   "execution_count": 28,
   "id": "ca8b27e6-cfca-40ab-9c23-55d2a83b88d6",
   "metadata": {
    "execution": {
     "iopub.execute_input": "2022-06-17T12:46:33.004224Z",
     "iopub.status.busy": "2022-06-17T12:46:33.003856Z",
     "iopub.status.idle": "2022-06-17T12:46:33.016803Z",
     "shell.execute_reply": "2022-06-17T12:46:33.015940Z",
     "shell.execute_reply.started": "2022-06-17T12:46:33.004197Z"
    },
    "tags": []
   },
   "outputs": [
    {
     "ename": "TypeError",
     "evalue": "unsupported operand type(s) for *: 'Vector2d' and 'int'",
     "output_type": "error",
     "traceback": [
      "\u001b[0;31m---------------------------------------------------------------------------\u001b[0m",
      "\u001b[0;31mTypeError\u001b[0m                                 Traceback (most recent call last)",
      "Input \u001b[0;32mIn [28]\u001b[0m, in \u001b[0;36m<cell line: 1>\u001b[0;34m()\u001b[0m\n\u001b[0;32m----> 1\u001b[0m \u001b[43mv1\u001b[49m\u001b[38;5;241;43m*\u001b[39;49m\u001b[38;5;241;43m2\u001b[39;49m\n",
      "\u001b[0;31mTypeError\u001b[0m: unsupported operand type(s) for *: 'Vector2d' and 'int'"
     ]
    }
   ],
   "source": [
    "v1*2"
   ]
  },
  {
   "cell_type": "code",
   "execution_count": 34,
   "id": "29e76a36-3e5d-469f-98d2-429e005aa598",
   "metadata": {
    "execution": {
     "iopub.execute_input": "2022-06-17T13:03:57.514627Z",
     "iopub.status.busy": "2022-06-17T13:03:57.514137Z",
     "iopub.status.idle": "2022-06-17T13:03:57.523397Z",
     "shell.execute_reply": "2022-06-17T13:03:57.521518Z",
     "shell.execute_reply.started": "2022-06-17T13:03:57.514582Z"
    },
    "tags": []
   },
   "outputs": [],
   "source": [
    "from typing import TypeVar, Protocol, runtime_checkable\n",
    "\n",
    "T = TypeVar('T')\n",
    "\n",
    "@runtime_checkable\n",
    "class Repeatable(Protocol):\n",
    "    def __mul__(self: T, repeat_count: int) -> T: ...\n",
    "    \n",
    "RT = TypeVar('RT', bound=Repeatable)\n",
    "\n",
    "def double(x: RT) -> RT:\n",
    "    return x * 2"
   ]
  },
  {
   "cell_type": "code",
   "execution_count": 35,
   "id": "0b7ac6a7-b3f5-4f8f-bec1-e6f84cdf7ab5",
   "metadata": {
    "execution": {
     "iopub.execute_input": "2022-06-17T13:03:59.189689Z",
     "iopub.status.busy": "2022-06-17T13:03:59.188894Z",
     "iopub.status.idle": "2022-06-17T13:03:59.231420Z",
     "shell.execute_reply": "2022-06-17T13:03:59.230547Z",
     "shell.execute_reply.started": "2022-06-17T13:03:59.189613Z"
    },
    "tags": []
   },
   "outputs": [
    {
     "ename": "TypeError",
     "evalue": "unsupported operand type(s) for *: 'Vector2d' and 'int'",
     "output_type": "error",
     "traceback": [
      "\u001b[0;31m---------------------------------------------------------------------------\u001b[0m",
      "\u001b[0;31mTypeError\u001b[0m                                 Traceback (most recent call last)",
      "Input \u001b[0;32mIn [35]\u001b[0m, in \u001b[0;36m<cell line: 1>\u001b[0;34m()\u001b[0m\n\u001b[0;32m----> 1\u001b[0m \u001b[43mv1\u001b[49m\u001b[38;5;241;43m*\u001b[39;49m\u001b[38;5;241;43m2\u001b[39;49m\n",
      "\u001b[0;31mTypeError\u001b[0m: unsupported operand type(s) for *: 'Vector2d' and 'int'"
     ]
    }
   ],
   "source": [
    "v1*2"
   ]
  },
  {
   "cell_type": "code",
   "execution_count": 36,
   "id": "60a57440-768f-4fce-a226-b0a051c58600",
   "metadata": {
    "execution": {
     "iopub.execute_input": "2022-06-17T13:03:59.865043Z",
     "iopub.status.busy": "2022-06-17T13:03:59.864792Z",
     "iopub.status.idle": "2022-06-17T13:03:59.882372Z",
     "shell.execute_reply": "2022-06-17T13:03:59.881679Z",
     "shell.execute_reply.started": "2022-06-17T13:03:59.865024Z"
    },
    "tags": []
   },
   "outputs": [
    {
     "ename": "TypeError",
     "evalue": "unsupported operand type(s) for *: 'Vector2d' and 'int'",
     "output_type": "error",
     "traceback": [
      "\u001b[0;31m---------------------------------------------------------------------------\u001b[0m",
      "\u001b[0;31mTypeError\u001b[0m                                 Traceback (most recent call last)",
      "Input \u001b[0;32mIn [36]\u001b[0m, in \u001b[0;36m<cell line: 1>\u001b[0;34m()\u001b[0m\n\u001b[0;32m----> 1\u001b[0m \u001b[43mdouble\u001b[49m\u001b[43m(\u001b[49m\u001b[43mv1\u001b[49m\u001b[43m)\u001b[49m\n",
      "Input \u001b[0;32mIn [34]\u001b[0m, in \u001b[0;36mdouble\u001b[0;34m(x)\u001b[0m\n\u001b[1;32m     11\u001b[0m \u001b[38;5;28;01mdef\u001b[39;00m \u001b[38;5;21mdouble\u001b[39m(x: RT) \u001b[38;5;241m-\u001b[39m\u001b[38;5;241m>\u001b[39m RT:\n\u001b[0;32m---> 12\u001b[0m     \u001b[38;5;28;01mreturn\u001b[39;00m \u001b[43mx\u001b[49m\u001b[43m \u001b[49m\u001b[38;5;241;43m*\u001b[39;49m\u001b[43m \u001b[49m\u001b[38;5;241;43m2\u001b[39;49m\n",
      "\u001b[0;31mTypeError\u001b[0m: unsupported operand type(s) for *: 'Vector2d' and 'int'"
     ]
    }
   ],
   "source": [
    "double(v1)"
   ]
  },
  {
   "cell_type": "code",
   "execution_count": null,
   "id": "00c4705d-af51-489e-961e-88bf16e54bca",
   "metadata": {},
   "outputs": [],
   "source": []
  }
 ],
 "metadata": {
  "kernelspec": {
   "display_name": "Python 3 (ipykernel)",
   "language": "python",
   "name": "python3"
  },
  "language_info": {
   "codemirror_mode": {
    "name": "ipython",
    "version": 3
   },
   "file_extension": ".py",
   "mimetype": "text/x-python",
   "name": "python",
   "nbconvert_exporter": "python",
   "pygments_lexer": "ipython3",
   "version": "3.10.5"
  }
 },
 "nbformat": 4,
 "nbformat_minor": 5
}
