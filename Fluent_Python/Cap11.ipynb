{
 "cells": [
  {
   "cell_type": "code",
   "execution_count": 5,
   "id": "c7987896-e3b6-43b2-b480-90f8029d1c7d",
   "metadata": {},
   "outputs": [],
   "source": [
    "class Student:\n",
    "    name = 'unknown' # class attribute\n",
    "    def __init__(self):\n",
    "        self.age = 20  # instance attribute\n",
    "\n",
    "    @classmethod\n",
    "    def tostring(cls):\n",
    "        print('Student Class Attributes: name=',cls.name)"
   ]
  },
  {
   "cell_type": "code",
   "execution_count": 6,
   "id": "a514274a-27fc-4f51-b40c-e8a9f5f4b3df",
   "metadata": {},
   "outputs": [
    {
     "name": "stdout",
     "output_type": "stream",
     "text": [
      "Student Class Attributes: name= unknown\n"
     ]
    }
   ],
   "source": [
    "Student.tostring()"
   ]
  },
  {
   "cell_type": "code",
   "execution_count": 1,
   "id": "fc9486f8-273b-4fe0-b64b-4999916e6efe",
   "metadata": {},
   "outputs": [],
   "source": [
    "from array import array\n",
    "import math"
   ]
  },
  {
   "cell_type": "code",
   "execution_count": 2,
   "id": "35b40f5e-fd50-4d04-92b7-b9671bffbca4",
   "metadata": {},
   "outputs": [],
   "source": [
    "class Vector2d: # v0\n",
    "    typecode = 'd'\n",
    "    \n",
    "    def __init__(self, x, y):\n",
    "        self.x = float(x)\n",
    "        self.y = float(y)\n",
    "        \n",
    "    def __iter__(self):\n",
    "        return (i for i in (self.x, self.y))\n",
    "    \n",
    "    def __repr__(self):\n",
    "        class_name = type(self).__name__\n",
    "        #return f'{class_name}({self.x!r}, {self.y!r})'\n",
    "        return '{}({!r}, {!r})'.format(class_name, *self)\n",
    "    \n",
    "    def __str__(self):\n",
    "        return str(tuple(self))\n",
    "    \n",
    "    def __bytes__(self):\n",
    "        retur (\n",
    "            bytes([ord(self.typecode)]) +\n",
    "            bytes(array(self.typecode, self))\n",
    "        )\n",
    "        \n",
    "    def __eq__(self, other):\n",
    "        return tuple(self) == tuple(other)\n",
    "    \n",
    "    def __abs__(self):\n",
    "        return math.hypot(self.x, self.y)\n",
    "    \n",
    "    def __bool__(self):\n",
    "        return bool(abs(self))"
   ]
  },
  {
   "cell_type": "code",
   "execution_count": 3,
   "id": "64432535-d76a-4f8b-8b0c-0af8ae698fe9",
   "metadata": {},
   "outputs": [],
   "source": [
    "class Vector2d: # v1\n",
    "    typecode = 'd'\n",
    "    \n",
    "    def __init__(self, x, y):\n",
    "        self.x = float(x)\n",
    "        self.y = float(y)\n",
    "        \n",
    "    def __iter__(self):\n",
    "        return (i for i in (self.x, self.y))\n",
    "    \n",
    "    def __repr__(self):\n",
    "        class_name = type(self).__name__\n",
    "        #return f'{class_name}({self.x!r}, {self.y!r})'\n",
    "        return '{}({!r}, {!r})'.format(class_name, *self)\n",
    "    \n",
    "    def __str__(self):\n",
    "        return str(tuple(self))\n",
    "    \n",
    "    def __bytes__(self):\n",
    "        retur (\n",
    "            bytes([ord(self.typecode)]) +\n",
    "            bytes(array(self.typecode, self))\n",
    "        )\n",
    "        \n",
    "    def __eq__(self, other):\n",
    "        return tuple(self) == tuple(other)\n",
    "    \n",
    "    def __abs__(self):\n",
    "        return math.hypot(self.x, self.y)\n",
    "    \n",
    "    def __bool__(self):\n",
    "        return bool(abs(self))\n",
    "    \n",
    "    @classmethod\n",
    "    def frombytes(cls, octets):\n",
    "        typecode = chr(octets[0])\n",
    "        menv = memoryview(octets[1:]).cast(typecode)\n",
    "        return cls(*menv)"
   ]
  },
  {
   "cell_type": "code",
   "execution_count": 4,
   "id": "c01640a3-a7d4-41cb-b56d-b818a8e97a06",
   "metadata": {},
   "outputs": [
    {
     "data": {
      "text/plain": [
       "'66.7%'"
      ]
     },
     "execution_count": 4,
     "metadata": {},
     "output_type": "execute_result"
    }
   ],
   "source": [
    "format(2/3, '.1%')"
   ]
  },
  {
   "cell_type": "code",
   "execution_count": 5,
   "id": "65d2b6fd-6cb0-41a1-bb9a-ed3f3869392e",
   "metadata": {},
   "outputs": [
    {
     "data": {
      "text/plain": [
       "'(3.0, 4.0)'"
      ]
     },
     "execution_count": 5,
     "metadata": {},
     "output_type": "execute_result"
    }
   ],
   "source": [
    "v1 = Vector2d(3, 4)\n",
    "format(v1)"
   ]
  },
  {
   "cell_type": "code",
   "execution_count": 6,
   "id": "dce10d90-0ef3-4f49-9821-b1dfececaac9",
   "metadata": {},
   "outputs": [
    {
     "ename": "TypeError",
     "evalue": "unsupported format string passed to Vector2d.__format__",
     "output_type": "error",
     "traceback": [
      "\u001b[1;31m---------------------------------------------------------------------------\u001b[0m",
      "\u001b[1;31mTypeError\u001b[0m                                 Traceback (most recent call last)",
      "Input \u001b[1;32mIn [6]\u001b[0m, in \u001b[0;36m<cell line: 1>\u001b[1;34m()\u001b[0m\n\u001b[1;32m----> 1\u001b[0m \u001b[38;5;28;43mformat\u001b[39;49m\u001b[43m(\u001b[49m\u001b[43mv1\u001b[49m\u001b[43m,\u001b[49m\u001b[43m \u001b[49m\u001b[38;5;124;43m'\u001b[39;49m\u001b[38;5;124;43m.3f\u001b[39;49m\u001b[38;5;124;43m'\u001b[39;49m\u001b[43m)\u001b[49m\n",
      "\u001b[1;31mTypeError\u001b[0m: unsupported format string passed to Vector2d.__format__"
     ]
    }
   ],
   "source": [
    "format(v1, '.3f')"
   ]
  },
  {
   "cell_type": "code",
   "execution_count": 7,
   "id": "bfaea637-3906-4bb3-8d0e-6bd1112f2b9d",
   "metadata": {},
   "outputs": [],
   "source": [
    "class Vector2d: # v1\n",
    "    typecode = 'd'\n",
    "    \n",
    "    def __init__(self, x, y):\n",
    "        self.x = float(x)\n",
    "        self.y = float(y)\n",
    "        \n",
    "    def __iter__(self):\n",
    "        return (i for i in (self.x, self.y))\n",
    "    \n",
    "    def __repr__(self):\n",
    "        class_name = type(self).__name__\n",
    "        #return f'{class_name}({self.x!r}, {self.y!r})'\n",
    "        return '{}({!r}, {!r})'.format(class_name, *self)\n",
    "    \n",
    "    def __str__(self):\n",
    "        return str(tuple(self))\n",
    "    \n",
    "    def __bytes__(self):\n",
    "        retur (\n",
    "            bytes([ord(self.typecode)]) +\n",
    "            bytes(array(self.typecode, self))\n",
    "        )\n",
    "        \n",
    "    def __eq__(self, other):\n",
    "        return tuple(self) == tuple(other)\n",
    "    \n",
    "    def __abs__(self):\n",
    "        return math.hypot(self.x, self.y)\n",
    "    \n",
    "    def __bool__(self):\n",
    "        return bool(abs(self))\n",
    "    \n",
    "    @classmethod\n",
    "    def frombytes(cls, octets):\n",
    "        typecode = chr(octets[0])\n",
    "        menv = memoryview(octets[1:]).cast(typecode)\n",
    "        return cls(*menv)\n",
    "    \n",
    "    def __format__(self, fmt_spec = ''):\n",
    "        components = (format(c, fmt_spec) for c in self)\n",
    "        return '({}, {})'.format(*components)"
   ]
  },
  {
   "cell_type": "code",
   "execution_count": 8,
   "id": "5ddb6f8d-c8ab-4b2b-b7cc-2280c2d2674b",
   "metadata": {},
   "outputs": [
    {
     "data": {
      "text/plain": [
       "'(3.00, 4.00)'"
      ]
     },
     "execution_count": 8,
     "metadata": {},
     "output_type": "execute_result"
    }
   ],
   "source": [
    "v1 = Vector2d(3, 4)\n",
    "format(v1, '.2f')"
   ]
  },
  {
   "cell_type": "code",
   "execution_count": 9,
   "id": "2d7520ee-4367-458f-ab11-58da952f3551",
   "metadata": {},
   "outputs": [],
   "source": [
    "class Vector2d: # v1\n",
    "    typecode = 'd'\n",
    "    \n",
    "    def __init__(self, x, y):\n",
    "        self.x = float(x)\n",
    "        self.y = float(y)\n",
    "        \n",
    "    def __iter__(self):\n",
    "        return (i for i in (self.x, self.y))\n",
    "    \n",
    "    def __repr__(self):\n",
    "        class_name = type(self).__name__\n",
    "        #return f'{class_name}({self.x!r}, {self.y!r})'\n",
    "        return '{}({!r}, {!r})'.format(class_name, *self)\n",
    "    \n",
    "    def __str__(self):\n",
    "        return str(tuple(self))\n",
    "    \n",
    "    def __bytes__(self):\n",
    "        retur (\n",
    "            bytes([ord(self.typecode)]) +\n",
    "            bytes(array(self.typecode, self))\n",
    "        )\n",
    "        \n",
    "    def __eq__(self, other):\n",
    "        return tuple(self) == tuple(other)\n",
    "    \n",
    "    def __abs__(self):\n",
    "        return math.hypot(self.x, self.y)\n",
    "    \n",
    "    def __bool__(self):\n",
    "        return bool(abs(self))\n",
    "    \n",
    "    @classmethod\n",
    "    def frombytes(cls, octets):\n",
    "        typecode = chr(octets[0])\n",
    "        menv = memoryview(octets[1:]).cast(typecode)\n",
    "        return cls(*menv)\n",
    "    \n",
    "    def angle(self):\n",
    "        return math.atan2(self.y, self.x)\n",
    "    \n",
    "    def __format__(self, fmt_spec = ''):\n",
    "        if fmt_spec.endswith('p'):\n",
    "            fmt_spec = fmt_spec[:-1]\n",
    "            coords = (abs(self), self.angle())\n",
    "            outer_fmt = '<{}, {}>'\n",
    "        else:\n",
    "            coords = self\n",
    "            outer_fmt = '({}, {})'\n",
    "        \n",
    "        components = (format(c, fmt_spec) for c in coords)\n",
    "        return outer_fmt.format(*components)\n",
    "    \n",
    "\n",
    "    \n",
    "    "
   ]
  },
  {
   "cell_type": "code",
   "execution_count": 10,
   "id": "8544a57f-0e65-48cf-b870-a8eda5d83a9e",
   "metadata": {},
   "outputs": [
    {
     "data": {
      "text/plain": [
       "'(3.00, 4.00)'"
      ]
     },
     "execution_count": 10,
     "metadata": {},
     "output_type": "execute_result"
    }
   ],
   "source": [
    "v1 = Vector2d(3, 4)\n",
    "format(v1, '.2f')"
   ]
  },
  {
   "cell_type": "code",
   "execution_count": 11,
   "id": "6c61a91d-15b6-4ea2-ac56-38f895c108b2",
   "metadata": {},
   "outputs": [
    {
     "data": {
      "text/plain": [
       "'<5.00, 0.93>'"
      ]
     },
     "execution_count": 11,
     "metadata": {},
     "output_type": "execute_result"
    }
   ],
   "source": [
    "format(v1, '.2fp')"
   ]
  },
  {
   "cell_type": "code",
   "execution_count": 12,
   "id": "e61870e9-100c-4816-902c-40ad9bb094e9",
   "metadata": {},
   "outputs": [
    {
     "ename": "TypeError",
     "evalue": "unhashable type: 'Vector2d'",
     "output_type": "error",
     "traceback": [
      "\u001b[1;31m---------------------------------------------------------------------------\u001b[0m",
      "\u001b[1;31mTypeError\u001b[0m                                 Traceback (most recent call last)",
      "Input \u001b[1;32mIn [12]\u001b[0m, in \u001b[0;36m<cell line: 1>\u001b[1;34m()\u001b[0m\n\u001b[1;32m----> 1\u001b[0m \u001b[38;5;28;43mhash\u001b[39;49m\u001b[43m(\u001b[49m\u001b[43mv1\u001b[49m\u001b[43m)\u001b[49m\n",
      "\u001b[1;31mTypeError\u001b[0m: unhashable type: 'Vector2d'"
     ]
    }
   ],
   "source": [
    "hash(v1)"
   ]
  },
  {
   "cell_type": "code",
   "execution_count": 13,
   "id": "5f9f75dc-c591-49cd-bf8c-0df177b8bad8",
   "metadata": {},
   "outputs": [],
   "source": [
    "class Vector2d: # v1\n",
    "    typecode = 'd'\n",
    "    \n",
    "    def __init__(self, x, y):\n",
    "        self.__x = float(x)\n",
    "        self.__y = float(y)\n",
    "\n",
    "    @property\n",
    "    def x(self):\n",
    "        return self.__x\n",
    "        \n",
    "    @property\n",
    "    def y(self):\n",
    "        return self.__y\n",
    "    \n",
    "    def __hash__(self):\n",
    "        return hash((self.x, self.y))\n",
    "    \n",
    "    def __iter__(self):\n",
    "        return (i for i in (self.x, self.y))\n",
    "    \n",
    "    def __repr__(self):\n",
    "        class_name = type(self).__name__\n",
    "        #return f'{class_name}({self.x!r}, {self.y!r})'\n",
    "        return '{}({!r}, {!r})'.format(class_name, *self)\n",
    "    \n",
    "    def __str__(self):\n",
    "        return str(tuple(self))\n",
    "    \n",
    "    def __bytes__(self):\n",
    "        retur (\n",
    "            bytes([ord(self.typecode)]) +\n",
    "            bytes(array(self.typecode, self))\n",
    "        )\n",
    "        \n",
    "    def __eq__(self, other):\n",
    "        return tuple(self) == tuple(other)\n",
    "    \n",
    "    def __abs__(self):\n",
    "        return math.hypot(self.x, self.y)\n",
    "    \n",
    "    def __bool__(self):\n",
    "        return bool(abs(self))\n",
    "    \n",
    "    @classmethod\n",
    "    def frombytes(cls, octets):\n",
    "        typecode = chr(octets[0])\n",
    "        menv = memoryview(octets[1:]).cast(typecode)\n",
    "        return cls(*menv)\n",
    "    \n",
    "    def angle(self):\n",
    "        return math.atan2(self.y, self.x)\n",
    "    \n",
    "    def __format__(self, fmt_spec = ''):\n",
    "        if fmt_spec.endswith('p'):\n",
    "            fmt_spec = fmt_spec[:-1]\n",
    "            coords = (abs(self), self.angle())\n",
    "            outer_fmt = '<{}, {}>'\n",
    "        else:\n",
    "            coords = self\n",
    "            outer_fmt = '({}, {})'\n",
    "        \n",
    "        components = (format(c, fmt_spec) for c in coords)\n",
    "        return outer_fmt.format(*components)\n",
    "    \n",
    "\n",
    "    \n",
    "    "
   ]
  },
  {
   "cell_type": "code",
   "execution_count": 14,
   "id": "3cacc2e3-25f3-4738-a42d-cfb9766af505",
   "metadata": {},
   "outputs": [],
   "source": [
    "v1 = Vector2d(3, 4)\n",
    "v3 = Vector2d(3, 4)\n",
    "v2 = Vector2d(-3, 4.1)"
   ]
  },
  {
   "cell_type": "code",
   "execution_count": 15,
   "id": "5e3aa15c-ea65-4faf-a08a-38b4daf7e0bf",
   "metadata": {},
   "outputs": [
    {
     "data": {
      "text/plain": [
       "(1079245023883434373, -4610304789187604438, 1079245023883434373)"
      ]
     },
     "execution_count": 15,
     "metadata": {},
     "output_type": "execute_result"
    }
   ],
   "source": [
    "hash(v1), hash(v2), hash(v3)"
   ]
  },
  {
   "cell_type": "code",
   "execution_count": 33,
   "id": "033ccd2c-7923-4f15-b51d-cd00349253c5",
   "metadata": {},
   "outputs": [],
   "source": [
    "class Vector2d: # v1\n",
    "    typecode = 'd'\n",
    "    __match_args__ = ('x', 'y')\n",
    "    \n",
    "    def __init__(self, x, y):\n",
    "        self.__x = float(x)\n",
    "        self.__y = float(y)\n",
    "\n",
    "    @property\n",
    "    def x(self):\n",
    "        return self.__x\n",
    "        \n",
    "    @property\n",
    "    def y(self):\n",
    "        return self.__y\n",
    "    \n",
    "    def __hash__(self):\n",
    "        return hash((self.x, self.y))\n",
    "    \n",
    "    def __iter__(self):\n",
    "        return (i for i in (self.x, self.y))\n",
    "    \n",
    "    def __repr__(self):\n",
    "        class_name = type(self).__name__\n",
    "        #return f'{class_name}({self.x!r}, {self.y!r})'\n",
    "        return '{}({!r}, {!r})'.format(class_name, *self)\n",
    "    \n",
    "    def __str__(self):\n",
    "        return str(tuple(self))\n",
    "    \n",
    "    def __bytes__(self):\n",
    "        return (\n",
    "            bytes([ord(self.typecode)]) +\n",
    "            bytes(array(self.typecode, self))\n",
    "        )\n",
    "        \n",
    "    def __eq__(self, other):\n",
    "        return tuple(self) == tuple(other)\n",
    "    \n",
    "    def __abs__(self):\n",
    "        return math.hypot(self.x, self.y)\n",
    "    \n",
    "    def __bool__(self):\n",
    "        return bool(abs(self))\n",
    "    \n",
    "    @classmethod\n",
    "    def frombytes(cls, octets):\n",
    "        typecode = chr(octets[0])\n",
    "        menv = memoryview(octets[1:]).cast(typecode)\n",
    "        return cls(*menv)\n",
    "    \n",
    "    def angle(self):\n",
    "        return math.atan2(self.y, self.x)\n",
    "    \n",
    "    def __format__(self, fmt_spec = ''):\n",
    "        if fmt_spec.endswith('p'):\n",
    "            fmt_spec = fmt_spec[:-1]\n",
    "            coords = (abs(self), self.angle())\n",
    "            outer_fmt = '<{}, {}>'\n",
    "        else:\n",
    "            coords = self\n",
    "            outer_fmt = '({}, {})'\n",
    "        \n",
    "        components = (format(c, fmt_spec) for c in coords)\n",
    "        return outer_fmt.format(*components)\n",
    "    "
   ]
  },
  {
   "cell_type": "code",
   "execution_count": 34,
   "id": "894766a3-589d-4325-a2d6-b14164874af8",
   "metadata": {},
   "outputs": [],
   "source": [
    "v1 = Vector2d(3, 4)\n",
    "v2 = Vector2d(0, 4)\n",
    "v3 = Vector2d(6, 0)\n",
    "v4 = Vector2d(0, 0)"
   ]
  },
  {
   "cell_type": "code",
   "execution_count": 35,
   "id": "30748999-8eed-43c6-b82e-c6efb2bb6986",
   "metadata": {},
   "outputs": [],
   "source": [
    "def pos_match_demo(v: Vector2d):\n",
    "    match v:\n",
    "        case Vector2d(0, 0):\n",
    "            print(f'{v!r} is null')\n",
    "        case Vector2d(_, 0):\n",
    "            print(f'{v!r} is lying down.')\n",
    "        case Vector2d(0, _):\n",
    "            print(f'{v!r} is standing.')\n",
    "        case _:\n",
    "            print(f'{v!r} I duno!')"
   ]
  },
  {
   "cell_type": "code",
   "execution_count": 36,
   "id": "ddf0bba2-b329-41b5-ada4-783f3266696e",
   "metadata": {},
   "outputs": [
    {
     "name": "stdout",
     "output_type": "stream",
     "text": [
      "Vector2d(3.0, 4.0) I duno!\n",
      "Vector2d(0.0, 4.0) is standing.\n",
      "Vector2d(6.0, 0.0) is lying down.\n",
      "Vector2d(0.0, 0.0) is null\n"
     ]
    }
   ],
   "source": [
    "for v in [v1, v2, v3, v4]:\n",
    "    pos_match_demo(v)"
   ]
  },
  {
   "cell_type": "code",
   "execution_count": 37,
   "id": "b02a62d4-c5be-4045-94c2-dc55061ba1df",
   "metadata": {},
   "outputs": [
    {
     "data": {
      "text/plain": [
       "3.0"
      ]
     },
     "execution_count": 37,
     "metadata": {},
     "output_type": "execute_result"
    }
   ],
   "source": [
    "v1.x"
   ]
  },
  {
   "cell_type": "code",
   "execution_count": 38,
   "id": "17e4d7c3-537f-417f-a346-a1d68e685788",
   "metadata": {},
   "outputs": [
    {
     "data": {
      "text/plain": [
       "{'_Vector2d__x': 3.0, '_Vector2d__y': 4.0}"
      ]
     },
     "execution_count": 38,
     "metadata": {},
     "output_type": "execute_result"
    }
   ],
   "source": [
    "v1.__dict__"
   ]
  },
  {
   "cell_type": "code",
   "execution_count": 39,
   "id": "7d8d4a8a-6a54-40d7-852f-5feb9c3fa8a6",
   "metadata": {},
   "outputs": [],
   "source": [
    "class ShortVector2d(Vector2d):\n",
    "    typecode = 'f'"
   ]
  },
  {
   "cell_type": "code",
   "execution_count": 40,
   "id": "bf01c58c-d6f3-41b3-acbb-1277bd39800d",
   "metadata": {},
   "outputs": [],
   "source": [
    "sv1 = ShortVector2d(3, 4)\n",
    "sv2 = ShortVector2d(0, 4)\n",
    "sv3 = ShortVector2d(6, 0)\n",
    "sv4 = ShortVector2d(0, 0)"
   ]
  },
  {
   "cell_type": "code",
   "execution_count": 42,
   "id": "256b7b48-4836-43e4-846f-12286b92807f",
   "metadata": {},
   "outputs": [
    {
     "data": {
      "text/plain": [
       "(17, 9)"
      ]
     },
     "execution_count": 42,
     "metadata": {},
     "output_type": "execute_result"
    }
   ],
   "source": [
    "len(bytes(v1)), len(bytes(sv1))"
   ]
  },
  {
   "cell_type": "code",
   "execution_count": 43,
   "id": "82d21928-872a-4485-9342-6c62cd1a8318",
   "metadata": {},
   "outputs": [
    {
     "data": {
      "text/plain": [
       "ShortVector2d(3.0, 4.0)"
      ]
     },
     "execution_count": 43,
     "metadata": {},
     "output_type": "execute_result"
    }
   ],
   "source": [
    "sv1"
   ]
  },
  {
   "cell_type": "code",
   "execution_count": 6,
   "id": "ca8b27e6-cfca-40ab-9c23-55d2a83b88d6",
   "metadata": {},
   "outputs": [],
   "source": [
    "from array import array\n",
    "import reprlib\n",
    "import math\n",
    "\n",
    "class Vector:\n",
    "    typecode = 'd'\n",
    "    \n",
    "    def __init__(self, components):\n",
    "        self._components = array(self.typecode, components)\n",
    "        \n",
    "    def __iter__(self):\n",
    "        return iter(self._components)\n",
    "    \n",
    "    def __repr__(self):\n",
    "        components = reprlib.repr(self._components)\n",
    "        components = components[components.find('['):-1]\n",
    "        return f'Vector({components})'\n",
    "    \n",
    "    def __str__(self):\n",
    "        return str(tuple(self))\n",
    "    \n",
    "    def __bytes__(self):\n",
    "        return (\n",
    "            bytes([ord(self.typecode)]) +\n",
    "            bytes(self.typecode)\n",
    "        )\n",
    "    \n",
    "    def __eq__(self, other):\n",
    "        return tuple(self) == tuple(other)\n",
    "    \n",
    "    def __abs__(self):\n",
    "        return math.hypot(*self)\n",
    "    \n",
    "    def __bool__(self):\n",
    "        return bool(abs(self))\n",
    "    \n",
    "    @classmethod\n",
    "    def frombytes(cls, octets):\n",
    "        typecode = chr(octets[0])\n",
    "        memv = memoryview(octets[1:]).cast(typecode)\n",
    "        return cls(memv)\n",
    "    \n",
    "    def __len__(self):\n",
    "        return len(self._components)\n",
    "    \n",
    "    def __getitem__(self, index):\n",
    "        return self._components[index]\n",
    "    \n",
    "    "
   ]
  },
  {
   "cell_type": "code",
   "execution_count": 8,
   "id": "e48c88ac-3bbf-4ddc-8a6c-68703c1146e9",
   "metadata": {},
   "outputs": [
    {
     "data": {
      "text/plain": [
       "Vector([0.0, 1.0, 2.0, 3.0, 4.0, ...])"
      ]
     },
     "execution_count": 8,
     "metadata": {},
     "output_type": "execute_result"
    }
   ],
   "source": [
    "v1 = Vector(range(10))\n",
    "v1"
   ]
  },
  {
   "cell_type": "code",
   "execution_count": 11,
   "id": "5a47c9bb-13a4-41af-b735-19d2236e09da",
   "metadata": {},
   "outputs": [
    {
     "data": {
      "text/plain": [
       "(4.0, 7.0, 0.0)"
      ]
     },
     "execution_count": 11,
     "metadata": {},
     "output_type": "execute_result"
    }
   ],
   "source": [
    "v1[4], v1[7], v1[0]"
   ]
  },
  {
   "cell_type": "code",
   "execution_count": 12,
   "id": "823de6d9-5858-41b5-9ff1-f75eae2fd24a",
   "metadata": {},
   "outputs": [
    {
     "data": {
      "text/plain": [
       "array('d', [4.0, 5.0, 6.0, 7.0])"
      ]
     },
     "execution_count": 12,
     "metadata": {},
     "output_type": "execute_result"
    }
   ],
   "source": [
    "v1[4:8]"
   ]
  },
  {
   "cell_type": "code",
   "execution_count": 13,
   "id": "7aaa321c-a571-46e5-953a-980cff3a4c49",
   "metadata": {},
   "outputs": [],
   "source": [
    "class MySeq:\n",
    "    def __getitem__(self, index):\n",
    "        return index"
   ]
  },
  {
   "cell_type": "code",
   "execution_count": 14,
   "id": "9f109152-e539-4f53-95e6-7a0c4f4e28ab",
   "metadata": {},
   "outputs": [],
   "source": [
    "s = MySeq()"
   ]
  },
  {
   "cell_type": "code",
   "execution_count": 15,
   "id": "ec6cc0e7-8229-4d6d-a718-0e69f44b5377",
   "metadata": {},
   "outputs": [
    {
     "data": {
      "text/plain": [
       "1"
      ]
     },
     "execution_count": 15,
     "metadata": {},
     "output_type": "execute_result"
    }
   ],
   "source": [
    "s[1]"
   ]
  },
  {
   "cell_type": "code",
   "execution_count": 16,
   "id": "d2e5c2de-ae78-4bd7-8070-5e3fb2dfa829",
   "metadata": {},
   "outputs": [
    {
     "data": {
      "text/plain": [
       "slice(1, 4, None)"
      ]
     },
     "execution_count": 16,
     "metadata": {},
     "output_type": "execute_result"
    }
   ],
   "source": [
    "s[1:4]"
   ]
  },
  {
   "cell_type": "code",
   "execution_count": 20,
   "id": "b388c858-a59d-4836-bb81-076036f48362",
   "metadata": {},
   "outputs": [
    {
     "data": {
      "text/plain": [
       "slice(1, 9, 2)"
      ]
     },
     "execution_count": 20,
     "metadata": {},
     "output_type": "execute_result"
    }
   ],
   "source": [
    "s[1:9:2]"
   ]
  },
  {
   "cell_type": "code",
   "execution_count": 22,
   "id": "46f5ca7f-23d3-4358-8cdf-3004293f670d",
   "metadata": {},
   "outputs": [
    {
     "data": {
      "text/plain": [
       "(slice(1, 9, 4), slice(4, 9, None))"
      ]
     },
     "execution_count": 22,
     "metadata": {},
     "output_type": "execute_result"
    }
   ],
   "source": [
    "s[1:9:4, 4:9]"
   ]
  },
  {
   "cell_type": "code",
   "execution_count": 24,
   "id": "2a86b546-2f39-4c00-b6a4-92e9fc83d081",
   "metadata": {},
   "outputs": [
    {
     "data": {
      "text/plain": [
       "\"<class 'slice'>\""
      ]
     },
     "execution_count": 24,
     "metadata": {},
     "output_type": "execute_result"
    }
   ],
   "source": [
    "str(slice)"
   ]
  },
  {
   "cell_type": "code",
   "execution_count": 25,
   "id": "cf33b10a-4d7b-48c3-982f-84f422ae5726",
   "metadata": {},
   "outputs": [
    {
     "data": {
      "text/plain": [
       "['__class__',\n",
       " '__delattr__',\n",
       " '__dir__',\n",
       " '__doc__',\n",
       " '__eq__',\n",
       " '__format__',\n",
       " '__ge__',\n",
       " '__getattribute__',\n",
       " '__gt__',\n",
       " '__hash__',\n",
       " '__init__',\n",
       " '__init_subclass__',\n",
       " '__le__',\n",
       " '__lt__',\n",
       " '__ne__',\n",
       " '__new__',\n",
       " '__reduce__',\n",
       " '__reduce_ex__',\n",
       " '__repr__',\n",
       " '__setattr__',\n",
       " '__sizeof__',\n",
       " '__str__',\n",
       " '__subclasshook__',\n",
       " 'indices',\n",
       " 'start',\n",
       " 'step',\n",
       " 'stop']"
      ]
     },
     "execution_count": 25,
     "metadata": {},
     "output_type": "execute_result"
    }
   ],
   "source": [
    "dir(slice)"
   ]
  },
  {
   "cell_type": "code",
   "execution_count": 26,
   "id": "3986a7e3-fa58-40f3-b532-c9acf9456958",
   "metadata": {},
   "outputs": [
    {
     "name": "stdout",
     "output_type": "stream",
     "text": [
      "Help on method_descriptor:\n",
      "\n",
      "indices(...)\n",
      "    S.indices(len) -> (start, stop, stride)\n",
      "    \n",
      "    Assuming a sequence of length len, calculate the start and stop\n",
      "    indices, and the stride length of the extended slice described by\n",
      "    S. Out of bounds indices are clipped in a manner consistent with the\n",
      "    handling of normal slices.\n",
      "\n"
     ]
    }
   ],
   "source": [
    "help(slice.indices)"
   ]
  },
  {
   "cell_type": "code",
   "execution_count": 27,
   "id": "a5eb9346-b54d-44bd-871c-eeed8fcca82c",
   "metadata": {},
   "outputs": [
    {
     "data": {
      "text/plain": [
       "(6, 10, 1)"
      ]
     },
     "execution_count": 27,
     "metadata": {},
     "output_type": "execute_result"
    }
   ],
   "source": [
    "slice(-4, None, None).indices(10)"
   ]
  },
  {
   "cell_type": "code",
   "execution_count": 39,
   "id": "35749f0d-0f27-4e46-9ad0-6533480f4333",
   "metadata": {},
   "outputs": [],
   "source": [
    "from array import array\n",
    "import reprlib\n",
    "import math\n",
    "import operator\n",
    "\n",
    "class Vector:\n",
    "    typecode = 'd'\n",
    "    \n",
    "    def __init__(self, components):\n",
    "        self._components = array(self.typecode, components)\n",
    "        \n",
    "    def __iter__(self):\n",
    "        return iter(self._components)\n",
    "    \n",
    "    def __repr__(self):\n",
    "        components = reprlib.repr(self._components)\n",
    "        components = components[components.find('['):-1]\n",
    "        return f'Vector({components})'\n",
    "    \n",
    "    def __str__(self):\n",
    "        return str(tuple(self))\n",
    "    \n",
    "    def __bytes__(self):\n",
    "        return (\n",
    "            bytes([ord(self.typecode)]) +\n",
    "            bytes(self.typecode)\n",
    "        )\n",
    "    \n",
    "    def __eq__(self, other):\n",
    "        return tuple(self) == tuple(other)\n",
    "    \n",
    "    def __abs__(self):\n",
    "        return math.hypot(*self)\n",
    "    \n",
    "    def __bool__(self):\n",
    "        return bool(abs(self))\n",
    "    \n",
    "    @classmethod\n",
    "    def frombytes(cls, octets):\n",
    "        typecode = chr(octets[0])\n",
    "        memv = memoryview(octets[1:]).cast(typecode)\n",
    "        return cls(memv)\n",
    "    \n",
    "    def __len__(self):\n",
    "        return len(self._components)\n",
    "    \n",
    "    def __getitem__(self, key):\n",
    "        if isinstance(key, slice):\n",
    "            cls = type(self)\n",
    "            return cls(self._components[key])\n",
    "        index = operator.index(key)\n",
    "        return self._components[index]"
   ]
  },
  {
   "cell_type": "code",
   "execution_count": 40,
   "id": "343ef602-4bdd-4287-9ce4-e0370c701b7e",
   "metadata": {},
   "outputs": [
    {
     "data": {
      "text/plain": [
       "Vector([0.0, 1.0, 2.0, 3.0, 4.0, ...])"
      ]
     },
     "execution_count": 40,
     "metadata": {},
     "output_type": "execute_result"
    }
   ],
   "source": [
    "v1 = Vector(range(10))\n",
    "v1"
   ]
  },
  {
   "cell_type": "code",
   "execution_count": 41,
   "id": "763d3538-dce0-4982-beba-b853e22321f8",
   "metadata": {},
   "outputs": [
    {
     "data": {
      "text/plain": [
       "Vector([3.0, 4.0, 5.0, 6.0, 7.0, ...])"
      ]
     },
     "execution_count": 41,
     "metadata": {},
     "output_type": "execute_result"
    }
   ],
   "source": [
    "v1[3:-1]"
   ]
  },
  {
   "cell_type": "code",
   "execution_count": 42,
   "id": "22368c69-2653-4fc3-90ab-a9862b256d7f",
   "metadata": {},
   "outputs": [
    {
     "ename": "TypeError",
     "evalue": "'float' object cannot be interpreted as an integer",
     "output_type": "error",
     "traceback": [
      "\u001b[1;31m---------------------------------------------------------------------------\u001b[0m",
      "\u001b[1;31mTypeError\u001b[0m                                 Traceback (most recent call last)",
      "Input \u001b[1;32mIn [42]\u001b[0m, in \u001b[0;36m<cell line: 1>\u001b[1;34m()\u001b[0m\n\u001b[1;32m----> 1\u001b[0m \u001b[43mv1\u001b[49m\u001b[43m[\u001b[49m\u001b[38;5;241;43m3.14\u001b[39;49m\u001b[43m]\u001b[49m\n",
      "Input \u001b[1;32mIn [39]\u001b[0m, in \u001b[0;36mVector.__getitem__\u001b[1;34m(self, key)\u001b[0m\n\u001b[0;32m     49\u001b[0m     \u001b[38;5;28mcls\u001b[39m \u001b[38;5;241m=\u001b[39m \u001b[38;5;28mtype\u001b[39m(\u001b[38;5;28mself\u001b[39m)\n\u001b[0;32m     50\u001b[0m     \u001b[38;5;28;01mreturn\u001b[39;00m \u001b[38;5;28mcls\u001b[39m(\u001b[38;5;28mself\u001b[39m\u001b[38;5;241m.\u001b[39m_components[key])\n\u001b[1;32m---> 51\u001b[0m index \u001b[38;5;241m=\u001b[39m \u001b[43moperator\u001b[49m\u001b[38;5;241;43m.\u001b[39;49m\u001b[43mindex\u001b[49m\u001b[43m(\u001b[49m\u001b[43mkey\u001b[49m\u001b[43m)\u001b[49m\n\u001b[0;32m     52\u001b[0m \u001b[38;5;28;01mreturn\u001b[39;00m \u001b[38;5;28mself\u001b[39m\u001b[38;5;241m.\u001b[39m_components[index]\n",
      "\u001b[1;31mTypeError\u001b[0m: 'float' object cannot be interpreted as an integer"
     ]
    }
   ],
   "source": [
    "v1[3.14]"
   ]
  },
  {
   "cell_type": "code",
   "execution_count": 43,
   "id": "1aee555c-a651-4bfa-81d9-6c8828833704",
   "metadata": {},
   "outputs": [
    {
     "ename": "TypeError",
     "evalue": "slice indices must be integers or None or have an __index__ method",
     "output_type": "error",
     "traceback": [
      "\u001b[1;31m---------------------------------------------------------------------------\u001b[0m",
      "\u001b[1;31mTypeError\u001b[0m                                 Traceback (most recent call last)",
      "Input \u001b[1;32mIn [43]\u001b[0m, in \u001b[0;36m<cell line: 1>\u001b[1;34m()\u001b[0m\n\u001b[1;32m----> 1\u001b[0m \u001b[43mv1\u001b[49m\u001b[43m[\u001b[49m\u001b[38;5;241;43m3.14\u001b[39;49m\u001b[43m:\u001b[49m\u001b[38;5;241;43m-\u001b[39;49m\u001b[38;5;241;43m1\u001b[39;49m\u001b[43m]\u001b[49m\n",
      "Input \u001b[1;32mIn [39]\u001b[0m, in \u001b[0;36mVector.__getitem__\u001b[1;34m(self, key)\u001b[0m\n\u001b[0;32m     48\u001b[0m \u001b[38;5;28;01mif\u001b[39;00m \u001b[38;5;28misinstance\u001b[39m(key, \u001b[38;5;28mslice\u001b[39m):\n\u001b[0;32m     49\u001b[0m     \u001b[38;5;28mcls\u001b[39m \u001b[38;5;241m=\u001b[39m \u001b[38;5;28mtype\u001b[39m(\u001b[38;5;28mself\u001b[39m)\n\u001b[1;32m---> 50\u001b[0m     \u001b[38;5;28;01mreturn\u001b[39;00m \u001b[38;5;28mcls\u001b[39m(\u001b[38;5;28;43mself\u001b[39;49m\u001b[38;5;241;43m.\u001b[39;49m\u001b[43m_components\u001b[49m\u001b[43m[\u001b[49m\u001b[43mkey\u001b[49m\u001b[43m]\u001b[49m)\n\u001b[0;32m     51\u001b[0m index \u001b[38;5;241m=\u001b[39m operator\u001b[38;5;241m.\u001b[39mindex(key)\n\u001b[0;32m     52\u001b[0m \u001b[38;5;28;01mreturn\u001b[39;00m \u001b[38;5;28mself\u001b[39m\u001b[38;5;241m.\u001b[39m_components[index]\n",
      "\u001b[1;31mTypeError\u001b[0m: slice indices must be integers or None or have an __index__ method"
     ]
    }
   ],
   "source": [
    "v1[3.14:-1]"
   ]
  },
  {
   "cell_type": "code",
   "execution_count": 44,
   "id": "b1508f28-beb3-453f-89f0-4a8af4477a57",
   "metadata": {},
   "outputs": [
    {
     "ename": "TypeError",
     "evalue": "slice indices must be integers or None or have an __index__ method",
     "output_type": "error",
     "traceback": [
      "\u001b[1;31m---------------------------------------------------------------------------\u001b[0m",
      "\u001b[1;31mTypeError\u001b[0m                                 Traceback (most recent call last)",
      "Input \u001b[1;32mIn [44]\u001b[0m, in \u001b[0;36m<cell line: 1>\u001b[1;34m()\u001b[0m\n\u001b[1;32m----> 1\u001b[0m \u001b[43mv1\u001b[49m\u001b[43m[\u001b[49m\u001b[38;5;241;43m3\u001b[39;49m\u001b[43m:\u001b[49m\u001b[38;5;241;43m-\u001b[39;49m\u001b[38;5;241;43m1.0\u001b[39;49m\u001b[43m]\u001b[49m\n",
      "Input \u001b[1;32mIn [39]\u001b[0m, in \u001b[0;36mVector.__getitem__\u001b[1;34m(self, key)\u001b[0m\n\u001b[0;32m     48\u001b[0m \u001b[38;5;28;01mif\u001b[39;00m \u001b[38;5;28misinstance\u001b[39m(key, \u001b[38;5;28mslice\u001b[39m):\n\u001b[0;32m     49\u001b[0m     \u001b[38;5;28mcls\u001b[39m \u001b[38;5;241m=\u001b[39m \u001b[38;5;28mtype\u001b[39m(\u001b[38;5;28mself\u001b[39m)\n\u001b[1;32m---> 50\u001b[0m     \u001b[38;5;28;01mreturn\u001b[39;00m \u001b[38;5;28mcls\u001b[39m(\u001b[38;5;28;43mself\u001b[39;49m\u001b[38;5;241;43m.\u001b[39;49m\u001b[43m_components\u001b[49m\u001b[43m[\u001b[49m\u001b[43mkey\u001b[49m\u001b[43m]\u001b[49m)\n\u001b[0;32m     51\u001b[0m index \u001b[38;5;241m=\u001b[39m operator\u001b[38;5;241m.\u001b[39mindex(key)\n\u001b[0;32m     52\u001b[0m \u001b[38;5;28;01mreturn\u001b[39;00m \u001b[38;5;28mself\u001b[39m\u001b[38;5;241m.\u001b[39m_components[index]\n",
      "\u001b[1;31mTypeError\u001b[0m: slice indices must be integers or None or have an __index__ method"
     ]
    }
   ],
   "source": [
    "v1[3:-1.0]"
   ]
  },
  {
   "cell_type": "code",
   "execution_count": 51,
   "id": "55a39800-2f6d-4265-ade7-fe49c3d9cf83",
   "metadata": {},
   "outputs": [
    {
     "data": {
      "text/plain": [
       "0"
      ]
     },
     "execution_count": 51,
     "metadata": {},
     "output_type": "execute_result"
    }
   ],
   "source": [
    "v1.x"
   ]
  },
  {
   "cell_type": "code",
   "execution_count": 49,
   "id": "bae12ccb-b1ce-4262-b462-893a3dc2ff06",
   "metadata": {},
   "outputs": [
    {
     "data": {
      "text/plain": [
       "__main__.Vector"
      ]
     },
     "execution_count": 49,
     "metadata": {},
     "output_type": "execute_result"
    }
   ],
   "source": [
    "v1.__class__"
   ]
  },
  {
   "cell_type": "code",
   "execution_count": 50,
   "id": "27a5fff5-4632-4cbb-916d-3c82a4df43a5",
   "metadata": {},
   "outputs": [],
   "source": [
    "v1.x = 0"
   ]
  },
  {
   "cell_type": "code",
   "execution_count": 54,
   "id": "fd8a4a61-b37b-4c74-9173-aefecb87fff9",
   "metadata": {},
   "outputs": [
    {
     "data": {
      "text/plain": [
       "('x', 'y', 'z', 't')"
      ]
     },
     "execution_count": 54,
     "metadata": {},
     "output_type": "execute_result"
    }
   ],
   "source": [
    "tuple('xyzt')"
   ]
  },
  {
   "cell_type": "code",
   "execution_count": 156,
   "id": "76b2f340-f75e-4668-ac7c-8aa505dbdc6a",
   "metadata": {},
   "outputs": [],
   "source": [
    "from array import array\n",
    "import reprlib\n",
    "import math\n",
    "import operator\n",
    "\n",
    "class Vector:\n",
    "    typecode = 'd'\n",
    "    __match_args__ = tuple('xyzt')\n",
    "    \n",
    "    def __init__(self, components):\n",
    "        self._components = array(self.typecode, components)\n",
    "        \n",
    "    def __iter__(self):\n",
    "        return iter(self._components)\n",
    "    \n",
    "    def __repr__(self):\n",
    "        components = reprlib.repr(self._components)\n",
    "        components = components[components.find('['):-1]\n",
    "        return f'Vector({components})'\n",
    "    \n",
    "    def __str__(self):\n",
    "        return str(tuple(self))\n",
    "    \n",
    "    def __bytes__(self):\n",
    "        return (\n",
    "            bytes([ord(self.typecode)]) +\n",
    "            bytes(self.typecode)\n",
    "        )\n",
    "    \n",
    "    def __eq__(self, other):\n",
    "        return tuple(self) == tuple(other)\n",
    "    \n",
    "    def __abs__(self):\n",
    "        return math.hypot(*self)\n",
    "    \n",
    "    def __bool__(self):\n",
    "        return bool(abs(self))\n",
    "    \n",
    "    @classmethod\n",
    "    def frombytes(cls, octets):\n",
    "        typecode = chr(octets[0])\n",
    "        memv = memoryview(octets[1:]).cast(typecode)\n",
    "        return cls(memv)\n",
    "    \n",
    "    def __len__(self):\n",
    "        return len(self._components)\n",
    "    \n",
    "    def __getitem__(self, key):\n",
    "        if isinstance(key, slice):\n",
    "            cls = type(self)\n",
    "            return cls(self._components[key])\n",
    "        index = operator.index(key)\n",
    "        return self._components[index]\n",
    "    \n",
    "    def __getattr__(self, name):\n",
    "        cls = type(self)\n",
    "        try:\n",
    "            pos = cls.__match_args__.index(name)\n",
    "            return self._components[pos]\n",
    "        except ValueError:\n",
    "            msg = f'{cls.__name__!r} object has no attribute {name!r}'\n",
    "            raise AttributeError(msg)\n",
    "            \n",
    "    def __setattr__(self, name, value):\n",
    "        cls = type(self)\n",
    "        if len(name) == 1:\n",
    "            error = ''\n",
    "            if name in cls.__match_args__:\n",
    "                error = 'readonly attribute {attr_name!r}'\n",
    "            elif name.islower():\n",
    "                error = \"can't set attributes 'a' to 'z' in {cls_name!r}\"\n",
    "            if error:\n",
    "                msg = error.format(\n",
    "                    cls_name=cls.__name__,\n",
    "                    attr_name=name\n",
    "                )\n",
    "                raise AttributeError(msg)\n",
    "        super().__setattr__(name, value)\n",
    "        \n",
    "    @property\n",
    "    def u(self):\n",
    "        v_norm = abs(self)\n",
    "        cls = type(self)\n",
    "        return cls((i/v_norm for i in self))"
   ]
  },
  {
   "cell_type": "code",
   "execution_count": 157,
   "id": "3726b267-57dd-4cab-9843-b42695affb59",
   "metadata": {},
   "outputs": [],
   "source": [
    "v = Vector(range(20))"
   ]
  },
  {
   "cell_type": "code",
   "execution_count": 158,
   "id": "178bf21f-6193-46a9-9a4a-d948e41cb555",
   "metadata": {},
   "outputs": [
    {
     "data": {
      "text/plain": [
       "Vector([0.0, 1.0, 2.0, 3.0, 4.0, ...])"
      ]
     },
     "execution_count": 158,
     "metadata": {},
     "output_type": "execute_result"
    }
   ],
   "source": [
    "v"
   ]
  },
  {
   "cell_type": "code",
   "execution_count": 159,
   "id": "03788bc5-9cf6-4276-826e-325cf80b7eef",
   "metadata": {},
   "outputs": [
    {
     "data": {
      "text/plain": [
       "(0.0, 3.0, 2.0, 1.0)"
      ]
     },
     "execution_count": 159,
     "metadata": {},
     "output_type": "execute_result"
    }
   ],
   "source": [
    "v.x, v.t, v.z, v.y"
   ]
  },
  {
   "cell_type": "code",
   "execution_count": 160,
   "id": "55d2cf3f-9b9f-4cf2-a027-064aa8458a7f",
   "metadata": {},
   "outputs": [
    {
     "data": {
      "text/plain": [
       "Vector([0.0, 0.020121090914638342, 0.040242181829276684, 0.06036327274391503, 0.08048436365855337, ...])"
      ]
     },
     "execution_count": 160,
     "metadata": {},
     "output_type": "execute_result"
    }
   ],
   "source": [
    "v.u"
   ]
  },
  {
   "cell_type": "code",
   "execution_count": 162,
   "id": "57cbe5e2-a1bb-4246-9e77-a455dd787f3c",
   "metadata": {},
   "outputs": [
    {
     "data": {
      "text/plain": [
       "1.0"
      ]
     },
     "execution_count": 162,
     "metadata": {},
     "output_type": "execute_result"
    }
   ],
   "source": [
    "abs(v.u) + math.ulp(1.0)"
   ]
  },
  {
   "cell_type": "code",
   "execution_count": 163,
   "id": "8f9072a5-1a5d-45db-9679-28774557bf4a",
   "metadata": {},
   "outputs": [
    {
     "ename": "AttributeError",
     "evalue": "readonly attribute 'x'",
     "output_type": "error",
     "traceback": [
      "\u001b[1;31m---------------------------------------------------------------------------\u001b[0m",
      "\u001b[1;31mAttributeError\u001b[0m                            Traceback (most recent call last)",
      "Input \u001b[1;32mIn [163]\u001b[0m, in \u001b[0;36m<cell line: 1>\u001b[1;34m()\u001b[0m\n\u001b[1;32m----> 1\u001b[0m v\u001b[38;5;241m.\u001b[39mx \u001b[38;5;241m=\u001b[39m \u001b[38;5;241m10\u001b[39m\n",
      "Input \u001b[1;32mIn [156]\u001b[0m, in \u001b[0;36mVector.__setattr__\u001b[1;34m(self, name, value)\u001b[0m\n\u001b[0;32m     72\u001b[0m     \u001b[38;5;28;01mif\u001b[39;00m error:\n\u001b[0;32m     73\u001b[0m         msg \u001b[38;5;241m=\u001b[39m error\u001b[38;5;241m.\u001b[39mformat(\n\u001b[0;32m     74\u001b[0m             cls_name\u001b[38;5;241m=\u001b[39m\u001b[38;5;28mcls\u001b[39m\u001b[38;5;241m.\u001b[39m\u001b[38;5;18m__name__\u001b[39m,\n\u001b[0;32m     75\u001b[0m             attr_name\u001b[38;5;241m=\u001b[39mname\n\u001b[0;32m     76\u001b[0m         )\n\u001b[1;32m---> 77\u001b[0m         \u001b[38;5;28;01mraise\u001b[39;00m \u001b[38;5;167;01mAttributeError\u001b[39;00m(msg)\n\u001b[0;32m     78\u001b[0m \u001b[38;5;28msuper\u001b[39m()\u001b[38;5;241m.\u001b[39m\u001b[38;5;21m__setattr__\u001b[39m(name, value)\n",
      "\u001b[1;31mAttributeError\u001b[0m: readonly attribute 'x'"
     ]
    }
   ],
   "source": [
    "v.x = 10"
   ]
  },
  {
   "cell_type": "code",
   "execution_count": 170,
   "id": "8654ea57-68bf-4867-a4cd-61c621bdb423",
   "metadata": {},
   "outputs": [
    {
     "ename": "AttributeError",
     "evalue": "can't set attributes 'a' to 'z' in 'Vector'",
     "output_type": "error",
     "traceback": [
      "\u001b[1;31m---------------------------------------------------------------------------\u001b[0m",
      "\u001b[1;31mAttributeError\u001b[0m                            Traceback (most recent call last)",
      "Input \u001b[1;32mIn [170]\u001b[0m, in \u001b[0;36m<cell line: 1>\u001b[1;34m()\u001b[0m\n\u001b[1;32m----> 1\u001b[0m v\u001b[38;5;241m.\u001b[39mb \u001b[38;5;241m=\u001b[39m \u001b[38;5;241m9\u001b[39m\n",
      "Input \u001b[1;32mIn [156]\u001b[0m, in \u001b[0;36mVector.__setattr__\u001b[1;34m(self, name, value)\u001b[0m\n\u001b[0;32m     72\u001b[0m     \u001b[38;5;28;01mif\u001b[39;00m error:\n\u001b[0;32m     73\u001b[0m         msg \u001b[38;5;241m=\u001b[39m error\u001b[38;5;241m.\u001b[39mformat(\n\u001b[0;32m     74\u001b[0m             cls_name\u001b[38;5;241m=\u001b[39m\u001b[38;5;28mcls\u001b[39m\u001b[38;5;241m.\u001b[39m\u001b[38;5;18m__name__\u001b[39m,\n\u001b[0;32m     75\u001b[0m             attr_name\u001b[38;5;241m=\u001b[39mname\n\u001b[0;32m     76\u001b[0m         )\n\u001b[1;32m---> 77\u001b[0m         \u001b[38;5;28;01mraise\u001b[39;00m \u001b[38;5;167;01mAttributeError\u001b[39;00m(msg)\n\u001b[0;32m     78\u001b[0m \u001b[38;5;28msuper\u001b[39m()\u001b[38;5;241m.\u001b[39m\u001b[38;5;21m__setattr__\u001b[39m(name, value)\n",
      "\u001b[1;31mAttributeError\u001b[0m: can't set attributes 'a' to 'z' in 'Vector'"
     ]
    }
   ],
   "source": [
    "v.b = 9"
   ]
  },
  {
   "cell_type": "code",
   "execution_count": 164,
   "id": "939ee64f-0379-4439-883f-2485dca166e0",
   "metadata": {},
   "outputs": [
    {
     "data": {
      "text/plain": [
       "0.0"
      ]
     },
     "execution_count": 164,
     "metadata": {},
     "output_type": "execute_result"
    }
   ],
   "source": [
    "v.x"
   ]
  },
  {
   "cell_type": "code",
   "execution_count": 165,
   "id": "69d6c0fd-b0fb-4249-acf2-b9185d9f2491",
   "metadata": {},
   "outputs": [
    {
     "data": {
      "text/plain": [
       "0.0"
      ]
     },
     "execution_count": 165,
     "metadata": {},
     "output_type": "execute_result"
    }
   ],
   "source": [
    "v[0]"
   ]
  },
  {
   "cell_type": "code",
   "execution_count": 166,
   "id": "0fdb2cb1-d566-40b5-8a04-9a3fee9c8748",
   "metadata": {},
   "outputs": [],
   "source": [
    "v = Vector([1, 1])"
   ]
  },
  {
   "cell_type": "code",
   "execution_count": 167,
   "id": "580d4129-8411-43fe-9a5d-6b2941b1e7dd",
   "metadata": {},
   "outputs": [
    {
     "data": {
      "text/plain": [
       "Vector([0.7071067811865475, 0.7071067811865475])"
      ]
     },
     "execution_count": 167,
     "metadata": {},
     "output_type": "execute_result"
    }
   ],
   "source": [
    "v.u"
   ]
  },
  {
   "cell_type": "code",
   "execution_count": 168,
   "id": "fbb58e64-5f6a-469f-bf7d-1064c3ca33e7",
   "metadata": {},
   "outputs": [
    {
     "data": {
      "text/plain": [
       "1.0"
      ]
     },
     "execution_count": 168,
     "metadata": {},
     "output_type": "execute_result"
    }
   ],
   "source": [
    "abs(v.u)+math.ulp(abs(v.u))"
   ]
  },
  {
   "cell_type": "code",
   "execution_count": 169,
   "id": "8536261e-2e41-4bae-b152-7d92a6fa531a",
   "metadata": {},
   "outputs": [
    {
     "data": {
      "text/plain": [
       "2.220446049250313e-16"
      ]
     },
     "execution_count": 169,
     "metadata": {},
     "output_type": "execute_result"
    }
   ],
   "source": [
    "math.ulp(1.0)"
   ]
  },
  {
   "cell_type": "code",
   "execution_count": 191,
   "id": "444a7606-7883-4892-95a6-8de1c8e0ab95",
   "metadata": {},
   "outputs": [],
   "source": [
    "from array import array\n",
    "import reprlib\n",
    "import math\n",
    "import operator\n",
    "import functools\n",
    "\n",
    "class Vector:\n",
    "    typecode = 'd'\n",
    "    __match_args__ = tuple('xyzt')\n",
    "    \n",
    "    def __init__(self, components):\n",
    "        self._components = array(self.typecode, components)\n",
    "        \n",
    "    def __iter__(self):\n",
    "        return iter(self._components)\n",
    "    \n",
    "    def __repr__(self):\n",
    "        components = reprlib.repr(self._components)\n",
    "        components = components[components.find('['):-1]\n",
    "        return f'Vector({components})'\n",
    "    \n",
    "    def __str__(self):\n",
    "        return str(tuple(self))\n",
    "    \n",
    "    def __bytes__(self):\n",
    "        return (\n",
    "            bytes([ord(self.typecode)]) +\n",
    "            bytes(self.typecode)\n",
    "        )\n",
    "    \n",
    "    def __eq__(self, other):\n",
    "        return (\n",
    "            len(self) == len(other) and \n",
    "            all(a == b for a, b in zip(self, other))\n",
    "        )\n",
    "        #if len(self) != len(other):\n",
    "        #    return False\n",
    "        #for a, b in zip(self, other):\n",
    "        #    if a != b:\n",
    "        #        return False\n",
    "        #return True\n",
    "    \n",
    "    def __hash__(self):\n",
    "        hashes = map(hash, self._components)\n",
    "        return functools.reduce(operator.xor, hashes, 0)\n",
    "    \n",
    "    def __abs__(self):\n",
    "        return math.hypot(*self)\n",
    "    \n",
    "    def __bool__(self):\n",
    "        return bool(abs(self))\n",
    "    \n",
    "    @classmethod\n",
    "    def frombytes(cls, octets):\n",
    "        typecode = chr(octets[0])\n",
    "        memv = memoryview(octets[1:]).cast(typecode)\n",
    "        return cls(memv)\n",
    "    \n",
    "    def __len__(self):\n",
    "        return len(self._components)\n",
    "    \n",
    "    def __getitem__(self, key):\n",
    "        if isinstance(key, slice):\n",
    "            cls = type(self)\n",
    "            return cls(self._components[key])\n",
    "        index = operator.index(key)\n",
    "        return self._components[index]\n",
    "    \n",
    "    def __getattr__(self, name):\n",
    "        cls = type(self)\n",
    "        try:\n",
    "            pos = cls.__match_args__.index(name)\n",
    "            return self._components[pos]\n",
    "        except ValueError:\n",
    "            msg = f'{cls.__name__!r} object has no attribute {name!r}'\n",
    "            raise AttributeError(msg)\n",
    "            \n",
    "    def __setattr__(self, name, value):\n",
    "        cls = type(self)\n",
    "        if len(name) == 1:\n",
    "            error = ''\n",
    "            if name in cls.__match_args__:\n",
    "                error = 'readonly attribute {attr_name!r}'\n",
    "            elif name.islower():\n",
    "                error = \"can't set attributes 'a' to 'z' in {cls_name!r}\"\n",
    "            if error:\n",
    "                msg = error.format(\n",
    "                    cls_name=cls.__name__,\n",
    "                    attr_name=name\n",
    "                )\n",
    "                raise AttributeError(msg)\n",
    "        super().__setattr__(name, value)\n",
    "        \n",
    "    @property\n",
    "    def u(self):\n",
    "        v_norm = abs(self)\n",
    "        cls = type(self)\n",
    "        return cls((i/v_norm for i in self))"
   ]
  },
  {
   "cell_type": "code",
   "execution_count": 192,
   "id": "973da7c2-7f40-4e90-9e89-9cc9bc8d1530",
   "metadata": {},
   "outputs": [],
   "source": [
    "v = Vector(range(110))"
   ]
  },
  {
   "cell_type": "code",
   "execution_count": 193,
   "id": "e1bab56a-a202-4d97-8eaa-cea1ee938b48",
   "metadata": {},
   "outputs": [
    {
     "data": {
      "text/plain": [
       "1"
      ]
     },
     "execution_count": 193,
     "metadata": {},
     "output_type": "execute_result"
    }
   ],
   "source": [
    "hash(v)"
   ]
  },
  {
   "cell_type": "code",
   "execution_count": 194,
   "id": "c4d9219e-7a6b-442e-8660-3b22c1e60b5b",
   "metadata": {},
   "outputs": [
    {
     "data": {
      "text/plain": [
       "23058430092136458"
      ]
     },
     "execution_count": 194,
     "metadata": {},
     "output_type": "execute_result"
    }
   ],
   "source": [
    "hash(10.01)"
   ]
  },
  {
   "cell_type": "code",
   "execution_count": 195,
   "id": "622faac0-332c-40a9-bfdf-f71981e2ea03",
   "metadata": {},
   "outputs": [
    {
     "data": {
      "text/plain": [
       "0"
      ]
     },
     "execution_count": 195,
     "metadata": {},
     "output_type": "execute_result"
    }
   ],
   "source": [
    "1 ^ 1"
   ]
  },
  {
   "cell_type": "code",
   "execution_count": 198,
   "id": "b93a6c21-ccd6-4d4c-9cad-6ffef5f6daca",
   "metadata": {},
   "outputs": [
    {
     "data": {
      "text/plain": [
       "[(1, 4), (2, 5), (3, 6)]"
      ]
     },
     "execution_count": 198,
     "metadata": {},
     "output_type": "execute_result"
    }
   ],
   "source": [
    "a = (1, 2, 3)\n",
    "b = (4, 5, 6)\n",
    "list(zip(a,b, strict=True))"
   ]
  },
  {
   "cell_type": "code",
   "execution_count": 199,
   "id": "1c109dac-91ff-4415-bf77-123abfc3953a",
   "metadata": {},
   "outputs": [
    {
     "ename": "ValueError",
     "evalue": "zip() argument 2 is longer than argument 1",
     "output_type": "error",
     "traceback": [
      "\u001b[1;31m---------------------------------------------------------------------------\u001b[0m",
      "\u001b[1;31mValueError\u001b[0m                                Traceback (most recent call last)",
      "Input \u001b[1;32mIn [199]\u001b[0m, in \u001b[0;36m<cell line: 3>\u001b[1;34m()\u001b[0m\n\u001b[0;32m      1\u001b[0m a \u001b[38;5;241m=\u001b[39m (\u001b[38;5;241m1\u001b[39m, \u001b[38;5;241m2\u001b[39m, \u001b[38;5;241m3\u001b[39m)\n\u001b[0;32m      2\u001b[0m b \u001b[38;5;241m=\u001b[39m (\u001b[38;5;241m4\u001b[39m, \u001b[38;5;241m5\u001b[39m, \u001b[38;5;241m6\u001b[39m, \u001b[38;5;241m7\u001b[39m)\n\u001b[1;32m----> 3\u001b[0m \u001b[38;5;28;43mlist\u001b[39;49m\u001b[43m(\u001b[49m\u001b[38;5;28;43mzip\u001b[39;49m\u001b[43m(\u001b[49m\u001b[43ma\u001b[49m\u001b[43m,\u001b[49m\u001b[43mb\u001b[49m\u001b[43m,\u001b[49m\u001b[43m \u001b[49m\u001b[43mstrict\u001b[49m\u001b[38;5;241;43m=\u001b[39;49m\u001b[38;5;28;43;01mTrue\u001b[39;49;00m\u001b[43m)\u001b[49m\u001b[43m)\u001b[49m\n",
      "\u001b[1;31mValueError\u001b[0m: zip() argument 2 is longer than argument 1"
     ]
    }
   ],
   "source": [
    "a = (1, 2, 3)\n",
    "b = (4, 5, 6, 7)\n",
    "list(zip(a,b, strict=True))"
   ]
  },
  {
   "cell_type": "code",
   "execution_count": 275,
   "id": "23daae20-f39d-4e3e-8817-271f7c4e56c1",
   "metadata": {},
   "outputs": [],
   "source": [
    "from array import array\n",
    "import reprlib\n",
    "import math\n",
    "import operator\n",
    "import functools\n",
    "import itertools\n",
    "\n",
    "class Vector:\n",
    "    typecode = 'd'\n",
    "    __match_args__ = tuple('xyzt')\n",
    "    \n",
    "    def __init__(self, components):\n",
    "        self._components = array(self.typecode, components)\n",
    "        \n",
    "    def __iter__(self):\n",
    "        return iter(self._components)\n",
    "    \n",
    "    def __repr__(self):\n",
    "        components = reprlib.repr(self._components)\n",
    "        components = components[components.find('['):-1]\n",
    "        return f'Vector({components})'\n",
    "    \n",
    "    def __str__(self):\n",
    "        return str(tuple(self))\n",
    "    \n",
    "    def __bytes__(self):\n",
    "        return (\n",
    "            bytes([ord(self.typecode)]) +\n",
    "            bytes(self.typecode)\n",
    "        )\n",
    "    \n",
    "    def __eq__(self, other):\n",
    "        return (\n",
    "            len(self) == len(other) and \n",
    "            all(a == b for a, b in zip(self, other))\n",
    "        )\n",
    "        #if len(self) != len(other):\n",
    "        #    return False\n",
    "        #for a, b in zip(self, other):\n",
    "        #    if a != b:\n",
    "        #        return False\n",
    "        #return True\n",
    "    \n",
    "    def __hash__(self):\n",
    "        hashes = map(hash, self._components)\n",
    "        return functools.reduce(operator.xor, hashes, 0)\n",
    "    \n",
    "    def __abs__(self):\n",
    "        return math.hypot(*self)\n",
    "    \n",
    "    def __bool__(self):\n",
    "        return bool(abs(self))\n",
    "    \n",
    "    @classmethod\n",
    "    def frombytes(cls, octets):\n",
    "        typecode = chr(octets[0])\n",
    "        memv = memoryview(octets[1:]).cast(typecode)\n",
    "        return cls(memv)\n",
    "    \n",
    "    def __len__(self):\n",
    "        return len(self._components)\n",
    "    \n",
    "    def __getitem__(self, key):\n",
    "        if isinstance(key, slice):\n",
    "            cls = type(self)\n",
    "            return cls(self._components[key])\n",
    "        index = operator.index(key)\n",
    "        return self._components[index]\n",
    "    \n",
    "    def __getattr__(self, name):\n",
    "        cls = type(self)\n",
    "        try:\n",
    "            pos = cls.__match_args__.index(name)\n",
    "            return self._components[pos]\n",
    "        except ValueError:\n",
    "            msg = f'{cls.__name__!r} object has no attribute {name!r}'\n",
    "            raise AttributeError(msg)\n",
    "            \n",
    "    def __setattr__(self, name, value):\n",
    "        cls = type(self)\n",
    "        if len(name) == 1:\n",
    "            error = ''\n",
    "            if name in cls.__match_args__:\n",
    "                error = 'readonly attribute {attr_name!r}'\n",
    "            elif name.islower():\n",
    "                error = \"can't set attributes 'a' to 'z' in {cls_name!r}\"\n",
    "            if error:\n",
    "                msg = error.format(\n",
    "                    cls_name=cls.__name__,\n",
    "                    attr_name=name\n",
    "                )\n",
    "                raise AttributeError(msg)\n",
    "        super().__setattr__(name, value)\n",
    "        \n",
    "    def __format__(self, fmt_spec=''):\n",
    "        if fmt_spec.endswith('h'):\n",
    "            fmt_spec = fmt_spec[:-1]\n",
    "            coords = itertools.chain([abs(self)], self.angles())\n",
    "            outer_fmt = '<{}>'\n",
    "        else:\n",
    "            coords = self\n",
    "            outer_fmt = '({})'\n",
    "        components = (format(c, fmt_spec) for c in coords)\n",
    "        return outer_fmt.format(', '.join(components))\n",
    "        \n",
    "    @property\n",
    "    def u(self):\n",
    "        v_norm = abs(self)\n",
    "        cls = type(self)\n",
    "        return cls((i/v_norm for i in self))\n",
    "    \n",
    "    def angle(self, n):\n",
    "        r = math.hypot(*self[n:])\n",
    "        a = math.atan2(r, self[n-1])\n",
    "        neg_angle = (n == len(self) - 1) and (self[-1] < 0)\n",
    "        return (a-neg_angle*math.pi*2)*(-1)**(neg_angle)\n",
    "        #if neg_angle:\n",
    "        #    return math.pi * 2 - a\n",
    "        #return a\n",
    "        \n",
    "    def angles(self):\n",
    "        return (self.angle(n) for n in range(1, len(self)))"
   ]
  },
  {
   "cell_type": "code",
   "execution_count": 276,
   "id": "2f9d9d42-b4fc-4cd2-a23d-b04bda7f3ac8",
   "metadata": {},
   "outputs": [],
   "source": [
    "v =  Vector([1, -1])"
   ]
  },
  {
   "cell_type": "code",
   "execution_count": 277,
   "id": "71057212-bf28-4b9c-b512-b8bbd00e043e",
   "metadata": {},
   "outputs": [],
   "source": [
    "rad2deg = lambda a: 180*a/math.pi"
   ]
  },
  {
   "cell_type": "code",
   "execution_count": 278,
   "id": "2efd3f7f-68ab-4962-91e5-43f8c6d3f5a7",
   "metadata": {},
   "outputs": [
    {
     "data": {
      "text/plain": [
       "(5.497787143782138, 315.0)"
      ]
     },
     "execution_count": 278,
     "metadata": {},
     "output_type": "execute_result"
    }
   ],
   "source": [
    "v.angle(1), rad2deg(v.angle(1))"
   ]
  },
  {
   "cell_type": "code",
   "execution_count": 279,
   "id": "40dd95c3-6d78-449d-9ef9-f85141645519",
   "metadata": {},
   "outputs": [
    {
     "data": {
      "text/plain": [
       "[5.497787143782138]"
      ]
     },
     "execution_count": 279,
     "metadata": {},
     "output_type": "execute_result"
    }
   ],
   "source": [
    "list(v.angles())"
   ]
  },
  {
   "cell_type": "code",
   "execution_count": 280,
   "id": "4a5ea6f6-7871-424a-9640-26c4deb5a075",
   "metadata": {},
   "outputs": [],
   "source": [
    "v =  Vector([1, 0, 1])"
   ]
  },
  {
   "cell_type": "code",
   "execution_count": 281,
   "id": "735f9493-5423-466a-9527-3c3187cccd4d",
   "metadata": {},
   "outputs": [
    {
     "data": {
      "text/plain": [
       "([0.7853981633974483, 1.5707963267948966], [45.0, 90.0])"
      ]
     },
     "execution_count": 281,
     "metadata": {},
     "output_type": "execute_result"
    }
   ],
   "source": [
    "list(v.angles()), [rad2deg(a) for a in list(v.angles())]"
   ]
  },
  {
   "cell_type": "code",
   "execution_count": 282,
   "id": "c09f2576-a499-4e5f-88a1-0f3b2c52ea17",
   "metadata": {},
   "outputs": [
    {
     "data": {
      "text/plain": [
       "'(1.00000, 0.00000, 1.00000)'"
      ]
     },
     "execution_count": 282,
     "metadata": {},
     "output_type": "execute_result"
    }
   ],
   "source": [
    "format(v, '.5f')"
   ]
  },
  {
   "cell_type": "code",
   "execution_count": 283,
   "id": "a516234d-96bd-4354-b87e-fedd5cfaae8a",
   "metadata": {},
   "outputs": [
    {
     "data": {
      "text/plain": [
       "'<1.414, 0.785, 1.571>'"
      ]
     },
     "execution_count": 283,
     "metadata": {},
     "output_type": "execute_result"
    }
   ],
   "source": [
    "format(v, '.3fh')"
   ]
  },
  {
   "cell_type": "code",
   "execution_count": null,
   "id": "f5753521-9ea5-4ff6-9441-3561b73fc7fd",
   "metadata": {},
   "outputs": [],
   "source": []
  }
 ],
 "metadata": {
  "kernelspec": {
   "display_name": "Python 3 (ipykernel)",
   "language": "python",
   "name": "python3"
  },
  "language_info": {
   "codemirror_mode": {
    "name": "ipython",
    "version": 3
   },
   "file_extension": ".py",
   "mimetype": "text/x-python",
   "name": "python",
   "nbconvert_exporter": "python",
   "pygments_lexer": "ipython3",
   "version": "3.10.4"
  }
 },
 "nbformat": 4,
 "nbformat_minor": 5
}
