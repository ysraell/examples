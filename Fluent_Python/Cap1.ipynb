{
 "cells": [
  {
   "cell_type": "code",
   "execution_count": 7,
   "id": "e6e40475-5c05-4956-9e9f-cffcc4000d41",
   "metadata": {},
   "outputs": [
    {
     "name": "stdout",
     "output_type": "stream",
     "text": [
      "Number 1.8571428571428572\n",
      "Number 1.8571428571428572\n"
     ]
    }
   ],
   "source": [
    "num = 13/7\n",
    "print(f\"Number {num!r}\")\n",
    "print(f'Number {num}')"
   ]
  },
  {
   "cell_type": "code",
   "execution_count": 9,
   "id": "81fc96e5-a1b3-4718-a947-647e6d5be37b",
   "metadata": {},
   "outputs": [],
   "source": [
    "from array import array"
   ]
  },
  {
   "cell_type": "code",
   "execution_count": 12,
   "id": "a81a8d30-55d8-40c5-b64d-3298d4dc9033",
   "metadata": {},
   "outputs": [],
   "source": [
    "a = array('d', [0.1, 13/7, 11/7])"
   ]
  },
  {
   "cell_type": "code",
   "execution_count": 13,
   "id": "13e6caf6-e75c-4882-b638-393452df3efc",
   "metadata": {},
   "outputs": [
    {
     "data": {
      "text/plain": [
       "array('d', [0.1, 1.8571428571428572, 1.5714285714285714])"
      ]
     },
     "execution_count": 13,
     "metadata": {},
     "output_type": "execute_result"
    }
   ],
   "source": [
    "a"
   ]
  },
  {
   "cell_type": "code",
   "execution_count": 1,
   "id": "6ad98d0e-bf08-433c-ad94-8738e3ad006c",
   "metadata": {},
   "outputs": [
    {
     "data": {
      "text/plain": [
       "Ellipsis"
      ]
     },
     "execution_count": 1,
     "metadata": {},
     "output_type": "execute_result"
    }
   ],
   "source": [
    "..."
   ]
  },
  {
   "cell_type": "code",
   "execution_count": 2,
   "id": "c63eb87e-d4e1-461d-aac3-551bba2e68dd",
   "metadata": {},
   "outputs": [
    {
     "data": {
      "text/plain": [
       "Ellipsis"
      ]
     },
     "execution_count": 2,
     "metadata": {},
     "output_type": "execute_result"
    }
   ],
   "source": [
    "Ellipsis"
   ]
  },
  {
   "cell_type": "code",
   "execution_count": 3,
   "id": "3f24626c-7f2e-4cb2-9113-28fca2e9b1db",
   "metadata": {},
   "outputs": [],
   "source": [
    "a = [['_'] * 3 for _ in range(3)]"
   ]
  },
  {
   "cell_type": "code",
   "execution_count": 4,
   "id": "9d36aa02-554e-4cca-b317-0dbbccd16732",
   "metadata": {},
   "outputs": [
    {
     "data": {
      "text/plain": [
       "[['_', '_', '_'], ['_', '_', '_'], ['_', '_', '_']]"
      ]
     },
     "execution_count": 4,
     "metadata": {},
     "output_type": "execute_result"
    }
   ],
   "source": [
    "a"
   ]
  },
  {
   "cell_type": "code",
   "execution_count": 5,
   "id": "43dbcc92-2c90-4eea-beee-5eac98531da4",
   "metadata": {},
   "outputs": [],
   "source": [
    "a[1][2] = 1"
   ]
  },
  {
   "cell_type": "code",
   "execution_count": 6,
   "id": "29ce0707-4410-4de3-a177-ed888ce63909",
   "metadata": {},
   "outputs": [
    {
     "data": {
      "text/plain": [
       "[['_', '_', '_'], ['_', '_', 1], ['_', '_', '_']]"
      ]
     },
     "execution_count": 6,
     "metadata": {},
     "output_type": "execute_result"
    }
   ],
   "source": [
    "a"
   ]
  },
  {
   "cell_type": "code",
   "execution_count": 7,
   "id": "46458c6b-51da-4785-be79-bd6fce399e22",
   "metadata": {},
   "outputs": [],
   "source": [
    "a = [['_'] * 3] * 3"
   ]
  },
  {
   "cell_type": "code",
   "execution_count": 8,
   "id": "0067baa5-767b-462c-95ff-02f180d4f5a2",
   "metadata": {},
   "outputs": [
    {
     "data": {
      "text/plain": [
       "[['_', '_', '_'], ['_', '_', '_'], ['_', '_', '_']]"
      ]
     },
     "execution_count": 8,
     "metadata": {},
     "output_type": "execute_result"
    }
   ],
   "source": [
    "a"
   ]
  },
  {
   "cell_type": "code",
   "execution_count": 9,
   "id": "7f6a4ce0-007b-4310-9ea1-bb6840dfff95",
   "metadata": {},
   "outputs": [],
   "source": [
    "a[1][2] = 1"
   ]
  },
  {
   "cell_type": "code",
   "execution_count": 10,
   "id": "57385854-0dc8-4ff3-8324-c22719b9bf16",
   "metadata": {},
   "outputs": [
    {
     "data": {
      "text/plain": [
       "[['_', '_', 1], ['_', '_', 1], ['_', '_', 1]]"
      ]
     },
     "execution_count": 10,
     "metadata": {},
     "output_type": "execute_result"
    }
   ],
   "source": [
    "a"
   ]
  },
  {
   "cell_type": "code",
   "execution_count": 6,
   "id": "d987c103-6366-494d-91c3-090c94760933",
   "metadata": {},
   "outputs": [
    {
     "ename": "TypeError",
     "evalue": "'tuple' object does not support item assignment",
     "output_type": "error",
     "traceback": [
      "\u001b[1;31m---------------------------------------------------------------------------\u001b[0m",
      "\u001b[1;31mTypeError\u001b[0m                                 Traceback (most recent call last)",
      "\u001b[1;32m~\\AppData\\Local\\Temp/ipykernel_31220/2657474393.py\u001b[0m in \u001b[0;36m<module>\u001b[1;34m\u001b[0m\n\u001b[0;32m      1\u001b[0m \u001b[0mt\u001b[0m \u001b[1;33m=\u001b[0m \u001b[1;33m(\u001b[0m\u001b[1;36m1\u001b[0m\u001b[1;33m,\u001b[0m \u001b[1;36m2\u001b[0m\u001b[1;33m,\u001b[0m \u001b[1;33m[\u001b[0m\u001b[1;36m30\u001b[0m\u001b[1;33m,\u001b[0m \u001b[1;36m40\u001b[0m\u001b[1;33m]\u001b[0m\u001b[1;33m)\u001b[0m\u001b[1;33m\u001b[0m\u001b[1;33m\u001b[0m\u001b[0m\n\u001b[1;32m----> 2\u001b[1;33m \u001b[0mt\u001b[0m\u001b[1;33m[\u001b[0m\u001b[1;36m2\u001b[0m\u001b[1;33m]\u001b[0m \u001b[1;33m=\u001b[0m \u001b[0mt\u001b[0m\u001b[1;33m[\u001b[0m\u001b[1;36m2\u001b[0m\u001b[1;33m]\u001b[0m \u001b[1;33m+\u001b[0m \u001b[1;33m[\u001b[0m\u001b[1;36m50\u001b[0m\u001b[1;33m,\u001b[0m \u001b[1;36m60\u001b[0m\u001b[1;33m]\u001b[0m\u001b[1;33m\u001b[0m\u001b[1;33m\u001b[0m\u001b[0m\n\u001b[0m",
      "\u001b[1;31mTypeError\u001b[0m: 'tuple' object does not support item assignment"
     ]
    }
   ],
   "source": [
    "t = (1, 2, [30, 40])\n",
    "t[2] = t[2] + [50, 60]"
   ]
  },
  {
   "cell_type": "code",
   "execution_count": 7,
   "id": "e116675f-f1ef-4c81-8ac8-b1eccae165a4",
   "metadata": {},
   "outputs": [
    {
     "ename": "TypeError",
     "evalue": "'tuple' object does not support item assignment",
     "output_type": "error",
     "traceback": [
      "\u001b[1;31m---------------------------------------------------------------------------\u001b[0m",
      "\u001b[1;31mTypeError\u001b[0m                                 Traceback (most recent call last)",
      "\u001b[1;32m~\\AppData\\Local\\Temp/ipykernel_31220/2107867868.py\u001b[0m in \u001b[0;36m<module>\u001b[1;34m\u001b[0m\n\u001b[1;32m----> 1\u001b[1;33m \u001b[0mt\u001b[0m\u001b[1;33m[\u001b[0m\u001b[1;36m1\u001b[0m\u001b[1;33m]\u001b[0m \u001b[1;33m=\u001b[0m \u001b[1;36m1\u001b[0m\u001b[1;33m\u001b[0m\u001b[1;33m\u001b[0m\u001b[0m\n\u001b[0m",
      "\u001b[1;31mTypeError\u001b[0m: 'tuple' object does not support item assignment"
     ]
    }
   ],
   "source": [
    "t[1] = 1"
   ]
  },
  {
   "cell_type": "code",
   "execution_count": 3,
   "id": "f21d3589-112b-46ee-996d-11b665c95d5f",
   "metadata": {},
   "outputs": [
    {
     "data": {
      "text/plain": [
       "2484828079744"
      ]
     },
     "execution_count": 3,
     "metadata": {},
     "output_type": "execute_result"
    }
   ],
   "source": [
    "id(t[2])"
   ]
  },
  {
   "cell_type": "code",
   "execution_count": 4,
   "id": "32cc85f2-e132-48a2-8267-9f718191a5e3",
   "metadata": {},
   "outputs": [
    {
     "ename": "TypeError",
     "evalue": "'tuple' object does not support item assignment",
     "output_type": "error",
     "traceback": [
      "\u001b[1;31m---------------------------------------------------------------------------\u001b[0m",
      "\u001b[1;31mTypeError\u001b[0m                                 Traceback (most recent call last)",
      "\u001b[1;32m~\\AppData\\Local\\Temp/ipykernel_31220/1167441311.py\u001b[0m in \u001b[0;36m<module>\u001b[1;34m\u001b[0m\n\u001b[1;32m----> 1\u001b[1;33m \u001b[0mt\u001b[0m\u001b[1;33m[\u001b[0m\u001b[1;36m2\u001b[0m\u001b[1;33m]\u001b[0m \u001b[1;33m+=\u001b[0m \u001b[1;33m[\u001b[0m\u001b[1;36m50\u001b[0m\u001b[1;33m,\u001b[0m \u001b[1;36m60\u001b[0m\u001b[1;33m]\u001b[0m\u001b[1;33m\u001b[0m\u001b[1;33m\u001b[0m\u001b[0m\n\u001b[0m",
      "\u001b[1;31mTypeError\u001b[0m: 'tuple' object does not support item assignment"
     ]
    }
   ],
   "source": []
  },
  {
   "cell_type": "code",
   "execution_count": 5,
   "id": "a6b2efe8-c860-451e-9a4a-5330c1e63505",
   "metadata": {},
   "outputs": [
    {
     "data": {
      "text/plain": [
       "(1, 2, [3, 40, 50, 60])"
      ]
     },
     "execution_count": 5,
     "metadata": {},
     "output_type": "execute_result"
    }
   ],
   "source": [
    "t"
   ]
  },
  {
   "cell_type": "code",
   "execution_count": 8,
   "id": "e05fbf4f-995c-431f-a828-c3af4fa02099",
   "metadata": {},
   "outputs": [
    {
     "ename": "NameError",
     "evalue": "name 'dis' is not defined",
     "output_type": "error",
     "traceback": [
      "\u001b[1;31m---------------------------------------------------------------------------\u001b[0m",
      "\u001b[1;31mNameError\u001b[0m                                 Traceback (most recent call last)",
      "\u001b[1;32m~\\AppData\\Local\\Temp/ipykernel_31220/1843780966.py\u001b[0m in \u001b[0;36m<module>\u001b[1;34m\u001b[0m\n\u001b[1;32m----> 1\u001b[1;33m \u001b[0mdis\u001b[0m\u001b[1;33m\u001b[0m\u001b[1;33m\u001b[0m\u001b[0m\n\u001b[0m",
      "\u001b[1;31mNameError\u001b[0m: name 'dis' is not defined"
     ]
    }
   ],
   "source": [
    "dis"
   ]
  },
  {
   "cell_type": "code",
   "execution_count": 1,
   "id": "f695773f-f1d8-4748-8a6b-151712773a52",
   "metadata": {},
   "outputs": [
    {
     "data": {
      "text/plain": [
       "{'a': 1, 'b': 2}"
      ]
     },
     "execution_count": 1,
     "metadata": {},
     "output_type": "execute_result"
    }
   ],
   "source": [
    "d = {'a': 1, 'b': 2}\n",
    "d"
   ]
  },
  {
   "cell_type": "code",
   "execution_count": 4,
   "id": "d6076938-9a2d-43a7-a063-98b936012356",
   "metadata": {},
   "outputs": [],
   "source": [
    "d.update({'c': 3})"
   ]
  },
  {
   "cell_type": "code",
   "execution_count": 5,
   "id": "55551686-8b09-4376-8c90-44f94a5c9561",
   "metadata": {},
   "outputs": [
    {
     "data": {
      "text/plain": [
       "{'a': 1, 'b': 2, 'c': 3}"
      ]
     },
     "execution_count": 5,
     "metadata": {},
     "output_type": "execute_result"
    }
   ],
   "source": [
    "d"
   ]
  },
  {
   "cell_type": "code",
   "execution_count": 9,
   "id": "7f2aeb51-f228-4734-85b1-972ef8b70854",
   "metadata": {},
   "outputs": [],
   "source": [
    "d.update([('c', 3)])"
   ]
  },
  {
   "cell_type": "code",
   "execution_count": 10,
   "id": "0080e081-5ee7-4c06-8a56-5643f429716c",
   "metadata": {},
   "outputs": [],
   "source": [
    "l = [1, 2, 3, 4, 5]"
   ]
  },
  {
   "cell_type": "code",
   "execution_count": 11,
   "id": "642d7405-283d-406b-ad48-08b09fdac1f3",
   "metadata": {},
   "outputs": [
    {
     "ename": "IndexError",
     "evalue": "list index out of range",
     "output_type": "error",
     "traceback": [
      "\u001b[1;31m---------------------------------------------------------------------------\u001b[0m",
      "\u001b[1;31mIndexError\u001b[0m                                Traceback (most recent call last)",
      "\u001b[1;32m~\\AppData\\Local\\Temp/ipykernel_38296/668126467.py\u001b[0m in \u001b[0;36m<module>\u001b[1;34m\u001b[0m\n\u001b[1;32m----> 1\u001b[1;33m \u001b[0ml\u001b[0m\u001b[1;33m[\u001b[0m\u001b[1;36m5\u001b[0m\u001b[1;33m]\u001b[0m\u001b[1;33m\u001b[0m\u001b[1;33m\u001b[0m\u001b[0m\n\u001b[0m",
      "\u001b[1;31mIndexError\u001b[0m: list index out of range"
     ]
    }
   ],
   "source": [
    "l[5]"
   ]
  },
  {
   "cell_type": "code",
   "execution_count": 13,
   "id": "0f44bf87-0a5e-419a-8d4d-5d3543c1f4e7",
   "metadata": {},
   "outputs": [
    {
     "data": {
      "text/plain": [
       "5"
      ]
     },
     "execution_count": 13,
     "metadata": {},
     "output_type": "execute_result"
    }
   ],
   "source": [
    "l.__getitem__(4)"
   ]
  },
  {
   "cell_type": "code",
   "execution_count": 6,
   "id": "043ab90c-a1cf-43c5-a62a-51bac25ce0a3",
   "metadata": {},
   "outputs": [],
   "source": [
    "class defaultlist(list):\n",
    "    def __init__(self, *args, defaultvalue=None, **kwargs):\n",
    "        super().__init__(*args, **kwargs)\n",
    "        self.defaultvalue = defaultvalue \n",
    "    def __missing__(self, key):\n",
    "        if isinstance(key, int):\n",
    "            return self.defaultvalue\n",
    "        raise IndexError(key)"
   ]
  },
  {
   "cell_type": "code",
   "execution_count": 7,
   "id": "332bc2be-6c2b-4b52-ab23-5ad84256e8a2",
   "metadata": {},
   "outputs": [],
   "source": [
    "l = defaultlist()"
   ]
  },
  {
   "cell_type": "code",
   "execution_count": 8,
   "id": "fca66e5b-93d8-413e-974c-6146a0c2759f",
   "metadata": {},
   "outputs": [],
   "source": [
    "l.append(1)"
   ]
  },
  {
   "cell_type": "code",
   "execution_count": 12,
   "id": "550a1bf5-d5f0-4813-b50f-52ae399ec91b",
   "metadata": {},
   "outputs": [
    {
     "ename": "TypeError",
     "evalue": "list indices must be integers or slices, not str",
     "output_type": "error",
     "traceback": [
      "\u001b[1;31m---------------------------------------------------------------------------\u001b[0m",
      "\u001b[1;31mTypeError\u001b[0m                                 Traceback (most recent call last)",
      "\u001b[1;32m~\\AppData\\Local\\Temp/ipykernel_35916/3671474558.py\u001b[0m in \u001b[0;36m<module>\u001b[1;34m\u001b[0m\n\u001b[1;32m----> 1\u001b[1;33m \u001b[0ml\u001b[0m\u001b[1;33m.\u001b[0m\u001b[0m__getitem__\u001b[0m\u001b[1;33m(\u001b[0m\u001b[1;34m'1'\u001b[0m\u001b[1;33m)\u001b[0m\u001b[1;33m\u001b[0m\u001b[1;33m\u001b[0m\u001b[0m\n\u001b[0m",
      "\u001b[1;31mTypeError\u001b[0m: list indices must be integers or slices, not str"
     ]
    }
   ],
   "source": [
    "l.__getitem__('1')"
   ]
  },
  {
   "cell_type": "code",
   "execution_count": 10,
   "id": "d999de64-3f9b-46b3-8032-8ae37ba95915",
   "metadata": {},
   "outputs": [
    {
     "data": {
      "text/plain": [
       "[1]"
      ]
     },
     "execution_count": 10,
     "metadata": {},
     "output_type": "execute_result"
    }
   ],
   "source": [
    "l"
   ]
  },
  {
   "cell_type": "code",
   "execution_count": 15,
   "id": "61e6c5a0-c1ba-44f2-a76f-0189a4ec2bdf",
   "metadata": {},
   "outputs": [],
   "source": [
    "from collections import ChainMap\n",
    "\n",
    "baseline = {'music': 'bach', 'art': 'rembrandt'}\n",
    "adjustments = {'art': 'van gogh', 'opera': 'carmen'}\n",
    "cm = ChainMap(adjustments, baseline)"
   ]
  },
  {
   "cell_type": "code",
   "execution_count": 16,
   "id": "3b194723-e342-43da-a89a-04182b8f1586",
   "metadata": {},
   "outputs": [
    {
     "data": {
      "text/plain": [
       "'bach'"
      ]
     },
     "execution_count": 16,
     "metadata": {},
     "output_type": "execute_result"
    }
   ],
   "source": [
    "cm['music']"
   ]
  },
  {
   "cell_type": "code",
   "execution_count": 17,
   "id": "7ba8c98c-af74-458d-af84-33131a10df01",
   "metadata": {},
   "outputs": [],
   "source": [
    "from collections import UserDict\n",
    "d = UserDict()\n",
    "d['1'] = 1"
   ]
  },
  {
   "cell_type": "code",
   "execution_count": 18,
   "id": "85146db9-dcea-4a52-8776-b19e06281bda",
   "metadata": {},
   "outputs": [
    {
     "data": {
      "text/plain": [
       "{'1': 1}"
      ]
     },
     "execution_count": 18,
     "metadata": {},
     "output_type": "execute_result"
    }
   ],
   "source": [
    "d"
   ]
  },
  {
   "cell_type": "code",
   "execution_count": 20,
   "id": "6f6dc12b-87e4-4486-9994-967c6c2a993b",
   "metadata": {},
   "outputs": [
    {
     "data": {
      "text/plain": [
       "0"
      ]
     },
     "execution_count": 20,
     "metadata": {},
     "output_type": "execute_result"
    }
   ],
   "source": [
    "d.get('2', 0)"
   ]
  },
  {
   "cell_type": "code",
   "execution_count": 15,
   "id": "b29aa0f9-b97e-47c7-8e0c-61e7d9ad28c9",
   "metadata": {},
   "outputs": [
    {
     "name": "stdout",
     "output_type": "stream",
     "text": [
      "70509065921\t-65953093417\n",
      "14589788083\t-81634109556\n",
      "65584535249\t-5562422012\n",
      "61495314866\t-59569378315\n",
      "33375895036\t-1018301695\n",
      "1879272674\t-56953030100\n",
      "78558485826\t-36900992934\n",
      "20242514711\t-74691123795\n",
      "73792726768\t-42975746977\n",
      "22518784788\t-81797411442\n"
     ]
    }
   ],
   "source": [
    "from random import randrange\n",
    "neg_nums = [randrange(-100000000000, 0) for _ in range(10)]\n",
    "pos_nums = [randrange(0, 100000000000) for _ in range(10)]\n",
    "for pos, neg in zip(pos_nums, neg_nums):\n",
    "    print(pos,neg,sep='\\t')"
   ]
  },
  {
   "cell_type": "code",
   "execution_count": 19,
   "id": "23310d14-04dc-4033-973a-341c7beaff86",
   "metadata": {},
   "outputs": [
    {
     "name": "stdout",
     "output_type": "stream",
     "text": [
      "abc\n"
     ]
    }
   ],
   "source": [
    "print(\"a\"\n",
    "    \"b\"\n",
    "     \"c\")"
   ]
  },
  {
   "cell_type": "code",
   "execution_count": null,
   "id": "2f8196b7-f54f-467e-a012-5ee152526a9c",
   "metadata": {},
   "outputs": [],
   "source": [
    "@dataclass\n",
    "class C:\n",
    "    i: int\n",
    "    j: int = None\n",
    "    database: IntVar[]"
   ]
  },
  {
   "cell_type": "code",
   "execution_count": 1,
   "id": "2c9be629-e5aa-428e-a4cd-f6779c156a43",
   "metadata": {},
   "outputs": [],
   "source": [
    "from dataclasses import dataclass, field\n",
    "from typing import Optional\n",
    "from enum import Enum, auto\n",
    "from datetime import date"
   ]
  },
  {
   "cell_type": "code",
   "execution_count": 3,
   "id": "99ab3d36-6ded-43f8-a7fd-99ab79017732",
   "metadata": {},
   "outputs": [],
   "source": [
    "class ResourceType(Enum):\n",
    "    BOOK = auto()\n",
    "    EBOOK = auto()\n",
    "    VIDEO = auto()\n",
    "    \n",
    "@dataclass\n",
    "class Resourcer:\n",
    "    identifier: str\n",
    "    title: str = '<untitled>'\n",
    "    creators: list[str] = field(default_factory=list)\n",
    "    date: Optional[date] = None\n",
    "    type: ResourceType = ResourceType.BOOK\n",
    "    description: str = ''\n",
    "    language: str = ''\n",
    "    subjects: list[str] = field(default_factory=list)"
   ]
  },
  {
   "cell_type": "code",
   "execution_count": 4,
   "id": "1bddc66e-0bb0-432a-84dc-e28376e69da8",
   "metadata": {},
   "outputs": [
    {
     "name": "stdout",
     "output_type": "stream",
     "text": [
      "Resource(\n",
      "    identifier = '978-0-13-475759-9',\n",
      "    title = 'Refactoring, 2nd Edition',\n",
      "    creators = ['Martin Fowler', 'Kent Beck'],\n",
      "    date = datetime.date(2018, 11, 19),\n",
      "    type = <ResourceType.BOOK: 1>,\n",
      "    description = 'Improving the design of existing code',\n",
      "    language = 'EN',\n",
      "    subjects = ['computer programming', 'OOP'],\n",
      ")\n",
      "True\n"
     ]
    }
   ],
   "source": [
    "\"\"\"\n",
    "Media resource description class with subset of the Dublin Core fields.\n",
    "\n",
    "Default field values:\n",
    "\n",
    "    >>> r = Resource('0')\n",
    "    >>> r  # doctest: +NORMALIZE_WHITESPACE\n",
    "    Resource(\n",
    "        identifier = '0',\n",
    "        title = '<untitled>',\n",
    "        creators = [],\n",
    "        date = None,\n",
    "        type = <ResourceType.BOOK: 1>,\n",
    "        description = '',\n",
    "        language = '',\n",
    "        subjects = [],\n",
    "    )\n",
    "\n",
    "A complete resource record:\n",
    "\n",
    "    >>> description = 'Improving the design of existing code'\n",
    "    >>> book = Resource('978-0-13-475759-9', 'Refactoring, 2nd Edition',\n",
    "    ...     ['Martin Fowler', 'Kent Beck'], date(2018, 11, 19),\n",
    "    ...     ResourceType.BOOK, description, 'EN',\n",
    "    ...     ['computer programming', 'OOP'])\n",
    "\n",
    "# tag::DOCTEST[]\n",
    "    >>> book  # doctest: +NORMALIZE_WHITESPACE\n",
    "    Resource(\n",
    "        identifier = '978-0-13-475759-9',\n",
    "        title = 'Refactoring, 2nd Edition',\n",
    "        creators = ['Martin Fowler', 'Kent Beck'],\n",
    "        date = datetime.date(2018, 11, 19),\n",
    "        type = <ResourceType.BOOK: 1>,\n",
    "        description = 'Improving the design of existing code',\n",
    "        language = 'EN',\n",
    "        subjects = ['computer programming', 'OOP'],\n",
    "    )\n",
    "\n",
    "# end::DOCTEST[]\n",
    "\"\"\"\n",
    "\n",
    "from dataclasses import dataclass, field, fields\n",
    "from typing import Optional, TypedDict\n",
    "from enum import Enum, auto\n",
    "from datetime import date\n",
    "\n",
    "\n",
    "class ResourceType(Enum):\n",
    "    BOOK = auto()\n",
    "    EBOOK = auto()\n",
    "    VIDEO = auto()\n",
    "\n",
    "\n",
    "@dataclass\n",
    "class Resource:\n",
    "    \"\"\"Media resource description.\"\"\"\n",
    "    identifier: str\n",
    "    title: str = '<untitled>'\n",
    "    creators: list[str] = field(default_factory=list)\n",
    "    date: Optional[date] = None\n",
    "    type: ResourceType = ResourceType.BOOK\n",
    "    description: str = ''\n",
    "    language: str = ''\n",
    "    subjects: list[str] = field(default_factory=list)\n",
    "\n",
    "# tag::REPR[]\n",
    "    def __repr__(self):\n",
    "        cls = self.__class__\n",
    "        cls_name = cls.__name__\n",
    "        indent = ' ' * 4\n",
    "        res = [f'{cls_name}(']                            # <1>\n",
    "        for f in fields(cls):                             # <2>\n",
    "            value = getattr(self, f.name)                 # <3>\n",
    "            res.append(f'{indent}{f.name} = {value!r},')  # <4>\n",
    "\n",
    "        res.append(')')                                   # <5>\n",
    "        return '\\n'.join(res)                             # <6>\n",
    "# end::REPR[]\n",
    "\n",
    "\n",
    "class ResourceDict(TypedDict):\n",
    "    identifier: str\n",
    "    title: str\n",
    "    creators: list[str]\n",
    "    date: Optional[date]\n",
    "    type: ResourceType\n",
    "    description: str\n",
    "    language: str\n",
    "    subjects: list[str]\n",
    "\n",
    "\n",
    "if __name__ == '__main__':\n",
    "    r = Resource('0')\n",
    "    description = 'Improving the design of existing code'\n",
    "    book = Resource('978-0-13-475759-9', 'Refactoring, 2nd Edition',\n",
    "                    ['Martin Fowler', 'Kent Beck'], date(2018, 11, 19),\n",
    "                    ResourceType.BOOK, description,\n",
    "                    'EN', ['computer programming', 'OOP'])\n",
    "    print(book)\n",
    "    book_dict: ResourceDict = {\n",
    "        'identifier': '978-0-13-475759-9',\n",
    "        'title': 'Refactoring, 2nd Edition',\n",
    "        'creators': ['Martin Fowler', 'Kent Beck'],\n",
    "        'date': date(2018, 11, 19),\n",
    "        'type': ResourceType.BOOK,\n",
    "        'description': 'Improving the design of existing code',\n",
    "        'language': 'EN',\n",
    "        'subjects': ['computer programming', 'OOP']}\n",
    "    book2 = Resource(**book_dict)\n",
    "    print(book == book2)\n"
   ]
  },
  {
   "cell_type": "code",
   "execution_count": 5,
   "id": "ea7dd1cb-0cdd-4d53-99ed-5453aa465819",
   "metadata": {},
   "outputs": [
    {
     "data": {
      "text/plain": [
       "Resource(\n",
       "    identifier = '978-0-13-475759-9',\n",
       "    title = 'Refactoring, 2nd Edition',\n",
       "    creators = ['Martin Fowler', 'Kent Beck'],\n",
       "    date = datetime.date(2018, 11, 19),\n",
       "    type = <ResourceType.BOOK: 1>,\n",
       "    description = 'Improving the design of existing code',\n",
       "    language = 'EN',\n",
       "    subjects = ['computer programming', 'OOP'],\n",
       ")"
      ]
     },
     "execution_count": 5,
     "metadata": {},
     "output_type": "execute_result"
    }
   ],
   "source": [
    "book"
   ]
  },
  {
   "cell_type": "code",
   "execution_count": 6,
   "id": "a3a52bbe-775b-4ca7-a5ee-a424f2cf03d0",
   "metadata": {},
   "outputs": [
    {
     "data": {
      "text/plain": [
       "Resource(\n",
       "    identifier = '978-0-13-475759-9',\n",
       "    title = 'Refactoring, 2nd Edition',\n",
       "    creators = ['Martin Fowler', 'Kent Beck'],\n",
       "    date = datetime.date(2018, 11, 19),\n",
       "    type = <ResourceType.BOOK: 1>,\n",
       "    description = 'Improving the design of existing code',\n",
       "    language = 'EN',\n",
       "    subjects = ['computer programming', 'OOP'],\n",
       ")"
      ]
     },
     "execution_count": 6,
     "metadata": {},
     "output_type": "execute_result"
    }
   ],
   "source": [
    "book2"
   ]
  },
  {
   "cell_type": "code",
   "execution_count": 7,
   "id": "33924e4b-a558-4083-aed1-23f5ab46d26c",
   "metadata": {},
   "outputs": [
    {
     "data": {
      "text/plain": [
       "0.0"
      ]
     },
     "execution_count": 7,
     "metadata": {},
     "output_type": "execute_result"
    }
   ],
   "source": [
    "float()"
   ]
  },
  {
   "cell_type": "code",
   "execution_count": 9,
   "id": "6d810590-2f9c-4c19-89b4-e66c1eee68bb",
   "metadata": {},
   "outputs": [],
   "source": [
    "from typing import ClassVar"
   ]
  },
  {
   "cell_type": "code",
   "execution_count": 10,
   "id": "872f622d-329e-4497-b0dc-18ae4232fcc5",
   "metadata": {},
   "outputs": [
    {
     "data": {
      "text/plain": [
       "typing.ClassVar"
      ]
     },
     "execution_count": 10,
     "metadata": {},
     "output_type": "execute_result"
    }
   ],
   "source": [
    "ClassVar"
   ]
  },
  {
   "cell_type": "code",
   "execution_count": 1,
   "id": "3e66f24a-3b5a-43ec-a8d9-8282dafe3a44",
   "metadata": {},
   "outputs": [],
   "source": [
    "from dis import dis"
   ]
  },
  {
   "cell_type": "code",
   "execution_count": 2,
   "id": "b6102b45-8ca2-4db9-a85d-262bd55551a5",
   "metadata": {},
   "outputs": [],
   "source": [
    "f = lambda x: x*x"
   ]
  },
  {
   "cell_type": "code",
   "execution_count": 4,
   "id": "a32d0ec7-51a2-4cf6-b434-9fbc619d78f5",
   "metadata": {},
   "outputs": [
    {
     "ename": "TypeError",
     "evalue": "don't know how to disassemble int objects",
     "output_type": "error",
     "traceback": [
      "\u001b[1;31m---------------------------------------------------------------------------\u001b[0m",
      "\u001b[1;31mTypeError\u001b[0m                                 Traceback (most recent call last)",
      "Input \u001b[1;32mIn [4]\u001b[0m, in \u001b[0;36m<cell line: 1>\u001b[1;34m()\u001b[0m\n\u001b[1;32m----> 1\u001b[0m \u001b[43mdis\u001b[49m\u001b[43m(\u001b[49m\u001b[43mf\u001b[49m\u001b[43m(\u001b[49m\u001b[38;5;241;43m10\u001b[39;49m\u001b[43m)\u001b[49m\u001b[43m)\u001b[49m\n",
      "File \u001b[1;32mC:\\Program Files\\Python310\\lib\\dis.py:85\u001b[0m, in \u001b[0;36mdis\u001b[1;34m(x, file, depth)\u001b[0m\n\u001b[0;32m     83\u001b[0m     _disassemble_str(x, file\u001b[38;5;241m=\u001b[39mfile, depth\u001b[38;5;241m=\u001b[39mdepth)\n\u001b[0;32m     84\u001b[0m \u001b[38;5;28;01melse\u001b[39;00m:\n\u001b[1;32m---> 85\u001b[0m     \u001b[38;5;28;01mraise\u001b[39;00m \u001b[38;5;167;01mTypeError\u001b[39;00m(\u001b[38;5;124m\"\u001b[39m\u001b[38;5;124mdon\u001b[39m\u001b[38;5;124m'\u001b[39m\u001b[38;5;124mt know how to disassemble \u001b[39m\u001b[38;5;132;01m%s\u001b[39;00m\u001b[38;5;124m objects\u001b[39m\u001b[38;5;124m\"\u001b[39m \u001b[38;5;241m%\u001b[39m\n\u001b[0;32m     86\u001b[0m                     \u001b[38;5;28mtype\u001b[39m(x)\u001b[38;5;241m.\u001b[39m\u001b[38;5;18m__name__\u001b[39m)\n",
      "\u001b[1;31mTypeError\u001b[0m: don't know how to disassemble int objects"
     ]
    }
   ],
   "source": [
    "dis(f(10))"
   ]
  },
  {
   "cell_type": "code",
   "execution_count": 3,
   "id": "af48ae42-93f2-4ae4-bdab-224bd21291cf",
   "metadata": {},
   "outputs": [
    {
     "data": {
      "text/plain": [
       "122.58064516129033"
      ]
     },
     "execution_count": 3,
     "metadata": {},
     "output_type": "execute_result"
    }
   ],
   "source": [
    "200*15/31 + 50*(31-15)/31"
   ]
  },
  {
   "cell_type": "code",
   "execution_count": 2,
   "id": "d22965ce-9098-49de-9443-7938b6aebee9",
   "metadata": {},
   "outputs": [
    {
     "data": {
      "text/plain": [
       "25.806451612903224"
      ]
     },
     "execution_count": 2,
     "metadata": {},
     "output_type": "execute_result"
    }
   ],
   "source": []
  },
  {
   "cell_type": "code",
   "execution_count": 5,
   "id": "a0b4bd8d-567c-4032-b6ab-ad0abbfce5ce",
   "metadata": {},
   "outputs": [
    {
     "data": {
      "text/plain": [
       "-2966.2999999999993"
      ]
     },
     "execution_count": 5,
     "metadata": {},
     "output_type": "execute_result"
    }
   ],
   "source": [
    "(5260+6773.70)-15000"
   ]
  },
  {
   "cell_type": "code",
   "execution_count": 6,
   "id": "260ec2ee-e59a-4ed0-ae76-30a0779cb6f9",
   "metadata": {},
   "outputs": [],
   "source": [
    "import time\n",
    "\n",
    "DEFAULT_FMT = '[{elapsed:0.8f}s] {name} ({args}) -> {result}'\n",
    "\n",
    "class clock:\n",
    "    def __init__(self, fmt=DEFAULT_FMT):\n",
    "        self.fmt = fmt\n",
    "    def __call__(self, func):\n",
    "        def clocked(*_args):\n",
    "            t0 = time.perf_counter()\n",
    "            _result = func(*_args)\n",
    "            elapsed = time.perf_counter() - t0\n",
    "            name = func.__name__\n",
    "            args = ', '.join(repr(arg) for arg in _args)\n",
    "            result = repr(_result)\n",
    "            print(self.fmt.format(**locals()))\n",
    "            return _result\n",
    "        return clocked\n"
   ]
  },
  {
   "cell_type": "code",
   "execution_count": 9,
   "id": "0a8232ff-ec4b-4e75-a64e-5d1ee77dc0e9",
   "metadata": {},
   "outputs": [
    {
     "name": "stdout",
     "output_type": "stream",
     "text": [
      "[0.00001820s] snooze (0.0, 0) -> 'Sleeped by 0.0s'\n",
      "[0.10181040s] snooze (0.1, 1) -> 'Sleeped by 0.1s'\n",
      "[0.20877150s] snooze (0.2, 2) -> 'Sleeped by 0.2s'\n"
     ]
    }
   ],
   "source": [
    "@clock()\n",
    "def snooze(seconds, prec_round: int = 1):\n",
    "    time.sleep(seconds)\n",
    "    time_sleepd = round(seconds, prec_round)\n",
    "    return f\"Sleeped by {time_sleepd}s\"\n",
    "\n",
    "for i in range(3):\n",
    "    snooze(.1*i, i)"
   ]
  },
  {
   "cell_type": "code",
   "execution_count": 10,
   "id": "5c90367a-045c-4f29-a2f3-248f930d17e1",
   "metadata": {},
   "outputs": [
    {
     "name": "stdout",
     "output_type": "stream",
     "text": [
      "snooze(0.0, 0) -> 'Sleeped by 0.0s' \t [0.00001290s]\n",
      "snooze(0.1, 1) -> 'Sleeped by 0.1s' \t [0.10994660s]\n",
      "snooze(0.2, 2) -> 'Sleeped by 0.2s' \t [0.22027070s]\n"
     ]
    }
   ],
   "source": [
    "@clock('{name}({args}) -> {result} \\t [{elapsed:0.8f}s]' )\n",
    "def snooze(seconds, prec_round: int = 1):\n",
    "    time.sleep(seconds)\n",
    "    time_sleepd = round(seconds, prec_round)\n",
    "    return f\"Sleeped by {time_sleepd}s\"\n",
    "\n",
    "for i in range(3):\n",
    "    snooze(.1*i, i)"
   ]
  },
  {
   "cell_type": "code",
   "execution_count": 11,
   "id": "c02172b0-3d21-45d3-a16f-1bdd43efb70e",
   "metadata": {},
   "outputs": [
    {
     "data": {
      "text/plain": [
       "11888"
      ]
     },
     "execution_count": 11,
     "metadata": {},
     "output_type": "execute_result"
    }
   ],
   "source": [
    "35888-24000"
   ]
  },
  {
   "cell_type": "code",
   "execution_count": 21,
   "id": "b9aebd54-2475-4a87-94db-4f9bb3db565a",
   "metadata": {},
   "outputs": [],
   "source": [
    "from abc import ABC, abstractmethod\n",
    "from collections.abc import Sequence\n",
    "from decimal import Decimal\n",
    "from typing import NamedTuple, Optional\n",
    "\n",
    "class Customer(NamedTuple):\n",
    "    name: str\n",
    "    fidelity: int\n",
    "\n",
    "class LineItem(NamedTuple):\n",
    "    product: str\n",
    "    quantity: int\n",
    "    price: Decimal\n",
    "    \n",
    "    def total(self) -> Decimal:\n",
    "        return self.price * self.quantity\n",
    "    \n",
    "class Order(NamedTuple): # the context\n",
    "    customer: Customer\n",
    "    cart: Sequence[LineItem]\n",
    "    promotion: Optional['Promotion'] = None\n",
    "    \n",
    "    def total(self) -> Decimal:\n",
    "        totals = (item.total() for item in self.cart)\n",
    "        return sum(totals, start=Decimal(0))\n",
    "    \n",
    "    def due(self) -> Decimal:\n",
    "        if self. promotion is None:\n",
    "            discount = Decimal(0)\n",
    "        else:\n",
    "            discount = self.promotion.discount(self)\n",
    "        return self.total() - discount\n",
    "    \n",
    "    def __repr__(self):\n",
    "        return f'<Order total: {self.total():.2f} due: {self.due():.2f}>'\n",
    "    \n",
    "class Promotion(ABC): # the Strategy: an abstract base class\n",
    "    @abstractmethod\n",
    "    def discount(self, order: Order) -> Decimal:\n",
    "        \"\"\"Return discount as a positive dollar amount\"\"\"\n",
    "        \n",
    "class FidelityPromo(Promotion): # first Concrete Strategy\n",
    "    \"\"\"5% discount for customers with 1000 or more fidelity point\"\"\"\n",
    "    \n",
    "    def discount(self, order: Order) -> Decimal:\n",
    "        rate = Decimal('0.05')\n",
    "        if order.customer.fidelity >= 1000:\n",
    "            return order.total() * rate\n",
    "        return Decimal(0)\n",
    "    \n",
    "class BulkItemPromo(Promotion): # second Concrete Strategy\n",
    "    \"\"\"10% discount for each LineItem with 20 or more units\"\"\"\n",
    "    \n",
    "    def discount(self, order: Order) -> Decimal:\n",
    "        discount = Decimal(0)\n",
    "        for item in order.cart:\n",
    "            if item.quantity >= 20:\n",
    "                discount += item.total() * Decimal('0.1')\n",
    "        return discount\n",
    "    \n",
    "class LargerOrderPromo(Promotion): # third Concrete Strategy\n",
    "    \"\"\"7% discount for orders with 10 or more distinct items\"\"\"\n",
    "    \n",
    "    def discount(self, order: Order) -> Decimal:\n",
    "        distinct_items = {item.product for item in order.cart}\n",
    "        if len(distinct_items) >= 10:\n",
    "            return order.total() * Decimal('0.07')\n",
    "        return Decimal(0)\n",
    "        "
   ]
  },
  {
   "cell_type": "code",
   "execution_count": 22,
   "id": "c46f12f4-c40f-471f-a7e5-87039123b2ea",
   "metadata": {},
   "outputs": [],
   "source": [
    "joe = Customer('John Doe', 0)\n",
    "ann = Customer('Ann Smith', 1100)\n",
    "cart = (\n",
    "    LineItem('banana', 4, Decimal('.5')),\n",
    "    LineItem('appel', 10, Decimal('1.5')),\n",
    "    LineItem('watermelon', 5, Decimal('5')),\n",
    "    LineItem('tamoia', 2, Decimal('10')),\n",
    ")"
   ]
  },
  {
   "cell_type": "code",
   "execution_count": 23,
   "id": "10b5c85b-0711-4f34-805e-e4c7915968d7",
   "metadata": {},
   "outputs": [
    {
     "data": {
      "text/plain": [
       "<Order total: 62.00 due: 62.00>"
      ]
     },
     "execution_count": 23,
     "metadata": {},
     "output_type": "execute_result"
    }
   ],
   "source": [
    "Order(joe, cart, FidelityPromo())"
   ]
  },
  {
   "cell_type": "code",
   "execution_count": 24,
   "id": "52a815a0-271f-412a-86fd-70768867f735",
   "metadata": {},
   "outputs": [
    {
     "data": {
      "text/plain": [
       "<Order total: 62.00 due: 58.90>"
      ]
     },
     "execution_count": 24,
     "metadata": {},
     "output_type": "execute_result"
    }
   ],
   "source": [
    "Order(ann, cart, FidelityPromo())"
   ]
  },
  {
   "cell_type": "code",
   "execution_count": 25,
   "id": "0f9e0e73-eabb-49c5-8a6b-6eba3aacea3d",
   "metadata": {},
   "outputs": [],
   "source": [
    "banana_cart = (\n",
    "    LineItem('banana', 30, Decimal('.5')),\n",
    "    LineItem('appel', 10, Decimal('1.5'))\n",
    ")"
   ]
  },
  {
   "cell_type": "code",
   "execution_count": 26,
   "id": "744bc126-c092-4eab-b052-dc68ca76d3f2",
   "metadata": {},
   "outputs": [
    {
     "data": {
      "text/plain": [
       "<Order total: 62.00 due: 62.00>"
      ]
     },
     "execution_count": 26,
     "metadata": {},
     "output_type": "execute_result"
    }
   ],
   "source": [
    "Order(joe, cart, BulkItemPromo())"
   ]
  },
  {
   "cell_type": "code",
   "execution_count": 27,
   "id": "149d1300-3afa-4376-b5e1-52fe21628659",
   "metadata": {},
   "outputs": [
    {
     "data": {
      "text/plain": [
       "<Order total: 30.00 due: 28.50>"
      ]
     },
     "execution_count": 27,
     "metadata": {},
     "output_type": "execute_result"
    }
   ],
   "source": [
    "Order(joe, banana_cart, BulkItemPromo())"
   ]
  },
  {
   "cell_type": "code",
   "execution_count": 28,
   "id": "c7107476-7060-4c93-9efa-00b4ee771867",
   "metadata": {},
   "outputs": [
    {
     "data": {
      "text/plain": [
       "(LineItem(product='0', quantity=1, price=Decimal('1')),\n",
       " LineItem(product='1', quantity=1, price=Decimal('1')),\n",
       " LineItem(product='2', quantity=1, price=Decimal('1')),\n",
       " LineItem(product='3', quantity=1, price=Decimal('1')),\n",
       " LineItem(product='4', quantity=1, price=Decimal('1')),\n",
       " LineItem(product='5', quantity=1, price=Decimal('1')),\n",
       " LineItem(product='6', quantity=1, price=Decimal('1')),\n",
       " LineItem(product='7', quantity=1, price=Decimal('1')),\n",
       " LineItem(product='8', quantity=1, price=Decimal('1')),\n",
       " LineItem(product='9', quantity=1, price=Decimal('1')))"
      ]
     },
     "execution_count": 28,
     "metadata": {},
     "output_type": "execute_result"
    }
   ],
   "source": [
    "long_cart = tuple(LineItem(str(sku), 1, Decimal(1)) for sku in range(10))\n",
    "long_cart"
   ]
  },
  {
   "cell_type": "code",
   "execution_count": 29,
   "id": "69c06726-ad18-43a2-bb02-2b3c3e40f618",
   "metadata": {},
   "outputs": [
    {
     "data": {
      "text/plain": [
       "<Order total: 10.00 due: 9.30>"
      ]
     },
     "execution_count": 29,
     "metadata": {},
     "output_type": "execute_result"
    }
   ],
   "source": [
    "Order(joe, long_cart, LargerOrderPromo())"
   ]
  },
  {
   "cell_type": "code",
   "execution_count": 30,
   "id": "486ce158-8d78-44ea-af9f-3f74f7adc688",
   "metadata": {},
   "outputs": [
    {
     "data": {
      "text/plain": [
       "<Order total: 62.00 due: 62.00>"
      ]
     },
     "execution_count": 30,
     "metadata": {},
     "output_type": "execute_result"
    }
   ],
   "source": [
    "Order(joe, cart, LargerOrderPromo())"
   ]
  },
  {
   "cell_type": "code",
   "execution_count": 31,
   "id": "5f05d780-99a6-4bf1-9a36-6d3124aeb80d",
   "metadata": {},
   "outputs": [
    {
     "data": {
      "text/plain": [
       "<Order total: 30.00 due: 30.00>"
      ]
     },
     "execution_count": 31,
     "metadata": {},
     "output_type": "execute_result"
    }
   ],
   "source": [
    "Order(joe, banana_cart, LargerOrderPromo())"
   ]
  },
  {
   "cell_type": "code",
   "execution_count": 15,
   "id": "8d5d8171-a357-4afc-912a-d409b2126bb8",
   "metadata": {},
   "outputs": [],
   "source": [
    "import inspect"
   ]
  },
  {
   "cell_type": "code",
   "execution_count": 35,
   "id": "491f96c1-b471-4aad-a328-bf4b4e09f06a",
   "metadata": {},
   "outputs": [
    {
     "data": {
      "text/plain": [
       "[]"
      ]
     },
     "execution_count": 35,
     "metadata": {},
     "output_type": "execute_result"
    }
   ],
   "source": [
    "promotions = [BulkItemPromo, FidelityPromo, LargerOrderPromo]\n",
    "inspect.getmembers(promotions, inspect.isfunction)"
   ]
  },
  {
   "cell_type": "code",
   "execution_count": 8,
   "id": "09ad38cc-d0c7-423b-8abe-f54129ee3eca",
   "metadata": {},
   "outputs": [
    {
     "data": {
      "text/plain": [
       "1"
      ]
     },
     "execution_count": 8,
     "metadata": {},
     "output_type": "execute_result"
    }
   ],
   "source": [
    "a"
   ]
  },
  {
   "cell_type": "code",
   "execution_count": null,
   "id": "2212cbab-801f-4db2-8df4-bba7681a2f00",
   "metadata": {},
   "outputs": [],
   "source": []
  }
 ],
 "metadata": {
  "kernelspec": {
   "display_name": "Python 3 (ipykernel)",
   "language": "python",
   "name": "python3"
  },
  "language_info": {
   "codemirror_mode": {
    "name": "ipython",
    "version": 3
   },
   "file_extension": ".py",
   "mimetype": "text/x-python",
   "name": "python",
   "nbconvert_exporter": "python",
   "pygments_lexer": "ipython3",
   "version": "3.10.4"
  }
 },
 "nbformat": 4,
 "nbformat_minor": 5
}
