{
 "cells": [
  {
   "cell_type": "code",
   "execution_count": null,
   "id": "aedc3b80-2f41-46de-8d1d-87ca7af703e1",
   "metadata": {},
   "outputs": [],
   "source": []
  },
  {
   "cell_type": "code",
   "execution_count": 2,
   "id": "fc541628-a638-46c8-9f99-629184c2a37b",
   "metadata": {},
   "outputs": [],
   "source": [
    "class LineItem:\n",
    "    \n",
    "    def __init__(self, description, weight, price):\n",
    "        self.description = description\n",
    "        self.weight = weight\n",
    "        self.price = price\n",
    "        \n",
    "    def subtotal(self):\n",
    "        return self.weight * self.price\n"
   ]
  },
  {
   "cell_type": "code",
   "execution_count": 11,
   "id": "9af8f630-b8ff-4885-8e2b-7abb689c67ea",
   "metadata": {},
   "outputs": [],
   "source": [
    "raisins = LineItem('Golden raisins', 10, 6.95)"
   ]
  },
  {
   "cell_type": "code",
   "execution_count": 4,
   "id": "2700b13e-8096-4aa1-9564-30c8e2930c7e",
   "metadata": {},
   "outputs": [
    {
     "data": {
      "text/plain": [
       "69.5"
      ]
     },
     "execution_count": 4,
     "metadata": {},
     "output_type": "execute_result"
    }
   ],
   "source": [
    "raisins.subtotal()"
   ]
  },
  {
   "cell_type": "code",
   "execution_count": 6,
   "id": "275281a7-3862-4f2b-8366-ac63b9d697e8",
   "metadata": {},
   "outputs": [],
   "source": [
    "raisins.weight = -20"
   ]
  },
  {
   "cell_type": "code",
   "execution_count": 8,
   "id": "bfe1fde1-9c66-4abd-897d-5a735c6026cf",
   "metadata": {},
   "outputs": [
    {
     "data": {
      "text/plain": [
       "-139.0"
      ]
     },
     "execution_count": 8,
     "metadata": {},
     "output_type": "execute_result"
    }
   ],
   "source": [
    "raisins.subtotal()"
   ]
  },
  {
   "cell_type": "code",
   "execution_count": 10,
   "id": "bc265c76-e0fc-4aec-943f-3b14b6bd7401",
   "metadata": {},
   "outputs": [],
   "source": [
    "class LineItem:\n",
    "    \n",
    "    def __init__(self, description, weight, price):\n",
    "        self.description = description\n",
    "        self.weight = weight\n",
    "        self.price = price\n",
    "        \n",
    "    def subtotal(self):\n",
    "        return self.weight * self.price\n",
    "\n",
    "    @property\n",
    "    def weight(self):\n",
    "        return self.__weight\n",
    "        \n",
    "    @weight.setter\n",
    "    def weight(self, value):\n",
    "        if value > 0:\n",
    "            self.__weight = value\n",
    "        else:\n",
    "            raise ValueError('value must be > 0')\n",
    "    "
   ]
  },
  {
   "cell_type": "code",
   "execution_count": 14,
   "id": "6b7ae526-84f1-4451-8713-f16470e81ecc",
   "metadata": {},
   "outputs": [],
   "source": [
    "raisins = LineItem('Golden raisins', 10, 6.95)"
   ]
  },
  {
   "cell_type": "code",
   "execution_count": 15,
   "id": "f857dfec-6a6b-40d9-97a0-e5fd07ea309c",
   "metadata": {},
   "outputs": [
    {
     "ename": "ValueError",
     "evalue": "value must be > 0",
     "output_type": "error",
     "traceback": [
      "\u001b[1;31m---------------------------------------------------------------------------\u001b[0m",
      "\u001b[1;31mValueError\u001b[0m                                Traceback (most recent call last)",
      "Input \u001b[1;32mIn [15]\u001b[0m, in \u001b[0;36m<cell line: 1>\u001b[1;34m()\u001b[0m\n\u001b[1;32m----> 1\u001b[0m raisins\u001b[38;5;241m.\u001b[39mweight \u001b[38;5;241m=\u001b[39m \u001b[38;5;241m-\u001b[39m\u001b[38;5;241m10\u001b[39m\n",
      "Input \u001b[1;32mIn [10]\u001b[0m, in \u001b[0;36mLineItem.weight\u001b[1;34m(self, value)\u001b[0m\n\u001b[0;32m     18\u001b[0m     \u001b[38;5;28mself\u001b[39m\u001b[38;5;241m.\u001b[39m__weight \u001b[38;5;241m=\u001b[39m value\n\u001b[0;32m     19\u001b[0m \u001b[38;5;28;01melse\u001b[39;00m:\n\u001b[1;32m---> 20\u001b[0m     \u001b[38;5;28;01mraise\u001b[39;00m \u001b[38;5;167;01mValueError\u001b[39;00m(\u001b[38;5;124m'\u001b[39m\u001b[38;5;124mvalue must be > 0\u001b[39m\u001b[38;5;124m'\u001b[39m)\n",
      "\u001b[1;31mValueError\u001b[0m: value must be > 0"
     ]
    }
   ],
   "source": [
    "raisins.weight = -10"
   ]
  },
  {
   "cell_type": "code",
   "execution_count": 18,
   "id": "e67a7ea0-87db-4ef2-b77b-7a11908e7ba6",
   "metadata": {},
   "outputs": [],
   "source": [
    "class LineItem:\n",
    "    \n",
    "    def __init__(self, description, weight, price):\n",
    "        self.description = description\n",
    "        self.weight = weight\n",
    "        self.price = price\n",
    "        \n",
    "    def subtotal(self):\n",
    "        return self.weight * self.price\n",
    "\n",
    "    def get_weight(self):\n",
    "        return self.__weight\n",
    "        \n",
    "    def set_weight(self, value):\n",
    "        if value > 0:\n",
    "            self.__weight = value\n",
    "        else:\n",
    "            raise ValueError('value must be > 0')\n",
    "    weight = property(get_weight, set_weight)\n",
    "    "
   ]
  },
  {
   "cell_type": "code",
   "execution_count": 19,
   "id": "7798008e-1903-41cf-8171-7693f355196f",
   "metadata": {},
   "outputs": [],
   "source": [
    "raisins = LineItem('Golden raisins', 10, 6.95)"
   ]
  },
  {
   "cell_type": "code",
   "execution_count": 20,
   "id": "635013c8-6618-4917-a213-a05b0c8fcafc",
   "metadata": {},
   "outputs": [
    {
     "ename": "ValueError",
     "evalue": "value must be > 0",
     "output_type": "error",
     "traceback": [
      "\u001b[1;31m---------------------------------------------------------------------------\u001b[0m",
      "\u001b[1;31mValueError\u001b[0m                                Traceback (most recent call last)",
      "Input \u001b[1;32mIn [20]\u001b[0m, in \u001b[0;36m<cell line: 1>\u001b[1;34m()\u001b[0m\n\u001b[1;32m----> 1\u001b[0m raisins\u001b[38;5;241m.\u001b[39mweight \u001b[38;5;241m=\u001b[39m \u001b[38;5;241m-\u001b[39m\u001b[38;5;241m10\u001b[39m\n",
      "Input \u001b[1;32mIn [18]\u001b[0m, in \u001b[0;36mLineItem.set_weight\u001b[1;34m(self, value)\u001b[0m\n\u001b[0;32m     16\u001b[0m     \u001b[38;5;28mself\u001b[39m\u001b[38;5;241m.\u001b[39m__weight \u001b[38;5;241m=\u001b[39m value\n\u001b[0;32m     17\u001b[0m \u001b[38;5;28;01melse\u001b[39;00m:\n\u001b[1;32m---> 18\u001b[0m     \u001b[38;5;28;01mraise\u001b[39;00m \u001b[38;5;167;01mValueError\u001b[39;00m(\u001b[38;5;124m'\u001b[39m\u001b[38;5;124mvalue must be > 0\u001b[39m\u001b[38;5;124m'\u001b[39m)\n",
      "\u001b[1;31mValueError\u001b[0m: value must be > 0"
     ]
    }
   ],
   "source": [
    "raisins.weight = -10"
   ]
  },
  {
   "cell_type": "code",
   "execution_count": 21,
   "id": "f0b0d3b4-f778-42eb-b7c6-27c1dd32515c",
   "metadata": {},
   "outputs": [],
   "source": [
    "class Foo:\n",
    "    \n",
    "    @property\n",
    "    def bar(self):\n",
    "        \"\"\"The bar attribute\"\"\"\n",
    "        return self.__dict__['bar']\n",
    "    \n",
    "    @bar.setter\n",
    "    def bar(self, value):\n",
    "        self.__dict__['bar'] = value"
   ]
  },
  {
   "cell_type": "code",
   "execution_count": 22,
   "id": "c1e37917-437f-4656-b31a-d935581babd9",
   "metadata": {},
   "outputs": [],
   "source": [
    "foo = Foo()"
   ]
  },
  {
   "cell_type": "code",
   "execution_count": 24,
   "id": "9a9cd6a2-ff68-472f-b5fe-7d461bc0f083",
   "metadata": {},
   "outputs": [],
   "source": [
    "foo.bar = 'foo'"
   ]
  },
  {
   "cell_type": "code",
   "execution_count": 25,
   "id": "13a65151-02fe-4bf9-9242-7af2af652e4e",
   "metadata": {},
   "outputs": [
    {
     "data": {
      "text/plain": [
       "'foo'"
      ]
     },
     "execution_count": 25,
     "metadata": {},
     "output_type": "execute_result"
    }
   ],
   "source": [
    "foo.bar"
   ]
  },
  {
   "cell_type": "code",
   "execution_count": 26,
   "id": "ca705215-152c-4734-bb24-250e660f51c7",
   "metadata": {},
   "outputs": [
    {
     "data": {
      "text/plain": [
       "{'bar': 'foo'}"
      ]
     },
     "execution_count": 26,
     "metadata": {},
     "output_type": "execute_result"
    }
   ],
   "source": [
    "vars(foo)"
   ]
  },
  {
   "cell_type": "code",
   "execution_count": 1,
   "id": "f41b5b42-b95c-4317-9cd6-352aa888695f",
   "metadata": {},
   "outputs": [],
   "source": [
    "def quantity(storage_name):\n",
    "    \n",
    "    def qty_getter(instance):\n",
    "        return instance.__dict__[storage_name]\n",
    "    \n",
    "    def qty_setter(instance, value):\n",
    "        if value > 0:\n",
    "            instance.__dict__[storage_name] = value\n",
    "        else:\n",
    "            raise ValueError('value must be > 0')\n",
    "            \n",
    "    return property(qty_getter, qty_setter)\n",
    "\n",
    "\n",
    "class LineItem:\n",
    "    weight = quantity('weight')\n",
    "    price = quantity('price')\n",
    "    \n",
    "    def __init__(self, description, weight, price):\n",
    "        self.description = description\n",
    "        self.weight = weight\n",
    "        self.price = price\n",
    "    \n",
    "    def subtotal(self):\n",
    "        return self.weight * self.price       "
   ]
  },
  {
   "cell_type": "code",
   "execution_count": 2,
   "id": "d9e60981-2cb8-473f-8c96-a4963cf70765",
   "metadata": {},
   "outputs": [],
   "source": [
    "raisins = LineItem('Golden raisins', 10, 6.95)"
   ]
  },
  {
   "cell_type": "code",
   "execution_count": 3,
   "id": "33487eb2-6a7b-48f5-9851-71a323010834",
   "metadata": {},
   "outputs": [
    {
     "data": {
      "text/plain": [
       "(10, 6.95)"
      ]
     },
     "execution_count": 3,
     "metadata": {},
     "output_type": "execute_result"
    }
   ],
   "source": [
    "raisins.weight, raisins.price"
   ]
  },
  {
   "cell_type": "code",
   "execution_count": 4,
   "id": "179250a6-433e-4d40-9b7e-01c93a0c5ebe",
   "metadata": {},
   "outputs": [
    {
     "data": {
      "text/plain": [
       "{'description': 'Golden raisins', 'weight': 10, 'price': 6.95}"
      ]
     },
     "execution_count": 4,
     "metadata": {},
     "output_type": "execute_result"
    }
   ],
   "source": [
    "raisins.__dict__"
   ]
  },
  {
   "cell_type": "code",
   "execution_count": 5,
   "id": "38880a58-f9fe-4787-af0f-8340443d7fb3",
   "metadata": {},
   "outputs": [
    {
     "ename": "ValueError",
     "evalue": "value must be > 0",
     "output_type": "error",
     "traceback": [
      "\u001b[1;31m---------------------------------------------------------------------------\u001b[0m",
      "\u001b[1;31mValueError\u001b[0m                                Traceback (most recent call last)",
      "Input \u001b[1;32mIn [5]\u001b[0m, in \u001b[0;36m<cell line: 1>\u001b[1;34m()\u001b[0m\n\u001b[1;32m----> 1\u001b[0m raisins\u001b[38;5;241m.\u001b[39mweight \u001b[38;5;241m=\u001b[39m \u001b[38;5;241m-\u001b[39m\u001b[38;5;241m10\u001b[39m\n",
      "Input \u001b[1;32mIn [1]\u001b[0m, in \u001b[0;36mquantity.<locals>.qty_setter\u001b[1;34m(instance, value)\u001b[0m\n\u001b[0;32m      8\u001b[0m     instance\u001b[38;5;241m.\u001b[39m\u001b[38;5;18m__dict__\u001b[39m[storage_name] \u001b[38;5;241m=\u001b[39m value\n\u001b[0;32m      9\u001b[0m \u001b[38;5;28;01melse\u001b[39;00m:\n\u001b[1;32m---> 10\u001b[0m     \u001b[38;5;28;01mraise\u001b[39;00m \u001b[38;5;167;01mValueError\u001b[39;00m(\u001b[38;5;124m'\u001b[39m\u001b[38;5;124mvalue must be > 0\u001b[39m\u001b[38;5;124m'\u001b[39m)\n",
      "\u001b[1;31mValueError\u001b[0m: value must be > 0"
     ]
    }
   ],
   "source": [
    "raisins.weight = -10"
   ]
  },
  {
   "cell_type": "code",
   "execution_count": 6,
   "id": "06cd219d-a639-424b-a72a-003abd00aba1",
   "metadata": {},
   "outputs": [
    {
     "ename": "ValueError",
     "evalue": "value must be > 0",
     "output_type": "error",
     "traceback": [
      "\u001b[1;31m---------------------------------------------------------------------------\u001b[0m",
      "\u001b[1;31mValueError\u001b[0m                                Traceback (most recent call last)",
      "Input \u001b[1;32mIn [6]\u001b[0m, in \u001b[0;36m<cell line: 1>\u001b[1;34m()\u001b[0m\n\u001b[1;32m----> 1\u001b[0m raisins\u001b[38;5;241m.\u001b[39mprice \u001b[38;5;241m=\u001b[39m \u001b[38;5;241m0\u001b[39m\n",
      "Input \u001b[1;32mIn [1]\u001b[0m, in \u001b[0;36mquantity.<locals>.qty_setter\u001b[1;34m(instance, value)\u001b[0m\n\u001b[0;32m      8\u001b[0m     instance\u001b[38;5;241m.\u001b[39m\u001b[38;5;18m__dict__\u001b[39m[storage_name] \u001b[38;5;241m=\u001b[39m value\n\u001b[0;32m      9\u001b[0m \u001b[38;5;28;01melse\u001b[39;00m:\n\u001b[1;32m---> 10\u001b[0m     \u001b[38;5;28;01mraise\u001b[39;00m \u001b[38;5;167;01mValueError\u001b[39;00m(\u001b[38;5;124m'\u001b[39m\u001b[38;5;124mvalue must be > 0\u001b[39m\u001b[38;5;124m'\u001b[39m)\n",
      "\u001b[1;31mValueError\u001b[0m: value must be > 0"
     ]
    }
   ],
   "source": [
    "raisins.price = 0"
   ]
  },
  {
   "cell_type": "code",
   "execution_count": 8,
   "id": "d51a0021-233c-4e42-8332-d2367d680b7f",
   "metadata": {},
   "outputs": [
    {
     "data": {
      "text/plain": [
       "__main__.LineItem"
      ]
     },
     "execution_count": 8,
     "metadata": {},
     "output_type": "execute_result"
    }
   ],
   "source": [
    "raisins.__class__"
   ]
  },
  {
   "cell_type": "code",
   "execution_count": 10,
   "id": "7fb13675-1093-4812-a039-e3b7b3d37cd6",
   "metadata": {},
   "outputs": [
    {
     "data": {
      "text/plain": [
       "__main__.LineItem"
      ]
     },
     "execution_count": 10,
     "metadata": {},
     "output_type": "execute_result"
    }
   ],
   "source": [
    "type(raisins)"
   ]
  },
  {
   "cell_type": "code",
   "execution_count": 11,
   "id": "4afb5f49-f9ed-47a6-a135-32f40344ef02",
   "metadata": {},
   "outputs": [],
   "source": [
    "a = 1.2"
   ]
  },
  {
   "cell_type": "code",
   "execution_count": 12,
   "id": "c176f147-5259-4cca-86a8-5d2b847e87ae",
   "metadata": {},
   "outputs": [
    {
     "data": {
      "text/plain": [
       "float"
      ]
     },
     "execution_count": 12,
     "metadata": {},
     "output_type": "execute_result"
    }
   ],
   "source": [
    "type(a)"
   ]
  },
  {
   "cell_type": "code",
   "execution_count": 30,
   "id": "ec51c90a-fc6f-4c79-9858-9e47bd84173f",
   "metadata": {},
   "outputs": [
    {
     "data": {
      "text/plain": [
       "69.5"
      ]
     },
     "execution_count": 30,
     "metadata": {},
     "output_type": "execute_result"
    }
   ],
   "source": [
    "getattr(raisins, 'subtotal')()"
   ]
  },
  {
   "cell_type": "code",
   "execution_count": 31,
   "id": "83190410-9ab6-4236-8f4c-a08e0fd507fe",
   "metadata": {},
   "outputs": [
    {
     "ename": "AttributeError",
     "evalue": "'LineItem' object has no attribute 'subtotals'",
     "output_type": "error",
     "traceback": [
      "\u001b[1;31m---------------------------------------------------------------------------\u001b[0m",
      "\u001b[1;31mAttributeError\u001b[0m                            Traceback (most recent call last)",
      "Input \u001b[1;32mIn [31]\u001b[0m, in \u001b[0;36m<cell line: 1>\u001b[1;34m()\u001b[0m\n\u001b[1;32m----> 1\u001b[0m \u001b[38;5;28;43mgetattr\u001b[39;49m\u001b[43m(\u001b[49m\u001b[43mraisins\u001b[49m\u001b[43m,\u001b[49m\u001b[43m \u001b[49m\u001b[38;5;124;43m'\u001b[39;49m\u001b[38;5;124;43msubtotals\u001b[39;49m\u001b[38;5;124;43m'\u001b[39;49m\u001b[43m)\u001b[49m\n",
      "\u001b[1;31mAttributeError\u001b[0m: 'LineItem' object has no attribute 'subtotals'"
     ]
    }
   ],
   "source": [
    "getattr(raisins, 'subtotals')"
   ]
  },
  {
   "cell_type": "code",
   "execution_count": 19,
   "id": "a3678458-0a66-4629-b146-4a7ceac100dc",
   "metadata": {},
   "outputs": [],
   "source": [
    "class Bar(list):\n",
    "    def __getattr__(self, attribute):\n",
    "        return self.__dict__.get(attribute, 'None')"
   ]
  },
  {
   "cell_type": "code",
   "execution_count": 20,
   "id": "16de518f-26cf-4a80-93ea-608e6f797b3d",
   "metadata": {},
   "outputs": [],
   "source": [
    "bar = Bar()"
   ]
  },
  {
   "cell_type": "code",
   "execution_count": 21,
   "id": "e01ca507-f2d0-48aa-ad39-d60472f2cccc",
   "metadata": {},
   "outputs": [],
   "source": [
    "bar.nome = 'Israel'"
   ]
  },
  {
   "cell_type": "code",
   "execution_count": 22,
   "id": "c1aedf43-ea35-4e4b-8ffc-d5618678eb5a",
   "metadata": {},
   "outputs": [
    {
     "data": {
      "text/plain": [
       "[]"
      ]
     },
     "execution_count": 22,
     "metadata": {},
     "output_type": "execute_result"
    }
   ],
   "source": [
    "bar"
   ]
  },
  {
   "cell_type": "code",
   "execution_count": 23,
   "id": "b1d896b1-b453-4e91-95c3-652bc7687bdb",
   "metadata": {},
   "outputs": [
    {
     "data": {
      "text/plain": [
       "'Israel'"
      ]
     },
     "execution_count": 23,
     "metadata": {},
     "output_type": "execute_result"
    }
   ],
   "source": [
    "bar.nome"
   ]
  },
  {
   "cell_type": "code",
   "execution_count": 24,
   "id": "821bbc3e-cda3-492f-a3ad-c726d5211333",
   "metadata": {},
   "outputs": [
    {
     "data": {
      "text/plain": [
       "'None'"
      ]
     },
     "execution_count": 24,
     "metadata": {},
     "output_type": "execute_result"
    }
   ],
   "source": [
    "bar.joao"
   ]
  },
  {
   "cell_type": "code",
   "execution_count": 25,
   "id": "b15794e4-e205-46ec-9240-935af1e55ac0",
   "metadata": {},
   "outputs": [
    {
     "data": {
      "text/plain": [
       "['__add__',\n",
       " '__class__',\n",
       " '__class_getitem__',\n",
       " '__contains__',\n",
       " '__delattr__',\n",
       " '__delitem__',\n",
       " '__dict__',\n",
       " '__dir__',\n",
       " '__doc__',\n",
       " '__eq__',\n",
       " '__format__',\n",
       " '__ge__',\n",
       " '__getattr__',\n",
       " '__getattribute__',\n",
       " '__getitem__',\n",
       " '__gt__',\n",
       " '__hash__',\n",
       " '__iadd__',\n",
       " '__imul__',\n",
       " '__init__',\n",
       " '__init_subclass__',\n",
       " '__iter__',\n",
       " '__le__',\n",
       " '__len__',\n",
       " '__lt__',\n",
       " '__module__',\n",
       " '__mul__',\n",
       " '__ne__',\n",
       " '__new__',\n",
       " '__reduce__',\n",
       " '__reduce_ex__',\n",
       " '__repr__',\n",
       " '__reversed__',\n",
       " '__rmul__',\n",
       " '__setattr__',\n",
       " '__setitem__',\n",
       " '__sizeof__',\n",
       " '__str__',\n",
       " '__subclasshook__',\n",
       " '__weakref__',\n",
       " 'append',\n",
       " 'clear',\n",
       " 'copy',\n",
       " 'count',\n",
       " 'extend',\n",
       " 'index',\n",
       " 'insert',\n",
       " 'nome',\n",
       " 'pop',\n",
       " 'remove',\n",
       " 'reverse',\n",
       " 'sort']"
      ]
     },
     "execution_count": 25,
     "metadata": {},
     "output_type": "execute_result"
    }
   ],
   "source": [
    "dir(bar)"
   ]
  },
  {
   "cell_type": "code",
   "execution_count": 26,
   "id": "0c199a0a-e49b-4d46-a817-72148c77e7ac",
   "metadata": {},
   "outputs": [],
   "source": [
    "bar.append(1)"
   ]
  },
  {
   "cell_type": "code",
   "execution_count": 1,
   "id": "31a055d7-2a39-4800-a680-ccffe2a40c83",
   "metadata": {},
   "outputs": [],
   "source": [
    "class Quantity:\n",
    "    \n",
    "    def __init__(self, storage_name):\n",
    "        self.storage_name = storage_name\n",
    "        \n",
    "    def __set__(self, instance, value):\n",
    "        if value > 0:\n",
    "            instance.__dict__[self.storage_name] = value\n",
    "        else:\n",
    "            msg = f'{self.storage_name} must be > 0'\n",
    "            raise ValueError(msg)\n",
    "            \n",
    "    def __get__(self, instance, owner):\n",
    "        return instance.__dict__[self.storage_name]"
   ]
  },
  {
   "cell_type": "code",
   "execution_count": 12,
   "id": "f0895c4f-2baf-46bd-8f1a-9eda8b62e505",
   "metadata": {},
   "outputs": [],
   "source": [
    "class Quantity:\n",
    "    \n",
    "    def __set_name__(self, owner, name):\n",
    "        self.storage_name = name\n",
    "        \n",
    "    def __set__(self, instance, value):\n",
    "        if value > 0:\n",
    "            instance.__dict__[self.storage_name] = value\n",
    "        else:\n",
    "            msg = f'{self.storage_name} must be > 0'\n",
    "            raise ValueError(msg)"
   ]
  },
  {
   "cell_type": "code",
   "execution_count": 13,
   "id": "c4736a9a-f252-49c8-be59-1ffa51d7074f",
   "metadata": {},
   "outputs": [],
   "source": [
    "class LineItem:\n",
    "    weight = Quantity()\n",
    "    price = Quantity()\n",
    "    \n",
    "    def __init__(self, description, weight, price):\n",
    "        self.description = description\n",
    "        self.weight = weight\n",
    "        self.price = price\n",
    "    \n",
    "    def subtotal(self):\n",
    "        return self.weight * self.price       "
   ]
  },
  {
   "cell_type": "code",
   "execution_count": 14,
   "id": "7483d062-3200-4709-a9da-703b0891733c",
   "metadata": {},
   "outputs": [],
   "source": [
    "raisins = LineItem('Golden raisins', 10, 6.95)"
   ]
  },
  {
   "cell_type": "code",
   "execution_count": 17,
   "id": "eaae9ad0-91cb-4e09-8d05-f507cd01a239",
   "metadata": {},
   "outputs": [
    {
     "data": {
      "text/plain": [
       "10"
      ]
     },
     "execution_count": 17,
     "metadata": {},
     "output_type": "execute_result"
    }
   ],
   "source": [
    "raisins.weight"
   ]
  },
  {
   "cell_type": "code",
   "execution_count": 16,
   "id": "d67a1617-851c-4da8-8a99-4b602abb49f1",
   "metadata": {},
   "outputs": [
    {
     "ename": "ValueError",
     "evalue": "weight must be > 0",
     "output_type": "error",
     "traceback": [
      "\u001b[1;31m---------------------------------------------------------------------------\u001b[0m",
      "\u001b[1;31mValueError\u001b[0m                                Traceback (most recent call last)",
      "Input \u001b[1;32mIn [16]\u001b[0m, in \u001b[0;36m<cell line: 1>\u001b[1;34m()\u001b[0m\n\u001b[1;32m----> 1\u001b[0m raisins\u001b[38;5;241m.\u001b[39mweight \u001b[38;5;241m=\u001b[39m \u001b[38;5;241m-\u001b[39m\u001b[38;5;241m10\u001b[39m\n",
      "Input \u001b[1;32mIn [12]\u001b[0m, in \u001b[0;36mQuantity.__set__\u001b[1;34m(self, instance, value)\u001b[0m\n\u001b[0;32m      9\u001b[0m \u001b[38;5;28;01melse\u001b[39;00m:\n\u001b[0;32m     10\u001b[0m     msg \u001b[38;5;241m=\u001b[39m \u001b[38;5;124mf\u001b[39m\u001b[38;5;124m'\u001b[39m\u001b[38;5;132;01m{\u001b[39;00m\u001b[38;5;28mself\u001b[39m\u001b[38;5;241m.\u001b[39mstorage_name\u001b[38;5;132;01m}\u001b[39;00m\u001b[38;5;124m must be > 0\u001b[39m\u001b[38;5;124m'\u001b[39m\n\u001b[1;32m---> 11\u001b[0m     \u001b[38;5;28;01mraise\u001b[39;00m \u001b[38;5;167;01mValueError\u001b[39;00m(msg)\n",
      "\u001b[1;31mValueError\u001b[0m: weight must be > 0"
     ]
    }
   ],
   "source": [
    "raisins.weight = -10"
   ]
  },
  {
   "cell_type": "code",
   "execution_count": 25,
   "id": "34833712-1b0a-42d5-90c2-ce68ed7c3e40",
   "metadata": {},
   "outputs": [],
   "source": [
    "import abc\n",
    "\n",
    "class Validated(abc.ABC):\n",
    "    \n",
    "    def __set_name__(self, owner, name):\n",
    "        self.storage_name = name\n",
    "        \n",
    "    def __set__(self, instance, value):\n",
    "        value = self.validate(self.storage_name, value)\n",
    "        instance.__dict__[self.storage_name] = value\n",
    "        \n",
    "    @abc.abstractmethod\n",
    "    def validate(self, name, value):\n",
    "        \"\"\"return validated values or raise ValueError\"\"\"\n",
    "    \n",
    "class Quantity(Validated):\n",
    "    \"\"\"a number greater than zero\"\"\"\n",
    "    \n",
    "    def validate(self, name, value):\n",
    "        if value <= 0:\n",
    "            raise ValueError(f'{name} must be > 0')\n",
    "        return value\n",
    "    \n",
    "class NonBlank(Validated):\n",
    "    \"\"\"a number greater than zero\"\"\"\n",
    "    \n",
    "    def validate(self, name, value):\n",
    "        value = value.strip()\n",
    "        if not value:\n",
    "            raise ValueError(f'{name} cannot be blank')\n",
    "        return value"
   ]
  },
  {
   "cell_type": "code",
   "execution_count": 26,
   "id": "7281b2d8-b887-4153-8945-43d3cd45437d",
   "metadata": {},
   "outputs": [],
   "source": [
    "class LineItem:\n",
    "    weight = Quantity()\n",
    "    price = Quantity()\n",
    "    description = NonBlank()\n",
    "    \n",
    "    def __init__(self, description, weight, price):\n",
    "        self.description = description\n",
    "        self.weight = weight\n",
    "        self.price = price\n",
    "    \n",
    "    def subtotal(self):\n",
    "        return self.weight * self.price       "
   ]
  },
  {
   "cell_type": "code",
   "execution_count": 27,
   "id": "575e15f4-29c7-45fa-bb2c-a4757b57c22e",
   "metadata": {},
   "outputs": [],
   "source": [
    "raisins = LineItem('Golden raisins', 10, 6.95)"
   ]
  },
  {
   "cell_type": "code",
   "execution_count": 30,
   "id": "43371ea7-c94d-48f3-8a3b-2fec0a16facd",
   "metadata": {},
   "outputs": [
    {
     "ename": "ValueError",
     "evalue": "description cannot be blank",
     "output_type": "error",
     "traceback": [
      "\u001b[1;31m---------------------------------------------------------------------------\u001b[0m",
      "\u001b[1;31mValueError\u001b[0m                                Traceback (most recent call last)",
      "Input \u001b[1;32mIn [30]\u001b[0m, in \u001b[0;36m<cell line: 1>\u001b[1;34m()\u001b[0m\n\u001b[1;32m----> 1\u001b[0m raisins\u001b[38;5;241m.\u001b[39mdescription \u001b[38;5;241m=\u001b[39m \u001b[38;5;124m'\u001b[39m\u001b[38;5;124m'\u001b[39m\n",
      "Input \u001b[1;32mIn [25]\u001b[0m, in \u001b[0;36mValidated.__set__\u001b[1;34m(self, instance, value)\u001b[0m\n\u001b[0;32m      8\u001b[0m \u001b[38;5;28;01mdef\u001b[39;00m \u001b[38;5;21m__set__\u001b[39m(\u001b[38;5;28mself\u001b[39m, instance, value):\n\u001b[1;32m----> 9\u001b[0m     value \u001b[38;5;241m=\u001b[39m \u001b[38;5;28;43mself\u001b[39;49m\u001b[38;5;241;43m.\u001b[39;49m\u001b[43mvalidate\u001b[49m\u001b[43m(\u001b[49m\u001b[38;5;28;43mself\u001b[39;49m\u001b[38;5;241;43m.\u001b[39;49m\u001b[43mstorage_name\u001b[49m\u001b[43m,\u001b[49m\u001b[43m \u001b[49m\u001b[43mvalue\u001b[49m\u001b[43m)\u001b[49m\n\u001b[0;32m     10\u001b[0m     instance\u001b[38;5;241m.\u001b[39m\u001b[38;5;18m__dict__\u001b[39m[\u001b[38;5;28mself\u001b[39m\u001b[38;5;241m.\u001b[39mstorage_name] \u001b[38;5;241m=\u001b[39m value\n",
      "Input \u001b[1;32mIn [25]\u001b[0m, in \u001b[0;36mNonBlank.validate\u001b[1;34m(self, name, value)\u001b[0m\n\u001b[0;32m     28\u001b[0m value \u001b[38;5;241m=\u001b[39m value\u001b[38;5;241m.\u001b[39mstrip()\n\u001b[0;32m     29\u001b[0m \u001b[38;5;28;01mif\u001b[39;00m \u001b[38;5;129;01mnot\u001b[39;00m value:\n\u001b[1;32m---> 30\u001b[0m     \u001b[38;5;28;01mraise\u001b[39;00m \u001b[38;5;167;01mValueError\u001b[39;00m(\u001b[38;5;124mf\u001b[39m\u001b[38;5;124m'\u001b[39m\u001b[38;5;132;01m{\u001b[39;00mname\u001b[38;5;132;01m}\u001b[39;00m\u001b[38;5;124m cannot be blank\u001b[39m\u001b[38;5;124m'\u001b[39m)\n\u001b[0;32m     31\u001b[0m \u001b[38;5;28;01mreturn\u001b[39;00m value\n",
      "\u001b[1;31mValueError\u001b[0m: description cannot be blank"
     ]
    }
   ],
   "source": [
    "raisins.description = ''"
   ]
  },
  {
   "cell_type": "code",
   "execution_count": 37,
   "id": "2e81e38c-a112-4f31-ba17-329badb49f0e",
   "metadata": {},
   "outputs": [
    {
     "data": {
      "text/plain": [
       "True"
      ]
     },
     "execution_count": 37,
     "metadata": {},
     "output_type": "execute_result"
    }
   ],
   "source": [
    "type(type(type)) is type"
   ]
  },
  {
   "cell_type": "code",
   "execution_count": 38,
   "id": "774b5e65-3270-4937-8d62-80c467621a3f",
   "metadata": {},
   "outputs": [
    {
     "data": {
      "text/plain": [
       "type"
      ]
     },
     "execution_count": 38,
     "metadata": {},
     "output_type": "execute_result"
    }
   ],
   "source": [
    "type(type(type))"
   ]
  },
  {
   "cell_type": "code",
   "execution_count": 2,
   "id": "7f39d97a-9421-45fe-9a98-4df51a2d3e35",
   "metadata": {},
   "outputs": [],
   "source": [
    "import pandas as pd"
   ]
  },
  {
   "cell_type": "code",
   "execution_count": 3,
   "id": "50047728-8b61-46b0-ab41-abacf1037bf3",
   "metadata": {},
   "outputs": [
    {
     "data": {
      "text/plain": [
       "(pandas.core.generic.NDFrame, pandas.core.arraylike.OpsMixin)"
      ]
     },
     "execution_count": 3,
     "metadata": {},
     "output_type": "execute_result"
    }
   ],
   "source": [
    "pd.DataFrame.__bases__"
   ]
  },
  {
   "cell_type": "code",
   "execution_count": 4,
   "id": "dbd210e1-eb81-42df-9f27-4f73a4523922",
   "metadata": {},
   "outputs": [
    {
     "data": {
      "text/plain": [
       "'DataFrame'"
      ]
     },
     "execution_count": 4,
     "metadata": {},
     "output_type": "execute_result"
    }
   ],
   "source": [
    "pd.DataFrame.__qualname__"
   ]
  },
  {
   "cell_type": "code",
   "execution_count": 6,
   "id": "b85619c2-1047-49e8-82fb-d3cad5c3797f",
   "metadata": {},
   "outputs": [
    {
     "data": {
      "text/plain": [
       "[pandas._testing.SubclassedDataFrame]"
      ]
     },
     "execution_count": 6,
     "metadata": {},
     "output_type": "execute_result"
    }
   ],
   "source": [
    "pd.DataFrame.__subclasses__()"
   ]
  },
  {
   "cell_type": "code",
   "execution_count": 8,
   "id": "4ce374da-22b8-4e13-885c-07f43626e019",
   "metadata": {},
   "outputs": [
    {
     "data": {
      "text/plain": [
       "[pandas.core.frame.DataFrame,\n",
       " pandas.core.generic.NDFrame,\n",
       " pandas.core.base.PandasObject,\n",
       " pandas.core.accessor.DirNamesMixin,\n",
       " pandas.core.indexing.IndexingMixin,\n",
       " pandas.core.arraylike.OpsMixin,\n",
       " object]"
      ]
     },
     "execution_count": 8,
     "metadata": {},
     "output_type": "execute_result"
    }
   ],
   "source": [
    "pd.DataFrame.mro()"
   ]
  },
  {
   "cell_type": "code",
   "execution_count": 9,
   "id": "d9663c9d-d43e-40a2-a422-1d0c038a9175",
   "metadata": {},
   "outputs": [
    {
     "data": {
      "text/plain": [
       "type"
      ]
     },
     "execution_count": 9,
     "metadata": {},
     "output_type": "execute_result"
    }
   ],
   "source": [
    "type(int)"
   ]
  },
  {
   "cell_type": "code",
   "execution_count": 10,
   "id": "cc9a6590-ebdf-4f95-abc6-051140a91013",
   "metadata": {},
   "outputs": [],
   "source": [
    "class Whatever:\n",
    "    pass"
   ]
  },
  {
   "cell_type": "code",
   "execution_count": 11,
   "id": "998a3503-c7bb-426d-9419-74a94f1d3fa4",
   "metadata": {},
   "outputs": [
    {
     "data": {
      "text/plain": [
       "type"
      ]
     },
     "execution_count": 11,
     "metadata": {},
     "output_type": "execute_result"
    }
   ],
   "source": [
    "type(Whatever)"
   ]
  },
  {
   "cell_type": "code",
   "execution_count": 12,
   "id": "b3394f25-5c25-4c44-bbca-1220f58180c4",
   "metadata": {},
   "outputs": [],
   "source": [
    "class Dog:\n",
    "    def __init__(self, name, weight, owner):\n",
    "        self.name = name\n",
    "        self.weight = weight\n",
    "        self.owner = owner"
   ]
  },
  {
   "cell_type": "code",
   "execution_count": 26,
   "id": "c918eef6-8c05-44c0-a38a-3597dfea6eca",
   "metadata": {},
   "outputs": [],
   "source": [
    "from typing import Union, Any\n",
    "from collections.abc import Iterable, Iterator\n",
    "\n",
    "FieldNames = Union[str, Iterable[str]]\n",
    "\n",
    "def parse_indentifiers(names: FieldNames) -> type[str, ...]:\n",
    "    if isinstance(names, str):\n",
    "        names = names.replace(',',' ').split()\n",
    "    if not all(s.isidentifier() for s in names):\n",
    "        raise ValueError('names must all be valid identifiers')\n",
    "    return tuple(names)\n",
    "\n",
    "def record_factory(cls_name: str, field_names: FieldNames) -> type[tuple]:\n",
    "    \n",
    "    slots = parse_indentifiers(field_names)\n",
    "    \n",
    "    def __init__(self, *args, **kwargs) -> None:\n",
    "        attrs = dict(zip(self.__slots__, args))\n",
    "        attrs.update(kwargs)\n",
    "        for name, value in attrs.items():\n",
    "            setattr(self, name, value)\n",
    "            \n",
    "    def __iter__(self) -> Iterator[Any]:\n",
    "        for name in self.__slots__:\n",
    "            yield getattr(self, name)\n",
    "            \n",
    "    def __repr__(self):\n",
    "        values = ', '.join(\n",
    "            f'{name}={value!r}'\n",
    "            for name, value in zip(self.__slots__, self)\n",
    "        )\n",
    "        cls_name = self.__class__.__name__\n",
    "        return f'{cls_name}({values})'\n",
    "    \n",
    "    cls_attrs = dict(\n",
    "        __slots__=slots,\n",
    "        __init__=__init__,\n",
    "        __iter__=__iter__,\n",
    "        __repr__=__repr__\n",
    "    )\n",
    "    \n",
    "    return type(cls_name, (object,), cls_attrs)\n",
    "        "
   ]
  },
  {
   "cell_type": "code",
   "execution_count": 27,
   "id": "e43daeba-0cf5-48a6-8cfb-698887e94761",
   "metadata": {},
   "outputs": [],
   "source": [
    "Dog = record_factory('Dog', 'name, weight, owner')"
   ]
  },
  {
   "cell_type": "code",
   "execution_count": 29,
   "id": "01330d8e-a43f-42e4-900a-83298160d18a",
   "metadata": {},
   "outputs": [],
   "source": [
    "rex = Dog(name='Rex', weight=30, owner='Bob')"
   ]
  },
  {
   "cell_type": "code",
   "execution_count": 31,
   "id": "ee148a17-77fe-4cff-924b-d1afd4e6c931",
   "metadata": {},
   "outputs": [
    {
     "data": {
      "text/plain": [
       "Dog(name='Rex', weight=30, owner='Bob')"
      ]
     },
     "execution_count": 31,
     "metadata": {},
     "output_type": "execute_result"
    }
   ],
   "source": [
    "rex"
   ]
  },
  {
   "cell_type": "code",
   "execution_count": 32,
   "id": "242d2091-12c4-43bf-98d5-88c591fcb201",
   "metadata": {},
   "outputs": [
    {
     "data": {
      "text/plain": [
       "'Rex'"
      ]
     },
     "execution_count": 32,
     "metadata": {},
     "output_type": "execute_result"
    }
   ],
   "source": [
    "rex.name"
   ]
  },
  {
   "cell_type": "code",
   "execution_count": 34,
   "id": "45347ac7-a9ad-4525-9b04-c25fa8e5fb72",
   "metadata": {},
   "outputs": [
    {
     "data": {
      "text/plain": [
       "\"Bob's dog weighs 30kg, its name is Rex!\""
      ]
     },
     "execution_count": 34,
     "metadata": {},
     "output_type": "execute_result"
    }
   ],
   "source": [
    "\"{2}'s dog weighs {1}kg, its name is {0}!\".format(*rex)"
   ]
  },
  {
   "cell_type": "code",
   "execution_count": 43,
   "id": "03e941f9-86ce-496c-897d-08a6ab6df1b7",
   "metadata": {},
   "outputs": [
    {
     "data": {
      "text/plain": [
       "['Rex', 30, 'Bob']"
      ]
     },
     "execution_count": 43,
     "metadata": {},
     "output_type": "execute_result"
    }
   ],
   "source": [
    "list(rex)"
   ]
  },
  {
   "cell_type": "code",
   "execution_count": 1,
   "id": "9c5b73d7-812e-4f29-9470-fd28fc853254",
   "metadata": {},
   "outputs": [
    {
     "data": {
      "text/plain": [
       "NoneType"
      ]
     },
     "execution_count": 1,
     "metadata": {},
     "output_type": "execute_result"
    }
   ],
   "source": [
    "type(None)"
   ]
  },
  {
   "cell_type": "code",
   "execution_count": 2,
   "id": "624e154a-6e85-4a40-bbb5-001e3c2068a9",
   "metadata": {},
   "outputs": [
    {
     "data": {
      "text/plain": [
       "Ellipsis"
      ]
     },
     "execution_count": 2,
     "metadata": {},
     "output_type": "execute_result"
    }
   ],
   "source": [
    "Ellipsis"
   ]
  },
  {
   "cell_type": "code",
   "execution_count": 4,
   "id": "0dd5d153-21a4-4f5f-8edf-9a9e13abec3c",
   "metadata": {},
   "outputs": [
    {
     "ename": "TypeError",
     "evalue": "unsupported operand type(s) for +: 'ellipsis' and 'ellipsis'",
     "output_type": "error",
     "traceback": [
      "\u001b[1;31m---------------------------------------------------------------------------\u001b[0m",
      "\u001b[1;31mTypeError\u001b[0m                                 Traceback (most recent call last)",
      "Input \u001b[1;32mIn [4]\u001b[0m, in \u001b[0;36m<cell line: 1>\u001b[1;34m()\u001b[0m\n\u001b[1;32m----> 1\u001b[0m \u001b[38;5;241;43m.\u001b[39;49m\u001b[38;5;241;43m.\u001b[39;49m\u001b[38;5;241;43m.\u001b[39;49m\u001b[43m \u001b[49m\u001b[38;5;241;43m+\u001b[39;49m\u001b[43m \u001b[49m\u001b[38;5;241;43m.\u001b[39;49m\u001b[38;5;241;43m.\u001b[39;49m\u001b[38;5;241;43m.\u001b[39;49m\n",
      "\u001b[1;31mTypeError\u001b[0m: unsupported operand type(s) for +: 'ellipsis' and 'ellipsis'"
     ]
    }
   ],
   "source": [
    "... + ..."
   ]
  },
  {
   "cell_type": "code",
   "execution_count": 5,
   "id": "c9e5c148-2f50-45ef-963d-a721f18f782a",
   "metadata": {},
   "outputs": [
    {
     "name": "stdout",
     "output_type": "stream",
     "text": [
      "oi Ellipsis\n"
     ]
    }
   ],
   "source": [
    "print('oi',...)"
   ]
  },
  {
   "cell_type": "code",
   "execution_count": 8,
   "id": "0c05a350-ddda-4d6f-a20d-7c46a4a34177",
   "metadata": {},
   "outputs": [],
   "source": [
    "import typing"
   ]
  },
  {
   "cell_type": "code",
   "execution_count": 11,
   "id": "0f335a6c-9787-4cb0-ba65-660d67736b58",
   "metadata": {},
   "outputs": [
    {
     "data": {
      "text/plain": [
       "\u001b[1;31mSignature:\u001b[0m\n",
       "\u001b[0mtyping\u001b[0m\u001b[1;33m.\u001b[0m\u001b[0mget_type_hints\u001b[0m\u001b[1;33m(\u001b[0m\u001b[1;33m\n",
       "\u001b[0m    \u001b[0mobj\u001b[0m\u001b[1;33m,\u001b[0m\u001b[1;33m\n",
       "\u001b[0m    \u001b[0mglobalns\u001b[0m\u001b[1;33m=\u001b[0m\u001b[1;32mNone\u001b[0m\u001b[1;33m,\u001b[0m\u001b[1;33m\n",
       "\u001b[0m    \u001b[0mlocalns\u001b[0m\u001b[1;33m=\u001b[0m\u001b[1;32mNone\u001b[0m\u001b[1;33m,\u001b[0m\u001b[1;33m\n",
       "\u001b[0m    \u001b[0minclude_extras\u001b[0m\u001b[1;33m=\u001b[0m\u001b[1;32mFalse\u001b[0m\u001b[1;33m,\u001b[0m\u001b[1;33m\n",
       "\u001b[0m\u001b[1;33m)\u001b[0m\u001b[1;33m\u001b[0m\u001b[1;33m\u001b[0m\u001b[0m\n",
       "\u001b[1;31mDocstring:\u001b[0m\n",
       "Return type hints for an object.\n",
       "\n",
       "This is often the same as obj.__annotations__, but it handles\n",
       "forward references encoded as string literals, adds Optional[t] if a\n",
       "default value equal to None is set and recursively replaces all\n",
       "'Annotated[T, ...]' with 'T' (unless 'include_extras=True').\n",
       "\n",
       "The argument may be a module, class, method, or function. The annotations\n",
       "are returned as a dictionary. For classes, annotations include also\n",
       "inherited members.\n",
       "\n",
       "TypeError is raised if the argument is not of a type that can contain\n",
       "annotations, and an empty dictionary is returned if no annotations are\n",
       "present.\n",
       "\n",
       "BEWARE -- the behavior of globalns and localns is counterintuitive\n",
       "(unless you are familiar with how eval() and exec() work).  The\n",
       "search order is locals first, then globals.\n",
       "\n",
       "- If no dict arguments are passed, an attempt is made to use the\n",
       "  globals from obj (or the respective module's globals for classes),\n",
       "  and these are also used as the locals.  If the object does not appear\n",
       "  to have globals, an empty dictionary is used.  For classes, the search\n",
       "  order is globals first then locals.\n",
       "\n",
       "- If one dict argument is passed, it is used for both globals and\n",
       "  locals.\n",
       "\n",
       "- If two dict arguments are passed, they specify globals and\n",
       "  locals, respectively.\n",
       "\u001b[1;31mFile:\u001b[0m      c:\\program files\\python310\\lib\\typing.py\n",
       "\u001b[1;31mType:\u001b[0m      function\n"
      ]
     },
     "metadata": {},
     "output_type": "display_data"
    }
   ],
   "source": [
    "typing.get_type_hints?"
   ]
  },
  {
   "cell_type": "code",
   "execution_count": 13,
   "id": "34802c78-25f8-4111-8a20-3b77eb5d31ac",
   "metadata": {},
   "outputs": [
    {
     "data": {
      "text/plain": [
       "type"
      ]
     },
     "execution_count": 13,
     "metadata": {},
     "output_type": "execute_result"
    }
   ],
   "source": [
    "str.__class__"
   ]
  },
  {
   "cell_type": "code",
   "execution_count": 14,
   "id": "babb072a-ccd9-4220-b111-c60ea8b791c4",
   "metadata": {},
   "outputs": [],
   "source": [
    "a = 1"
   ]
  },
  {
   "cell_type": "code",
   "execution_count": 15,
   "id": "65141bee-674f-4fc9-88c3-a27ca87123dd",
   "metadata": {},
   "outputs": [
    {
     "data": {
      "text/plain": [
       "int"
      ]
     },
     "execution_count": 15,
     "metadata": {},
     "output_type": "execute_result"
    }
   ],
   "source": [
    "a.__class__"
   ]
  },
  {
   "cell_type": "code",
   "execution_count": 18,
   "id": "b47b0d10-48a3-42ce-8963-1e8e2d3a0c49",
   "metadata": {},
   "outputs": [],
   "source": [
    "obj = object()"
   ]
  },
  {
   "cell_type": "code",
   "execution_count": 19,
   "id": "5237faba-95f2-428d-9c3b-22ee9b04650d",
   "metadata": {},
   "outputs": [
    {
     "data": {
      "text/plain": [
       "<object at 0x1aeb5129b70>"
      ]
     },
     "execution_count": 19,
     "metadata": {},
     "output_type": "execute_result"
    }
   ],
   "source": [
    "obj"
   ]
  },
  {
   "cell_type": "code",
   "execution_count": 21,
   "id": "3b1b27a3-7713-4132-85f1-bff81c6458de",
   "metadata": {},
   "outputs": [
    {
     "data": {
      "text/plain": [
       "['__class__',\n",
       " '__delattr__',\n",
       " '__dir__',\n",
       " '__doc__',\n",
       " '__eq__',\n",
       " '__format__',\n",
       " '__ge__',\n",
       " '__getattribute__',\n",
       " '__gt__',\n",
       " '__hash__',\n",
       " '__init__',\n",
       " '__init_subclass__',\n",
       " '__le__',\n",
       " '__lt__',\n",
       " '__ne__',\n",
       " '__new__',\n",
       " '__reduce__',\n",
       " '__reduce_ex__',\n",
       " '__repr__',\n",
       " '__setattr__',\n",
       " '__sizeof__',\n",
       " '__str__',\n",
       " '__subclasshook__']"
      ]
     },
     "execution_count": 21,
     "metadata": {},
     "output_type": "execute_result"
    }
   ],
   "source": [
    "dir(obj)"
   ]
  },
  {
   "cell_type": "code",
   "execution_count": null,
   "id": "c6a38bca-b8c8-477f-83c0-41b73f9e4395",
   "metadata": {},
   "outputs": [],
   "source": []
  }
 ],
 "metadata": {
  "kernelspec": {
   "display_name": "Python 3 (ipykernel)",
   "language": "python",
   "name": "python3"
  },
  "language_info": {
   "codemirror_mode": {
    "name": "ipython",
    "version": 3
   },
   "file_extension": ".py",
   "mimetype": "text/x-python",
   "name": "python",
   "nbconvert_exporter": "python",
   "pygments_lexer": "ipython3",
   "version": "3.10.8"
  }
 },
 "nbformat": 4,
 "nbformat_minor": 5
}
