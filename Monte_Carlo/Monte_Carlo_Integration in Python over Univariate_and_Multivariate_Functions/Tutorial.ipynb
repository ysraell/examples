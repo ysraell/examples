{
 "cells": [
  {
   "cell_type": "markdown",
   "metadata": {},
   "source": [
    "# Monte Carlo Integration in Python over Univariate and Multivariate Functions\n",
    "\n",
    "[Source](https://towardsdatascience.com/monte-carlo-integration-in-python-over-univariate-and-multivariate-functions-12615dd252fa).\n",
    "\n",
    "- Author: Israel Oliveira [\\[e-mail\\]](mailto:'Israel%20Oliveira%20'<prof.israel@gmail.com>)"
   ]
  },
  {
   "cell_type": "code",
   "execution_count": 5,
   "metadata": {
    "execution": {
     "iopub.execute_input": "2021-01-29T17:52:51.626339Z",
     "iopub.status.busy": "2021-01-29T17:52:51.626065Z",
     "iopub.status.idle": "2021-01-29T17:52:51.643516Z",
     "shell.execute_reply": "2021-01-29T17:52:51.642367Z",
     "shell.execute_reply.started": "2021-01-29T17:52:51.626313Z"
    }
   },
   "outputs": [
    {
     "name": "stdout",
     "output_type": "stream",
     "text": [
      "The watermark extension is already loaded. To reload it, use:\n",
      "  %reload_ext watermark\n"
     ]
    }
   ],
   "source": [
    "%load_ext watermark\n",
    "%config Completer.use_jedi = False"
   ]
  },
  {
   "cell_type": "code",
   "execution_count": 2,
   "metadata": {
    "execution": {
     "iopub.execute_input": "2021-01-29T17:52:39.069092Z",
     "iopub.status.busy": "2021-01-29T17:52:39.068524Z",
     "iopub.status.idle": "2021-01-29T17:52:39.075247Z",
     "shell.execute_reply": "2021-01-29T17:52:39.073613Z",
     "shell.execute_reply.started": "2021-01-29T17:52:39.069033Z"
    }
   },
   "outputs": [],
   "source": [
    "import pandas as pd"
   ]
  },
  {
   "cell_type": "code",
   "execution_count": 3,
   "metadata": {
    "execution": {
     "iopub.execute_input": "2021-01-29T17:52:39.532442Z",
     "iopub.status.busy": "2021-01-29T17:52:39.531896Z",
     "iopub.status.idle": "2021-01-29T17:52:39.537844Z",
     "shell.execute_reply": "2021-01-29T17:52:39.536614Z",
     "shell.execute_reply.started": "2021-01-29T17:52:39.532388Z"
    }
   },
   "outputs": [],
   "source": [
    "#import matplotlib.pyplot as plt\n",
    "#%matplotlib inline\n",
    "#from IPython.core.pylabtools import figsize\n",
    "#figsize(12, 8)\n",
    "\n",
    "#import seaborn as sns\n",
    "#sns.set_theme()\n",
    "\n",
    "#pd.set_option(\"max_columns\", None)\n",
    "#pd.set_option(\"max_rows\", None)\n",
    "\n",
    "#from IPython.display import Markdown, display\n",
    "#def md(arg):\n",
    "#    display(Markdown(arg))\n",
    "\n",
    "#from pandas_profiling import ProfileReport\n",
    "# report = ProfileReport(#DataFrame here#, minimal=True)\n",
    "# report.to\n",
    "\n",
    "#import pyarrow.parquet as pq\n",
    "# df = pq.ParquetDataset(path_to_folder_with_parquets, filesystem=None).read_pandas().to_pandas()"
   ]
  },
  {
   "cell_type": "code",
   "execution_count": 4,
   "metadata": {
    "execution": {
     "iopub.execute_input": "2021-01-29T17:52:40.308259Z",
     "iopub.status.busy": "2021-01-29T17:52:40.307632Z",
     "iopub.status.idle": "2021-01-29T17:52:41.510701Z",
     "shell.execute_reply": "2021-01-29T17:52:41.509951Z",
     "shell.execute_reply.started": "2021-01-29T17:52:40.308197Z"
    }
   },
   "outputs": [
    {
     "name": "stdout",
     "output_type": "stream",
     "text": [
      "Python implementation: CPython\n",
      "Python version       : 3.7.9\n",
      "IPython version      : 7.19.0\n",
      "\n",
      "Compiler    : GCC 8.3.0\n",
      "OS          : Linux\n",
      "Release     : 5.8.0-7630-generic\n",
      "Machine     : x86_64\n",
      "Processor   : \n",
      "CPU cores   : 8\n",
      "Architecture: 64bit\n",
      "\n",
      "Git hash: 07b876d1aa36badc6d0e6c4bc2ab3a06e0201091\n",
      "\n",
      "Git repo: https://github.com/ysraell/examples.git\n",
      "\n",
      "Git branch: master\n",
      "\n",
      "pandas    : 1.2.1\n",
      "sys       : 3.7.9 (default, Jan 12 2021, 17:26:22) \n",
      "[GCC 8.3.0]\n",
      "json      : 2.0.9\n",
      "ipywidgets: 7.6.3\n",
      "numpy     : 1.19.5\n",
      "\n",
      "CPU\t: Intel(R) Xeon(R) CPU E3-1241 v3 @ 3.50GHz\n",
      "Mem:           31G\n",
      "Swap:         4.0G\n"
     ]
    }
   ],
   "source": [
    "# Run this cell before close.\n",
    "%watermark -d --iversion -b -r -g -m -v\n",
    "!cat /proc/cpuinfo |grep 'model name'|head -n 1 |sed -e 's/model\\ name/CPU/'\n",
    "!free -h |cut -d'i' -f1  |grep -v total"
   ]
  },
  {
   "cell_type": "markdown",
   "metadata": {},
   "source": [
    "$$\n",
    "I = \\int_a^b f(x) dx ~~\\approx~~ E[f(x)](b-a), ~~x \\in [a, b] \n",
    "$$\n",
    "$$\n",
    "I = \\lim_{N \\rightarrow \\infty} (b-a)\\frac{1}{N}\\sum_{i}^N f(x_i), ~~x \\in [a, b] \n",
    "$$\n",
    "\n"
   ]
  },
  {
   "cell_type": "code",
   "execution_count": 6,
   "metadata": {
    "execution": {
     "iopub.execute_input": "2021-01-29T18:14:56.074872Z",
     "iopub.status.busy": "2021-01-29T18:14:56.074482Z",
     "iopub.status.idle": "2021-01-29T18:14:56.404497Z",
     "shell.execute_reply": "2021-01-29T18:14:56.403706Z",
     "shell.execute_reply.started": "2021-01-29T18:14:56.074835Z"
    }
   },
   "outputs": [
    {
     "name": "stdout",
     "output_type": "stream",
     "text": [
      "Monte Carlo solution:  5.3418\n",
      "Analytical solution:  5.3333\n"
     ]
    }
   ],
   "source": [
    "import numpy as np\n",
    "\n",
    "def func1(x):\n",
    "    # function f(x)=x^2\n",
    "    return x**2\n",
    "\n",
    "def func1_int(a, b):\n",
    "    # analytical solution to integral of f(x)\n",
    "    return (1/3)*(b**3-a**3)\n",
    "  \n",
    "def mc_integrate(func, a, b, n = 1000):\n",
    "    # Monte Carlo integration between x1 and x2 of given function from a to b\n",
    "    \n",
    "    vals = np.random.uniform(a, b, n)\n",
    "    y = [func(val) for val in vals]\n",
    "    \n",
    "    y_mean = np.sum(y)/n\n",
    "    integ = (b-a) * y_mean\n",
    "    \n",
    "    return integ\n",
    "\n",
    "print(f\"Monte Carlo solution: {mc_integrate(func1, -2, 2, 500000): .4f}\")\n",
    "print(f\"Analytical solution: {func1_int(-2, 2): .4f}\")"
   ]
  },
  {
   "cell_type": "code",
   "execution_count": null,
   "metadata": {},
   "outputs": [],
   "source": []
  }
 ],
 "metadata": {
  "kernelspec": {
   "display_name": "Python 3",
   "language": "python",
   "name": "python3"
  },
  "language_info": {
   "codemirror_mode": {
    "name": "ipython",
    "version": 3
   },
   "file_extension": ".py",
   "mimetype": "text/x-python",
   "name": "python",
   "nbconvert_exporter": "python",
   "pygments_lexer": "ipython3",
   "version": "3.7.9"
  }
 },
 "nbformat": 4,
 "nbformat_minor": 4
}
