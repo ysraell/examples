{
 "cells": [
  {
   "cell_type": "markdown",
   "metadata": {},
   "source": [
    "# How to Solve Python Coding Questions using Math \n",
    "[Source](https://towardsdatascience.com/how-to-solve-python-coding-questions-using-math-72d5540b5a24)\n",
    "\n",
    "- Author: Israel Oliveira [\\[e-mail\\]](mailto:'Israel%20Oliveira%20'<prof.israel@gmail.com>)"
   ]
  },
  {
   "cell_type": "code",
   "execution_count": 1,
   "metadata": {
    "execution": {
     "iopub.execute_input": "2021-01-29T21:26:35.159769Z",
     "iopub.status.busy": "2021-01-29T21:26:35.159476Z",
     "iopub.status.idle": "2021-01-29T21:26:35.190444Z",
     "shell.execute_reply": "2021-01-29T21:26:35.189779Z",
     "shell.execute_reply.started": "2021-01-29T21:26:35.159730Z"
    }
   },
   "outputs": [],
   "source": [
    "%load_ext watermark\n",
    "%config Completer.use_jedi = False"
   ]
  },
  {
   "cell_type": "code",
   "execution_count": 2,
   "metadata": {
    "execution": {
     "iopub.execute_input": "2021-01-29T21:26:35.334698Z",
     "iopub.status.busy": "2021-01-29T21:26:35.334287Z",
     "iopub.status.idle": "2021-01-29T21:26:35.339067Z",
     "shell.execute_reply": "2021-01-29T21:26:35.338002Z",
     "shell.execute_reply.started": "2021-01-29T21:26:35.334658Z"
    }
   },
   "outputs": [],
   "source": [
    "import pandas as pd\n",
    "from random import uniform\n",
    "import math"
   ]
  },
  {
   "cell_type": "code",
   "execution_count": 3,
   "metadata": {
    "execution": {
     "iopub.execute_input": "2021-01-29T21:26:35.542442Z",
     "iopub.status.busy": "2021-01-29T21:26:35.541798Z",
     "iopub.status.idle": "2021-01-29T21:26:35.548190Z",
     "shell.execute_reply": "2021-01-29T21:26:35.546657Z",
     "shell.execute_reply.started": "2021-01-29T21:26:35.542380Z"
    }
   },
   "outputs": [],
   "source": [
    "#import matplotlib.pyplot as plt\n",
    "#%matplotlib inline\n",
    "#from IPython.core.pylabtools import figsize\n",
    "#figsize(12, 8)\n",
    "\n",
    "#import seaborn as sns\n",
    "#sns.set_theme()\n",
    "\n",
    "#pd.set_option(\"max_columns\", None)\n",
    "#pd.set_option(\"max_rows\", None)\n",
    "\n",
    "#from IPython.display import Markdown, display\n",
    "#def md(arg):\n",
    "#    display(Markdown(arg))\n",
    "\n",
    "#from pandas_profiling import ProfileReport\n",
    "# report = ProfileReport(#DataFrame here#, minimal=True)\n",
    "# report.to\n",
    "\n",
    "#import pyarrow.parquet as pq\n",
    "# df = pq.ParquetDataset(path_to_folder_with_parquets, filesystem=None).read_pandas().to_pandas()"
   ]
  },
  {
   "cell_type": "code",
   "execution_count": 4,
   "metadata": {
    "execution": {
     "iopub.execute_input": "2021-01-29T21:26:36.144053Z",
     "iopub.status.busy": "2021-01-29T21:26:36.143632Z",
     "iopub.status.idle": "2021-01-29T21:26:37.434791Z",
     "shell.execute_reply": "2021-01-29T21:26:37.433174Z",
     "shell.execute_reply.started": "2021-01-29T21:26:36.144026Z"
    }
   },
   "outputs": [
    {
     "name": "stdout",
     "output_type": "stream",
     "text": [
      "Python implementation: CPython\n",
      "Python version       : 3.7.9\n",
      "IPython version      : 7.19.0\n",
      "\n",
      "Compiler    : GCC 8.3.0\n",
      "OS          : Linux\n",
      "Release     : 5.8.0-7630-generic\n",
      "Machine     : x86_64\n",
      "Processor   : \n",
      "CPU cores   : 8\n",
      "Architecture: 64bit\n",
      "\n",
      "Git hash: 07b876d1aa36badc6d0e6c4bc2ab3a06e0201091\n",
      "\n",
      "Git repo: https://github.com/ysraell/examples.git\n",
      "\n",
      "Git branch: master\n",
      "\n",
      "pandas    : 1.2.1\n",
      "sys       : 3.7.9 (default, Jan 12 2021, 17:26:22) \n",
      "[GCC 8.3.0]\n",
      "json      : 2.0.9\n",
      "ipywidgets: 7.6.3\n",
      "numpy     : 1.19.5\n",
      "\n",
      "CPU\t: Intel(R) Xeon(R) CPU E3-1241 v3 @ 3.50GHz\n",
      "Mem:           31G\n",
      "Swap:         4.0G\n"
     ]
    }
   ],
   "source": [
    "# Run this cell before close.\n",
    "%watermark -d --iversion -b -r -g -m -v\n",
    "!cat /proc/cpuinfo |grep 'model name'|head -n 1 |sed -e 's/model\\ name/CPU/'\n",
    "!free -h |cut -d'i' -f1  |grep -v total"
   ]
  },
  {
   "cell_type": "markdown",
   "metadata": {},
   "source": [
    "# Solution 1: for loop"
   ]
  },
  {
   "cell_type": "code",
   "execution_count": 10,
   "metadata": {
    "execution": {
     "iopub.execute_input": "2021-01-29T18:30:27.534715Z",
     "iopub.status.busy": "2021-01-29T18:30:27.534171Z",
     "iopub.status.idle": "2021-01-29T18:30:27.540236Z",
     "shell.execute_reply": "2021-01-29T18:30:27.539663Z",
     "shell.execute_reply.started": "2021-01-29T18:30:27.534657Z"
    }
   },
   "outputs": [
    {
     "data": {
      "text/plain": [
       "3"
      ]
     },
     "execution_count": 10,
     "metadata": {},
     "output_type": "execute_result"
    }
   ],
   "source": [
    "def countOdds(low,high):\n",
    "    count = 0 \n",
    "    for i in range(low,high+1):\n",
    "        if i%2 != 0:\n",
    "            count+=1\n",
    "    return count\n",
    "\n",
    "#test case\n",
    "countOdds(3,7)"
   ]
  },
  {
   "cell_type": "markdown",
   "metadata": {},
   "source": [
    "# Solution 2: math"
   ]
  },
  {
   "cell_type": "code",
   "execution_count": 9,
   "metadata": {
    "execution": {
     "iopub.execute_input": "2021-01-29T18:30:17.947867Z",
     "iopub.status.busy": "2021-01-29T18:30:17.947204Z",
     "iopub.status.idle": "2021-01-29T18:30:17.953699Z",
     "shell.execute_reply": "2021-01-29T18:30:17.953088Z",
     "shell.execute_reply.started": "2021-01-29T18:30:17.947813Z"
    }
   },
   "outputs": [
    {
     "data": {
      "text/plain": [
       "3"
      ]
     },
     "execution_count": 9,
     "metadata": {},
     "output_type": "execute_result"
    }
   ],
   "source": [
    "# calculate the number of odd numbers between 1 and low-1: low//2\n",
    "# calculate the number of odd numbers between 1 and high: (high+1)//2\n",
    "# the difference is our result\n",
    "\n",
    "def countOdds_2(low, high) -> int:\n",
    "    return (high + 1) // 2 - low // 2\n",
    "\n",
    "#test case\n",
    "countOdds_2(3,7)"
   ]
  },
  {
   "cell_type": "code",
   "execution_count": 13,
   "metadata": {
    "execution": {
     "iopub.execute_input": "2021-01-29T18:30:49.115505Z",
     "iopub.status.busy": "2021-01-29T18:30:49.114922Z",
     "iopub.status.idle": "2021-01-29T18:30:56.786499Z",
     "shell.execute_reply": "2021-01-29T18:30:56.785835Z",
     "shell.execute_reply.started": "2021-01-29T18:30:49.115459Z"
    }
   },
   "outputs": [
    {
     "data": {
      "text/plain": [
       "34999999"
      ]
     },
     "execution_count": 13,
     "metadata": {},
     "output_type": "execute_result"
    }
   ],
   "source": [
    "countOdds(3,70000000)"
   ]
  },
  {
   "cell_type": "code",
   "execution_count": 14,
   "metadata": {
    "execution": {
     "iopub.execute_input": "2021-01-29T18:30:58.933673Z",
     "iopub.status.busy": "2021-01-29T18:30:58.932532Z",
     "iopub.status.idle": "2021-01-29T18:30:58.940974Z",
     "shell.execute_reply": "2021-01-29T18:30:58.940298Z",
     "shell.execute_reply.started": "2021-01-29T18:30:58.933604Z"
    }
   },
   "outputs": [
    {
     "data": {
      "text/plain": [
       "34999999"
      ]
     },
     "execution_count": 14,
     "metadata": {},
     "output_type": "execute_result"
    }
   ],
   "source": [
    "countOdds_2(3,70000000)"
   ]
  },
  {
   "cell_type": "markdown",
   "metadata": {},
   "source": [
    "# Question 2: Arranging Coins, by Bloomberg\n"
   ]
  },
  {
   "cell_type": "markdown",
   "metadata": {},
   "source": [
    "Final solution:"
   ]
  },
  {
   "cell_type": "code",
   "execution_count": 24,
   "metadata": {
    "execution": {
     "iopub.execute_input": "2021-01-29T21:53:54.180735Z",
     "iopub.status.busy": "2021-01-29T21:53:54.180410Z",
     "iopub.status.idle": "2021-01-29T21:53:54.187276Z",
     "shell.execute_reply": "2021-01-29T21:53:54.186599Z",
     "shell.execute_reply.started": "2021-01-29T21:53:54.180707Z"
    }
   },
   "outputs": [
    {
     "data": {
      "text/plain": [
       "3"
      ]
     },
     "execution_count": 24,
     "metadata": {},
     "output_type": "execute_result"
    }
   ],
   "source": [
    "def arranging(n):\n",
    "    left, right = 0, n \n",
    "    while left<=right: \n",
    "        k = (left+right)//2\n",
    "        current = k*(k+1)//2\n",
    "        if current == n:\n",
    "            return k\n",
    "        elif current >n:\n",
    "            right = k-1\n",
    "        else:\n",
    "            left = k+1\n",
    "    return right\n",
    "\n",
    "# test case \n",
    "n= 8\n",
    "arranging(n)"
   ]
  },
  {
   "cell_type": "markdown",
   "metadata": {
    "execution": {
     "iopub.execute_input": "2021-01-29T19:12:09.592926Z",
     "iopub.status.busy": "2021-01-29T19:12:09.592261Z",
     "iopub.status.idle": "2021-01-29T19:12:09.598992Z",
     "shell.execute_reply": "2021-01-29T19:12:09.598001Z",
     "shell.execute_reply.started": "2021-01-29T19:12:09.592861Z"
    }
   },
   "source": [
    "Solution a:"
   ]
  },
  {
   "cell_type": "code",
   "execution_count": 21,
   "metadata": {
    "execution": {
     "iopub.execute_input": "2021-01-29T21:53:44.906907Z",
     "iopub.status.busy": "2021-01-29T21:53:44.906410Z",
     "iopub.status.idle": "2021-01-29T21:53:44.911473Z",
     "shell.execute_reply": "2021-01-29T21:53:44.910799Z",
     "shell.execute_reply.started": "2021-01-29T21:53:44.906861Z"
    }
   },
   "outputs": [],
   "source": [
    "def arranging_a(n):\n",
    "    for k in range(1,n//2+2):\n",
    "        current = k*(k+1)//2\n",
    "        if current == n:\n",
    "            return k\n",
    "        elif current >n:\n",
    "            return k-1\n",
    "    return False"
   ]
  },
  {
   "cell_type": "code",
   "execution_count": 34,
   "metadata": {
    "execution": {
     "iopub.execute_input": "2021-01-29T19:17:42.771842Z",
     "iopub.status.busy": "2021-01-29T19:17:42.771505Z",
     "iopub.status.idle": "2021-01-29T19:17:42.776767Z",
     "shell.execute_reply": "2021-01-29T19:17:42.775889Z",
     "shell.execute_reply.started": "2021-01-29T19:17:42.771810Z"
    }
   },
   "outputs": [
    {
     "data": {
      "text/plain": [
       "3"
      ]
     },
     "execution_count": 34,
     "metadata": {},
     "output_type": "execute_result"
    }
   ],
   "source": [
    "# test case \n",
    "n = 8\n",
    "arranging_a(n)"
   ]
  },
  {
   "cell_type": "markdown",
   "metadata": {},
   "source": [
    "Validating:"
   ]
  },
  {
   "cell_type": "code",
   "execution_count": 35,
   "metadata": {
    "execution": {
     "iopub.execute_input": "2021-01-29T19:18:25.516886Z",
     "iopub.status.busy": "2021-01-29T19:18:25.516231Z",
     "iopub.status.idle": "2021-01-29T19:18:25.522760Z",
     "shell.execute_reply": "2021-01-29T19:18:25.522097Z",
     "shell.execute_reply.started": "2021-01-29T19:18:25.516836Z"
    }
   },
   "outputs": [],
   "source": [
    "s = 0\n",
    "for n in range(1,100):\n",
    "    s += abs(arranging_a(n)-arranging(n))"
   ]
  },
  {
   "cell_type": "code",
   "execution_count": 38,
   "metadata": {
    "execution": {
     "iopub.execute_input": "2021-01-29T19:18:57.715192Z",
     "iopub.status.busy": "2021-01-29T19:18:57.714904Z",
     "iopub.status.idle": "2021-01-29T19:18:57.719252Z",
     "shell.execute_reply": "2021-01-29T19:18:57.718520Z",
     "shell.execute_reply.started": "2021-01-29T19:18:57.715152Z"
    }
   },
   "outputs": [
    {
     "data": {
      "text/plain": [
       "True"
      ]
     },
     "execution_count": 38,
     "metadata": {},
     "output_type": "execute_result"
    }
   ],
   "source": [
    "s == 0"
   ]
  },
  {
   "cell_type": "markdown",
   "metadata": {
    "execution": {
     "iopub.execute_input": "2021-01-29T19:18:52.030099Z",
     "iopub.status.busy": "2021-01-29T19:18:52.029370Z",
     "iopub.status.idle": "2021-01-29T19:18:52.036321Z",
     "shell.execute_reply": "2021-01-29T19:18:52.035035Z",
     "shell.execute_reply.started": "2021-01-29T19:18:52.030028Z"
    }
   },
   "source": [
    "Timing:"
   ]
  },
  {
   "cell_type": "code",
   "execution_count": 54,
   "metadata": {
    "execution": {
     "iopub.execute_input": "2021-01-29T19:22:02.552789Z",
     "iopub.status.busy": "2021-01-29T19:22:02.552149Z",
     "iopub.status.idle": "2021-01-29T19:22:12.336665Z",
     "shell.execute_reply": "2021-01-29T19:22:12.335811Z",
     "shell.execute_reply.started": "2021-01-29T19:22:02.552749Z"
    }
   },
   "outputs": [
    {
     "name": "stdout",
     "output_type": "stream",
     "text": [
      "12 µs ± 138 ns per loop (mean ± std. dev. of 7 runs, 100000 loops each)\n"
     ]
    }
   ],
   "source": [
    "%%timeit\n",
    "n = int(uniform(1e7, 1e8))\n",
    "arranging(n)"
   ]
  },
  {
   "cell_type": "code",
   "execution_count": 55,
   "metadata": {
    "execution": {
     "iopub.execute_input": "2021-01-29T19:22:12.343885Z",
     "iopub.status.busy": "2021-01-29T19:22:12.343593Z",
     "iopub.status.idle": "2021-01-29T19:22:14.215959Z",
     "shell.execute_reply": "2021-01-29T19:22:14.215070Z",
     "shell.execute_reply.started": "2021-01-29T19:22:12.343847Z"
    }
   },
   "outputs": [
    {
     "name": "stdout",
     "output_type": "stream",
     "text": [
      "2.3 ms ± 120 µs per loop (mean ± std. dev. of 7 runs, 100 loops each)\n"
     ]
    }
   ],
   "source": [
    "%%timeit\n",
    "n = int(uniform(1e7, 1e8))\n",
    "arranging_a(n)"
   ]
  },
  {
   "cell_type": "markdown",
   "metadata": {},
   "source": [
    "Solution b"
   ]
  },
  {
   "cell_type": "markdown",
   "metadata": {},
   "source": [
    "$$\n",
    "n = \\frac{k(k+1)}{2} + \\epsilon\n",
    "$$\n",
    "\n",
    "\n",
    "$$\n",
    "8 = \\frac{3(3+1)}{2} + \\epsilon = 6 + \\epsilon, ~~ k = 3\n",
    "$$\n",
    "\n",
    "$$\n",
    "\\epsilon \\in [0, k+1)\n",
    "$$\n",
    "\n",
    "$$\n",
    "n = f(k) + \\epsilon \n",
    "$$\n",
    "\n",
    "$$\n",
    "f(k) = \\frac{k(k+1)}{2} = \\frac{k^2+k}{2}\n",
    "$$\n",
    "\n",
    "$$\n",
    "k^2+k = 2n\n",
    "$$\n",
    "\n",
    "$$\n",
    "k+1 = \\frac{2n}{k}\n",
    "$$\n",
    "\n",
    "$$\n",
    "n = \\frac{k^2}{2} + \\frac{k}{2} \\approx \\frac{k^2}{2}, ~~\\text{if}~~ n >> k\n",
    "$$\n",
    "\n",
    "\n",
    "$$\n",
    "n > \\frac{k^2}{2} ~~\\therefore~~ k^2 < 2n\n",
    "$$\n",
    "\n",
    "$$\n",
    "k^2+k = 2n+k > 2n ~~\\therefore~~n+\\frac{k}{2} > n\n",
    "$$\n",
    "\n",
    "$$\n",
    "n > \\frac{k^2}{2} ~~\\therefore~~ \\sqrt{2n} > k\n",
    "$$\n",
    "\n",
    "$$\n",
    "\\sqrt{2n} > k ~~\\therefore~~ \\sqrt{2(8)} = 4 > 3\n",
    "$$\n",
    "\n",
    "$$\n",
    "k_0 = \\lfloor \\sqrt{2n} \\rfloor \\\\\n",
    "k_i = k_{i-1} -1\n",
    "$$"
   ]
  },
  {
   "cell_type": "code",
   "execution_count": 16,
   "metadata": {
    "execution": {
     "iopub.execute_input": "2021-01-29T21:53:27.669587Z",
     "iopub.status.busy": "2021-01-29T21:53:27.668944Z",
     "iopub.status.idle": "2021-01-29T21:53:27.675455Z",
     "shell.execute_reply": "2021-01-29T21:53:27.674616Z",
     "shell.execute_reply.started": "2021-01-29T21:53:27.669542Z"
    }
   },
   "outputs": [],
   "source": [
    "def arranging_b(n):\n",
    "    k = int((2*n)**(0.5))\n",
    "    while k:\n",
    "        current = k*(k+1)//2\n",
    "        if (current == n) or ((current < n) and (n-current < k+1)):\n",
    "            return k\n",
    "        k -= 1\n",
    "    return False"
   ]
  },
  {
   "cell_type": "code",
   "execution_count": 17,
   "metadata": {
    "execution": {
     "iopub.execute_input": "2021-01-29T21:53:32.193861Z",
     "iopub.status.busy": "2021-01-29T21:53:32.193587Z",
     "iopub.status.idle": "2021-01-29T21:53:32.198465Z",
     "shell.execute_reply": "2021-01-29T21:53:32.197532Z",
     "shell.execute_reply.started": "2021-01-29T21:53:32.193835Z"
    }
   },
   "outputs": [
    {
     "data": {
      "text/plain": [
       "4"
      ]
     },
     "execution_count": 17,
     "metadata": {},
     "output_type": "execute_result"
    }
   ],
   "source": [
    "# test case \n",
    "n = 13\n",
    "arranging_b(n)"
   ]
  },
  {
   "cell_type": "code",
   "execution_count": 18,
   "metadata": {
    "execution": {
     "iopub.execute_input": "2021-01-29T21:53:32.953504Z",
     "iopub.status.busy": "2021-01-29T21:53:32.953173Z",
     "iopub.status.idle": "2021-01-29T21:53:32.959408Z",
     "shell.execute_reply": "2021-01-29T21:53:32.958489Z",
     "shell.execute_reply.started": "2021-01-29T21:53:32.953472Z"
    }
   },
   "outputs": [
    {
     "data": {
      "text/plain": [
       "3"
      ]
     },
     "execution_count": 18,
     "metadata": {},
     "output_type": "execute_result"
    }
   ],
   "source": [
    "n = 2\n",
    "k = int(math.sqrt(2*n))\n",
    "current = k*(k+1)//2\n",
    "current"
   ]
  },
  {
   "cell_type": "code",
   "execution_count": null,
   "metadata": {},
   "outputs": [],
   "source": []
  },
  {
   "cell_type": "code",
   "execution_count": 25,
   "metadata": {
    "execution": {
     "iopub.execute_input": "2021-01-29T21:53:57.902076Z",
     "iopub.status.busy": "2021-01-29T21:53:57.901793Z",
     "iopub.status.idle": "2021-01-29T21:53:57.906236Z",
     "shell.execute_reply": "2021-01-29T21:53:57.905616Z",
     "shell.execute_reply.started": "2021-01-29T21:53:57.902049Z"
    }
   },
   "outputs": [],
   "source": [
    "s = 0\n",
    "for n in range(1,100):\n",
    "    d = (arranging_b(n)-arranging(n))\n",
    "    if abs(d) > 0:\n",
    "        print(f'{n}: {d}')\n",
    "    s += d"
   ]
  },
  {
   "cell_type": "code",
   "execution_count": 26,
   "metadata": {
    "execution": {
     "iopub.execute_input": "2021-01-29T21:53:58.598246Z",
     "iopub.status.busy": "2021-01-29T21:53:58.597763Z",
     "iopub.status.idle": "2021-01-29T21:53:58.604291Z",
     "shell.execute_reply": "2021-01-29T21:53:58.603248Z",
     "shell.execute_reply.started": "2021-01-29T21:53:58.598195Z"
    }
   },
   "outputs": [
    {
     "data": {
      "text/plain": [
       "True"
      ]
     },
     "execution_count": 26,
     "metadata": {},
     "output_type": "execute_result"
    }
   ],
   "source": [
    "s == 0"
   ]
  },
  {
   "cell_type": "markdown",
   "metadata": {},
   "source": [
    "Timing"
   ]
  },
  {
   "cell_type": "code",
   "execution_count": 27,
   "metadata": {
    "execution": {
     "iopub.execute_input": "2021-01-29T21:54:00.818379Z",
     "iopub.status.busy": "2021-01-29T21:54:00.818099Z",
     "iopub.status.idle": "2021-01-29T21:54:10.363038Z",
     "shell.execute_reply": "2021-01-29T21:54:10.362390Z",
     "shell.execute_reply.started": "2021-01-29T21:54:00.818353Z"
    }
   },
   "outputs": [
    {
     "name": "stdout",
     "output_type": "stream",
     "text": [
      "11.7 µs ± 20.2 ns per loop (mean ± std. dev. of 7 runs, 100000 loops each)\n"
     ]
    }
   ],
   "source": [
    "%%timeit\n",
    "n = int(uniform(1e7, 1e8))\n",
    "arranging(n)"
   ]
  },
  {
   "cell_type": "code",
   "execution_count": 28,
   "metadata": {
    "execution": {
     "iopub.execute_input": "2021-01-29T21:54:10.370035Z",
     "iopub.status.busy": "2021-01-29T21:54:10.369786Z",
     "iopub.status.idle": "2021-01-29T21:54:24.105950Z",
     "shell.execute_reply": "2021-01-29T21:54:24.105073Z",
     "shell.execute_reply.started": "2021-01-29T21:54:10.370009Z"
    }
   },
   "outputs": [
    {
     "name": "stdout",
     "output_type": "stream",
     "text": [
      "1.69 µs ± 8.86 ns per loop (mean ± std. dev. of 7 runs, 1000000 loops each)\n"
     ]
    }
   ],
   "source": [
    "%%timeit\n",
    "n = int(uniform(1e7, 1e8))\n",
    "arranging_b(n)"
   ]
  },
  {
   "cell_type": "markdown",
   "metadata": {},
   "source": [
    "# Question 4: Set Mismatch, by Amazon"
   ]
  },
  {
   "cell_type": "code",
   "execution_count": 13,
   "metadata": {
    "execution": {
     "iopub.execute_input": "2021-01-29T21:50:56.931141Z",
     "iopub.status.busy": "2021-01-29T21:50:56.930865Z",
     "iopub.status.idle": "2021-01-29T21:50:56.937076Z",
     "shell.execute_reply": "2021-01-29T21:50:56.936407Z",
     "shell.execute_reply.started": "2021-01-29T21:50:56.931115Z"
    }
   },
   "outputs": [
    {
     "data": {
      "text/plain": [
       "[7, 8]"
      ]
     },
     "execution_count": 13,
     "metadata": {},
     "output_type": "execute_result"
    }
   ],
   "source": [
    "def findErrorNums(nums):\n",
    "    return [sum(nums)-sum(set(nums)),sum(range(1,len(nums)+1)) - sum(set(nums))]# twice & missing value \n",
    "nums = [1,2,3,4,5,6,7,7,9,10]\n",
    "findErrorNums(nums)"
   ]
  },
  {
   "cell_type": "code",
   "execution_count": 15,
   "metadata": {
    "execution": {
     "iopub.execute_input": "2021-01-29T21:53:12.644609Z",
     "iopub.status.busy": "2021-01-29T21:53:12.644328Z",
     "iopub.status.idle": "2021-01-29T21:53:12.648614Z",
     "shell.execute_reply": "2021-01-29T21:53:12.647849Z",
     "shell.execute_reply.started": "2021-01-29T21:53:12.644582Z"
    }
   },
   "outputs": [
    {
     "data": {
      "text/plain": [
       "1.4142135623730951"
      ]
     },
     "execution_count": 15,
     "metadata": {},
     "output_type": "execute_result"
    }
   ],
   "source": [
    "2**(0.5)"
   ]
  },
  {
   "cell_type": "code",
   "execution_count": null,
   "metadata": {},
   "outputs": [],
   "source": []
  }
 ],
 "metadata": {
  "kernelspec": {
   "display_name": "Python 3",
   "language": "python",
   "name": "python3"
  },
  "language_info": {
   "codemirror_mode": {
    "name": "ipython",
    "version": 3
   },
   "file_extension": ".py",
   "mimetype": "text/x-python",
   "name": "python",
   "nbconvert_exporter": "python",
   "pygments_lexer": "ipython3",
   "version": "3.7.9"
  }
 },
 "nbformat": 4,
 "nbformat_minor": 4
}
