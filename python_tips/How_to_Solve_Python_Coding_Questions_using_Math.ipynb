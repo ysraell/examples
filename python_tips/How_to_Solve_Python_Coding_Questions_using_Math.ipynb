{
 "cells": [
  {
   "cell_type": "markdown",
   "metadata": {},
   "source": [
    "# How to Solve Python Coding Questions using Math \n",
    "[Source](https://towardsdatascience.com/how-to-solve-python-coding-questions-using-math-72d5540b5a24)\n",
    "\n",
    "- Author: Israel Oliveira [\\[e-mail\\]](mailto:'Israel%20Oliveira%20'<prof.israel@gmail.com>)"
   ]
  },
  {
   "cell_type": "code",
   "execution_count": 1,
   "metadata": {
    "execution": {
     "iopub.execute_input": "2021-01-30T14:12:46.359604Z",
     "iopub.status.busy": "2021-01-30T14:12:46.359323Z",
     "iopub.status.idle": "2021-01-30T14:12:46.384795Z",
     "shell.execute_reply": "2021-01-30T14:12:46.384136Z",
     "shell.execute_reply.started": "2021-01-30T14:12:46.359578Z"
    }
   },
   "outputs": [],
   "source": [
    "%load_ext watermark\n",
    "%config Completer.use_jedi = False"
   ]
  },
  {
   "cell_type": "code",
   "execution_count": 2,
   "metadata": {
    "execution": {
     "iopub.execute_input": "2021-01-30T14:12:46.488261Z",
     "iopub.status.busy": "2021-01-30T14:12:46.487982Z",
     "iopub.status.idle": "2021-01-30T14:12:46.491260Z",
     "shell.execute_reply": "2021-01-30T14:12:46.490600Z",
     "shell.execute_reply.started": "2021-01-30T14:12:46.488234Z"
    }
   },
   "outputs": [],
   "source": [
    "import pandas as pd\n",
    "from random import uniform\n",
    "import math"
   ]
  },
  {
   "cell_type": "code",
   "execution_count": 3,
   "metadata": {
    "execution": {
     "iopub.execute_input": "2021-01-30T14:12:46.677121Z",
     "iopub.status.busy": "2021-01-30T14:12:46.676846Z",
     "iopub.status.idle": "2021-01-30T14:12:46.680079Z",
     "shell.execute_reply": "2021-01-30T14:12:46.679368Z",
     "shell.execute_reply.started": "2021-01-30T14:12:46.677094Z"
    }
   },
   "outputs": [],
   "source": [
    "#import matplotlib.pyplot as plt\n",
    "#%matplotlib inline\n",
    "#from IPython.core.pylabtools import figsize\n",
    "#figsize(12, 8)\n",
    "\n",
    "#import seaborn as sns\n",
    "#sns.set_theme()\n",
    "\n",
    "#pd.set_option(\"max_columns\", None)\n",
    "#pd.set_option(\"max_rows\", None)\n",
    "\n",
    "#from IPython.display import Markdown, display\n",
    "#def md(arg):\n",
    "#    display(Markdown(arg))\n",
    "\n",
    "#from pandas_profiling import ProfileReport\n",
    "# report = ProfileReport(#DataFrame here#, minimal=True)\n",
    "# report.to\n",
    "\n",
    "#import pyarrow.parquet as pq\n",
    "# df = pq.ParquetDataset(path_to_folder_with_parquets, filesystem=None).read_pandas().to_pandas()"
   ]
  },
  {
   "cell_type": "code",
   "execution_count": 4,
   "metadata": {
    "execution": {
     "iopub.execute_input": "2021-01-30T14:12:46.807028Z",
     "iopub.status.busy": "2021-01-30T14:12:46.806727Z",
     "iopub.status.idle": "2021-01-30T14:12:48.011323Z",
     "shell.execute_reply": "2021-01-30T14:12:48.009408Z",
     "shell.execute_reply.started": "2021-01-30T14:12:46.806998Z"
    }
   },
   "outputs": [
    {
     "name": "stdout",
     "output_type": "stream",
     "text": [
      "Python implementation: CPython\n",
      "Python version       : 3.7.9\n",
      "IPython version      : 7.19.0\n",
      "\n",
      "Compiler    : GCC 8.3.0\n",
      "OS          : Linux\n",
      "Release     : 5.8.0-7630-generic\n",
      "Machine     : x86_64\n",
      "Processor   : \n",
      "CPU cores   : 8\n",
      "Architecture: 64bit\n",
      "\n",
      "Git hash: 21d1352fc956b984bbfea25273b5bba145e506ba\n",
      "\n",
      "Git repo: https://github.com/ysraell/examples.git\n",
      "\n",
      "Git branch: master\n",
      "\n",
      "sys       : 3.7.9 (default, Jan 12 2021, 17:26:22) \n",
      "[GCC 8.3.0]\n",
      "pandas    : 1.2.1\n",
      "ipywidgets: 7.6.3\n",
      "json      : 2.0.9\n",
      "numpy     : 1.19.5\n",
      "\n",
      "CPU\t: Intel(R) Xeon(R) CPU E3-1241 v3 @ 3.50GHz\n",
      "Mem:           31G\n",
      "Swap:         4.0G\n"
     ]
    }
   ],
   "source": [
    "# Run this cell before close.\n",
    "%watermark -d --iversion -b -r -g -m -v\n",
    "!cat /proc/cpuinfo |grep 'model name'|head -n 1 |sed -e 's/model\\ name/CPU/'\n",
    "!free -h |cut -d'i' -f1  |grep -v total"
   ]
  },
  {
   "cell_type": "markdown",
   "metadata": {},
   "source": [
    "# Solution 1: for loop"
   ]
  },
  {
   "cell_type": "code",
   "execution_count": 5,
   "metadata": {
    "execution": {
     "iopub.execute_input": "2021-01-30T14:12:48.024085Z",
     "iopub.status.busy": "2021-01-30T14:12:48.023845Z",
     "iopub.status.idle": "2021-01-30T14:12:48.030291Z",
     "shell.execute_reply": "2021-01-30T14:12:48.029244Z",
     "shell.execute_reply.started": "2021-01-30T14:12:48.024059Z"
    }
   },
   "outputs": [
    {
     "data": {
      "text/plain": [
       "3"
      ]
     },
     "execution_count": 5,
     "metadata": {},
     "output_type": "execute_result"
    }
   ],
   "source": [
    "def countOdds(low,high):\n",
    "    count = 0 \n",
    "    for i in range(low,high+1):\n",
    "        if i%2 != 0:\n",
    "            count+=1\n",
    "    return count\n",
    "\n",
    "#test case\n",
    "countOdds(3,7)"
   ]
  },
  {
   "cell_type": "markdown",
   "metadata": {},
   "source": [
    "# Solution 2: math"
   ]
  },
  {
   "cell_type": "code",
   "execution_count": 6,
   "metadata": {
    "execution": {
     "iopub.execute_input": "2021-01-30T14:12:48.032218Z",
     "iopub.status.busy": "2021-01-30T14:12:48.031828Z",
     "iopub.status.idle": "2021-01-30T14:12:48.048386Z",
     "shell.execute_reply": "2021-01-30T14:12:48.047616Z",
     "shell.execute_reply.started": "2021-01-30T14:12:48.032179Z"
    }
   },
   "outputs": [
    {
     "data": {
      "text/plain": [
       "3"
      ]
     },
     "execution_count": 6,
     "metadata": {},
     "output_type": "execute_result"
    }
   ],
   "source": [
    "# calculate the number of odd numbers between 1 and low-1: low//2\n",
    "# calculate the number of odd numbers between 1 and high: (high+1)//2\n",
    "# the difference is our result\n",
    "\n",
    "def countOdds_2(low, high) -> int:\n",
    "    return (high + 1) // 2 - low // 2\n",
    "\n",
    "#test case\n",
    "countOdds_2(3,7)"
   ]
  },
  {
   "cell_type": "code",
   "execution_count": 7,
   "metadata": {
    "execution": {
     "iopub.execute_input": "2021-01-30T14:12:48.049770Z",
     "iopub.status.busy": "2021-01-30T14:12:48.049490Z",
     "iopub.status.idle": "2021-01-30T14:12:56.320860Z",
     "shell.execute_reply": "2021-01-30T14:12:56.320173Z",
     "shell.execute_reply.started": "2021-01-30T14:12:48.049741Z"
    }
   },
   "outputs": [
    {
     "data": {
      "text/plain": [
       "34999999"
      ]
     },
     "execution_count": 7,
     "metadata": {},
     "output_type": "execute_result"
    }
   ],
   "source": [
    "countOdds(3,70000000)"
   ]
  },
  {
   "cell_type": "code",
   "execution_count": 8,
   "metadata": {
    "execution": {
     "iopub.execute_input": "2021-01-30T14:12:56.322325Z",
     "iopub.status.busy": "2021-01-30T14:12:56.322060Z",
     "iopub.status.idle": "2021-01-30T14:12:56.326892Z",
     "shell.execute_reply": "2021-01-30T14:12:56.326076Z",
     "shell.execute_reply.started": "2021-01-30T14:12:56.322299Z"
    }
   },
   "outputs": [
    {
     "data": {
      "text/plain": [
       "34999999"
      ]
     },
     "execution_count": 8,
     "metadata": {},
     "output_type": "execute_result"
    }
   ],
   "source": [
    "countOdds_2(3,70000000)"
   ]
  },
  {
   "cell_type": "markdown",
   "metadata": {},
   "source": [
    "# Question 2: Arranging Coins, by Bloomberg\n"
   ]
  },
  {
   "cell_type": "markdown",
   "metadata": {},
   "source": [
    "Final solution:"
   ]
  },
  {
   "cell_type": "code",
   "execution_count": 9,
   "metadata": {
    "execution": {
     "iopub.execute_input": "2021-01-30T14:12:56.348036Z",
     "iopub.status.busy": "2021-01-30T14:12:56.347704Z",
     "iopub.status.idle": "2021-01-30T14:12:56.355946Z",
     "shell.execute_reply": "2021-01-30T14:12:56.355316Z",
     "shell.execute_reply.started": "2021-01-30T14:12:56.348001Z"
    }
   },
   "outputs": [
    {
     "data": {
      "text/plain": [
       "3"
      ]
     },
     "execution_count": 9,
     "metadata": {},
     "output_type": "execute_result"
    }
   ],
   "source": [
    "def arranging(n):\n",
    "    left, right = 0, n \n",
    "    while left<=right: \n",
    "        k = (left+right)//2\n",
    "        current = k*(k+1)//2\n",
    "        if current == n:\n",
    "            return k\n",
    "        elif current >n:\n",
    "            right = k-1\n",
    "        else:\n",
    "            left = k+1\n",
    "    return right\n",
    "\n",
    "# test case \n",
    "n= 8\n",
    "arranging(n)"
   ]
  },
  {
   "cell_type": "markdown",
   "metadata": {
    "execution": {
     "iopub.execute_input": "2021-01-29T19:12:09.592926Z",
     "iopub.status.busy": "2021-01-29T19:12:09.592261Z",
     "iopub.status.idle": "2021-01-29T19:12:09.598992Z",
     "shell.execute_reply": "2021-01-29T19:12:09.598001Z",
     "shell.execute_reply.started": "2021-01-29T19:12:09.592861Z"
    }
   },
   "source": [
    "Solution a:"
   ]
  },
  {
   "cell_type": "code",
   "execution_count": 10,
   "metadata": {
    "execution": {
     "iopub.execute_input": "2021-01-30T14:12:56.357524Z",
     "iopub.status.busy": "2021-01-30T14:12:56.357185Z",
     "iopub.status.idle": "2021-01-30T14:12:56.367287Z",
     "shell.execute_reply": "2021-01-30T14:12:56.363072Z",
     "shell.execute_reply.started": "2021-01-30T14:12:56.357488Z"
    }
   },
   "outputs": [],
   "source": [
    "def arranging_a(n):\n",
    "    for k in range(1,n//2+2):\n",
    "        current = k*(k+1)//2\n",
    "        if current == n:\n",
    "            return k\n",
    "        elif current >n:\n",
    "            return k-1\n",
    "    return False"
   ]
  },
  {
   "cell_type": "code",
   "execution_count": 11,
   "metadata": {
    "execution": {
     "iopub.execute_input": "2021-01-30T14:12:56.369852Z",
     "iopub.status.busy": "2021-01-30T14:12:56.369264Z",
     "iopub.status.idle": "2021-01-30T14:12:56.376255Z",
     "shell.execute_reply": "2021-01-30T14:12:56.375235Z",
     "shell.execute_reply.started": "2021-01-30T14:12:56.369780Z"
    }
   },
   "outputs": [
    {
     "data": {
      "text/plain": [
       "3"
      ]
     },
     "execution_count": 11,
     "metadata": {},
     "output_type": "execute_result"
    }
   ],
   "source": [
    "# test case \n",
    "n = 8\n",
    "arranging_a(n)"
   ]
  },
  {
   "cell_type": "markdown",
   "metadata": {},
   "source": [
    "Validating:"
   ]
  },
  {
   "cell_type": "code",
   "execution_count": 12,
   "metadata": {
    "execution": {
     "iopub.execute_input": "2021-01-30T14:12:56.378333Z",
     "iopub.status.busy": "2021-01-30T14:12:56.377866Z",
     "iopub.status.idle": "2021-01-30T14:12:56.387284Z",
     "shell.execute_reply": "2021-01-30T14:12:56.386502Z",
     "shell.execute_reply.started": "2021-01-30T14:12:56.378272Z"
    }
   },
   "outputs": [],
   "source": [
    "s = 0\n",
    "for n in range(1,100):\n",
    "    s += abs(arranging_a(n)-arranging(n))"
   ]
  },
  {
   "cell_type": "code",
   "execution_count": 13,
   "metadata": {
    "execution": {
     "iopub.execute_input": "2021-01-30T14:12:56.390270Z",
     "iopub.status.busy": "2021-01-30T14:12:56.389949Z",
     "iopub.status.idle": "2021-01-30T14:12:56.397388Z",
     "shell.execute_reply": "2021-01-30T14:12:56.396662Z",
     "shell.execute_reply.started": "2021-01-30T14:12:56.390236Z"
    }
   },
   "outputs": [
    {
     "data": {
      "text/plain": [
       "True"
      ]
     },
     "execution_count": 13,
     "metadata": {},
     "output_type": "execute_result"
    }
   ],
   "source": [
    "s == 0"
   ]
  },
  {
   "cell_type": "markdown",
   "metadata": {
    "execution": {
     "iopub.execute_input": "2021-01-29T19:18:52.030099Z",
     "iopub.status.busy": "2021-01-29T19:18:52.029370Z",
     "iopub.status.idle": "2021-01-29T19:18:52.036321Z",
     "shell.execute_reply": "2021-01-29T19:18:52.035035Z",
     "shell.execute_reply.started": "2021-01-29T19:18:52.030028Z"
    }
   },
   "source": [
    "Timing:"
   ]
  },
  {
   "cell_type": "code",
   "execution_count": 14,
   "metadata": {
    "execution": {
     "iopub.execute_input": "2021-01-30T14:12:56.399025Z",
     "iopub.status.busy": "2021-01-30T14:12:56.398702Z",
     "iopub.status.idle": "2021-01-30T14:13:06.444728Z",
     "shell.execute_reply": "2021-01-30T14:13:06.443903Z",
     "shell.execute_reply.started": "2021-01-30T14:12:56.398991Z"
    }
   },
   "outputs": [
    {
     "name": "stdout",
     "output_type": "stream",
     "text": [
      "12.3 µs ± 86.1 ns per loop (mean ± std. dev. of 7 runs, 100000 loops each)\n"
     ]
    }
   ],
   "source": [
    "%%timeit\n",
    "n = int(uniform(1e7, 1e8))\n",
    "arranging(n)"
   ]
  },
  {
   "cell_type": "code",
   "execution_count": 15,
   "metadata": {
    "execution": {
     "iopub.execute_input": "2021-01-30T14:13:06.446134Z",
     "iopub.status.busy": "2021-01-30T14:13:06.445807Z",
     "iopub.status.idle": "2021-01-30T14:13:08.271933Z",
     "shell.execute_reply": "2021-01-30T14:13:08.271339Z",
     "shell.execute_reply.started": "2021-01-30T14:13:06.446107Z"
    }
   },
   "outputs": [
    {
     "name": "stdout",
     "output_type": "stream",
     "text": [
      "2.22 ms ± 96.7 µs per loop (mean ± std. dev. of 7 runs, 100 loops each)\n"
     ]
    }
   ],
   "source": [
    "%%timeit\n",
    "n = int(uniform(1e7, 1e8))\n",
    "arranging_a(n)"
   ]
  },
  {
   "cell_type": "markdown",
   "metadata": {},
   "source": [
    "Solution b"
   ]
  },
  {
   "cell_type": "markdown",
   "metadata": {},
   "source": [
    "$$\n",
    "n = \\frac{k(k+1)}{2} + \\epsilon\n",
    "$$\n",
    "\n",
    "\n",
    "$$\n",
    "8 = \\frac{3(3+1)}{2} + \\epsilon = 6 + \\epsilon, ~~ k = 3\n",
    "$$\n",
    "\n",
    "$$\n",
    "\\epsilon \\in [0, k+1)\n",
    "$$\n",
    "\n",
    "$$\n",
    "n = f(k) + \\epsilon \n",
    "$$\n",
    "\n",
    "$$\n",
    "f(k) = \\frac{k(k+1)}{2} = \\frac{k^2+k}{2}\n",
    "$$\n",
    "\n",
    "$$\n",
    "k^2+k = 2n\n",
    "$$\n",
    "\n",
    "$$\n",
    "k+1 = \\frac{2n}{k}\n",
    "$$\n",
    "\n",
    "$$\n",
    "n = \\frac{k^2}{2} + \\frac{k}{2} \\approx \\frac{k^2}{2}, ~~\\text{if}~~ n >> k\n",
    "$$\n",
    "\n",
    "\n",
    "$$\n",
    "n > \\frac{k^2}{2} ~~\\therefore~~ k^2 < 2n\n",
    "$$\n",
    "\n",
    "$$\n",
    "k^2+k = 2n+k > 2n ~~\\therefore~~n+\\frac{k}{2} > n\n",
    "$$\n",
    "\n",
    "$$\n",
    "n > \\frac{k^2}{2} ~~\\therefore~~ \\sqrt{2n} > k\n",
    "$$\n",
    "\n",
    "$$\n",
    "\\sqrt{2n} > k ~~\\therefore~~ \\sqrt{2(8)} = 4 > 3\n",
    "$$\n",
    "\n",
    "$$\n",
    "k_0 = \\lfloor \\sqrt{2n} \\rfloor \\\\\n",
    "k_i = k_{i-1} -1\n",
    "$$"
   ]
  },
  {
   "cell_type": "code",
   "execution_count": 16,
   "metadata": {
    "execution": {
     "iopub.execute_input": "2021-01-30T14:13:08.273248Z",
     "iopub.status.busy": "2021-01-30T14:13:08.273015Z",
     "iopub.status.idle": "2021-01-30T14:13:08.277583Z",
     "shell.execute_reply": "2021-01-30T14:13:08.276929Z",
     "shell.execute_reply.started": "2021-01-30T14:13:08.273223Z"
    }
   },
   "outputs": [],
   "source": [
    "def arranging_b(n):\n",
    "    k = int((2*n)**(0.5))\n",
    "    while k:\n",
    "        current = k*(k+1)//2\n",
    "        if (current == n) or ((current < n) and (n-current < k+1)):\n",
    "            return k\n",
    "        k -= 1\n",
    "    return False"
   ]
  },
  {
   "cell_type": "code",
   "execution_count": 17,
   "metadata": {
    "execution": {
     "iopub.execute_input": "2021-01-30T14:13:08.278593Z",
     "iopub.status.busy": "2021-01-30T14:13:08.278372Z",
     "iopub.status.idle": "2021-01-30T14:13:08.289408Z",
     "shell.execute_reply": "2021-01-30T14:13:08.288746Z",
     "shell.execute_reply.started": "2021-01-30T14:13:08.278568Z"
    }
   },
   "outputs": [
    {
     "data": {
      "text/plain": [
       "4"
      ]
     },
     "execution_count": 17,
     "metadata": {},
     "output_type": "execute_result"
    }
   ],
   "source": [
    "# test case \n",
    "n = 13\n",
    "arranging_b(n)"
   ]
  },
  {
   "cell_type": "code",
   "execution_count": 18,
   "metadata": {
    "execution": {
     "iopub.execute_input": "2021-01-30T14:13:08.290566Z",
     "iopub.status.busy": "2021-01-30T14:13:08.290328Z",
     "iopub.status.idle": "2021-01-30T14:13:08.301653Z",
     "shell.execute_reply": "2021-01-30T14:13:08.299500Z",
     "shell.execute_reply.started": "2021-01-30T14:13:08.290539Z"
    }
   },
   "outputs": [
    {
     "data": {
      "text/plain": [
       "3"
      ]
     },
     "execution_count": 18,
     "metadata": {},
     "output_type": "execute_result"
    }
   ],
   "source": [
    "n = 2\n",
    "k = int(math.sqrt(2*n))\n",
    "current = k*(k+1)//2\n",
    "current"
   ]
  },
  {
   "cell_type": "code",
   "execution_count": null,
   "metadata": {},
   "outputs": [],
   "source": []
  },
  {
   "cell_type": "code",
   "execution_count": 19,
   "metadata": {
    "execution": {
     "iopub.execute_input": "2021-01-30T14:13:08.350869Z",
     "iopub.status.busy": "2021-01-30T14:13:08.350251Z",
     "iopub.status.idle": "2021-01-30T14:13:08.358676Z",
     "shell.execute_reply": "2021-01-30T14:13:08.357465Z",
     "shell.execute_reply.started": "2021-01-30T14:13:08.350817Z"
    }
   },
   "outputs": [],
   "source": [
    "s = 0\n",
    "for n in range(1,100):\n",
    "    d = (arranging_b(n)-arranging(n))\n",
    "    if abs(d) > 0:\n",
    "        print(f'{n}: {d}')\n",
    "    s += d"
   ]
  },
  {
   "cell_type": "code",
   "execution_count": 20,
   "metadata": {
    "execution": {
     "iopub.execute_input": "2021-01-30T14:13:08.361104Z",
     "iopub.status.busy": "2021-01-30T14:13:08.360555Z",
     "iopub.status.idle": "2021-01-30T14:13:08.369077Z",
     "shell.execute_reply": "2021-01-30T14:13:08.368261Z",
     "shell.execute_reply.started": "2021-01-30T14:13:08.361047Z"
    }
   },
   "outputs": [
    {
     "data": {
      "text/plain": [
       "True"
      ]
     },
     "execution_count": 20,
     "metadata": {},
     "output_type": "execute_result"
    }
   ],
   "source": [
    "s == 0"
   ]
  },
  {
   "cell_type": "markdown",
   "metadata": {},
   "source": [
    "Timing"
   ]
  },
  {
   "cell_type": "code",
   "execution_count": 21,
   "metadata": {
    "execution": {
     "iopub.execute_input": "2021-01-30T14:13:08.370699Z",
     "iopub.status.busy": "2021-01-30T14:13:08.370341Z",
     "iopub.status.idle": "2021-01-30T14:13:18.457034Z",
     "shell.execute_reply": "2021-01-30T14:13:18.456262Z",
     "shell.execute_reply.started": "2021-01-30T14:13:08.370662Z"
    }
   },
   "outputs": [
    {
     "name": "stdout",
     "output_type": "stream",
     "text": [
      "12.4 µs ± 193 ns per loop (mean ± std. dev. of 7 runs, 100000 loops each)\n"
     ]
    }
   ],
   "source": [
    "%%timeit\n",
    "n = int(uniform(1e7, 1e8))\n",
    "arranging(n)"
   ]
  },
  {
   "cell_type": "code",
   "execution_count": 22,
   "metadata": {
    "execution": {
     "iopub.execute_input": "2021-01-30T14:13:18.458199Z",
     "iopub.status.busy": "2021-01-30T14:13:18.457953Z",
     "iopub.status.idle": "2021-01-30T14:13:32.000581Z",
     "shell.execute_reply": "2021-01-30T14:13:31.999952Z",
     "shell.execute_reply.started": "2021-01-30T14:13:18.458173Z"
    }
   },
   "outputs": [
    {
     "name": "stdout",
     "output_type": "stream",
     "text": [
      "1.66 µs ± 11.1 ns per loop (mean ± std. dev. of 7 runs, 1000000 loops each)\n"
     ]
    }
   ],
   "source": [
    "%%timeit\n",
    "n = int(uniform(1e7, 1e8))\n",
    "arranging_b(n)"
   ]
  },
  {
   "cell_type": "code",
   "execution_count": null,
   "metadata": {},
   "outputs": [],
   "source": []
  },
  {
   "cell_type": "markdown",
   "metadata": {},
   "source": [
    "# Question 4: Set Mismatch, by Amazon"
   ]
  },
  {
   "cell_type": "code",
   "execution_count": 13,
   "metadata": {
    "execution": {
     "iopub.execute_input": "2021-01-29T21:50:56.931141Z",
     "iopub.status.busy": "2021-01-29T21:50:56.930865Z",
     "iopub.status.idle": "2021-01-29T21:50:56.937076Z",
     "shell.execute_reply": "2021-01-29T21:50:56.936407Z",
     "shell.execute_reply.started": "2021-01-29T21:50:56.931115Z"
    }
   },
   "outputs": [
    {
     "data": {
      "text/plain": [
       "[7, 8]"
      ]
     },
     "execution_count": 13,
     "metadata": {},
     "output_type": "execute_result"
    }
   ],
   "source": [
    "def findErrorNums(nums):\n",
    "    return [sum(nums)-sum(set(nums)),sum(range(1,len(nums)+1)) - sum(set(nums))]# twice & missing value \n",
    "nums = [1,2,3,4,5,6,7,7,9,10]\n",
    "findErrorNums(nums)"
   ]
  },
  {
   "cell_type": "code",
   "execution_count": 15,
   "metadata": {
    "execution": {
     "iopub.execute_input": "2021-01-29T21:53:12.644609Z",
     "iopub.status.busy": "2021-01-29T21:53:12.644328Z",
     "iopub.status.idle": "2021-01-29T21:53:12.648614Z",
     "shell.execute_reply": "2021-01-29T21:53:12.647849Z",
     "shell.execute_reply.started": "2021-01-29T21:53:12.644582Z"
    }
   },
   "outputs": [
    {
     "data": {
      "text/plain": [
       "1.4142135623730951"
      ]
     },
     "execution_count": 15,
     "metadata": {},
     "output_type": "execute_result"
    }
   ],
   "source": [
    "2**(0.5)"
   ]
  },
  {
   "cell_type": "code",
   "execution_count": null,
   "metadata": {},
   "outputs": [],
   "source": []
  }
 ],
 "metadata": {
  "kernelspec": {
   "display_name": "Python 3",
   "language": "python",
   "name": "python3"
  },
  "language_info": {
   "codemirror_mode": {
    "name": "ipython",
    "version": 3
   },
   "file_extension": ".py",
   "mimetype": "text/x-python",
   "name": "python",
   "nbconvert_exporter": "python",
   "pygments_lexer": "ipython3",
   "version": "3.7.9"
  }
 },
 "nbformat": 4,
 "nbformat_minor": 4
}
