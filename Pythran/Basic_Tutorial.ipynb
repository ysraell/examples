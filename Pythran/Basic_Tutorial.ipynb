{
 "cells": [
  {
   "cell_type": "markdown",
   "metadata": {},
   "source": [
    "# Template \n",
    "\n",
    "- Author: Israel Oliveira [\\[e-mail\\]](mailto:'Israel%20Oliveira%20'<prof.israel@gmail.com>)"
   ]
  },
  {
   "cell_type": "code",
   "execution_count": 1,
   "metadata": {},
   "outputs": [],
   "source": [
    "%load_ext watermark"
   ]
  },
  {
   "cell_type": "code",
   "execution_count": 7,
   "metadata": {},
   "outputs": [],
   "source": [
    "import pandas as pd\n",
    "import pythran"
   ]
  },
  {
   "cell_type": "code",
   "execution_count": 9,
   "metadata": {},
   "outputs": [
    {
     "name": "stdout",
     "output_type": "stream",
     "text": [
      "2020-06-26T01:19:21+00:00\n",
      "\n",
      "CPython 3.7.7\n",
      "IPython 7.15.0\n",
      "\n",
      "compiler   : GCC 8.3.0\n",
      "system     : Linux\n",
      "release    : 4.19.76-linuxkit\n",
      "machine    : x86_64\n",
      "processor  : \n",
      "CPU cores  : 16\n",
      "interpreter: 64bit\n",
      "pythran 0.9.5\n",
      "pandas  1.0.5\n",
      "\n",
      "Git hash: 3eec8b191e966c58878e00a1a29f129a0c0ffcb1\n",
      "Git repo: https://github.com/ysraell/examples.git\n",
      "Git branch: master\n"
     ]
    }
   ],
   "source": [
    "# Run this cell before close.\n",
    "%watermark\n",
    "%watermark --iversion\n",
    "%watermark -b -r -g"
   ]
  },
  {
   "cell_type": "code",
   "execution_count": 4,
   "metadata": {},
   "outputs": [],
   "source": [
    "def pi_approximate(n):\n",
    "    step = 1.0 / n\n",
    "    result = 0   \n",
    "    for i in range(n):\n",
    "     x = (i + 0.5) * step\n",
    "     result += 4.0 / (1.0 + x * x)\n",
    "    return step * result\n"
   ]
  },
  {
   "cell_type": "code",
   "execution_count": 6,
   "metadata": {},
   "outputs": [
    {
     "name": "stdout",
     "output_type": "stream",
     "text": [
      "94.1 ms ± 747 µs per loop (mean ± std. dev. of 7 runs, 10 loops each)\n"
     ]
    }
   ],
   "source": [
    "%timeit pi_approximate(1000000)"
   ]
  },
  {
   "cell_type": "code",
   "execution_count": 10,
   "metadata": {},
   "outputs": [],
   "source": [
    "%load_ext pythran.magic"
   ]
  },
  {
   "cell_type": "code",
   "execution_count": 11,
   "metadata": {},
   "outputs": [],
   "source": [
    ">>> %%pythran\n",
    ">>> #pythran export pi_approximate_pythran(int)\n",
    ">>> import numpy as np\n",
    ">>> def pi_approximate_pythran(n):\n",
    "...     step = 1.0 / n\n",
    "...     result = 0   \n",
    "...     for i in range(n):\n",
    "...         x = (i + 0.5) * step\n",
    "...         result += 4.0 / (1.0 + x * x)\n",
    "...     return step * result"
   ]
  },
  {
   "cell_type": "code",
   "execution_count": 12,
   "metadata": {},
   "outputs": [
    {
     "name": "stdout",
     "output_type": "stream",
     "text": [
      "1.19 ms ± 2.46 µs per loop (mean ± std. dev. of 7 runs, 1000 loops each)\n"
     ]
    }
   ],
   "source": [
    "%timeit pi_approximate_pythran(1000000)"
   ]
  },
  {
   "cell_type": "code",
   "execution_count": 13,
   "metadata": {},
   "outputs": [],
   "source": [
    ">>> %%pythran -fopenmp\n",
    ">>> #pythran export pi_approximate_pythran_omp(int)\n",
    ">>> import numpy as np\n",
    ">>> def pi_approximate_pythran_omp(n):\n",
    "...     step = 1.0 / n\n",
    "...     result = 0\n",
    "...     #omp parallel for reduction(+:result)\n",
    "...     for i in range(n):\n",
    "...         x = (i + 0.5) * step\n",
    "...         result += 4.0 / (1.0 + x * x)\n",
    "...     return step * result"
   ]
  },
  {
   "cell_type": "code",
   "execution_count": 14,
   "metadata": {},
   "outputs": [
    {
     "name": "stdout",
     "output_type": "stream",
     "text": [
      "196 µs ± 23.5 µs per loop (mean ± std. dev. of 7 runs, 1000 loops each)\n"
     ]
    }
   ],
   "source": [
    "%timeit pi_approximate_pythran_omp(1000000)"
   ]
  },
  {
   "cell_type": "code",
   "execution_count": 15,
   "metadata": {},
   "outputs": [],
   "source": [
    ">>> import numpy as np\n",
    ">>> def pi_numpy_style(n):\n",
    "...     step = 1.0 / n\n",
    "...     x = (np.arange(0, n, dtype=np.float64) + 0.5) * step\n",
    "...     return step * np.sum(4. / (1. + x ** 2))"
   ]
  },
  {
   "cell_type": "code",
   "execution_count": 16,
   "metadata": {},
   "outputs": [
    {
     "name": "stdout",
     "output_type": "stream",
     "text": [
      "7.22 ms ± 490 µs per loop (mean ± std. dev. of 7 runs, 100 loops each)\n"
     ]
    }
   ],
   "source": [
    "%timeit pi_numpy_style(1000000)"
   ]
  },
  {
   "cell_type": "code",
   "execution_count": 17,
   "metadata": {},
   "outputs": [],
   "source": [
    ">>> %%pythran\n",
    ">>> #pythran export pi_numpy_style_pythran(int)\n",
    ">>> import numpy as np\n",
    ">>> def pi_numpy_style_pythran(n):\n",
    "...     step = 1.0 / n\n",
    "...     x = (np.arange(0, n, dtype=np.float64) + 0.5) * step\n",
    "...     return step * np.sum(4. / (1. + x ** 2))"
   ]
  },
  {
   "cell_type": "code",
   "execution_count": 18,
   "metadata": {},
   "outputs": [
    {
     "name": "stdout",
     "output_type": "stream",
     "text": [
      "1.49 ms ± 14.2 µs per loop (mean ± std. dev. of 7 runs, 1000 loops each)\n"
     ]
    }
   ],
   "source": [
    "%timeit pi_numpy_style_pythran(1000000)"
   ]
  },
  {
   "cell_type": "code",
   "execution_count": 19,
   "metadata": {},
   "outputs": [],
   "source": [
    ">>> %%pythran -DUSE_BOOST_SIMD -march=native\n",
    ">>> #pythran export pi_numpy_style_pythran_simd(int)\n",
    ">>> import numpy as np\n",
    ">>> def pi_numpy_style_pythran_simd(n):\n",
    "...     step = 1.0 / n\n",
    "...     x = (np.arange(0, n, dtype=np.float64) + 0.5) * step\n",
    "...     return step * np.sum(4. / (1. + x ** 2))"
   ]
  },
  {
   "cell_type": "code",
   "execution_count": 20,
   "metadata": {},
   "outputs": [
    {
     "name": "stdout",
     "output_type": "stream",
     "text": [
      "511 µs ± 979 ns per loop (mean ± std. dev. of 7 runs, 1000 loops each)\n"
     ]
    }
   ],
   "source": [
    "%timeit pi_numpy_style_pythran_simd(1000000)"
   ]
  },
  {
   "cell_type": "markdown",
   "metadata": {},
   "source": [
    "# pairwise"
   ]
  },
  {
   "cell_type": "code",
   "execution_count": 22,
   "metadata": {},
   "outputs": [],
   "source": [
    ">>> def pairwise_distance(X):\n",
    "...     return np.sqrt(((X[:, None, :] - X) ** 2).sum(-1))"
   ]
  },
  {
   "cell_type": "code",
   "execution_count": 24,
   "metadata": {},
   "outputs": [
    {
     "name": "stdout",
     "output_type": "stream",
     "text": [
      "3.14 ms ± 84.2 µs per loop (mean ± std. dev. of 7 runs, 100 loops each)\n",
      "3.85 ms ± 53.3 µs per loop (mean ± std. dev. of 7 runs, 100 loops each)\n"
     ]
    }
   ],
   "source": [
    ">>> size = 100\n",
    ">>> args32 = np.random.random((size, size)).astype(np.float32)\n",
    ">>> args64 = np.random.random((size, size)).astype(np.float64)  #cast useless\n",
    ">>> %timeit pairwise_distance(args32)\n",
    ">>> %timeit pairwise_distance(args64)"
   ]
  },
  {
   "cell_type": "code",
   "execution_count": 49,
   "metadata": {},
   "outputs": [],
   "source": [
    ">>> %%pythran -fopenmp\n",
    ">>> import numpy as np\n",
    ">>> #pythran export pairwise_distance_pythran(float32[][])\n",
    ">>> #pythran export pairwise_distance_pythran(float64[:,:])\n",
    ">>> def pairwise_distance_pythran(X):\n",
    "...     print(X.dtype)\n",
    "...     return np.sqrt(((X[:, None, :] - X) ** 2).sum(-1))"
   ]
  },
  {
   "cell_type": "code",
   "execution_count": 30,
   "metadata": {},
   "outputs": [
    {
     "name": "stdout",
     "output_type": "stream",
     "text": [
      "float32\n",
      "769 µs ± 2.55 µs per loop (mean ± std. dev. of 7 runs, 1000 loops each)\n",
      "float64\n",
      "887 µs ± 2.99 µs per loop (mean ± std. dev. of 7 runs, 1000 loops each)\n"
     ]
    }
   ],
   "source": [
    ">>> print(pairwise_distance_pythran(args32).dtype)\n",
    ">>> %timeit pairwise_distance_pythran(args32)\n",
    ">>> print(pairwise_distance_pythran(args64).dtype)\n",
    ">>> %timeit pairwise_distance_pythran(args64)"
   ]
  },
  {
   "cell_type": "code",
   "execution_count": 32,
   "metadata": {},
   "outputs": [
    {
     "data": {
      "text/plain": [
       "(100, 100)"
      ]
     },
     "execution_count": 32,
     "metadata": {},
     "output_type": "execute_result"
    }
   ],
   "source": [
    "args32.shape"
   ]
  },
  {
   "cell_type": "code",
   "execution_count": 44,
   "metadata": {},
   "outputs": [],
   "source": [
    "matrix = np.random.random((1000, 5)).astype(np.float32)"
   ]
  },
  {
   "cell_type": "code",
   "execution_count": 45,
   "metadata": {},
   "outputs": [
    {
     "name": "stdout",
     "output_type": "stream",
     "text": [
      "27.1 ms ± 438 µs per loop (mean ± std. dev. of 7 runs, 10 loops each)\n"
     ]
    }
   ],
   "source": [
    "%timeit pairwise_distance(matrix)"
   ]
  },
  {
   "cell_type": "code",
   "execution_count": 50,
   "metadata": {},
   "outputs": [
    {
     "name": "stdout",
     "output_type": "stream",
     "text": [
      "16.4 ms ± 739 µs per loop (mean ± std. dev. of 7 runs, 10 loops each)\n"
     ]
    }
   ],
   "source": [
    "%timeit pairwise_distance_pythran(matrix)"
   ]
  },
  {
   "cell_type": "code",
   "execution_count": 43,
   "metadata": {},
   "outputs": [
    {
     "data": {
      "text/plain": [
       "(10,)"
      ]
     },
     "execution_count": 43,
     "metadata": {},
     "output_type": "execute_result"
    }
   ],
   "source": [
    "a[3].shape"
   ]
  },
  {
   "cell_type": "code",
   "execution_count": null,
   "metadata": {},
   "outputs": [],
   "source": []
  }
 ],
 "metadata": {
  "kernelspec": {
   "display_name": "Python 3",
   "language": "python",
   "name": "python3"
  },
  "language_info": {
   "codemirror_mode": {
    "name": "ipython",
    "version": 3
   },
   "file_extension": ".py",
   "mimetype": "text/x-python",
   "name": "python",
   "nbconvert_exporter": "python",
   "pygments_lexer": "ipython3",
   "version": "3.7.7"
  }
 },
 "nbformat": 4,
 "nbformat_minor": 4
}
