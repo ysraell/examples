{
 "cells": [
  {
   "cell_type": "markdown",
   "metadata": {},
   "source": [
    "# WHAT IS TORCH.NN REALLY?\n",
    "\n",
    "https://pytorch.org/tutorials/beginner/nn_tutorial.html\n",
    "\n",
    "- Author: Israel Oliveira [\\[e-mail\\]](mailto:'Israel%20Oliveira%20'<prof.israel@gmail.com>)"
   ]
  },
  {
   "cell_type": "code",
   "execution_count": 1,
   "metadata": {
    "execution": {
     "iopub.execute_input": "2021-01-31T22:25:19.422775Z",
     "iopub.status.busy": "2021-01-31T22:25:19.422457Z",
     "iopub.status.idle": "2021-01-31T22:25:19.461279Z",
     "shell.execute_reply": "2021-01-31T22:25:19.460343Z",
     "shell.execute_reply.started": "2021-01-31T22:25:19.422741Z"
    }
   },
   "outputs": [],
   "source": [
    "%load_ext watermark\n",
    "%config Completer.use_jedi = False"
   ]
  },
  {
   "cell_type": "code",
   "execution_count": 2,
   "metadata": {
    "execution": {
     "iopub.execute_input": "2021-01-31T22:25:20.427510Z",
     "iopub.status.busy": "2021-01-31T22:25:20.426852Z",
     "iopub.status.idle": "2021-01-31T22:25:20.432958Z",
     "shell.execute_reply": "2021-01-31T22:25:20.431702Z",
     "shell.execute_reply.started": "2021-01-31T22:25:20.427442Z"
    }
   },
   "outputs": [],
   "source": [
    "import pandas as pd"
   ]
  },
  {
   "cell_type": "code",
   "execution_count": 3,
   "metadata": {
    "execution": {
     "iopub.execute_input": "2021-01-31T22:25:20.762827Z",
     "iopub.status.busy": "2021-01-31T22:25:20.761992Z",
     "iopub.status.idle": "2021-01-31T22:25:20.769155Z",
     "shell.execute_reply": "2021-01-31T22:25:20.767731Z",
     "shell.execute_reply.started": "2021-01-31T22:25:20.762752Z"
    }
   },
   "outputs": [],
   "source": [
    "#import matplotlib.pyplot as plt\n",
    "#%matplotlib inline\n",
    "#from IPython.core.pylabtools import figsize\n",
    "#figsize(12, 8)\n",
    "\n",
    "#import seaborn as sns\n",
    "#sns.set_theme()\n",
    "\n",
    "#pd.set_option(\"max_columns\", None)\n",
    "#pd.set_option(\"max_rows\", None)\n",
    "\n",
    "#from IPython.display import Markdown, display\n",
    "#def md(arg):\n",
    "#    display(Markdown(arg))\n",
    "\n",
    "#from pandas_profiling import ProfileReport\n",
    "# report = ProfileReport(#DataFrame here#, minimal=True)\n",
    "# report.to\n",
    "\n",
    "#import pyarrow.parquet as pq\n",
    "# df = pq.ParquetDataset(path_to_folder_with_parquets, filesystem=None).read_pandas().to_pandas()"
   ]
  },
  {
   "cell_type": "code",
   "execution_count": 4,
   "metadata": {
    "execution": {
     "iopub.execute_input": "2021-01-31T22:25:21.409694Z",
     "iopub.status.busy": "2021-01-31T22:25:21.409094Z",
     "iopub.status.idle": "2021-01-31T22:25:22.708736Z",
     "shell.execute_reply": "2021-01-31T22:25:22.706567Z",
     "shell.execute_reply.started": "2021-01-31T22:25:21.409646Z"
    }
   },
   "outputs": [
    {
     "name": "stdout",
     "output_type": "stream",
     "text": [
      "Python implementation: CPython\n",
      "Python version       : 3.7.9\n",
      "IPython version      : 7.19.0\n",
      "\n",
      "Compiler    : GCC 8.3.0\n",
      "OS          : Linux\n",
      "Release     : 5.8.0-7630-generic\n",
      "Machine     : x86_64\n",
      "Processor   : \n",
      "CPU cores   : 8\n",
      "Architecture: 64bit\n",
      "\n",
      "Git hash: 1a3a825233de5d88c7bbcc4d75a74973a95ee894\n",
      "\n",
      "Git repo: https://github.com/ysraell/examples.git\n",
      "\n",
      "Git branch: master\n",
      "\n",
      "ipywidgets: 7.6.3\n",
      "pandas    : 1.2.1\n",
      "json      : 2.0.9\n",
      "numpy     : 1.19.5\n",
      "sys       : 3.7.9 (default, Jan 12 2021, 17:26:22) \n",
      "[GCC 8.3.0]\n",
      "\n",
      "CPU\t: Intel(R) Xeon(R) CPU E3-1241 v3 @ 3.50GHz\n",
      "Mem:           31G\n",
      "Swap:         4.0G\n"
     ]
    }
   ],
   "source": [
    "# Run this cell before close.\n",
    "%watermark -d --iversion -b -r -g -m -v\n",
    "!cat /proc/cpuinfo |grep 'model name'|head -n 1 |sed -e 's/model\\ name/CPU/'\n",
    "!free -h |cut -d'i' -f1  |grep -v total"
   ]
  },
  {
   "cell_type": "code",
   "execution_count": 6,
   "metadata": {
    "execution": {
     "iopub.execute_input": "2021-01-31T22:26:27.772692Z",
     "iopub.status.busy": "2021-01-31T22:26:27.772309Z",
     "iopub.status.idle": "2021-01-31T22:26:32.492021Z",
     "shell.execute_reply": "2021-01-31T22:26:32.491325Z",
     "shell.execute_reply.started": "2021-01-31T22:26:27.772662Z"
    }
   },
   "outputs": [],
   "source": [
    "from pathlib import Path\n",
    "import requests\n",
    "\n",
    "DATA_PATH = Path(\"data\")\n",
    "PATH = DATA_PATH / \"mnist\"\n",
    "\n",
    "PATH.mkdir(parents=True, exist_ok=True)\n",
    "\n",
    "URL = \"https://github.com/pytorch/tutorials/raw/master/_static/\"\n",
    "FILENAME = \"mnist.pkl.gz\"\n",
    "\n",
    "if not (PATH / FILENAME).exists():\n",
    "    content = requests.get(URL + FILENAME).content\n",
    "    (PATH / FILENAME).open(\"wb\").write(content)"
   ]
  },
  {
   "cell_type": "code",
   "execution_count": 7,
   "metadata": {
    "execution": {
     "iopub.execute_input": "2021-01-31T22:26:46.203537Z",
     "iopub.status.busy": "2021-01-31T22:26:46.202987Z",
     "iopub.status.idle": "2021-01-31T22:26:47.004161Z",
     "shell.execute_reply": "2021-01-31T22:26:47.003451Z",
     "shell.execute_reply.started": "2021-01-31T22:26:46.203483Z"
    }
   },
   "outputs": [],
   "source": [
    "import pickle\n",
    "import gzip\n",
    "\n",
    "with gzip.open((PATH / FILENAME).as_posix(), \"rb\") as f:\n",
    "    ((x_train, y_train), (x_valid, y_valid), _) = pickle.load(f, encoding=\"latin-1\")"
   ]
  },
  {
   "cell_type": "code",
   "execution_count": 8,
   "metadata": {
    "execution": {
     "iopub.execute_input": "2021-01-31T22:26:55.356666Z",
     "iopub.status.busy": "2021-01-31T22:26:55.355952Z",
     "iopub.status.idle": "2021-01-31T22:26:56.402668Z",
     "shell.execute_reply": "2021-01-31T22:26:56.401527Z",
     "shell.execute_reply.started": "2021-01-31T22:26:55.356594Z"
    }
   },
   "outputs": [
    {
     "name": "stdout",
     "output_type": "stream",
     "text": [
      "(50000, 784)\n"
     ]
    },
    {
     "data": {
      "image/png": "[encoded data removed]",
      "text/plain": [
       "<Figure size 432x288 with 1 Axes>"
      ]
     },
     "metadata": {
      "needs_background": "light"
     },
     "output_type": "display_data"
    }
   ],
   "source": [
    "from matplotlib import pyplot\n",
    "import numpy as np\n",
    "\n",
    "pyplot.imshow(x_train[0].reshape((28, 28)), cmap=\"gray\")\n",
    "print(x_train.shape)"
   ]
  },
  {
   "cell_type": "code",
   "execution_count": 10,
   "metadata": {
    "execution": {
     "iopub.execute_input": "2021-01-31T22:32:01.051341Z",
     "iopub.status.busy": "2021-01-31T22:32:01.050896Z",
     "iopub.status.idle": "2021-01-31T22:32:02.151427Z",
     "shell.execute_reply": "2021-01-31T22:32:02.150092Z",
     "shell.execute_reply.started": "2021-01-31T22:32:01.051296Z"
    }
   },
   "outputs": [
    {
     "name": "stdout",
     "output_type": "stream",
     "text": [
      "tensor([[0., 0., 0.,  ..., 0., 0., 0.],\n",
      "        [0., 0., 0.,  ..., 0., 0., 0.],\n",
      "        [0., 0., 0.,  ..., 0., 0., 0.],\n",
      "        ...,\n",
      "        [0., 0., 0.,  ..., 0., 0., 0.],\n",
      "        [0., 0., 0.,  ..., 0., 0., 0.],\n",
      "        [0., 0., 0.,  ..., 0., 0., 0.]]) tensor([5, 0, 4,  ..., 8, 4, 8])\n",
      "torch.Size([50000, 784])\n",
      "tensor(0) tensor(9)\n"
     ]
    }
   ],
   "source": [
    "import torch\n",
    "\n",
    "x_train, y_train, x_valid, y_valid = map(\n",
    "    torch.tensor, (x_train, y_train, x_valid, y_valid)\n",
    ")\n",
    "n, c = x_train.shape\n",
    "\n",
    "print(x_train, y_train)\n",
    "print(x_train.shape)\n",
    "print(y_train.min(), y_train.max())"
   ]
  },
  {
   "cell_type": "code",
   "execution_count": 11,
   "metadata": {
    "execution": {
     "iopub.execute_input": "2021-01-31T22:35:37.544657Z",
     "iopub.status.busy": "2021-01-31T22:35:37.544204Z",
     "iopub.status.idle": "2021-01-31T22:35:37.569319Z",
     "shell.execute_reply": "2021-01-31T22:35:37.568709Z",
     "shell.execute_reply.started": "2021-01-31T22:35:37.544613Z"
    }
   },
   "outputs": [],
   "source": [
    "import math\n",
    "\n",
    "weights = torch.randn(784, 10) / math.sqrt(784)\n",
    "weights.requires_grad_()\n",
    "bias = torch.zeros(10, requires_grad=True)"
   ]
  },
  {
   "cell_type": "code",
   "execution_count": 15,
   "metadata": {
    "execution": {
     "iopub.execute_input": "2021-01-31T22:37:17.587743Z",
     "iopub.status.busy": "2021-01-31T22:37:17.587476Z",
     "iopub.status.idle": "2021-01-31T22:37:17.721999Z",
     "shell.execute_reply": "2021-01-31T22:37:17.721152Z",
     "shell.execute_reply.started": "2021-01-31T22:37:17.587717Z"
    }
   },
   "outputs": [
    {
     "data": {
      "text/plain": [
       "<matplotlib.image.AxesImage at 0x7f5ce331d9d0>"
      ]
     },
     "execution_count": 15,
     "metadata": {},
     "output_type": "execute_result"
    },
    {
     "data": {
      "image/png": "[encoded data removed]",
      "text/plain": [
       "<Figure size 432x288 with 1 Axes>"
      ]
     },
     "metadata": {
      "needs_background": "light"
     },
     "output_type": "display_data"
    }
   ],
   "source": [
    "pyplot.imshow(weights[:,1].detach().numpy().reshape((28, 28)), cmap=\"gray\")"
   ]
  },
  {
   "cell_type": "code",
   "execution_count": 16,
   "metadata": {
    "execution": {
     "iopub.execute_input": "2021-01-31T22:38:56.603099Z",
     "iopub.status.busy": "2021-01-31T22:38:56.602694Z",
     "iopub.status.idle": "2021-01-31T22:38:56.608466Z",
     "shell.execute_reply": "2021-01-31T22:38:56.607471Z",
     "shell.execute_reply.started": "2021-01-31T22:38:56.603046Z"
    }
   },
   "outputs": [],
   "source": [
    "def log_softmax(x):\n",
    "    return x - x.exp().sum(-1).log().unsqueeze(-1)\n",
    "\n",
    "def model(xb):\n",
    "    return log_softmax(xb @ weights + bias)"
   ]
  },
  {
   "cell_type": "code",
   "execution_count": 24,
   "metadata": {
    "execution": {
     "iopub.execute_input": "2021-01-31T22:50:00.433416Z",
     "iopub.status.busy": "2021-01-31T22:50:00.432705Z",
     "iopub.status.idle": "2021-01-31T22:50:00.449749Z",
     "shell.execute_reply": "2021-01-31T22:50:00.448980Z",
     "shell.execute_reply.started": "2021-01-31T22:50:00.433342Z"
    }
   },
   "outputs": [
    {
     "name": "stdout",
     "output_type": "stream",
     "text": [
      "tensor([-2.1976, -2.5080, -2.3068, -2.4617, -2.5240, -2.7019, -2.3677, -2.0180,\n",
      "        -1.6324, -2.9310], grad_fn=<SelectBackward>) torch.Size([64, 10])\n"
     ]
    }
   ],
   "source": [
    "bs = 64  # batch size\n",
    "\n",
    "xb = x_train[0:bs]  # a mini-batch from x\n",
    "preds = model(xb)  # predictions\n",
    "print(preds[0], preds.shape)"
   ]
  },
  {
   "cell_type": "code",
   "execution_count": 25,
   "metadata": {
    "execution": {
     "iopub.execute_input": "2021-01-31T22:52:51.095844Z",
     "iopub.status.busy": "2021-01-31T22:52:51.095030Z",
     "iopub.status.idle": "2021-01-31T22:52:51.106095Z",
     "shell.execute_reply": "2021-01-31T22:52:51.105322Z",
     "shell.execute_reply.started": "2021-01-31T22:52:51.095761Z"
    }
   },
   "outputs": [
    {
     "name": "stdout",
     "output_type": "stream",
     "text": [
      "tensor(2.3232, grad_fn=<NegBackward>)\n"
     ]
    }
   ],
   "source": [
    "def nll(input, target):\n",
    "    return -input[range(target.shape[0]), target].mean()\n",
    "\n",
    "loss_func = nll\n",
    "\n",
    "yb = y_train[0:bs]\n",
    "print(loss_func(preds, yb))"
   ]
  },
  {
   "cell_type": "code",
   "execution_count": 26,
   "metadata": {
    "execution": {
     "iopub.execute_input": "2021-01-31T22:53:30.434368Z",
     "iopub.status.busy": "2021-01-31T22:53:30.433884Z",
     "iopub.status.idle": "2021-01-31T22:53:30.445861Z",
     "shell.execute_reply": "2021-01-31T22:53:30.444867Z",
     "shell.execute_reply.started": "2021-01-31T22:53:30.434323Z"
    }
   },
   "outputs": [
    {
     "name": "stdout",
     "output_type": "stream",
     "text": [
      "tensor(0.0469)\n"
     ]
    }
   ],
   "source": [
    "def accuracy(out, yb):\n",
    "    preds = torch.argmax(out, dim=1)\n",
    "    return (preds == yb).float().mean()\n",
    "\n",
    "print(accuracy(preds, yb))"
   ]
  },
  {
   "cell_type": "code",
   "execution_count": 29,
   "metadata": {
    "execution": {
     "iopub.execute_input": "2021-01-31T22:56:46.085923Z",
     "iopub.status.busy": "2021-01-31T22:56:46.085529Z",
     "iopub.status.idle": "2021-01-31T22:56:46.739618Z",
     "shell.execute_reply": "2021-01-31T22:56:46.738959Z",
     "shell.execute_reply.started": "2021-01-31T22:56:46.085880Z"
    }
   },
   "outputs": [],
   "source": [
    "from IPython.core.debugger import set_trace\n",
    "\n",
    "lr = 0.5  # learning rate\n",
    "epochs = 2  # how many epochs to train for\n",
    "\n",
    "for epoch in range(epochs):\n",
    "    for i in range((n - 1) // bs + 1):\n",
    "        start_i = i * bs\n",
    "        end_i = start_i + bs\n",
    "        xb = x_train[start_i:end_i]\n",
    "        yb = y_train[start_i:end_i]\n",
    "        pred = model(xb)\n",
    "        loss = loss_func(pred, yb)\n",
    "\n",
    "        loss.backward()\n",
    "        with torch.no_grad():\n",
    "            weights -= weights.grad * lr\n",
    "            bias -= bias.grad * lr\n",
    "            weights.grad.zero_()\n",
    "            bias.grad.zero_()"
   ]
  },
  {
   "cell_type": "code",
   "execution_count": 30,
   "metadata": {
    "execution": {
     "iopub.execute_input": "2021-01-31T22:56:58.710434Z",
     "iopub.status.busy": "2021-01-31T22:56:58.709969Z",
     "iopub.status.idle": "2021-01-31T22:56:58.717701Z",
     "shell.execute_reply": "2021-01-31T22:56:58.716856Z",
     "shell.execute_reply.started": "2021-01-31T22:56:58.710388Z"
    }
   },
   "outputs": [
    {
     "name": "stdout",
     "output_type": "stream",
     "text": [
      "tensor(0.0653, grad_fn=<NegBackward>) tensor(1.)\n"
     ]
    }
   ],
   "source": [
    "print(loss_func(model(xb), yb), accuracy(model(xb), yb))"
   ]
  },
  {
   "cell_type": "code",
   "execution_count": 32,
   "metadata": {
    "execution": {
     "iopub.execute_input": "2021-01-31T22:58:01.530236Z",
     "iopub.status.busy": "2021-01-31T22:58:01.529760Z",
     "iopub.status.idle": "2021-01-31T22:58:01.539826Z",
     "shell.execute_reply": "2021-01-31T22:58:01.539078Z",
     "shell.execute_reply.started": "2021-01-31T22:58:01.530201Z"
    }
   },
   "outputs": [
    {
     "name": "stdout",
     "output_type": "stream",
     "text": [
      "tensor(0.9217)\n"
     ]
    }
   ],
   "source": [
    "print(accuracy(model(x_valid), y_valid))"
   ]
  },
  {
   "cell_type": "code",
   "execution_count": 35,
   "metadata": {
    "execution": {
     "iopub.execute_input": "2021-01-31T23:09:19.967187Z",
     "iopub.status.busy": "2021-01-31T23:09:19.966736Z",
     "iopub.status.idle": "2021-01-31T23:09:19.972765Z",
     "shell.execute_reply": "2021-01-31T23:09:19.972103Z",
     "shell.execute_reply.started": "2021-01-31T23:09:19.967147Z"
    }
   },
   "outputs": [
    {
     "data": {
      "text/plain": [
       "tensor(3)"
      ]
     },
     "execution_count": 35,
     "metadata": {},
     "output_type": "execute_result"
    }
   ],
   "source": [
    "torch.argmax(model(x_valid[0]))"
   ]
  },
  {
   "cell_type": "code",
   "execution_count": 34,
   "metadata": {
    "execution": {
     "iopub.execute_input": "2021-01-31T23:08:44.603257Z",
     "iopub.status.busy": "2021-01-31T23:08:44.602594Z",
     "iopub.status.idle": "2021-01-31T23:08:44.610165Z",
     "shell.execute_reply": "2021-01-31T23:08:44.609258Z",
     "shell.execute_reply.started": "2021-01-31T23:08:44.603183Z"
    }
   },
   "outputs": [
    {
     "data": {
      "text/plain": [
       "tensor(3)"
      ]
     },
     "execution_count": 34,
     "metadata": {},
     "output_type": "execute_result"
    }
   ],
   "source": [
    "y_valid[0]"
   ]
  },
  {
   "cell_type": "code",
   "execution_count": 36,
   "metadata": {
    "execution": {
     "iopub.execute_input": "2021-01-31T23:12:17.048239Z",
     "iopub.status.busy": "2021-01-31T23:12:17.047603Z",
     "iopub.status.idle": "2021-01-31T23:12:17.054241Z",
     "shell.execute_reply": "2021-01-31T23:12:17.053382Z",
     "shell.execute_reply.started": "2021-01-31T23:12:17.048175Z"
    }
   },
   "outputs": [],
   "source": [
    "import torch.nn.functional as F\n",
    "\n",
    "loss_func = F.cross_entropy\n",
    "\n",
    "def model(xb):\n",
    "    return xb @ weights + bias"
   ]
  },
  {
   "cell_type": "code",
   "execution_count": 37,
   "metadata": {
    "execution": {
     "iopub.execute_input": "2021-01-31T23:12:23.199183Z",
     "iopub.status.busy": "2021-01-31T23:12:23.198392Z",
     "iopub.status.idle": "2021-01-31T23:12:23.227764Z",
     "shell.execute_reply": "2021-01-31T23:12:23.226946Z",
     "shell.execute_reply.started": "2021-01-31T23:12:23.199125Z"
    }
   },
   "outputs": [
    {
     "name": "stdout",
     "output_type": "stream",
     "text": [
      "tensor(0.0653, grad_fn=<NllLossBackward>) tensor(1.)\n"
     ]
    }
   ],
   "source": [
    "print(loss_func(model(xb), yb), accuracy(model(xb), yb))"
   ]
  },
  {
   "cell_type": "code",
   "execution_count": 38,
   "metadata": {
    "execution": {
     "iopub.execute_input": "2021-01-31T23:17:28.620676Z",
     "iopub.status.busy": "2021-01-31T23:17:28.620223Z",
     "iopub.status.idle": "2021-01-31T23:17:28.628204Z",
     "shell.execute_reply": "2021-01-31T23:17:28.627492Z",
     "shell.execute_reply.started": "2021-01-31T23:17:28.620629Z"
    }
   },
   "outputs": [],
   "source": [
    "from torch import nn\n",
    "\n",
    "class Mnist_Logistic(nn.Module):\n",
    "    def __init__(self):\n",
    "        super().__init__()\n",
    "        self.weights = nn.Parameter(torch.randn(784, 10) / math.sqrt(784))\n",
    "        self.bias = nn.Parameter(torch.zeros(10))\n",
    "\n",
    "    def forward(self, xb):\n",
    "        return xb @ self.weights + self.bias"
   ]
  },
  {
   "cell_type": "code",
   "execution_count": 39,
   "metadata": {
    "execution": {
     "iopub.execute_input": "2021-01-31T23:17:41.713623Z",
     "iopub.status.busy": "2021-01-31T23:17:41.713119Z",
     "iopub.status.idle": "2021-01-31T23:17:41.718734Z",
     "shell.execute_reply": "2021-01-31T23:17:41.717612Z",
     "shell.execute_reply.started": "2021-01-31T23:17:41.713596Z"
    }
   },
   "outputs": [],
   "source": [
    "model = Mnist_Logistic()"
   ]
  },
  {
   "cell_type": "code",
   "execution_count": 41,
   "metadata": {
    "execution": {
     "iopub.execute_input": "2021-01-31T23:17:55.517743Z",
     "iopub.status.busy": "2021-01-31T23:17:55.517412Z",
     "iopub.status.idle": "2021-01-31T23:17:55.522662Z",
     "shell.execute_reply": "2021-01-31T23:17:55.521776Z",
     "shell.execute_reply.started": "2021-01-31T23:17:55.517711Z"
    }
   },
   "outputs": [
    {
     "name": "stdout",
     "output_type": "stream",
     "text": [
      "tensor(2.3393, grad_fn=<NllLossBackward>)\n"
     ]
    }
   ],
   "source": [
    "print(loss_func(model(xb), yb))"
   ]
  },
  {
   "cell_type": "code",
   "execution_count": 42,
   "metadata": {
    "execution": {
     "iopub.execute_input": "2021-01-31T23:19:23.222546Z",
     "iopub.status.busy": "2021-01-31T23:19:23.222066Z",
     "iopub.status.idle": "2021-01-31T23:19:23.867713Z",
     "shell.execute_reply": "2021-01-31T23:19:23.867044Z",
     "shell.execute_reply.started": "2021-01-31T23:19:23.222508Z"
    }
   },
   "outputs": [],
   "source": [
    "def fit():\n",
    "    for epoch in range(epochs):\n",
    "        for i in range((n - 1) // bs + 1):\n",
    "            start_i = i * bs\n",
    "            end_i = start_i + bs\n",
    "            xb = x_train[start_i:end_i]\n",
    "            yb = y_train[start_i:end_i]\n",
    "            pred = model(xb)\n",
    "            loss = loss_func(pred, yb)\n",
    "\n",
    "            loss.backward()\n",
    "            with torch.no_grad():\n",
    "                for p in model.parameters():\n",
    "                    p -= p.grad * lr\n",
    "                model.zero_grad()\n",
    "\n",
    "fit()"
   ]
  },
  {
   "cell_type": "code",
   "execution_count": 43,
   "metadata": {
    "execution": {
     "iopub.execute_input": "2021-01-31T23:19:40.971833Z",
     "iopub.status.busy": "2021-01-31T23:19:40.971157Z",
     "iopub.status.idle": "2021-01-31T23:19:40.978322Z",
     "shell.execute_reply": "2021-01-31T23:19:40.977326Z",
     "shell.execute_reply.started": "2021-01-31T23:19:40.971768Z"
    }
   },
   "outputs": [
    {
     "name": "stdout",
     "output_type": "stream",
     "text": [
      "tensor(0.0816, grad_fn=<NllLossBackward>)\n"
     ]
    }
   ],
   "source": [
    "print(loss_func(model(xb), yb))"
   ]
  },
  {
   "cell_type": "code",
   "execution_count": 44,
   "metadata": {
    "execution": {
     "iopub.execute_input": "2021-01-31T23:20:16.533178Z",
     "iopub.status.busy": "2021-01-31T23:20:16.532677Z",
     "iopub.status.idle": "2021-01-31T23:20:16.539310Z",
     "shell.execute_reply": "2021-01-31T23:20:16.538575Z",
     "shell.execute_reply.started": "2021-01-31T23:20:16.533129Z"
    }
   },
   "outputs": [],
   "source": [
    "class Mnist_Logistic(nn.Module):\n",
    "    def __init__(self):\n",
    "        super().__init__()\n",
    "        self.lin = nn.Linear(784, 10)\n",
    "\n",
    "    def forward(self, xb):\n",
    "        return self.lin(xb)"
   ]
  },
  {
   "cell_type": "code",
   "execution_count": 45,
   "metadata": {
    "execution": {
     "iopub.execute_input": "2021-01-31T23:20:29.514429Z",
     "iopub.status.busy": "2021-01-31T23:20:29.513948Z",
     "iopub.status.idle": "2021-01-31T23:20:29.526681Z",
     "shell.execute_reply": "2021-01-31T23:20:29.525719Z",
     "shell.execute_reply.started": "2021-01-31T23:20:29.514387Z"
    }
   },
   "outputs": [
    {
     "name": "stdout",
     "output_type": "stream",
     "text": [
      "tensor(2.2518, grad_fn=<NllLossBackward>)\n"
     ]
    }
   ],
   "source": [
    "model = Mnist_Logistic()\n",
    "print(loss_func(model(xb), yb))"
   ]
  },
  {
   "cell_type": "code",
   "execution_count": 46,
   "metadata": {
    "execution": {
     "iopub.execute_input": "2021-01-31T23:20:38.122325Z",
     "iopub.status.busy": "2021-01-31T23:20:38.121804Z",
     "iopub.status.idle": "2021-01-31T23:20:38.911134Z",
     "shell.execute_reply": "2021-01-31T23:20:38.910396Z",
     "shell.execute_reply.started": "2021-01-31T23:20:38.122267Z"
    }
   },
   "outputs": [
    {
     "name": "stdout",
     "output_type": "stream",
     "text": [
      "tensor(0.0808, grad_fn=<NllLossBackward>)\n"
     ]
    }
   ],
   "source": [
    "fit()\n",
    "\n",
    "print(loss_func(model(xb), yb))"
   ]
  },
  {
   "cell_type": "code",
   "execution_count": 47,
   "metadata": {
    "execution": {
     "iopub.execute_input": "2021-01-31T23:21:07.295003Z",
     "iopub.status.busy": "2021-01-31T23:21:07.294348Z",
     "iopub.status.idle": "2021-01-31T23:21:07.300267Z",
     "shell.execute_reply": "2021-01-31T23:21:07.299355Z",
     "shell.execute_reply.started": "2021-01-31T23:21:07.294939Z"
    }
   },
   "outputs": [],
   "source": [
    "from torch import optim"
   ]
  },
  {
   "cell_type": "code",
   "execution_count": 48,
   "metadata": {
    "execution": {
     "iopub.execute_input": "2021-01-31T23:21:29.805065Z",
     "iopub.status.busy": "2021-01-31T23:21:29.804770Z",
     "iopub.status.idle": "2021-01-31T23:21:30.462709Z",
     "shell.execute_reply": "2021-01-31T23:21:30.461865Z",
     "shell.execute_reply.started": "2021-01-31T23:21:29.805039Z"
    }
   },
   "outputs": [
    {
     "name": "stdout",
     "output_type": "stream",
     "text": [
      "tensor(2.3219, grad_fn=<NllLossBackward>)\n",
      "tensor(0.0822, grad_fn=<NllLossBackward>)\n"
     ]
    }
   ],
   "source": [
    "def get_model():\n",
    "    model = Mnist_Logistic()\n",
    "    return model, optim.SGD(model.parameters(), lr=lr)\n",
    "\n",
    "model, opt = get_model()\n",
    "print(loss_func(model(xb), yb))\n",
    "\n",
    "for epoch in range(epochs):\n",
    "    for i in range((n - 1) // bs + 1):\n",
    "        start_i = i * bs\n",
    "        end_i = start_i + bs\n",
    "        xb = x_train[start_i:end_i]\n",
    "        yb = y_train[start_i:end_i]\n",
    "        pred = model(xb)\n",
    "        loss = loss_func(pred, yb)\n",
    "\n",
    "        loss.backward()\n",
    "        opt.step()\n",
    "        opt.zero_grad()\n",
    "\n",
    "print(loss_func(model(xb), yb))"
   ]
  },
  {
   "cell_type": "code",
   "execution_count": 49,
   "metadata": {
    "execution": {
     "iopub.execute_input": "2021-01-31T23:35:42.780148Z",
     "iopub.status.busy": "2021-01-31T23:35:42.776267Z",
     "iopub.status.idle": "2021-01-31T23:35:42.783200Z",
     "shell.execute_reply": "2021-01-31T23:35:42.782421Z",
     "shell.execute_reply.started": "2021-01-31T23:35:42.780117Z"
    }
   },
   "outputs": [],
   "source": [
    "from torch.utils.data import TensorDataset"
   ]
  },
  {
   "cell_type": "code",
   "execution_count": 50,
   "metadata": {
    "execution": {
     "iopub.execute_input": "2021-01-31T23:35:56.667465Z",
     "iopub.status.busy": "2021-01-31T23:35:56.666687Z",
     "iopub.status.idle": "2021-01-31T23:35:56.672244Z",
     "shell.execute_reply": "2021-01-31T23:35:56.671527Z",
     "shell.execute_reply.started": "2021-01-31T23:35:56.667404Z"
    }
   },
   "outputs": [],
   "source": [
    "train_ds = TensorDataset(x_train, y_train)"
   ]
  },
  {
   "cell_type": "code",
   "execution_count": 52,
   "metadata": {
    "execution": {
     "iopub.execute_input": "2021-01-31T23:36:14.308476Z",
     "iopub.status.busy": "2021-01-31T23:36:14.308010Z",
     "iopub.status.idle": "2021-01-31T23:36:14.902716Z",
     "shell.execute_reply": "2021-01-31T23:36:14.902052Z",
     "shell.execute_reply.started": "2021-01-31T23:36:14.308428Z"
    }
   },
   "outputs": [
    {
     "name": "stdout",
     "output_type": "stream",
     "text": [
      "tensor(0.0815, grad_fn=<NllLossBackward>)\n"
     ]
    }
   ],
   "source": [
    "model, opt = get_model()\n",
    "\n",
    "for epoch in range(epochs):\n",
    "    for i in range((n - 1) // bs + 1):\n",
    "        xb, yb = train_ds[i * bs: i * bs + bs]\n",
    "        pred = model(xb)\n",
    "        loss = loss_func(pred, yb)\n",
    "\n",
    "        loss.backward()\n",
    "        opt.step()\n",
    "        opt.zero_grad()\n",
    "\n",
    "print(loss_func(model(xb), yb))"
   ]
  },
  {
   "cell_type": "code",
   "execution_count": 53,
   "metadata": {
    "execution": {
     "iopub.execute_input": "2021-01-31T23:36:49.490079Z",
     "iopub.status.busy": "2021-01-31T23:36:49.489542Z",
     "iopub.status.idle": "2021-01-31T23:36:49.495883Z",
     "shell.execute_reply": "2021-01-31T23:36:49.494676Z",
     "shell.execute_reply.started": "2021-01-31T23:36:49.490026Z"
    }
   },
   "outputs": [],
   "source": [
    "from torch.utils.data import DataLoader\n",
    "\n",
    "train_ds = TensorDataset(x_train, y_train)\n",
    "train_dl = DataLoader(train_ds, batch_size=bs)"
   ]
  },
  {
   "cell_type": "code",
   "execution_count": 54,
   "metadata": {
    "execution": {
     "iopub.execute_input": "2021-01-31T23:37:09.351633Z",
     "iopub.status.busy": "2021-01-31T23:37:09.351208Z",
     "iopub.status.idle": "2021-01-31T23:37:11.171540Z",
     "shell.execute_reply": "2021-01-31T23:37:11.170652Z",
     "shell.execute_reply.started": "2021-01-31T23:37:09.351593Z"
    }
   },
   "outputs": [
    {
     "name": "stdout",
     "output_type": "stream",
     "text": [
      "tensor(0.0804, grad_fn=<NllLossBackward>)\n"
     ]
    }
   ],
   "source": [
    "model, opt = get_model()\n",
    "\n",
    "for epoch in range(epochs):\n",
    "    for xb, yb in train_dl:\n",
    "        pred = model(xb)\n",
    "        loss = loss_func(pred, yb)\n",
    "\n",
    "        loss.backward()\n",
    "        opt.step()\n",
    "        opt.zero_grad()\n",
    "\n",
    "print(loss_func(model(xb), yb))"
   ]
  },
  {
   "cell_type": "code",
   "execution_count": 55,
   "metadata": {
    "execution": {
     "iopub.execute_input": "2021-01-31T23:50:39.900952Z",
     "iopub.status.busy": "2021-01-31T23:50:39.900408Z",
     "iopub.status.idle": "2021-01-31T23:50:39.905811Z",
     "shell.execute_reply": "2021-01-31T23:50:39.905066Z",
     "shell.execute_reply.started": "2021-01-31T23:50:39.900914Z"
    }
   },
   "outputs": [],
   "source": [
    "train_ds = TensorDataset(x_train, y_train)\n",
    "train_dl = DataLoader(train_ds, batch_size=bs, shuffle=True)\n",
    "\n",
    "valid_ds = TensorDataset(x_valid, y_valid)\n",
    "valid_dl = DataLoader(valid_ds, batch_size=bs * 2)"
   ]
  },
  {
   "cell_type": "code",
   "execution_count": 56,
   "metadata": {
    "execution": {
     "iopub.execute_input": "2021-01-31T23:51:39.797800Z",
     "iopub.status.busy": "2021-01-31T23:51:39.796741Z",
     "iopub.status.idle": "2021-01-31T23:51:41.366219Z",
     "shell.execute_reply": "2021-01-31T23:51:41.365567Z",
     "shell.execute_reply.started": "2021-01-31T23:51:39.797760Z"
    }
   },
   "outputs": [
    {
     "name": "stdout",
     "output_type": "stream",
     "text": [
      "0 tensor(0.3666)\n",
      "1 tensor(0.3002)\n"
     ]
    }
   ],
   "source": [
    "model, opt = get_model()\n",
    "\n",
    "for epoch in range(epochs):\n",
    "    model.train()\n",
    "    for xb, yb in train_dl:\n",
    "        pred = model(xb)\n",
    "        loss = loss_func(pred, yb)\n",
    "\n",
    "        loss.backward()\n",
    "        opt.step()\n",
    "        opt.zero_grad()\n",
    "\n",
    "    model.eval()\n",
    "    with torch.no_grad():\n",
    "        valid_loss = sum(loss_func(model(xb), yb) for xb, yb in valid_dl)\n",
    "\n",
    "    print(epoch, valid_loss / len(valid_dl))"
   ]
  },
  {
   "cell_type": "code",
   "execution_count": 57,
   "metadata": {
    "execution": {
     "iopub.execute_input": "2021-01-31T23:54:44.265497Z",
     "iopub.status.busy": "2021-01-31T23:54:44.265082Z",
     "iopub.status.idle": "2021-01-31T23:54:44.270977Z",
     "shell.execute_reply": "2021-01-31T23:54:44.270082Z",
     "shell.execute_reply.started": "2021-01-31T23:54:44.265457Z"
    }
   },
   "outputs": [],
   "source": [
    "def loss_batch(model, loss_func, xb, yb, opt=None):\n",
    "    loss = loss_func(model(xb), yb)\n",
    "\n",
    "    if opt is not None:\n",
    "        loss.backward()\n",
    "        opt.step()\n",
    "        opt.zero_grad()\n",
    "\n",
    "    return loss.item(), len(xb)"
   ]
  },
  {
   "cell_type": "code",
   "execution_count": 58,
   "metadata": {
    "execution": {
     "iopub.execute_input": "2021-01-31T23:55:02.454310Z",
     "iopub.status.busy": "2021-01-31T23:55:02.453630Z",
     "iopub.status.idle": "2021-01-31T23:55:02.463294Z",
     "shell.execute_reply": "2021-01-31T23:55:02.462441Z",
     "shell.execute_reply.started": "2021-01-31T23:55:02.454245Z"
    }
   },
   "outputs": [],
   "source": [
    "import numpy as np\n",
    "\n",
    "def fit(epochs, model, loss_func, opt, train_dl, valid_dl):\n",
    "    for epoch in range(epochs):\n",
    "        model.train()\n",
    "        for xb, yb in train_dl:\n",
    "            loss_batch(model, loss_func, xb, yb, opt)\n",
    "\n",
    "        model.eval()\n",
    "        with torch.no_grad():\n",
    "            losses, nums = zip(\n",
    "                *[loss_batch(model, loss_func, xb, yb) for xb, yb in valid_dl]\n",
    "            )\n",
    "        val_loss = np.sum(np.multiply(losses, nums)) / np.sum(nums)\n",
    "\n",
    "        print(epoch, val_loss)"
   ]
  },
  {
   "cell_type": "code",
   "execution_count": 59,
   "metadata": {
    "execution": {
     "iopub.execute_input": "2021-01-31T23:55:20.658336Z",
     "iopub.status.busy": "2021-01-31T23:55:20.657731Z",
     "iopub.status.idle": "2021-01-31T23:55:20.663720Z",
     "shell.execute_reply": "2021-01-31T23:55:20.662755Z",
     "shell.execute_reply.started": "2021-01-31T23:55:20.658274Z"
    }
   },
   "outputs": [],
   "source": [
    "def get_data(train_ds, valid_ds, bs):\n",
    "    return (\n",
    "        DataLoader(train_ds, batch_size=bs, shuffle=True),\n",
    "        DataLoader(valid_ds, batch_size=bs * 2),\n",
    "    )"
   ]
  },
  {
   "cell_type": "code",
   "execution_count": 60,
   "metadata": {
    "execution": {
     "iopub.execute_input": "2021-01-31T23:55:28.487295Z",
     "iopub.status.busy": "2021-01-31T23:55:28.486812Z",
     "iopub.status.idle": "2021-01-31T23:55:30.225372Z",
     "shell.execute_reply": "2021-01-31T23:55:30.224722Z",
     "shell.execute_reply.started": "2021-01-31T23:55:28.487257Z"
    }
   },
   "outputs": [
    {
     "name": "stdout",
     "output_type": "stream",
     "text": [
      "0 0.31163375650644304\n",
      "1 0.28511213232278826\n"
     ]
    }
   ],
   "source": [
    "train_dl, valid_dl = get_data(train_ds, valid_ds, bs)\n",
    "model, opt = get_model()\n",
    "fit(epochs, model, loss_func, opt, train_dl, valid_dl)"
   ]
  },
  {
   "cell_type": "markdown",
   "metadata": {},
   "source": [
    "# Switch to CNN"
   ]
  },
  {
   "cell_type": "code",
   "execution_count": 61,
   "metadata": {
    "execution": {
     "iopub.execute_input": "2021-02-01T00:00:23.587370Z",
     "iopub.status.busy": "2021-02-01T00:00:23.586741Z",
     "iopub.status.idle": "2021-02-01T00:00:23.595963Z",
     "shell.execute_reply": "2021-02-01T00:00:23.595181Z",
     "shell.execute_reply.started": "2021-02-01T00:00:23.587309Z"
    }
   },
   "outputs": [],
   "source": [
    "class Mnist_CNN(nn.Module):\n",
    "    def __init__(self):\n",
    "        super().__init__()\n",
    "        self.conv1 = nn.Conv2d(1, 16, kernel_size=3, stride=2, padding=1)\n",
    "        self.conv2 = nn.Conv2d(16, 16, kernel_size=3, stride=2, padding=1)\n",
    "        self.conv3 = nn.Conv2d(16, 10, kernel_size=3, stride=2, padding=1)\n",
    "\n",
    "    def forward(self, xb):\n",
    "        xb = xb.view(-1, 1, 28, 28)\n",
    "        xb = F.relu(self.conv1(xb))\n",
    "        xb = F.relu(self.conv2(xb))\n",
    "        xb = F.relu(self.conv3(xb))\n",
    "        xb = F.avg_pool2d(xb, 4)\n",
    "        return xb.view(-1, xb.size(1))\n",
    "\n",
    "lr = 0.1"
   ]
  },
  {
   "cell_type": "code",
   "execution_count": 62,
   "metadata": {
    "execution": {
     "iopub.execute_input": "2021-02-01T00:00:46.573778Z",
     "iopub.status.busy": "2021-02-01T00:00:46.573285Z",
     "iopub.status.idle": "2021-02-01T00:00:52.620900Z",
     "shell.execute_reply": "2021-02-01T00:00:52.620048Z",
     "shell.execute_reply.started": "2021-02-01T00:00:46.573741Z"
    }
   },
   "outputs": [
    {
     "name": "stdout",
     "output_type": "stream",
     "text": [
      "0 0.7705317485809327\n",
      "1 0.5712308297634124\n"
     ]
    }
   ],
   "source": [
    "model = Mnist_CNN()\n",
    "opt = optim.SGD(model.parameters(), lr=lr, momentum=0.9)\n",
    "\n",
    "fit(epochs, model, loss_func, opt, train_dl, valid_dl)"
   ]
  },
  {
   "cell_type": "code",
   "execution_count": 64,
   "metadata": {
    "execution": {
     "iopub.execute_input": "2021-02-01T00:03:41.799614Z",
     "iopub.status.busy": "2021-02-01T00:03:41.799220Z",
     "iopub.status.idle": "2021-02-01T00:03:41.806257Z",
     "shell.execute_reply": "2021-02-01T00:03:41.805488Z",
     "shell.execute_reply.started": "2021-02-01T00:03:41.799575Z"
    }
   },
   "outputs": [],
   "source": [
    "class Lambda(nn.Module):\n",
    "    def __init__(self, func):\n",
    "        super().__init__()\n",
    "        self.func = func\n",
    "\n",
    "    def forward(self, x):\n",
    "        return self.func(x)\n",
    "\n",
    "\n",
    "def preprocess(x):\n",
    "    return x.view(-1, 1, 28, 28)\n",
    "\n",
    "def postprocess(x):\n",
    "    return x.view(x.size(0), -1)"
   ]
  },
  {
   "cell_type": "code",
   "execution_count": 65,
   "metadata": {
    "execution": {
     "iopub.execute_input": "2021-02-01T00:03:43.157326Z",
     "iopub.status.busy": "2021-02-01T00:03:43.156457Z",
     "iopub.status.idle": "2021-02-01T00:03:49.267532Z",
     "shell.execute_reply": "2021-02-01T00:03:49.266810Z",
     "shell.execute_reply.started": "2021-02-01T00:03:43.157237Z"
    }
   },
   "outputs": [
    {
     "name": "stdout",
     "output_type": "stream",
     "text": [
      "0 0.3586811787605286\n",
      "1 0.25249507484436035\n"
     ]
    }
   ],
   "source": [
    "model = nn.Sequential(\n",
    "    Lambda(preprocess),\n",
    "    nn.Conv2d(1, 16, kernel_size=3, stride=2, padding=1),\n",
    "    nn.ReLU(),\n",
    "    nn.Conv2d(16, 16, kernel_size=3, stride=2, padding=1),\n",
    "    nn.ReLU(),\n",
    "    nn.Conv2d(16, 10, kernel_size=3, stride=2, padding=1),\n",
    "    nn.ReLU(),\n",
    "    nn.AvgPool2d(4),\n",
    "    Lambda(postprocess),\n",
    ")\n",
    "\n",
    "opt = optim.SGD(model.parameters(), lr=lr, momentum=0.9)\n",
    "\n",
    "fit(epochs, model, loss_func, opt, train_dl, valid_dl)"
   ]
  },
  {
   "cell_type": "code",
   "execution_count": 66,
   "metadata": {
    "execution": {
     "iopub.execute_input": "2021-02-01T00:16:40.650724Z",
     "iopub.status.busy": "2021-02-01T00:16:40.650397Z",
     "iopub.status.idle": "2021-02-01T00:16:40.656854Z",
     "shell.execute_reply": "2021-02-01T00:16:40.656169Z",
     "shell.execute_reply.started": "2021-02-01T00:16:40.650692Z"
    }
   },
   "outputs": [],
   "source": [
    "def preprocess(x, y):\n",
    "    return x.view(-1, 1, 28, 28), y\n",
    "\n",
    "\n",
    "class WrappedDataLoader:\n",
    "    def __init__(self, dl, func):\n",
    "        self.dl = dl\n",
    "        self.func = func\n",
    "\n",
    "    def __len__(self):\n",
    "        return len(self.dl)\n",
    "\n",
    "    def __iter__(self):\n",
    "        batches = iter(self.dl)\n",
    "        for b in batches:\n",
    "            yield (self.func(*b))\n",
    "\n",
    "train_dl, valid_dl = get_data(train_ds, valid_ds, bs)\n",
    "train_dl = WrappedDataLoader(train_dl, preprocess)\n",
    "valid_dl = WrappedDataLoader(valid_dl, preprocess)"
   ]
  },
  {
   "cell_type": "code",
   "execution_count": 67,
   "metadata": {
    "execution": {
     "iopub.execute_input": "2021-02-01T00:17:42.140865Z",
     "iopub.status.busy": "2021-02-01T00:17:42.140262Z",
     "iopub.status.idle": "2021-02-01T00:17:42.150164Z",
     "shell.execute_reply": "2021-02-01T00:17:42.149534Z",
     "shell.execute_reply.started": "2021-02-01T00:17:42.140804Z"
    }
   },
   "outputs": [],
   "source": [
    "model = nn.Sequential(\n",
    "    nn.Conv2d(1, 16, kernel_size=3, stride=2, padding=1),\n",
    "    nn.ReLU(),\n",
    "    nn.Conv2d(16, 16, kernel_size=3, stride=2, padding=1),\n",
    "    nn.ReLU(),\n",
    "    nn.Conv2d(16, 10, kernel_size=3, stride=2, padding=1),\n",
    "    nn.ReLU(),\n",
    "    nn.AdaptiveAvgPool2d(1),\n",
    "    Lambda(postprocess),\n",
    ")\n",
    "\n",
    "opt = optim.SGD(model.parameters(), lr=lr, momentum=0.9)"
   ]
  },
  {
   "cell_type": "code",
   "execution_count": 68,
   "metadata": {
    "execution": {
     "iopub.execute_input": "2021-02-01T00:17:50.634526Z",
     "iopub.status.busy": "2021-02-01T00:17:50.634147Z",
     "iopub.status.idle": "2021-02-01T00:17:57.189245Z",
     "shell.execute_reply": "2021-02-01T00:17:57.188524Z",
     "shell.execute_reply.started": "2021-02-01T00:17:50.634489Z"
    }
   },
   "outputs": [
    {
     "name": "stdout",
     "output_type": "stream",
     "text": [
      "0 0.33729618515968324\n",
      "1 0.28614706952571867\n"
     ]
    }
   ],
   "source": [
    "fit(epochs, model, loss_func, opt, train_dl, valid_dl)"
   ]
  },
  {
   "cell_type": "code",
   "execution_count": null,
   "metadata": {},
   "outputs": [],
   "source": []
  }
 ],
 "metadata": {
  "kernelspec": {
   "display_name": "Python 3",
   "language": "python",
   "name": "python3"
  },
  "language_info": {
   "codemirror_mode": {
    "name": "ipython",
    "version": 3
   },
   "file_extension": ".py",
   "mimetype": "text/x-python",
   "name": "python",
   "nbconvert_exporter": "python",
   "pygments_lexer": "ipython3",
   "version": "3.7.9"
  }
 },
 "nbformat": 4,
 "nbformat_minor": 4
}
