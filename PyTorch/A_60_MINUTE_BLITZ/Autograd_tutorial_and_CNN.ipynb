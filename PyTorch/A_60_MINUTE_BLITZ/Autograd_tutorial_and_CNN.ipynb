{
 "cells": [
  {
   "cell_type": "markdown",
   "metadata": {},
   "source": [
    "# A GENTLE INTRODUCTION TO TORCH.AUTOGRAD \n",
    "\n",
    "https://pytorch.org/tutorials/beginner/blitz/autograd_tutorial.html#sphx-glr-beginner-blitz-autograd-tutorial-py\n",
    "\n",
    "- Author: Israel Oliveira [\\[e-mail\\]](mailto:'Israel%20Oliveira%20'<prof.israel@gmail.com>)"
   ]
  },
  {
   "cell_type": "code",
   "execution_count": 1,
   "metadata": {
    "execution": {
     "iopub.execute_input": "2021-01-30T00:02:19.008779Z",
     "iopub.status.busy": "2021-01-30T00:02:19.008162Z",
     "iopub.status.idle": "2021-01-30T00:02:19.040736Z",
     "shell.execute_reply": "2021-01-30T00:02:19.039839Z",
     "shell.execute_reply.started": "2021-01-30T00:02:19.008715Z"
    }
   },
   "outputs": [],
   "source": [
    "%load_ext watermark\n",
    "%config Completer.use_jedi = False"
   ]
  },
  {
   "cell_type": "code",
   "execution_count": 2,
   "metadata": {
    "execution": {
     "iopub.execute_input": "2021-01-30T00:02:19.183984Z",
     "iopub.status.busy": "2021-01-30T00:02:19.183588Z",
     "iopub.status.idle": "2021-01-30T00:02:19.187952Z",
     "shell.execute_reply": "2021-01-30T00:02:19.186943Z",
     "shell.execute_reply.started": "2021-01-30T00:02:19.183945Z"
    }
   },
   "outputs": [],
   "source": [
    "import pandas as pd"
   ]
  },
  {
   "cell_type": "code",
   "execution_count": 3,
   "metadata": {
    "execution": {
     "iopub.execute_input": "2021-01-30T00:02:19.350574Z",
     "iopub.status.busy": "2021-01-30T00:02:19.350011Z",
     "iopub.status.idle": "2021-01-30T00:02:19.355591Z",
     "shell.execute_reply": "2021-01-30T00:02:19.354317Z",
     "shell.execute_reply.started": "2021-01-30T00:02:19.350521Z"
    }
   },
   "outputs": [],
   "source": [
    "#import matplotlib.pyplot as plt\n",
    "#%matplotlib inline\n",
    "#from IPython.core.pylabtools import figsize\n",
    "#figsize(12, 8)\n",
    "\n",
    "#import seaborn as sns\n",
    "#sns.set_theme()\n",
    "\n",
    "#pd.set_option(\"max_columns\", None)\n",
    "#pd.set_option(\"max_rows\", None)\n",
    "\n",
    "#from IPython.display import Markdown, display\n",
    "#def md(arg):\n",
    "#    display(Markdown(arg))\n",
    "\n",
    "#from pandas_profiling import ProfileReport\n",
    "# report = ProfileReport(#DataFrame here#, minimal=True)\n",
    "# report.to\n",
    "\n",
    "#import pyarrow.parquet as pq\n",
    "# df = pq.ParquetDataset(path_to_folder_with_parquets, filesystem=None).read_pandas().to_pandas()"
   ]
  },
  {
   "cell_type": "code",
   "execution_count": 4,
   "metadata": {
    "execution": {
     "iopub.execute_input": "2021-01-30T00:02:20.413816Z",
     "iopub.status.busy": "2021-01-30T00:02:20.413339Z",
     "iopub.status.idle": "2021-01-30T00:02:21.626373Z",
     "shell.execute_reply": "2021-01-30T00:02:21.625520Z",
     "shell.execute_reply.started": "2021-01-30T00:02:20.413766Z"
    }
   },
   "outputs": [
    {
     "name": "stdout",
     "output_type": "stream",
     "text": [
      "Python implementation: CPython\n",
      "Python version       : 3.7.9\n",
      "IPython version      : 7.19.0\n",
      "\n",
      "Compiler    : GCC 8.3.0\n",
      "OS          : Linux\n",
      "Release     : 5.8.0-7630-generic\n",
      "Machine     : x86_64\n",
      "Processor   : \n",
      "CPU cores   : 8\n",
      "Architecture: 64bit\n",
      "\n",
      "Git hash: 2510f7738f3ed9d66809d590b483f6ee509698d4\n",
      "\n",
      "Git repo: https://github.com/ysraell/examples.git\n",
      "\n",
      "Git branch: master\n",
      "\n",
      "pandas    : 1.2.1\n",
      "json      : 2.0.9\n",
      "numpy     : 1.19.5\n",
      "ipywidgets: 7.6.3\n",
      "sys       : 3.7.9 (default, Jan 12 2021, 17:26:22) \n",
      "[GCC 8.3.0]\n",
      "\n",
      "CPU\t: Intel(R) Xeon(R) CPU E3-1241 v3 @ 3.50GHz\n",
      "Mem:           31G\n",
      "Swap:         4.0G\n"
     ]
    }
   ],
   "source": [
    "# Run this cell before close.\n",
    "%watermark -d --iversion -b -r -g -m -v\n",
    "!cat /proc/cpuinfo |grep 'model name'|head -n 1 |sed -e 's/model\\ name/CPU/'\n",
    "!free -h |cut -d'i' -f1  |grep -v total"
   ]
  },
  {
   "cell_type": "code",
   "execution_count": 5,
   "metadata": {
    "execution": {
     "iopub.execute_input": "2021-01-30T00:02:28.941433Z",
     "iopub.status.busy": "2021-01-30T00:02:28.941096Z",
     "iopub.status.idle": "2021-01-30T00:02:49.644476Z",
     "shell.execute_reply": "2021-01-30T00:02:49.643784Z",
     "shell.execute_reply.started": "2021-01-30T00:02:28.941401Z"
    }
   },
   "outputs": [
    {
     "name": "stderr",
     "output_type": "stream",
     "text": [
      "Downloading: \"https://download.pytorch.org/models/resnet18-5c106cde.pth\" to /root/.cache/torch/hub/checkpoints/resnet18-5c106cde.pth\n"
     ]
    },
    {
     "data": {
      "application/vnd.jupyter.widget-view+json": {
       "model_id": "6525119232804255a1a5e9856ba13087",
       "version_major": 2,
       "version_minor": 0
      },
      "text/plain": [
       "  0%|          | 0.00/44.7M [00:00<?, ?B/s]"
      ]
     },
     "metadata": {},
     "output_type": "display_data"
    }
   ],
   "source": [
    "import torch, torchvision\n",
    "model = torchvision.models.resnet18(pretrained=True)\n",
    "data = torch.rand(1, 3, 64, 64)\n",
    "labels = torch.rand(1, 1000)"
   ]
  },
  {
   "cell_type": "code",
   "execution_count": 6,
   "metadata": {
    "execution": {
     "iopub.execute_input": "2021-01-30T00:03:10.165814Z",
     "iopub.status.busy": "2021-01-30T00:03:10.165442Z",
     "iopub.status.idle": "2021-01-30T00:03:10.245845Z",
     "shell.execute_reply": "2021-01-30T00:03:10.245194Z",
     "shell.execute_reply.started": "2021-01-30T00:03:10.165780Z"
    }
   },
   "outputs": [],
   "source": [
    "prediction = model(data)"
   ]
  },
  {
   "cell_type": "code",
   "execution_count": 11,
   "metadata": {
    "execution": {
     "iopub.execute_input": "2021-01-30T00:03:43.801515Z",
     "iopub.status.busy": "2021-01-30T00:03:43.800980Z",
     "iopub.status.idle": "2021-01-30T00:03:43.807435Z",
     "shell.execute_reply": "2021-01-30T00:03:43.806480Z",
     "shell.execute_reply.started": "2021-01-30T00:03:43.801463Z"
    }
   },
   "outputs": [
    {
     "data": {
      "text/plain": [
       "torch.Size([1, 1000])"
      ]
     },
     "execution_count": 11,
     "metadata": {},
     "output_type": "execute_result"
    }
   ],
   "source": [
    "prediction.shape"
   ]
  },
  {
   "cell_type": "code",
   "execution_count": 12,
   "metadata": {
    "execution": {
     "iopub.execute_input": "2021-01-30T00:04:37.087469Z",
     "iopub.status.busy": "2021-01-30T00:04:37.086994Z",
     "iopub.status.idle": "2021-01-30T00:04:37.158261Z",
     "shell.execute_reply": "2021-01-30T00:04:37.157587Z",
     "shell.execute_reply.started": "2021-01-30T00:04:37.087428Z"
    }
   },
   "outputs": [],
   "source": [
    "loss = (prediction - labels).sum()\n",
    "loss.backward() # backward pass"
   ]
  },
  {
   "cell_type": "code",
   "execution_count": 13,
   "metadata": {
    "execution": {
     "iopub.execute_input": "2021-01-30T00:06:54.094284Z",
     "iopub.status.busy": "2021-01-30T00:06:54.093481Z",
     "iopub.status.idle": "2021-01-30T00:06:54.101426Z",
     "shell.execute_reply": "2021-01-30T00:06:54.100619Z",
     "shell.execute_reply.started": "2021-01-30T00:06:54.094199Z"
    }
   },
   "outputs": [],
   "source": [
    "optim = torch.optim.SGD(model.parameters(), lr=1e-2, momentum=0.9)"
   ]
  },
  {
   "cell_type": "code",
   "execution_count": 14,
   "metadata": {
    "execution": {
     "iopub.execute_input": "2021-01-30T00:07:07.175548Z",
     "iopub.status.busy": "2021-01-30T00:07:07.174997Z",
     "iopub.status.idle": "2021-01-30T00:07:07.208852Z",
     "shell.execute_reply": "2021-01-30T00:07:07.208236Z",
     "shell.execute_reply.started": "2021-01-30T00:07:07.175501Z"
    }
   },
   "outputs": [],
   "source": [
    "optim.step() #gradient descent"
   ]
  },
  {
   "cell_type": "code",
   "execution_count": 15,
   "metadata": {
    "execution": {
     "iopub.execute_input": "2021-01-30T00:07:37.764858Z",
     "iopub.status.busy": "2021-01-30T00:07:37.764291Z",
     "iopub.status.idle": "2021-01-30T00:07:37.772289Z",
     "shell.execute_reply": "2021-01-30T00:07:37.771274Z",
     "shell.execute_reply.started": "2021-01-30T00:07:37.764794Z"
    }
   },
   "outputs": [],
   "source": [
    "import torch\n",
    "\n",
    "a = torch.tensor([2., 3.], requires_grad=True)\n",
    "b = torch.tensor([6., 4.], requires_grad=True)"
   ]
  },
  {
   "cell_type": "code",
   "execution_count": 16,
   "metadata": {
    "execution": {
     "iopub.execute_input": "2021-01-30T00:07:42.622011Z",
     "iopub.status.busy": "2021-01-30T00:07:42.621396Z",
     "iopub.status.idle": "2021-01-30T00:07:42.633470Z",
     "shell.execute_reply": "2021-01-30T00:07:42.632497Z",
     "shell.execute_reply.started": "2021-01-30T00:07:42.621950Z"
    }
   },
   "outputs": [],
   "source": [
    "Q = 3*a**3 - b**2"
   ]
  },
  {
   "cell_type": "code",
   "execution_count": 17,
   "metadata": {
    "execution": {
     "iopub.execute_input": "2021-01-30T00:07:47.790871Z",
     "iopub.status.busy": "2021-01-30T00:07:47.789890Z",
     "iopub.status.idle": "2021-01-30T00:07:47.798215Z",
     "shell.execute_reply": "2021-01-30T00:07:47.797480Z",
     "shell.execute_reply.started": "2021-01-30T00:07:47.790784Z"
    }
   },
   "outputs": [
    {
     "data": {
      "text/plain": [
       "tensor([-12.,  65.], grad_fn=<SubBackward0>)"
      ]
     },
     "execution_count": 17,
     "metadata": {},
     "output_type": "execute_result"
    }
   ],
   "source": [
    "Q"
   ]
  },
  {
   "cell_type": "code",
   "execution_count": 18,
   "metadata": {
    "execution": {
     "iopub.execute_input": "2021-01-30T00:08:40.854400Z",
     "iopub.status.busy": "2021-01-30T00:08:40.853851Z",
     "iopub.status.idle": "2021-01-30T00:08:40.859875Z",
     "shell.execute_reply": "2021-01-30T00:08:40.858845Z",
     "shell.execute_reply.started": "2021-01-30T00:08:40.854342Z"
    }
   },
   "outputs": [],
   "source": [
    "external_grad = torch.tensor([1., 1.])\n",
    "Q.backward(gradient=external_grad)"
   ]
  },
  {
   "cell_type": "code",
   "execution_count": 19,
   "metadata": {
    "execution": {
     "iopub.execute_input": "2021-01-30T00:08:46.900263Z",
     "iopub.status.busy": "2021-01-30T00:08:46.899655Z",
     "iopub.status.idle": "2021-01-30T00:08:46.906673Z",
     "shell.execute_reply": "2021-01-30T00:08:46.905992Z",
     "shell.execute_reply.started": "2021-01-30T00:08:46.900203Z"
    }
   },
   "outputs": [
    {
     "name": "stdout",
     "output_type": "stream",
     "text": [
      "tensor([True, True])\n",
      "tensor([True, True])\n"
     ]
    }
   ],
   "source": [
    "print(9*a**2 == a.grad)\n",
    "print(-2*b == b.grad)"
   ]
  },
  {
   "cell_type": "code",
   "execution_count": 22,
   "metadata": {
    "execution": {
     "iopub.execute_input": "2021-01-30T00:12:01.555110Z",
     "iopub.status.busy": "2021-01-30T00:12:01.554741Z",
     "iopub.status.idle": "2021-01-30T00:12:01.561463Z",
     "shell.execute_reply": "2021-01-30T00:12:01.560714Z",
     "shell.execute_reply.started": "2021-01-30T00:12:01.555074Z"
    }
   },
   "outputs": [
    {
     "name": "stdout",
     "output_type": "stream",
     "text": [
      "Does `a` require gradients? : False\n",
      "Does `b` require gradients?: True\n"
     ]
    }
   ],
   "source": [
    "x = torch.rand(5, 5)\n",
    "y = torch.rand(5, 5)\n",
    "z = torch.rand((5, 5), requires_grad=True)\n",
    "\n",
    "a = x + y\n",
    "print(f\"Does `a` require gradients? : {a.requires_grad}\")\n",
    "b = x + z\n",
    "print(f\"Does `b` require gradients?: {b.requires_grad}\")"
   ]
  },
  {
   "cell_type": "code",
   "execution_count": 23,
   "metadata": {
    "execution": {
     "iopub.execute_input": "2021-01-30T00:12:56.178695Z",
     "iopub.status.busy": "2021-01-30T00:12:56.178222Z",
     "iopub.status.idle": "2021-01-30T00:12:56.451392Z",
     "shell.execute_reply": "2021-01-30T00:12:56.450700Z",
     "shell.execute_reply.started": "2021-01-30T00:12:56.178650Z"
    }
   },
   "outputs": [],
   "source": [
    "from torch import nn, optim\n",
    "\n",
    "model = torchvision.models.resnet18(pretrained=True)\n",
    "\n",
    "# Freeze all the parameters in the network\n",
    "for param in model.parameters():\n",
    "    param.requires_grad = False"
   ]
  },
  {
   "cell_type": "code",
   "execution_count": 25,
   "metadata": {
    "execution": {
     "iopub.execute_input": "2021-01-30T00:14:36.420682Z",
     "iopub.status.busy": "2021-01-30T00:14:36.419913Z",
     "iopub.status.idle": "2021-01-30T00:14:36.426999Z",
     "shell.execute_reply": "2021-01-30T00:14:36.426413Z",
     "shell.execute_reply.started": "2021-01-30T00:14:36.420604Z"
    }
   },
   "outputs": [
    {
     "data": {
      "text/plain": [
       "Linear(in_features=512, out_features=1000, bias=True)"
      ]
     },
     "execution_count": 25,
     "metadata": {},
     "output_type": "execute_result"
    }
   ],
   "source": [
    "model.fc"
   ]
  },
  {
   "cell_type": "code",
   "execution_count": 26,
   "metadata": {
    "execution": {
     "iopub.execute_input": "2021-01-30T00:16:59.866003Z",
     "iopub.status.busy": "2021-01-30T00:16:59.865389Z",
     "iopub.status.idle": "2021-01-30T00:16:59.873529Z",
     "shell.execute_reply": "2021-01-30T00:16:59.872855Z",
     "shell.execute_reply.started": "2021-01-30T00:16:59.865941Z"
    }
   },
   "outputs": [
    {
     "data": {
      "text/plain": [
       "Linear(in_features=512, out_features=10, bias=True)"
      ]
     },
     "execution_count": 26,
     "metadata": {},
     "output_type": "execute_result"
    }
   ],
   "source": [
    "model.fc = nn.Linear(512, 10)\n",
    "model.fc"
   ]
  },
  {
   "cell_type": "code",
   "execution_count": 27,
   "metadata": {
    "execution": {
     "iopub.execute_input": "2021-01-30T00:17:18.563147Z",
     "iopub.status.busy": "2021-01-30T00:17:18.562844Z",
     "iopub.status.idle": "2021-01-30T00:17:18.566982Z",
     "shell.execute_reply": "2021-01-30T00:17:18.566162Z",
     "shell.execute_reply.started": "2021-01-30T00:17:18.563119Z"
    }
   },
   "outputs": [],
   "source": [
    "optimizer = optim.SGD(model.fc.parameters(), lr=1e-2, momentum=0.9)"
   ]
  },
  {
   "cell_type": "code",
   "execution_count": 30,
   "metadata": {
    "execution": {
     "iopub.execute_input": "2021-01-30T00:44:44.770859Z",
     "iopub.status.busy": "2021-01-30T00:44:44.770446Z",
     "iopub.status.idle": "2021-01-30T00:44:44.782905Z",
     "shell.execute_reply": "2021-01-30T00:44:44.782122Z",
     "shell.execute_reply.started": "2021-01-30T00:44:44.770820Z"
    }
   },
   "outputs": [
    {
     "name": "stdout",
     "output_type": "stream",
     "text": [
      "Net(\n",
      "  (conv1): Conv2d(1, 6, kernel_size=(3, 3), stride=(1, 1))\n",
      "  (conv2): Conv2d(6, 16, kernel_size=(3, 3), stride=(1, 1))\n",
      "  (fc1): Linear(in_features=576, out_features=120, bias=True)\n",
      "  (fc2): Linear(in_features=120, out_features=84, bias=True)\n",
      "  (fc3): Linear(in_features=84, out_features=10, bias=True)\n",
      ")\n"
     ]
    }
   ],
   "source": [
    "import torch\n",
    "import torch.nn as nn\n",
    "import torch.nn.functional as F\n",
    "\n",
    "\n",
    "class Net(nn.Module):\n",
    "\n",
    "    def __init__(self):\n",
    "        super(Net, self).__init__()\n",
    "        # 1 input image channel, 6 output channels, 3x3 square convolution\n",
    "        # kernel\n",
    "        self.conv1 = nn.Conv2d(1, 6, 3)\n",
    "        self.conv2 = nn.Conv2d(6, 16, 3)\n",
    "        # an affine operation: y = Wx + b\n",
    "        self.fc1 = nn.Linear(16 * 6 * 6, 120)  # 6*6 from image dimension\n",
    "        self.fc2 = nn.Linear(120, 84)\n",
    "        self.fc3 = nn.Linear(84, 10)\n",
    "\n",
    "    def forward(self, x):\n",
    "        # Max pooling over a (2, 2) window\n",
    "        x = F.max_pool2d(F.relu(self.conv1(x)), (2, 2))\n",
    "        # If the size is a square you can only specify a single number\n",
    "        x = F.max_pool2d(F.relu(self.conv2(x)), 2)\n",
    "        x = x.view(-1, self.num_flat_features(x))\n",
    "        x = F.relu(self.fc1(x))\n",
    "        x = F.relu(self.fc2(x))\n",
    "        x = self.fc3(x)\n",
    "        return x\n",
    "\n",
    "    def num_flat_features(self, x):\n",
    "        size = x.size()[1:]  # all dimensions except the batch dimension\n",
    "        num_features = 1\n",
    "        for s in size:\n",
    "            num_features *= s\n",
    "        return num_features\n",
    "\n",
    "\n",
    "net = Net()\n",
    "print(net)"
   ]
  },
  {
   "cell_type": "markdown",
   "metadata": {},
   "source": [
    "\n",
    "$$\n",
    "    \\text{out}(N_i, C_{\\text{out}_j}) = \\text{bias}(C_{\\text{out}_j}) +\n",
    "    \\sum_{k = 0}^{C_{\\text{in}} - 1} \\text{weight}(C_{\\text{out}_j}, k) \\star \\text{input}(N_i, k)\n",
    "$$\n"
   ]
  },
  {
   "cell_type": "code",
   "execution_count": 31,
   "metadata": {
    "execution": {
     "iopub.execute_input": "2021-01-30T00:44:57.490959Z",
     "iopub.status.busy": "2021-01-30T00:44:57.490547Z",
     "iopub.status.idle": "2021-01-30T00:44:57.496254Z",
     "shell.execute_reply": "2021-01-30T00:44:57.495479Z",
     "shell.execute_reply.started": "2021-01-30T00:44:57.490919Z"
    }
   },
   "outputs": [
    {
     "name": "stdout",
     "output_type": "stream",
     "text": [
      "10\n",
      "torch.Size([6, 1, 3, 3])\n"
     ]
    }
   ],
   "source": [
    "params = list(net.parameters())\n",
    "print(len(params))\n",
    "print(params[0].size())  # conv1's .weight"
   ]
  },
  {
   "cell_type": "code",
   "execution_count": 32,
   "metadata": {
    "execution": {
     "iopub.execute_input": "2021-01-30T00:45:47.173124Z",
     "iopub.status.busy": "2021-01-30T00:45:47.172594Z",
     "iopub.status.idle": "2021-01-30T00:45:47.183354Z",
     "shell.execute_reply": "2021-01-30T00:45:47.182640Z",
     "shell.execute_reply.started": "2021-01-30T00:45:47.173079Z"
    }
   },
   "outputs": [
    {
     "name": "stdout",
     "output_type": "stream",
     "text": [
      "tensor([[ 0.1267, -0.0987, -0.0999, -0.0923,  0.0331,  0.0562,  0.1144, -0.1260,\n",
      "          0.1484, -0.1374]], grad_fn=<AddmmBackward>)\n"
     ]
    }
   ],
   "source": [
    "input = torch.randn(1, 1, 32, 32)\n",
    "out = net(input)\n",
    "print(out)"
   ]
  },
  {
   "cell_type": "code",
   "execution_count": 33,
   "metadata": {
    "execution": {
     "iopub.execute_input": "2021-01-30T00:46:07.538833Z",
     "iopub.status.busy": "2021-01-30T00:46:07.538453Z",
     "iopub.status.idle": "2021-01-30T00:46:07.543720Z",
     "shell.execute_reply": "2021-01-30T00:46:07.542815Z",
     "shell.execute_reply.started": "2021-01-30T00:46:07.538786Z"
    }
   },
   "outputs": [],
   "source": [
    "net.zero_grad()\n",
    "out.backward(torch.randn(1, 10))"
   ]
  },
  {
   "cell_type": "code",
   "execution_count": 34,
   "metadata": {
    "execution": {
     "iopub.execute_input": "2021-01-30T00:47:42.106802Z",
     "iopub.status.busy": "2021-01-30T00:47:42.106393Z",
     "iopub.status.idle": "2021-01-30T00:47:42.116587Z",
     "shell.execute_reply": "2021-01-30T00:47:42.115880Z",
     "shell.execute_reply.started": "2021-01-30T00:47:42.106770Z"
    }
   },
   "outputs": [
    {
     "name": "stdout",
     "output_type": "stream",
     "text": [
      "tensor(0.6516, grad_fn=<MseLossBackward>)\n"
     ]
    }
   ],
   "source": [
    "output = net(input)\n",
    "target = torch.randn(10)  # a dummy target, for example\n",
    "target = target.view(1, -1)  # make it the same shape as output\n",
    "criterion = nn.MSELoss()\n",
    "\n",
    "loss = criterion(output, target)\n",
    "print(loss)"
   ]
  },
  {
   "cell_type": "code",
   "execution_count": 39,
   "metadata": {
    "execution": {
     "iopub.execute_input": "2021-01-30T00:49:06.595292Z",
     "iopub.status.busy": "2021-01-30T00:49:06.594956Z",
     "iopub.status.idle": "2021-01-30T00:49:06.599105Z",
     "shell.execute_reply": "2021-01-30T00:49:06.598545Z",
     "shell.execute_reply.started": "2021-01-30T00:49:06.595265Z"
    }
   },
   "outputs": [
    {
     "data": {
      "text/plain": [
       "<MseLossBackward at 0x7f0ab38458d0>"
      ]
     },
     "execution_count": 39,
     "metadata": {},
     "output_type": "execute_result"
    }
   ],
   "source": [
    "loss.grad_fn"
   ]
  },
  {
   "cell_type": "code",
   "execution_count": 40,
   "metadata": {
    "execution": {
     "iopub.execute_input": "2021-01-30T00:49:51.650193Z",
     "iopub.status.busy": "2021-01-30T00:49:51.649863Z",
     "iopub.status.idle": "2021-01-30T00:49:51.654744Z",
     "shell.execute_reply": "2021-01-30T00:49:51.654009Z",
     "shell.execute_reply.started": "2021-01-30T00:49:51.650161Z"
    }
   },
   "outputs": [
    {
     "name": "stdout",
     "output_type": "stream",
     "text": [
      "<MseLossBackward object at 0x7f0ab38458d0>\n",
      "<AddmmBackward object at 0x7f0ab3845310>\n",
      "<AccumulateGrad object at 0x7f0ab3845690>\n"
     ]
    }
   ],
   "source": [
    "print(loss.grad_fn)  # MSELoss\n",
    "print(loss.grad_fn.next_functions[0][0])  # Linear\n",
    "print(loss.grad_fn.next_functions[0][0].next_functions[0][0])  # ReLU"
   ]
  },
  {
   "cell_type": "code",
   "execution_count": 41,
   "metadata": {
    "execution": {
     "iopub.execute_input": "2021-01-30T00:50:20.033431Z",
     "iopub.status.busy": "2021-01-30T00:50:20.033100Z",
     "iopub.status.idle": "2021-01-30T00:50:20.047533Z",
     "shell.execute_reply": "2021-01-30T00:50:20.046538Z",
     "shell.execute_reply.started": "2021-01-30T00:50:20.033400Z"
    }
   },
   "outputs": [
    {
     "name": "stdout",
     "output_type": "stream",
     "text": [
      "conv1.bias.grad before backward\n",
      "tensor([0., 0., 0., 0., 0., 0.])\n",
      "conv1.bias.grad after backward\n",
      "tensor([ 0.0053, -0.0048, -0.0003,  0.0042,  0.0146, -0.0158])\n"
     ]
    }
   ],
   "source": [
    "net.zero_grad()     # zeroes the gradient buffers of all parameters\n",
    "\n",
    "print('conv1.bias.grad before backward')\n",
    "print(net.conv1.bias.grad)\n",
    "\n",
    "loss.backward()\n",
    "\n",
    "print('conv1.bias.grad after backward')\n",
    "print(net.conv1.bias.grad)"
   ]
  },
  {
   "cell_type": "code",
   "execution_count": 42,
   "metadata": {
    "execution": {
     "iopub.execute_input": "2021-01-30T00:50:48.206978Z",
     "iopub.status.busy": "2021-01-30T00:50:48.206518Z",
     "iopub.status.idle": "2021-01-30T00:50:48.213612Z",
     "shell.execute_reply": "2021-01-30T00:50:48.212779Z",
     "shell.execute_reply.started": "2021-01-30T00:50:48.206940Z"
    }
   },
   "outputs": [],
   "source": [
    "learning_rate = 0.01\n",
    "for f in net.parameters():\n",
    "    f.data.sub_(f.grad.data * learning_rate)"
   ]
  },
  {
   "cell_type": "code",
   "execution_count": 43,
   "metadata": {
    "execution": {
     "iopub.execute_input": "2021-01-30T00:50:55.414441Z",
     "iopub.status.busy": "2021-01-30T00:50:55.414026Z",
     "iopub.status.idle": "2021-01-30T00:50:55.422900Z",
     "shell.execute_reply": "2021-01-30T00:50:55.422244Z",
     "shell.execute_reply.started": "2021-01-30T00:50:55.414408Z"
    }
   },
   "outputs": [],
   "source": [
    "import torch.optim as optim\n",
    "\n",
    "# create your optimizer\n",
    "optimizer = optim.SGD(net.parameters(), lr=0.01)\n",
    "\n",
    "# in your training loop:\n",
    "optimizer.zero_grad()   # zero the gradient buffers\n",
    "output = net(input)\n",
    "loss = criterion(output, target)\n",
    "loss.backward()\n",
    "optimizer.step()    # Does the update"
   ]
  },
  {
   "cell_type": "code",
   "execution_count": null,
   "metadata": {},
   "outputs": [],
   "source": []
  }
 ],
 "metadata": {
  "kernelspec": {
   "display_name": "Python 3",
   "language": "python",
   "name": "python3"
  },
  "language_info": {
   "codemirror_mode": {
    "name": "ipython",
    "version": 3
   },
   "file_extension": ".py",
   "mimetype": "text/x-python",
   "name": "python",
   "nbconvert_exporter": "python",
   "pygments_lexer": "ipython3",
   "version": "3.7.9"
  }
 },
 "nbformat": 4,
 "nbformat_minor": 4
}
