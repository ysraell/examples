{
 "cells": [
  {
   "cell_type": "markdown",
   "metadata": {},
   "source": [
    "# TENSORS \n",
    "\n",
    "[Source](https://pytorch.org/tutorials/beginner/blitz/tensor_tutorial.html#sphx-glr-beginner-blitz-tensor-tutorial-py)\n",
    "\n",
    "- Author: Israel Oliveira [\\[e-mail\\]](mailto:'Israel%20Oliveira%20'<prof.israel@gmail.com>)"
   ]
  },
  {
   "cell_type": "code",
   "execution_count": 1,
   "metadata": {
    "execution": {
     "iopub.execute_input": "2021-01-29T23:36:16.736571Z",
     "iopub.status.busy": "2021-01-29T23:36:16.736111Z",
     "iopub.status.idle": "2021-01-29T23:36:16.805564Z",
     "shell.execute_reply": "2021-01-29T23:36:16.804893Z",
     "shell.execute_reply.started": "2021-01-29T23:36:16.736525Z"
    }
   },
   "outputs": [],
   "source": [
    "%load_ext watermark\n",
    "%config Completer.use_jedi = False"
   ]
  },
  {
   "cell_type": "code",
   "execution_count": 2,
   "metadata": {
    "execution": {
     "iopub.execute_input": "2021-01-29T23:36:16.924933Z",
     "iopub.status.busy": "2021-01-29T23:36:16.924357Z",
     "iopub.status.idle": "2021-01-29T23:36:17.925440Z",
     "shell.execute_reply": "2021-01-29T23:36:17.924587Z",
     "shell.execute_reply.started": "2021-01-29T23:36:16.924875Z"
    }
   },
   "outputs": [],
   "source": [
    "import torch\n",
    "import numpy as np"
   ]
  },
  {
   "cell_type": "code",
   "execution_count": 3,
   "metadata": {
    "execution": {
     "iopub.execute_input": "2021-01-29T23:36:18.700417Z",
     "iopub.status.busy": "2021-01-29T23:36:18.699933Z",
     "iopub.status.idle": "2021-01-29T23:36:18.705632Z",
     "shell.execute_reply": "2021-01-29T23:36:18.704327Z",
     "shell.execute_reply.started": "2021-01-29T23:36:18.700366Z"
    }
   },
   "outputs": [],
   "source": [
    "#import matplotlib.pyplot as plt\n",
    "#%matplotlib inline\n",
    "#from IPython.core.pylabtools import figsize\n",
    "#figsize(12, 8)\n",
    "\n",
    "#import seaborn as sns\n",
    "#sns.set_theme()\n",
    "\n",
    "#pd.set_option(\"max_columns\", None)\n",
    "#pd.set_option(\"max_rows\", None)\n",
    "\n",
    "#from IPython.display import Markdown, display\n",
    "#def md(arg):\n",
    "#    display(Markdown(arg))\n",
    "\n",
    "#from pandas_profiling import ProfileReport\n",
    "# report = ProfileReport(#DataFrame here#, minimal=True)\n",
    "# report.to\n",
    "\n",
    "#import pyarrow.parquet as pq\n",
    "# df = pq.ParquetDataset(path_to_folder_with_parquets, filesystem=None).read_pandas().to_pandas()"
   ]
  },
  {
   "cell_type": "code",
   "execution_count": 4,
   "metadata": {
    "execution": {
     "iopub.execute_input": "2021-01-29T23:36:19.331463Z",
     "iopub.status.busy": "2021-01-29T23:36:19.330974Z",
     "iopub.status.idle": "2021-01-29T23:36:20.703591Z",
     "shell.execute_reply": "2021-01-29T23:36:20.700965Z",
     "shell.execute_reply.started": "2021-01-29T23:36:19.331414Z"
    }
   },
   "outputs": [
    {
     "name": "stdout",
     "output_type": "stream",
     "text": [
      "Python implementation: CPython\n",
      "Python version       : 3.7.9\n",
      "IPython version      : 7.19.0\n",
      "\n",
      "Compiler    : GCC 8.3.0\n",
      "OS          : Linux\n",
      "Release     : 5.8.0-7630-generic\n",
      "Machine     : x86_64\n",
      "Processor   : \n",
      "CPU cores   : 8\n",
      "Architecture: 64bit\n",
      "\n",
      "Git hash: 2510f7738f3ed9d66809d590b483f6ee509698d4\n",
      "\n",
      "Git repo: https://github.com/ysraell/examples.git\n",
      "\n",
      "Git branch: master\n",
      "\n",
      "sys       : 3.7.9 (default, Jan 12 2021, 17:26:22) \n",
      "[GCC 8.3.0]\n",
      "ipywidgets: 7.6.3\n",
      "numpy     : 1.19.5\n",
      "torch     : 1.7.1+cpu\n",
      "pandas    : 1.2.1\n",
      "json      : 2.0.9\n",
      "\n",
      "CPU\t: Intel(R) Xeon(R) CPU E3-1241 v3 @ 3.50GHz\n",
      "Mem:           31G\n",
      "Swap:         4.0G\n"
     ]
    }
   ],
   "source": [
    "# Run this cell before close.\n",
    "%watermark -d --iversion -b -r -g -m -v\n",
    "!cat /proc/cpuinfo |grep 'model name'|head -n 1 |sed -e 's/model\\ name/CPU/'\n",
    "!free -h |cut -d'i' -f1  |grep -v total"
   ]
  },
  {
   "cell_type": "code",
   "execution_count": 5,
   "metadata": {
    "execution": {
     "iopub.execute_input": "2021-01-29T23:36:30.987088Z",
     "iopub.status.busy": "2021-01-29T23:36:30.986443Z",
     "iopub.status.idle": "2021-01-29T23:36:31.010874Z",
     "shell.execute_reply": "2021-01-29T23:36:31.010148Z",
     "shell.execute_reply.started": "2021-01-29T23:36:30.987026Z"
    }
   },
   "outputs": [],
   "source": [
    "data = [[1, 2],[3, 4]]\n",
    "x_data = torch.tensor(data)"
   ]
  },
  {
   "cell_type": "code",
   "execution_count": 6,
   "metadata": {
    "execution": {
     "iopub.execute_input": "2021-01-29T23:36:35.979774Z",
     "iopub.status.busy": "2021-01-29T23:36:35.979494Z",
     "iopub.status.idle": "2021-01-29T23:36:35.985551Z",
     "shell.execute_reply": "2021-01-29T23:36:35.984688Z",
     "shell.execute_reply.started": "2021-01-29T23:36:35.979748Z"
    }
   },
   "outputs": [
    {
     "data": {
      "text/plain": [
       "tensor([[1, 2],\n",
       "        [3, 4]])"
      ]
     },
     "execution_count": 6,
     "metadata": {},
     "output_type": "execute_result"
    }
   ],
   "source": [
    "x_data"
   ]
  },
  {
   "cell_type": "code",
   "execution_count": 7,
   "metadata": {
    "execution": {
     "iopub.execute_input": "2021-01-29T23:37:05.461316Z",
     "iopub.status.busy": "2021-01-29T23:37:05.460777Z",
     "iopub.status.idle": "2021-01-29T23:37:05.466328Z",
     "shell.execute_reply": "2021-01-29T23:37:05.465422Z",
     "shell.execute_reply.started": "2021-01-29T23:37:05.461265Z"
    }
   },
   "outputs": [],
   "source": [
    "np_array = np.array(data)\n",
    "x_np = torch.from_numpy(np_array)"
   ]
  },
  {
   "cell_type": "code",
   "execution_count": 8,
   "metadata": {
    "execution": {
     "iopub.execute_input": "2021-01-29T23:37:08.646982Z",
     "iopub.status.busy": "2021-01-29T23:37:08.646384Z",
     "iopub.status.idle": "2021-01-29T23:37:08.652123Z",
     "shell.execute_reply": "2021-01-29T23:37:08.651440Z",
     "shell.execute_reply.started": "2021-01-29T23:37:08.646904Z"
    }
   },
   "outputs": [
    {
     "data": {
      "text/plain": [
       "tensor([[1, 2],\n",
       "        [3, 4]])"
      ]
     },
     "execution_count": 8,
     "metadata": {},
     "output_type": "execute_result"
    }
   ],
   "source": [
    "x_np"
   ]
  },
  {
   "cell_type": "code",
   "execution_count": 9,
   "metadata": {
    "execution": {
     "iopub.execute_input": "2021-01-29T23:37:31.300641Z",
     "iopub.status.busy": "2021-01-29T23:37:31.300098Z",
     "iopub.status.idle": "2021-01-29T23:37:31.364839Z",
     "shell.execute_reply": "2021-01-29T23:37:31.364203Z",
     "shell.execute_reply.started": "2021-01-29T23:37:31.300599Z"
    }
   },
   "outputs": [
    {
     "name": "stdout",
     "output_type": "stream",
     "text": [
      "Ones Tensor: \n",
      " tensor([[1, 1],\n",
      "        [1, 1]]) \n",
      "\n",
      "Random Tensor: \n",
      " tensor([[0.8650, 0.5978],\n",
      "        [0.2059, 0.8739]]) \n",
      "\n"
     ]
    }
   ],
   "source": [
    "x_ones = torch.ones_like(x_data) # retains the properties of x_data\n",
    "print(f\"Ones Tensor: \\n {x_ones} \\n\")\n",
    "\n",
    "x_rand = torch.rand_like(x_data, dtype=torch.float) # overrides the datatype of x_data\n",
    "print(f\"Random Tensor: \\n {x_rand} \\n\")"
   ]
  },
  {
   "cell_type": "code",
   "execution_count": 10,
   "metadata": {
    "execution": {
     "iopub.execute_input": "2021-01-29T23:38:05.273446Z",
     "iopub.status.busy": "2021-01-29T23:38:05.272898Z",
     "iopub.status.idle": "2021-01-29T23:38:05.287978Z",
     "shell.execute_reply": "2021-01-29T23:38:05.287284Z",
     "shell.execute_reply.started": "2021-01-29T23:38:05.273395Z"
    }
   },
   "outputs": [
    {
     "name": "stdout",
     "output_type": "stream",
     "text": [
      "Random Tensor: \n",
      " tensor([[0.9976, 0.5015, 0.6221],\n",
      "        [0.3807, 0.3173, 0.7877]]) \n",
      "\n",
      "Ones Tensor: \n",
      " tensor([[1., 1., 1.],\n",
      "        [1., 1., 1.]]) \n",
      "\n",
      "Zeros Tensor: \n",
      " tensor([[0., 0., 0.],\n",
      "        [0., 0., 0.]])\n"
     ]
    }
   ],
   "source": [
    "shape = (2,3,)\n",
    "rand_tensor = torch.rand(shape)\n",
    "ones_tensor = torch.ones(shape)\n",
    "zeros_tensor = torch.zeros(shape)\n",
    "\n",
    "print(f\"Random Tensor: \\n {rand_tensor} \\n\")\n",
    "print(f\"Ones Tensor: \\n {ones_tensor} \\n\")\n",
    "print(f\"Zeros Tensor: \\n {zeros_tensor}\")"
   ]
  },
  {
   "cell_type": "code",
   "execution_count": 12,
   "metadata": {
    "execution": {
     "iopub.execute_input": "2021-01-29T23:38:52.078000Z",
     "iopub.status.busy": "2021-01-29T23:38:52.077728Z",
     "iopub.status.idle": "2021-01-29T23:38:52.083366Z",
     "shell.execute_reply": "2021-01-29T23:38:52.082724Z",
     "shell.execute_reply.started": "2021-01-29T23:38:52.077974Z"
    }
   },
   "outputs": [
    {
     "name": "stdout",
     "output_type": "stream",
     "text": [
      "Random Tensor: \n",
      " tensor([[0.9833, 0.9131, 0.2549, 0.8489],\n",
      "        [0.4704, 0.1705, 0.4309, 0.5982],\n",
      "        [0.5290, 0.7277, 0.7593, 0.1404]]) \n",
      "\n",
      "Shape of tensor: torch.Size([3, 4])\n",
      "Datatype of tensor: torch.float32\n",
      "Device tensor is stored on: cpu\n"
     ]
    }
   ],
   "source": [
    "tensor = torch.rand(3,4)\n",
    "\n",
    "print(f\"Random Tensor: \\n {tensor} \\n\")\n",
    "print(f\"Shape of tensor: {tensor.shape}\")\n",
    "print(f\"Datatype of tensor: {tensor.dtype}\")\n",
    "print(f\"Device tensor is stored on: {tensor.device}\")"
   ]
  },
  {
   "cell_type": "code",
   "execution_count": 14,
   "metadata": {
    "execution": {
     "iopub.execute_input": "2021-01-29T23:39:44.678823Z",
     "iopub.status.busy": "2021-01-29T23:39:44.678419Z",
     "iopub.status.idle": "2021-01-29T23:39:44.687913Z",
     "shell.execute_reply": "2021-01-29T23:39:44.687044Z",
     "shell.execute_reply.started": "2021-01-29T23:39:44.678789Z"
    }
   },
   "outputs": [
    {
     "name": "stdout",
     "output_type": "stream",
     "text": [
      "tensor([[1., 0., 1., 1.],\n",
      "        [1., 0., 1., 1.],\n",
      "        [1., 0., 1., 1.],\n",
      "        [1., 0., 1., 1.]])\n"
     ]
    }
   ],
   "source": [
    "tensor = torch.ones(4, 4)\n",
    "tensor[:,1] = 0\n",
    "print(tensor)"
   ]
  },
  {
   "cell_type": "code",
   "execution_count": 15,
   "metadata": {
    "execution": {
     "iopub.execute_input": "2021-01-29T23:41:27.672469Z",
     "iopub.status.busy": "2021-01-29T23:41:27.672061Z",
     "iopub.status.idle": "2021-01-29T23:41:27.686509Z",
     "shell.execute_reply": "2021-01-29T23:41:27.685559Z",
     "shell.execute_reply.started": "2021-01-29T23:41:27.672437Z"
    }
   },
   "outputs": [
    {
     "name": "stdout",
     "output_type": "stream",
     "text": [
      "tensor([[1., 0., 1., 1., 1., 0., 1., 1., 1., 0., 1., 1.],\n",
      "        [1., 0., 1., 1., 1., 0., 1., 1., 1., 0., 1., 1.],\n",
      "        [1., 0., 1., 1., 1., 0., 1., 1., 1., 0., 1., 1.],\n",
      "        [1., 0., 1., 1., 1., 0., 1., 1., 1., 0., 1., 1.]])\n"
     ]
    }
   ],
   "source": [
    "t1 = torch.cat([tensor, tensor, tensor], dim=1)\n",
    "print(t1)"
   ]
  },
  {
   "cell_type": "code",
   "execution_count": 30,
   "metadata": {
    "execution": {
     "iopub.execute_input": "2021-01-29T23:44:00.456840Z",
     "iopub.status.busy": "2021-01-29T23:44:00.456441Z",
     "iopub.status.idle": "2021-01-29T23:44:00.464680Z",
     "shell.execute_reply": "2021-01-29T23:44:00.463941Z",
     "shell.execute_reply.started": "2021-01-29T23:44:00.456794Z"
    }
   },
   "outputs": [
    {
     "name": "stdout",
     "output_type": "stream",
     "text": [
      "tensor.mul(tensor) \n",
      " tensor([[1., 0., 0., 1.],\n",
      "        [1., 0., 0., 1.],\n",
      "        [1., 0., 0., 1.],\n",
      "        [1., 0., 0., 1.]]) \n",
      "\n",
      "tensor * tensor \n",
      " tensor([[1., 0., 0., 1.],\n",
      "        [1., 0., 0., 1.],\n",
      "        [1., 0., 0., 1.],\n",
      "        [1., 0., 0., 1.]])\n"
     ]
    }
   ],
   "source": [
    "tensor2 = torch.ones_like(tensor)\n",
    "tensor2[:,1] = 1\n",
    "tensor2[:,2] = 0\n",
    "# This computes the element-wise product\n",
    "print(f\"tensor.mul(tensor) \\n {tensor.mul(tensor2)} \\n\")\n",
    "# Alternative syntax:\n",
    "print(f\"tensor * tensor \\n {tensor * tensor2}\")"
   ]
  },
  {
   "cell_type": "code",
   "execution_count": 35,
   "metadata": {
    "execution": {
     "iopub.execute_input": "2021-01-29T23:45:31.611950Z",
     "iopub.status.busy": "2021-01-29T23:45:31.611560Z",
     "iopub.status.idle": "2021-01-29T23:45:31.617663Z",
     "shell.execute_reply": "2021-01-29T23:45:31.616912Z",
     "shell.execute_reply.started": "2021-01-29T23:45:31.611912Z"
    }
   },
   "outputs": [
    {
     "data": {
      "text/plain": [
       "tensor([[1., 1., 0., 1.],\n",
       "        [1., 1., 0., 1.],\n",
       "        [1., 1., 0., 1.],\n",
       "        [1., 1., 0., 1.]])"
      ]
     },
     "execution_count": 35,
     "metadata": {},
     "output_type": "execute_result"
    }
   ],
   "source": [
    "tensor2"
   ]
  },
  {
   "cell_type": "code",
   "execution_count": 36,
   "metadata": {
    "execution": {
     "iopub.execute_input": "2021-01-29T23:45:32.594517Z",
     "iopub.status.busy": "2021-01-29T23:45:32.593982Z",
     "iopub.status.idle": "2021-01-29T23:45:32.600257Z",
     "shell.execute_reply": "2021-01-29T23:45:32.599605Z",
     "shell.execute_reply.started": "2021-01-29T23:45:32.594463Z"
    }
   },
   "outputs": [
    {
     "name": "stdout",
     "output_type": "stream",
     "text": [
      "tensor.matmul(tensor.T) \n",
      " tensor([[2., 2., 2., 2.],\n",
      "        [2., 2., 2., 2.],\n",
      "        [2., 2., 2., 2.],\n",
      "        [2., 2., 2., 2.]]) \n",
      "\n",
      "tensor @ tensor.T \n",
      " tensor([[2., 2., 2., 2.],\n",
      "        [2., 2., 2., 2.],\n",
      "        [2., 2., 2., 2.],\n",
      "        [2., 2., 2., 2.]])\n"
     ]
    }
   ],
   "source": [
    "print(f\"tensor.matmul(tensor.T) \\n {tensor.matmul(tensor2.T)} \\n\")\n",
    "# Alternative syntax:\n",
    "print(f\"tensor @ tensor.T \\n {tensor @ tensor2.T}\")"
   ]
  },
  {
   "cell_type": "code",
   "execution_count": 37,
   "metadata": {
    "execution": {
     "iopub.execute_input": "2021-01-29T23:46:14.638893Z",
     "iopub.status.busy": "2021-01-29T23:46:14.638293Z",
     "iopub.status.idle": "2021-01-29T23:46:14.647756Z",
     "shell.execute_reply": "2021-01-29T23:46:14.646784Z",
     "shell.execute_reply.started": "2021-01-29T23:46:14.638844Z"
    }
   },
   "outputs": [
    {
     "name": "stdout",
     "output_type": "stream",
     "text": [
      "tensor([[1., 0., 1., 1.],\n",
      "        [1., 0., 1., 1.],\n",
      "        [1., 0., 1., 1.],\n",
      "        [1., 0., 1., 1.]]) \n",
      "\n",
      "tensor([[6., 5., 6., 6.],\n",
      "        [6., 5., 6., 6.],\n",
      "        [6., 5., 6., 6.],\n",
      "        [6., 5., 6., 6.]])\n"
     ]
    }
   ],
   "source": [
    "print(tensor, \"\\n\")\n",
    "tensor.add_(5)\n",
    "print(tensor)"
   ]
  },
  {
   "cell_type": "code",
   "execution_count": 38,
   "metadata": {
    "execution": {
     "iopub.execute_input": "2021-01-29T23:46:39.282434Z",
     "iopub.status.busy": "2021-01-29T23:46:39.281802Z",
     "iopub.status.idle": "2021-01-29T23:46:39.291672Z",
     "shell.execute_reply": "2021-01-29T23:46:39.290677Z",
     "shell.execute_reply.started": "2021-01-29T23:46:39.282372Z"
    }
   },
   "outputs": [
    {
     "name": "stdout",
     "output_type": "stream",
     "text": [
      "t: tensor([1., 1., 1., 1., 1.])\n",
      "n: [1. 1. 1. 1. 1.]\n"
     ]
    }
   ],
   "source": [
    "t = torch.ones(5)\n",
    "print(f\"t: {t}\")\n",
    "n = t.numpy()\n",
    "print(f\"n: {n}\")"
   ]
  },
  {
   "cell_type": "code",
   "execution_count": 40,
   "metadata": {
    "execution": {
     "iopub.execute_input": "2021-01-29T23:46:55.465968Z",
     "iopub.status.busy": "2021-01-29T23:46:55.465404Z",
     "iopub.status.idle": "2021-01-29T23:46:55.473085Z",
     "shell.execute_reply": "2021-01-29T23:46:55.472050Z",
     "shell.execute_reply.started": "2021-01-29T23:46:55.465891Z"
    }
   },
   "outputs": [
    {
     "name": "stdout",
     "output_type": "stream",
     "text": [
      "t: tensor([2., 2., 2., 2., 2.])\n",
      "n: [2. 2. 2. 2. 2.]\n"
     ]
    }
   ],
   "source": [
    "t.add_(1)\n",
    "print(f\"t: {t}\")\n",
    "print(f\"n: {n}\")"
   ]
  },
  {
   "cell_type": "code",
   "execution_count": 41,
   "metadata": {
    "execution": {
     "iopub.execute_input": "2021-01-29T23:51:12.875704Z",
     "iopub.status.busy": "2021-01-29T23:51:12.875337Z",
     "iopub.status.idle": "2021-01-29T23:51:12.879180Z",
     "shell.execute_reply": "2021-01-29T23:51:12.878504Z",
     "shell.execute_reply.started": "2021-01-29T23:51:12.875671Z"
    }
   },
   "outputs": [],
   "source": [
    "n = np.ones(5)\n",
    "t = torch.from_numpy(n)"
   ]
  },
  {
   "cell_type": "code",
   "execution_count": 42,
   "metadata": {
    "execution": {
     "iopub.execute_input": "2021-01-29T23:51:19.872153Z",
     "iopub.status.busy": "2021-01-29T23:51:19.871441Z",
     "iopub.status.idle": "2021-01-29T23:51:19.879886Z",
     "shell.execute_reply": "2021-01-29T23:51:19.879174Z",
     "shell.execute_reply.started": "2021-01-29T23:51:19.872081Z"
    }
   },
   "outputs": [
    {
     "name": "stdout",
     "output_type": "stream",
     "text": [
      "t: tensor([2., 2., 2., 2., 2.], dtype=torch.float64)\n",
      "n: [2. 2. 2. 2. 2.]\n"
     ]
    }
   ],
   "source": [
    "np.add(n, 1, out=n)\n",
    "print(f\"t: {t}\")\n",
    "print(f\"n: {n}\")"
   ]
  },
  {
   "cell_type": "code",
   "execution_count": null,
   "metadata": {},
   "outputs": [],
   "source": []
  }
 ],
 "metadata": {
  "kernelspec": {
   "display_name": "Python 3",
   "language": "python",
   "name": "python3"
  },
  "language_info": {
   "codemirror_mode": {
    "name": "ipython",
    "version": 3
   },
   "file_extension": ".py",
   "mimetype": "text/x-python",
   "name": "python",
   "nbconvert_exporter": "python",
   "pygments_lexer": "ipython3",
   "version": "3.7.9"
  }
 },
 "nbformat": 4,
 "nbformat_minor": 4
}
