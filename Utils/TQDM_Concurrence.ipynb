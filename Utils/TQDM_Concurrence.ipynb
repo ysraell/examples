{
 "cells": [
  {
   "cell_type": "markdown",
   "metadata": {},
   "source": [
    "# Template \n",
    "\n",
    "- Author: Israel Oliveira [\\[e-mail\\]](mailto:'Israel%20Oliveira%20'<prof.israel@gmail.com>)"
   ]
  },
  {
   "cell_type": "code",
   "execution_count": 1,
   "metadata": {
    "execution": {
     "iopub.execute_input": "2021-08-24T11:34:15.038156Z",
     "iopub.status.busy": "2021-08-24T11:34:15.037773Z",
     "iopub.status.idle": "2021-08-24T11:34:15.078152Z",
     "shell.execute_reply": "2021-08-24T11:34:15.077570Z",
     "shell.execute_reply.started": "2021-08-24T11:34:15.038068Z"
    }
   },
   "outputs": [],
   "source": [
    "%load_ext watermark"
   ]
  },
  {
   "cell_type": "code",
   "execution_count": 11,
   "metadata": {
    "execution": {
     "iopub.execute_input": "2021-08-24T11:42:26.505499Z",
     "iopub.status.busy": "2021-08-24T11:42:26.505033Z",
     "iopub.status.idle": "2021-08-24T11:42:26.509299Z",
     "shell.execute_reply": "2021-08-24T11:42:26.508362Z",
     "shell.execute_reply.started": "2021-08-24T11:42:26.505467Z"
    },
    "tags": []
   },
   "outputs": [],
   "source": [
    "import pandas as pd\n",
    "from random import randint "
   ]
  },
  {
   "cell_type": "code",
   "execution_count": 3,
   "metadata": {
    "execution": {
     "iopub.execute_input": "2021-08-24T11:34:16.156327Z",
     "iopub.status.busy": "2021-08-24T11:34:16.156096Z",
     "iopub.status.idle": "2021-08-24T11:34:16.161841Z",
     "shell.execute_reply": "2021-08-24T11:34:16.160953Z",
     "shell.execute_reply.started": "2021-08-24T11:34:16.156299Z"
    }
   },
   "outputs": [],
   "source": [
    "# from tqdm import tqdm\n",
    "\n",
    "# from glob import glob\n",
    "\n",
    "# import matplotlib.pyplot as plt\n",
    "# %matplotlib inline\n",
    "# from matplotlib import rcParams\n",
    "# from cycler import cycler\n",
    "\n",
    "# rcParams['figure.figsize'] = 12, 8 # 18, 5\n",
    "# rcParams['axes.spines.top'] = False\n",
    "# rcParams['axes.spines.right'] = False\n",
    "# rcParams['axes.grid'] = True\n",
    "# rcParams['axes.prop_cycle'] = cycler(color=['#365977'])\n",
    "# rcParams['lines.linewidth'] = 2.5\n",
    "\n",
    "# import seaborn as sns\n",
    "# sns.set_theme()\n",
    "\n",
    "# pd.set_option(\"max_columns\", None)\n",
    "# pd.set_option(\"max_rows\", None)\n",
    "# pd.set_option('display.max_colwidth', None)\n",
    "\n",
    "# from IPython.display import Markdown, display\n",
    "# def md(arg):\n",
    "#     display(Markdown(arg))\n",
    "\n",
    "# from pandas_profiling import ProfileReport\n",
    "# #report = ProfileReport(#DataFrame here#, minimal=True)\n",
    "# #report.to\n",
    "\n",
    "# import pyarrow.parquet as pq\n",
    "# #df = pq.ParquetDataset(path_to_folder_with_parquets, filesystem=None).read_pandas().to_pandas()\n",
    "\n",
    "# import json\n",
    "# def open_file_json(path,mode='r',var=None):\n",
    "#     if mode == 'w':\n",
    "#         with open(path,'w') as f:\n",
    "#             json.dump(var, f)\n",
    "#     if mode == 'r':\n",
    "#         with open(path,'r') as f:\n",
    "#             return json.load(f)\n",
    "\n",
    "# import functools\n",
    "# import operator\n",
    "# def flat(a):\n",
    "#     return functools.reduce(operator.iconcat, a, [])\n",
    "\n",
    "# import json\n",
    "# from glob import glob\n",
    "# from typing import NewType\n",
    "\n",
    "\n",
    "# DictsPathType = NewType(\"DictsPath\", str)\n",
    "\n",
    "\n",
    "# def open_file_json(path):\n",
    "#     with open(path, \"r\") as f:\n",
    "#         return json.load(f)\n",
    "\n",
    "# class LoadDicts:\n",
    "#     def __init__(self, dict_path: DictsPathType = \"./data\"):\n",
    "#         Dicts_glob = glob(f\"{dict_path}/*.json\")\n",
    "#         self.List = []\n",
    "#         self.Dict = {}\n",
    "#         for path_json in Dicts_glob:\n",
    "#             name = path_json.split(\"/\")[-1].replace(\".json\", \"\")\n",
    "#             self.List.append(name)\n",
    "#             self.Dict[name] = open_file_json(path_json)\n",
    "#             setattr(self, name, self.Dict[name])\n"
   ]
  },
  {
   "cell_type": "code",
   "execution_count": 4,
   "metadata": {
    "execution": {
     "iopub.execute_input": "2021-08-24T11:34:16.163580Z",
     "iopub.status.busy": "2021-08-24T11:34:16.163251Z",
     "iopub.status.idle": "2021-08-24T11:34:17.471817Z",
     "shell.execute_reply": "2021-08-24T11:34:17.468707Z",
     "shell.execute_reply.started": "2021-08-24T11:34:16.163549Z"
    }
   },
   "outputs": [
    {
     "name": "stdout",
     "output_type": "stream",
     "text": [
      "Python implementation: CPython\n",
      "Python version       : 3.9.6\n",
      "IPython version      : 7.26.0\n",
      "\n",
      "Compiler    : GCC 10.2.1 20210110\n",
      "OS          : Linux\n",
      "Release     : 5.11.0-7620-generic\n",
      "Machine     : x86_64\n",
      "Processor   : \n",
      "CPU cores   : 4\n",
      "Architecture: 64bit\n",
      "\n",
      "Git hash: 609211a990c36dbb9bee3d1f9a858036a27e67c9\n",
      "\n",
      "Git repo: https://github.com/ysraell/examples.git\n",
      "\n",
      "Git branch: master\n",
      "\n",
      "pandas: 1.3.2\n",
      "\n",
      "CPU\t: Intel(R) Core(TM) i7-7500U CPU @ 2.70GHz\n",
      "Mem:            15G\n",
      "Swap:          4.0G\n"
     ]
    }
   ],
   "source": [
    "# Run this cell before close.\n",
    "%watermark -d --iversion -b -r -g -m -v\n",
    "!cat /proc/cpuinfo |grep 'model name'|head -n 1 |sed -e 's/model\\ name/CPU/'\n",
    "!free -h |cut -d'i' -f1  |grep -v total"
   ]
  },
  {
   "cell_type": "code",
   "execution_count": 5,
   "metadata": {
    "execution": {
     "iopub.execute_input": "2021-08-24T11:34:55.235017Z",
     "iopub.status.busy": "2021-08-24T11:34:55.234516Z",
     "iopub.status.idle": "2021-08-24T11:34:55.368047Z",
     "shell.execute_reply": "2021-08-24T11:34:55.367504Z",
     "shell.execute_reply.started": "2021-08-24T11:34:55.234959Z"
    }
   },
   "outputs": [],
   "source": [
    "from tqdm.contrib.concurrent import process_map, thread_map\n",
    "import time\n",
    "\n",
    "def _foo(my_number):\n",
    "    square = my_number * my_number\n",
    "    time.sleep(1)\n",
    "    return square "
   ]
  },
  {
   "cell_type": "code",
   "execution_count": 6,
   "metadata": {
    "execution": {
     "iopub.execute_input": "2021-08-24T11:35:08.879156Z",
     "iopub.status.busy": "2021-08-24T11:35:08.875416Z",
     "iopub.status.idle": "2021-08-24T11:35:10.955478Z",
     "shell.execute_reply": "2021-08-24T11:35:10.954392Z",
     "shell.execute_reply.started": "2021-08-24T11:35:08.878984Z"
    }
   },
   "outputs": [
    {
     "data": {
      "application/vnd.jupyter.widget-view+json": {
       "model_id": "8c8b27f6519b4b7aa281e37a46115773",
       "version_major": 2,
       "version_minor": 0
      },
      "text/plain": [
       "  0%|          | 0/4 [00:00<?, ?it/s]"
      ]
     },
     "metadata": {},
     "output_type": "display_data"
    }
   ],
   "source": [
    "r = process_map(_foo, range(0, 4), max_workers=2)"
   ]
  },
  {
   "cell_type": "code",
   "execution_count": 7,
   "metadata": {
    "execution": {
     "iopub.execute_input": "2021-08-24T11:35:30.047984Z",
     "iopub.status.busy": "2021-08-24T11:35:30.045495Z",
     "iopub.status.idle": "2021-08-24T11:35:32.125233Z",
     "shell.execute_reply": "2021-08-24T11:35:32.124328Z",
     "shell.execute_reply.started": "2021-08-24T11:35:30.047867Z"
    }
   },
   "outputs": [
    {
     "data": {
      "application/vnd.jupyter.widget-view+json": {
       "model_id": "45bbc5f2e49649eb9d732f724ac6c443",
       "version_major": 2,
       "version_minor": 0
      },
      "text/plain": [
       "  0%|          | 0/8 [00:00<?, ?it/s]"
      ]
     },
     "metadata": {},
     "output_type": "display_data"
    }
   ],
   "source": [
    "r = process_map(_foo, range(0, 8), max_workers=4)"
   ]
  },
  {
   "cell_type": "code",
   "execution_count": 8,
   "metadata": {
    "execution": {
     "iopub.execute_input": "2021-08-24T11:35:43.350696Z",
     "iopub.status.busy": "2021-08-24T11:35:43.350131Z",
     "iopub.status.idle": "2021-08-24T11:35:45.373826Z",
     "shell.execute_reply": "2021-08-24T11:35:45.372836Z",
     "shell.execute_reply.started": "2021-08-24T11:35:43.350630Z"
    }
   },
   "outputs": [
    {
     "data": {
      "application/vnd.jupyter.widget-view+json": {
       "model_id": "43f894ec9ff948a5b47ba1b7cd3c18dd",
       "version_major": 2,
       "version_minor": 0
      },
      "text/plain": [
       "  0%|          | 0/8 [00:00<?, ?it/s]"
      ]
     },
     "metadata": {},
     "output_type": "display_data"
    }
   ],
   "source": [
    "r = thread_map(_foo, range(0, 8), max_workers=4)"
   ]
  },
  {
   "cell_type": "code",
   "execution_count": 9,
   "metadata": {
    "execution": {
     "iopub.execute_input": "2021-08-24T11:35:47.079019Z",
     "iopub.status.busy": "2021-08-24T11:35:47.072630Z",
     "iopub.status.idle": "2021-08-24T11:35:47.110058Z",
     "shell.execute_reply": "2021-08-24T11:35:47.109144Z",
     "shell.execute_reply.started": "2021-08-24T11:35:47.078842Z"
    }
   },
   "outputs": [
    {
     "data": {
      "text/plain": [
       "[0, 1, 4, 9, 16, 25, 36, 49]"
      ]
     },
     "execution_count": 9,
     "metadata": {},
     "output_type": "execute_result"
    }
   ],
   "source": [
    "r"
   ]
  },
  {
   "cell_type": "code",
   "execution_count": 10,
   "metadata": {
    "execution": {
     "iopub.execute_input": "2021-08-24T11:36:07.658970Z",
     "iopub.status.busy": "2021-08-24T11:36:07.656922Z",
     "iopub.status.idle": "2021-08-24T11:36:07.755181Z",
     "shell.execute_reply": "2021-08-24T11:36:07.754404Z",
     "shell.execute_reply.started": "2021-08-24T11:36:07.658870Z"
    }
   },
   "outputs": [
    {
     "data": {
      "text/plain": [
       "\u001b[0;31mSignature:\u001b[0m \u001b[0mthread_map\u001b[0m\u001b[0;34m(\u001b[0m\u001b[0mfn\u001b[0m\u001b[0;34m,\u001b[0m \u001b[0;34m*\u001b[0m\u001b[0miterables\u001b[0m\u001b[0;34m,\u001b[0m \u001b[0;34m**\u001b[0m\u001b[0mtqdm_kwargs\u001b[0m\u001b[0;34m)\u001b[0m\u001b[0;34m\u001b[0m\u001b[0;34m\u001b[0m\u001b[0m\n",
       "\u001b[0;31mDocstring:\u001b[0m\n",
       "Equivalent of `list(map(fn, *iterables))`\n",
       "driven by `concurrent.futures.ThreadPoolExecutor`.\n",
       "\n",
       "Parameters\n",
       "----------\n",
       "tqdm_class  : optional\n",
       "    `tqdm` class to use for bars [default: tqdm.auto.tqdm].\n",
       "max_workers  : int, optional\n",
       "    Maximum number of workers to spawn; passed to\n",
       "    `concurrent.futures.ThreadPoolExecutor.__init__`.\n",
       "    [default: max(32, cpu_count() + 4)].\n",
       "\u001b[0;31mFile:\u001b[0m      /usr/local/lib/python3.9/site-packages/tqdm/contrib/concurrent.py\n",
       "\u001b[0;31mType:\u001b[0m      function\n"
      ]
     },
     "metadata": {},
     "output_type": "display_data"
    }
   ],
   "source": [
    "thread_map?"
   ]
  },
  {
   "cell_type": "code",
   "execution_count": 59,
   "metadata": {
    "execution": {
     "iopub.execute_input": "2021-08-24T11:56:14.865031Z",
     "iopub.status.busy": "2021-08-24T11:56:14.864272Z",
     "iopub.status.idle": "2021-08-24T11:56:14.872405Z",
     "shell.execute_reply": "2021-08-24T11:56:14.871291Z",
     "shell.execute_reply.started": "2021-08-24T11:56:14.864982Z"
    },
    "tags": []
   },
   "outputs": [],
   "source": [
    "class Square:\n",
    "    numbers = []\n",
    "    \n",
    "    def foo(self, _ = None):\n",
    "        my_number = randint(0,1000)\n",
    "        square = my_number * my_number\n",
    "        time.sleep(1)\n",
    "        return square \n",
    "    \n",
    "    def fooParallel(self, max_workers):\n",
    "        r = thread_map(self.foo, range(0, 8), max_workers=max_workers, desc=\"Numbers here\")\n",
    "        self.numbers.extend(r)"
   ]
  },
  {
   "cell_type": "code",
   "execution_count": 60,
   "metadata": {
    "execution": {
     "iopub.execute_input": "2021-08-24T11:56:15.154980Z",
     "iopub.status.busy": "2021-08-24T11:56:15.152311Z",
     "iopub.status.idle": "2021-08-24T11:56:15.181923Z",
     "shell.execute_reply": "2021-08-24T11:56:15.176888Z",
     "shell.execute_reply.started": "2021-08-24T11:56:15.154831Z"
    },
    "tags": []
   },
   "outputs": [],
   "source": [
    "model = Square()"
   ]
  },
  {
   "cell_type": "code",
   "execution_count": 61,
   "metadata": {
    "execution": {
     "iopub.execute_input": "2021-08-24T11:56:15.482325Z",
     "iopub.status.busy": "2021-08-24T11:56:15.479550Z",
     "iopub.status.idle": "2021-08-24T11:56:16.505163Z",
     "shell.execute_reply": "2021-08-24T11:56:16.502278Z",
     "shell.execute_reply.started": "2021-08-24T11:56:15.482074Z"
    },
    "tags": []
   },
   "outputs": [
    {
     "data": {
      "text/plain": [
       "65536"
      ]
     },
     "execution_count": 61,
     "metadata": {},
     "output_type": "execute_result"
    }
   ],
   "source": [
    "model.foo()"
   ]
  },
  {
   "cell_type": "code",
   "execution_count": 54,
   "metadata": {
    "execution": {
     "iopub.execute_input": "2021-08-24T11:55:51.513676Z",
     "iopub.status.busy": "2021-08-24T11:55:51.510930Z",
     "iopub.status.idle": "2021-08-24T11:55:53.564802Z",
     "shell.execute_reply": "2021-08-24T11:55:53.560927Z",
     "shell.execute_reply.started": "2021-08-24T11:55:51.513533Z"
    },
    "tags": []
   },
   "outputs": [
    {
     "data": {
      "application/vnd.jupyter.widget-view+json": {
       "model_id": "734b94faae654f2486a891f25672c4e1",
       "version_major": 2,
       "version_minor": 0
      },
      "text/plain": [
       "Numbers here:   0%|          | 0/8 [00:00<?, ?it/s]"
      ]
     },
     "metadata": {},
     "output_type": "display_data"
    }
   ],
   "source": [
    "model.fooParallel(4)"
   ]
  },
  {
   "cell_type": "code",
   "execution_count": 50,
   "metadata": {
    "execution": {
     "iopub.execute_input": "2021-08-24T11:48:55.994507Z",
     "iopub.status.busy": "2021-08-24T11:48:55.994066Z",
     "iopub.status.idle": "2021-08-24T11:48:56.000963Z",
     "shell.execute_reply": "2021-08-24T11:48:56.000006Z",
     "shell.execute_reply.started": "2021-08-24T11:48:55.994468Z"
    },
    "tags": []
   },
   "outputs": [
    {
     "data": {
      "text/plain": [
       "[462400, 443556, 308025, 586756, 763876, 56169, 192721, 394384]"
      ]
     },
     "execution_count": 50,
     "metadata": {},
     "output_type": "execute_result"
    }
   ],
   "source": [
    "model.numbers"
   ]
  },
  {
   "cell_type": "code",
   "execution_count": 62,
   "metadata": {
    "execution": {
     "iopub.execute_input": "2021-08-24T12:01:07.522009Z",
     "iopub.status.busy": "2021-08-24T12:01:07.521575Z",
     "iopub.status.idle": "2021-08-24T12:01:07.534279Z",
     "shell.execute_reply": "2021-08-24T12:01:07.532888Z",
     "shell.execute_reply.started": "2021-08-24T12:01:07.521962Z"
    }
   },
   "outputs": [
    {
     "data": {
      "text/plain": [
       "<map at 0x7f183e32eb50>"
      ]
     },
     "execution_count": 62,
     "metadata": {},
     "output_type": "execute_result"
    }
   ],
   "source": [
    "map(list, zip(*[(1, 2), (3, 4), (5, 6)]))"
   ]
  },
  {
   "cell_type": "code",
   "execution_count": 63,
   "metadata": {
    "execution": {
     "iopub.execute_input": "2021-08-24T12:01:31.179422Z",
     "iopub.status.busy": "2021-08-24T12:01:31.176795Z",
     "iopub.status.idle": "2021-08-24T12:01:31.214302Z",
     "shell.execute_reply": "2021-08-24T12:01:31.211172Z",
     "shell.execute_reply.started": "2021-08-24T12:01:31.179297Z"
    }
   },
   "outputs": [
    {
     "data": {
      "text/plain": [
       "[[1, 3, 5], [2, 4, 6]]"
      ]
     },
     "execution_count": 63,
     "metadata": {},
     "output_type": "execute_result"
    }
   ],
   "source": [
    "list(map(list, zip(*[(1, 2), (3, 4), (5, 6)])))"
   ]
  },
  {
   "cell_type": "code",
   "execution_count": null,
   "metadata": {},
   "outputs": [],
   "source": []
  }
 ],
 "metadata": {
  "kernelspec": {
   "display_name": "Python 3 (ipykernel)",
   "language": "python",
   "name": "python3"
  },
  "language_info": {
   "codemirror_mode": {
    "name": "ipython",
    "version": 3
   },
   "file_extension": ".py",
   "mimetype": "text/x-python",
   "name": "python",
   "nbconvert_exporter": "python",
   "pygments_lexer": "ipython3",
   "version": "3.9.6"
  }
 },
 "nbformat": 4,
 "nbformat_minor": 4
}
