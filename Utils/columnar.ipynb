{
 "cells": [
  {
   "cell_type": "markdown",
   "metadata": {},
   "source": [
    "# Template \n",
    "\n",
    "- Author: Israel Oliveira [\\[e-mail\\]](mailto:'Israel%20Oliveira%20'<prof.israel@gmail.com>)"
   ]
  },
  {
   "cell_type": "code",
   "execution_count": 1,
   "metadata": {},
   "outputs": [],
   "source": [
    "%load_ext watermark"
   ]
  },
  {
   "cell_type": "code",
   "execution_count": 2,
   "metadata": {},
   "outputs": [],
   "source": [
    "import pandas as pd"
   ]
  },
  {
   "cell_type": "code",
   "execution_count": 3,
   "metadata": {},
   "outputs": [],
   "source": [
    "#import matplotlib.pyplot as plt\n",
    "# Algumas configurações para o matplotlib.\n",
    "#%matplotlib inline\n",
    "#from IPython.core.pylabtools import figsize\n",
    "#figsize(12, 8)\n",
    "#sns.set()"
   ]
  },
  {
   "cell_type": "code",
   "execution_count": 4,
   "metadata": {},
   "outputs": [
    {
     "name": "stdout",
     "output_type": "stream",
     "text": [
      "pandas 1.0.5\n",
      "2020-07-17 \n",
      "\n",
      "CPython 3.7.7\n",
      "IPython 7.15.0\n",
      "\n",
      "compiler   : GCC 8.3.0\n",
      "system     : Linux\n",
      "release    : 4.19.76-linuxkit\n",
      "machine    : x86_64\n",
      "processor  : \n",
      "CPU cores  : 16\n",
      "interpreter: 64bit\n",
      "Git hash   : d1b7838ba11248d2eb0a46bf186413b4a7c91912\n",
      "Git repo   : https://github.com/ysraell/examples.git\n",
      "Git branch : master\n"
     ]
    }
   ],
   "source": [
    "# Run this cell before close.\n",
    "%watermark -d --iversion -b -r -g -m -v"
   ]
  },
  {
   "cell_type": "code",
   "execution_count": 5,
   "metadata": {},
   "outputs": [
    {
     "name": "stdout",
     "output_type": "stream",
     "text": [
      "|------------------|------------------|------------------|------------------|\n",
      "|Race              |Date              |Location          |Distance          |\n",
      "|===========================================================================|\n",
      "|\u001b[37mStrade Bianche    \u001b[0m|\u001b[37m\u001b[44mSaturday 9th March\u001b[0m|Tuscany, Italy    |Men's - 176km / Wo|\n",
      "|\u001b[37m                  \u001b[0m|\u001b[37m\u001b[44m                  \u001b[0m|                  |men's - 103km. Bot|\n",
      "|\u001b[37m                  \u001b[0m|\u001b[37m\u001b[44m                  \u001b[0m|                  |h men's and women'|\n",
      "|\u001b[37m                  \u001b[0m|\u001b[37m\u001b[44m                  \u001b[0m|                  |s                 |\n",
      "|------------------|------------------|------------------|------------------|\n",
      "|\u001b[32mOmloop Het Nieuwsb\u001b[0m|\u001b[37m\u001b[44mSaturday 2nd March\u001b[0m|Gent, Belgium     |Men's - 200km / Wo|\n",
      "|\u001b[32mlad               \u001b[0m|\u001b[37m\u001b[44m                  \u001b[0m|                  |men's - 130km     |\n",
      "|------------------|------------------|------------------|------------------|\n",
      "|\u001b[31mMilan-San Remo    \u001b[0m|\u001b[37m\u001b[44mSaturday 23rd Marc\u001b[0m|Milan to San Remo,|\u001b[36m295km             \u001b[0m|\n",
      "|\u001b[31m                  \u001b[0m|\u001b[37m\u001b[44mh                 \u001b[0m| Italy            |\u001b[36m                  \u001b[0m|\n",
      "|------------------|------------------|------------------|------------------|\n",
      "|\u001b[33mTour of Flanders  \u001b[0m|Sunday 7th April  |Antwerp to Oudenaa|\u001b[36m260km             \u001b[0m|\n",
      "|\u001b[33m                  \u001b[0m|                  |rde, Flanders regi|\u001b[36m                  \u001b[0m|\n",
      "|\u001b[33m                  \u001b[0m|                  |on, Belgium       |\u001b[36m                  \u001b[0m|\n",
      "|------------------|------------------|------------------|------------------|\n",
      "\n"
     ]
    }
   ],
   "source": [
    "from columnar import columnar\n",
    "from click import style\n",
    "\n",
    "data = [\n",
    "    ['Strade Bianche', 'Saturday 9th March', 'Tuscany, Italy', \"Men's - 176km / Women's - 103km. Both men's and women's \"],\n",
    "    ['Omloop Het Nieuwsblad', 'Saturday 2nd March', 'Gent, Belgium', \"Men's - 200km / Women's - 130km\"],\n",
    "    ['Milan-San Remo', 'Saturday 23rd March', 'Milan to San Remo, Italy', '295km'],\n",
    "    ['Tour of Flanders', 'Sunday 7th April', 'Antwerp to Oudenaarde, Flanders region, Belgium', '260km']\n",
    "]\n",
    "\n",
    "patterns = [\n",
    "    ('Saturday.+', lambda text: style(text, fg='white', bg='blue')),\n",
    "    ('\\d+km', lambda text: style(text, fg='cyan')),\n",
    "    ('Omloop Het Nieuwsblad', lambda text: style(text, fg='green')),\n",
    "    ('Strade Bianche', lambda text: style(text, fg='white')),\n",
    "    ('Milan-San Remo', lambda text: style(text, fg='red')),\n",
    "    ('Tour of Flanders', lambda text: style(text, fg='yellow')),\n",
    "]\n",
    "\n",
    "table = columnar(data, headers=['Race', 'Date', 'Location', 'Distance'], patterns=patterns)\n",
    "print(table)"
   ]
  },
  {
   "cell_type": "code",
   "execution_count": null,
   "metadata": {},
   "outputs": [],
   "source": []
  }
 ],
 "metadata": {
  "kernelspec": {
   "display_name": "Python 3",
   "language": "python",
   "name": "python3"
  },
  "language_info": {
   "codemirror_mode": {
    "name": "ipython",
    "version": 3
   },
   "file_extension": ".py",
   "mimetype": "text/x-python",
   "name": "python",
   "nbconvert_exporter": "python",
   "pygments_lexer": "ipython3",
   "version": "3.7.7"
  }
 },
 "nbformat": 4,
 "nbformat_minor": 4
}
