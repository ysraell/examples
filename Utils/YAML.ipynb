{
 "cells": [
  {
   "cell_type": "markdown",
   "metadata": {},
   "source": [
    "# Template \n",
    "\n",
    "- Author: Israel Oliveira [\\[e-mail\\]](mailto:'Israel%20Oliveira%20'<prof.israel@gmail.com>)"
   ]
  },
  {
   "cell_type": "code",
   "execution_count": 1,
   "metadata": {
    "execution": {
     "iopub.execute_input": "2021-03-18T18:59:41.755235Z",
     "iopub.status.busy": "2021-03-18T18:59:41.754874Z",
     "iopub.status.idle": "2021-03-18T18:59:41.777736Z",
     "shell.execute_reply": "2021-03-18T18:59:41.777113Z",
     "shell.execute_reply.started": "2021-03-18T18:59:41.755201Z"
    }
   },
   "outputs": [],
   "source": [
    "%load_ext watermark"
   ]
  },
  {
   "cell_type": "code",
   "execution_count": 7,
   "metadata": {
    "execution": {
     "iopub.execute_input": "2021-03-18T19:01:51.944259Z",
     "iopub.status.busy": "2021-03-18T19:01:51.943636Z",
     "iopub.status.idle": "2021-03-18T19:01:51.948163Z",
     "shell.execute_reply": "2021-03-18T19:01:51.947496Z",
     "shell.execute_reply.started": "2021-03-18T19:01:51.944200Z"
    }
   },
   "outputs": [],
   "source": [
    "from yaml import load, dump\n",
    "try:\n",
    "    from yaml import CLoader as Loader, CDumper as Dumper\n",
    "except ImportError:\n",
    "    from yaml import Loader, Dumper"
   ]
  },
  {
   "cell_type": "code",
   "execution_count": 3,
   "metadata": {
    "execution": {
     "iopub.execute_input": "2021-03-18T18:59:42.070155Z",
     "iopub.status.busy": "2021-03-18T18:59:42.069646Z",
     "iopub.status.idle": "2021-03-18T18:59:42.075382Z",
     "shell.execute_reply": "2021-03-18T18:59:42.074493Z",
     "shell.execute_reply.started": "2021-03-18T18:59:42.070107Z"
    }
   },
   "outputs": [],
   "source": [
    "#import matplotlib.pyplot as plt\n",
    "#%matplotlib inline\n",
    "#from IPython.core.pylabtools import figsize\n",
    "#figsize(12, 8)\n",
    "\n",
    "#import seaborn as sns\n",
    "#sns.set_theme()\n",
    "\n",
    "#pd.set_option(\"max_columns\", None)\n",
    "#pd.set_option(\"max_rows\", None)\n",
    "\n",
    "#from IPython.display import Markdown, display\n",
    "#def md(arg):\n",
    "#    display(Markdown(arg))\n",
    "\n",
    "#from pandas_profiling import ProfileReport\n",
    "# report = ProfileReport(#DataFrame here#, minimal=True)\n",
    "# report.to\n",
    "\n",
    "#import pyarrow.parquet as pq\n",
    "# df = pq.ParquetDataset(path_to_folder_with_parquets, filesystem=None).read_pandas().to_pandas()\n",
    "\n",
    "#import json\n",
    "#def open_file_json(path,mode='r',var=None):\n",
    "#    if mode == 'w':\n",
    "#        with open(path,'w') as f:\n",
    "#            json.dump(var, f)\n",
    "#    if mode == 'r':\n",
    "#        with open(path,'r') as f:\n",
    "#            return json.load(f)\n",
    "\n",
    "#import functools\n",
    "#import operator\n",
    "#ef flat(a):\n",
    "#   return functools.reduce(operator.iconcat, a, [])"
   ]
  },
  {
   "cell_type": "code",
   "execution_count": 4,
   "metadata": {
    "execution": {
     "iopub.execute_input": "2021-03-18T18:59:43.544040Z",
     "iopub.status.busy": "2021-03-18T18:59:43.543494Z",
     "iopub.status.idle": "2021-03-18T18:59:44.784704Z",
     "shell.execute_reply": "2021-03-18T18:59:44.782590Z",
     "shell.execute_reply.started": "2021-03-18T18:59:43.543988Z"
    }
   },
   "outputs": [
    {
     "name": "stdout",
     "output_type": "stream",
     "text": [
      "Python implementation: CPython\n",
      "Python version       : 3.8.8\n",
      "IPython version      : 7.21.0\n",
      "\n",
      "Compiler    : GCC 8.3.0\n",
      "OS          : Linux\n",
      "Release     : 5.8.0-7642-generic\n",
      "Machine     : x86_64\n",
      "Processor   : \n",
      "CPU cores   : 8\n",
      "Architecture: 64bit\n",
      "\n",
      "Git hash: 321a772adc93a10975de464b47e51d1d59a66808\n",
      "\n",
      "Git repo: http://github.com/ysraell/examples\n",
      "\n",
      "Git branch: master\n",
      "\n",
      "ipywidgets: 7.6.3\n",
      "numpy     : 1.19.5\n",
      "pandas    : 1.2.3\n",
      "json      : 2.0.9\n",
      "sys       : 3.8.8 (default, Mar 12 2021, 19:33:56) \n",
      "[GCC 8.3.0]\n",
      "yaml      : 5.4.1\n",
      "\n",
      "CPU\t: Intel(R) Xeon(R) CPU E3-1241 v3 @ 3.50GHz\n",
      "Mem:           31G\n",
      "Swap:         4.0G\n"
     ]
    }
   ],
   "source": [
    "# Run this cell before close.\n",
    "%watermark -d --iversion -b -r -g -m -v\n",
    "!cat /proc/cpuinfo |grep 'model name'|head -n 1 |sed -e 's/model\\ name/CPU/'\n",
    "!free -h |cut -d'i' -f1  |grep -v total"
   ]
  },
  {
   "cell_type": "code",
   "execution_count": 6,
   "metadata": {
    "execution": {
     "iopub.execute_input": "2021-03-18T19:00:05.270410Z",
     "iopub.status.busy": "2021-03-18T19:00:05.270103Z",
     "iopub.status.idle": "2021-03-18T19:00:05.275687Z",
     "shell.execute_reply": "2021-03-18T19:00:05.275017Z",
     "shell.execute_reply.started": "2021-03-18T19:00:05.270378Z"
    }
   },
   "outputs": [
    {
     "name": "stdout",
     "output_type": "stream",
     "text": [
      "a: 1\n",
      "b:\n",
      "  c: 3\n",
      "  d: 4\n",
      "\n"
     ]
    },
    {
     "name": "stderr",
     "output_type": "stream",
     "text": [
      "<ipython-input-6-8d6dd17e7072>:7: YAMLLoadWarning: calling yaml.load() without Loader=... is deprecated, as the default Loader is unsafe. Please read https://msg.pyyaml.org/load for full details.\n",
      "  print(yaml.dump(yaml.load(document)))\n"
     ]
    }
   ],
   "source": [
    "document = \"\"\"\n",
    "  a: 1\n",
    "  b:\n",
    "    c: 3\n",
    "    d: 4\n",
    "\"\"\"\n",
    "print(yaml.dump(yaml.load(document)))"
   ]
  },
  {
   "cell_type": "code",
   "execution_count": 8,
   "metadata": {
    "execution": {
     "iopub.execute_input": "2021-03-18T19:02:29.294218Z",
     "iopub.status.busy": "2021-03-18T19:02:29.293589Z",
     "iopub.status.idle": "2021-03-18T19:02:29.301944Z",
     "shell.execute_reply": "2021-03-18T19:02:29.301101Z",
     "shell.execute_reply.started": "2021-03-18T19:02:29.294159Z"
    }
   },
   "outputs": [],
   "source": [
    "# ...\n",
    "\n",
    "data = load(document, Loader=Loader)\n",
    "\n",
    "# ...\n",
    "\n",
    "output = dump(data, Dumper=Dumper)"
   ]
  },
  {
   "cell_type": "code",
   "execution_count": 11,
   "metadata": {
    "execution": {
     "iopub.execute_input": "2021-03-18T19:02:46.817536Z",
     "iopub.status.busy": "2021-03-18T19:02:46.817235Z",
     "iopub.status.idle": "2021-03-18T19:02:46.821255Z",
     "shell.execute_reply": "2021-03-18T19:02:46.820559Z",
     "shell.execute_reply.started": "2021-03-18T19:02:46.817506Z"
    }
   },
   "outputs": [
    {
     "data": {
      "text/plain": [
       "'a: 1\\nb:\\n  c: 3\\n  d: 4\\n'"
      ]
     },
     "execution_count": 11,
     "metadata": {},
     "output_type": "execute_result"
    }
   ],
   "source": [
    "output"
   ]
  },
  {
   "cell_type": "code",
   "execution_count": 14,
   "metadata": {
    "execution": {
     "iopub.execute_input": "2021-03-18T19:34:25.238884Z",
     "iopub.status.busy": "2021-03-18T19:34:25.238623Z",
     "iopub.status.idle": "2021-03-18T19:34:25.242062Z",
     "shell.execute_reply": "2021-03-18T19:34:25.241298Z",
     "shell.execute_reply.started": "2021-03-18T19:34:25.238860Z"
    }
   },
   "outputs": [],
   "source": [
    "document = '''\n",
    "build-job:\n",
    "  stage: build\n",
    "  script:\n",
    "    - echo \"Hello, $GITLAB_USER_LOGIN!\"\n",
    "\n",
    "test-job1:\n",
    "  stage: test\n",
    "  script:\n",
    "    - echo \"This job tests something\"\n",
    "\n",
    "test-job2:\n",
    "  stage: test\n",
    "  script:\n",
    "    - echo \"This job tests something, but takes more time than test-job1.\"\n",
    "    - echo \"After the echo commands complete, it runs the sleep command for 20 seconds\"\n",
    "    - echo \"which simulates a test that runs 20 seconds longer than test-job1\"\n",
    "    - sleep 20\n",
    "\n",
    "deploy-prod:\n",
    "  stage: deploy\n",
    "  script:\n",
    "    - echo \"This job deploys something from the $CI_COMMIT_BRANCH branch.\"\n",
    "'''"
   ]
  },
  {
   "cell_type": "code",
   "execution_count": 15,
   "metadata": {
    "execution": {
     "iopub.execute_input": "2021-03-18T19:34:25.536935Z",
     "iopub.status.busy": "2021-03-18T19:34:25.536661Z",
     "iopub.status.idle": "2021-03-18T19:34:25.542649Z",
     "shell.execute_reply": "2021-03-18T19:34:25.541384Z",
     "shell.execute_reply.started": "2021-03-18T19:34:25.536910Z"
    }
   },
   "outputs": [
    {
     "data": {
      "text/plain": [
       "{'build-job': {'stage': 'build',\n",
       "  'script': ['echo \"Hello, $GITLAB_USER_LOGIN!\"']},\n",
       " 'test-job1': {'stage': 'test', 'script': ['echo \"This job tests something\"']},\n",
       " 'test-job2': {'stage': 'test',\n",
       "  'script': ['echo \"This job tests something, but takes more time than test-job1.\"',\n",
       "   'echo \"After the echo commands complete, it runs the sleep command for 20 seconds\"',\n",
       "   'echo \"which simulates a test that runs 20 seconds longer than test-job1\"',\n",
       "   'sleep 20']},\n",
       " 'deploy-prod': {'stage': 'deploy',\n",
       "  'script': ['echo \"This job deploys something from the $CI_COMMIT_BRANCH branch.\"']}}"
      ]
     },
     "execution_count": 15,
     "metadata": {},
     "output_type": "execute_result"
    }
   ],
   "source": [
    "data = load(document, Loader=Loader)\n",
    "data"
   ]
  },
  {
   "cell_type": "code",
   "execution_count": null,
   "metadata": {},
   "outputs": [],
   "source": []
  }
 ],
 "metadata": {
  "kernelspec": {
   "display_name": "Python 3",
   "language": "python",
   "name": "python3"
  },
  "language_info": {
   "codemirror_mode": {
    "name": "ipython",
    "version": 3
   },
   "file_extension": ".py",
   "mimetype": "text/x-python",
   "name": "python",
   "nbconvert_exporter": "python",
   "pygments_lexer": "ipython3",
   "version": "3.8.8"
  }
 },
 "nbformat": 4,
 "nbformat_minor": 4
}
