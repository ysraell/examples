{
 "cells": [
  {
   "cell_type": "markdown",
   "metadata": {},
   "source": [
    "# BFS: Shortest Reach in a Graph\n",
    "\n",
    "Source problem: [Hackerrank problem: BFS: Shortest Reach in a Graph](https://www.geeksforgeeks.org/dijkstras-shortest-path-algorithm-greedy-algo-7/)\n",
    "\n",
    "- Author: Israel Oliveira [\\[e-mail\\]](mailto:'Israel%20Oliveira%20'<prof.israel@gmail.com>)"
   ]
  },
  {
   "cell_type": "code",
   "execution_count": 1,
   "metadata": {},
   "outputs": [],
   "source": [
    "%load_ext watermark"
   ]
  },
  {
   "cell_type": "code",
   "execution_count": 2,
   "metadata": {},
   "outputs": [
    {
     "name": "stdout",
     "output_type": "stream",
     "text": [
      "2020-02-23T18:52:44+00:00\n",
      "\n",
      "CPython 3.7.6\n",
      "IPython 7.12.0\n",
      "\n",
      "compiler   : GCC 8.3.0\n",
      "system     : Linux\n",
      "release    : 5.3.0-7629-generic\n",
      "machine    : x86_64\n",
      "processor  : \n",
      "CPU cores  : 8\n",
      "interpreter: 64bit\n",
      "\n",
      "Git hash: 10df581085d28290eff4a1ca5d27c05a7e3958e4\n",
      "Git repo: https://github.com/ysraell/examples.git\n",
      "Git branch: master\n"
     ]
    }
   ],
   "source": [
    "# Run this cell before close.\n",
    "%watermark\n",
    "%watermark --iversion\n",
    "%watermark -b -r -g"
   ]
  },
  {
   "cell_type": "code",
   "execution_count": 5,
   "metadata": {},
   "outputs": [],
   "source": [
    "#Input (stdin)\n",
    "#Download\n",
    "Input =[\n",
    "2,\n",
    "[4, 2],\n",
    "[1, 2],\n",
    "[1, 3],\n",
    "1,\n",
    "[3, 1],\n",
    "[2, 3],\n",
    "2]"
   ]
  },
  {
   "cell_type": "code",
   "execution_count": 13,
   "metadata": {},
   "outputs": [
    {
     "data": {
      "text/plain": [
       "False"
      ]
     },
     "execution_count": 13,
     "metadata": {},
     "output_type": "execute_result"
    }
   ],
   "source": [
    "any([None, None])"
   ]
  },
  {
   "cell_type": "code",
   "execution_count": null,
   "metadata": {},
   "outputs": [],
   "source": [
    "class Graph:\n",
    "    def __init__(self, n):\n",
    "        self.nodes = set([i for i in range(n)])\n",
    "        self.edges = {i: [] for i in range(n)}\n",
    "    def connect(self, f, t):\n",
    "        self.edges[f].append(t)\n",
    "        self.edges[t].append(f)\n",
    "    def bfs(self, o, t, nodes):\n",
    "        if t in self.edges[o]:\n",
    "            return 1\n",
    "        if nodes:\n",
    "            for n in self.edges[o]:\n",
    "                if n in nodes:\n",
    "                    nodes.remove(n)\n",
    "                    return self.bfs(n, t, nodes)+1\n",
    "        return -float('inf')\n",
    "    def find_all_distances(self, s):\n",
    "        other_nodes = sorted(list(self.nodes))\n",
    "        other_nodes.remove(s)\n",
    "        distances = []\n",
    "        for n in other_nodes:\n",
    "            d = self.bfs(s, n, other_nodes[:])\n",
    "            distances.append(str(d*6) if d > 0 else str(-1))\n",
    "        print(' '.join(distances))\n",
    "\n",
    "t = int(input())\n",
    "for i in range(t):\n",
    "    n,m = [int(value) for value in input().split()]\n",
    "    graph = Graph(n)\n",
    "    for i in range(m):\n",
    "        x,y = [int(x) for x in input().split()]\n",
    "        graph.connect(x-1,y-1) \n",
    "    s = int(input())\n",
    "    graph.find_all_distances(s-1)"
   ]
  },
  {
   "cell_type": "code",
   "execution_count": 1,
   "metadata": {},
   "outputs": [
    {
     "data": {
      "text/plain": [
       "{'i', 'o'}"
      ]
     },
     "execution_count": 1,
     "metadata": {},
     "output_type": "execute_result"
    }
   ],
   "source": [
    "set('oioioio')"
   ]
  },
  {
   "cell_type": "code",
   "execution_count": null,
   "metadata": {},
   "outputs": [],
   "source": [
    "def isBalanced(s):\n",
    "    open_bra = '{[('\n",
    "    close_bra = ')]}'\n",
    "    map_bra = {a: b for (a,b) in zip(open_bra,close_bra)}\n",
    "    while s:\n",
    "        match = False\n",
    "        for i in range(len_s-1):\n",
    "            try:\n",
    "                if map_bra[s[i]] == s[i+1]:\n",
    "                    s = s[:i]+s[i+2:]\n",
    "                    match = True\n",
    "            except:\n",
    "                pass\n",
    "        if not match:\n",
    "            return 'NO'\n",
    "    return 'YES'"
   ]
  }
 ],
 "metadata": {
  "kernelspec": {
   "display_name": "Python 3",
   "language": "python",
   "name": "python3"
  },
  "language_info": {
   "codemirror_mode": {
    "name": "ipython",
    "version": 3
   },
   "file_extension": ".py",
   "mimetype": "text/x-python",
   "name": "python",
   "nbconvert_exporter": "python",
   "pygments_lexer": "ipython3",
   "version": "3.7.6"
  }
 },
 "nbformat": 4,
 "nbformat_minor": 4
}
