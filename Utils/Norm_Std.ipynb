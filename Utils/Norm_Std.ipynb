{
 "cells": [
  {
   "cell_type": "markdown",
   "metadata": {},
   "source": [
    "# Normalizar e padronizar \n",
    "\n",
    "- Author: Israel Oliveira [\\[e-mail\\]](mailto:'Israel%20Oliveira%20'<prof.israel@gmail.com>)"
   ]
  },
  {
   "cell_type": "markdown",
   "metadata": {},
   "source": [
    "### Normalizar\n",
    "\n",
    "Normalizar:\n",
    "\n",
    "$\\bar{x} = \\frac{x - x_{min}}{x_{max}-x_{min}}$\n",
    "\n",
    "E esperança de $\\bar{x}$:\n",
    "\n",
    "$E\\left [ \\bar{x} \\right ] = \\frac{E\\left [x - x_{min}\\right ] }{E\\left [x_{max}-x_{min}\\right ] } = \\frac{E\\left [x \\right ] - x_{min}}{x_{max}-x_{min}}= \\frac{\\mu - x_{min}}{x_{max}-x_{min}}$\n"
   ]
  },
  {
   "cell_type": "markdown",
   "metadata": {},
   "source": [
    "### Padronizar\n",
    "\n",
    "Padronizar:\n",
    "\n",
    "$\\bar{x} = \\frac{x - \\mu}{\\sigma_{x}}$\n",
    "\n",
    "E esperança de $\\bar{x}$:\n",
    "\n",
    "$E\\left [ \\bar{x} \\right ] = \\frac{E\\left [x\\right ] - \\mu}{\\sigma_{x}}= \\frac{\\mu - \\mu}{\\sigma_{x}} = 0$"
   ]
  },
  {
   "cell_type": "code",
   "execution_count": null,
   "metadata": {},
   "outputs": [],
   "source": []
  }
 ],
 "metadata": {
  "kernelspec": {
   "display_name": "Python 3",
   "language": "python",
   "name": "python3"
  },
  "language_info": {
   "codemirror_mode": {
    "name": "ipython",
    "version": 3
   },
   "file_extension": ".py",
   "mimetype": "text/x-python",
   "name": "python",
   "nbconvert_exporter": "python",
   "pygments_lexer": "ipython3",
   "version": "3.7.7"
  }
 },
 "nbformat": 4,
 "nbformat_minor": 4
}
