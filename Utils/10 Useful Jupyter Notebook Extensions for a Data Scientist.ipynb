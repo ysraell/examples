{
 "cells": [
  {
   "cell_type": "markdown",
   "metadata": {},
   "source": [
    "# 10 Useful Jupyter Notebook Extensions for a Data Scientist\n",
    "[Source](https://towardsdatascience.com/10-useful-jupyter-notebook-extensions-for-a-data-scientist-bd4cb472c25e)\n",
    "\n",
    "- Author: Israel Oliveira [\\[e-mail\\]](mailto:'Israel%20Oliveira%20'<prof.israel@gmail.com>)"
   ]
  },
  {
   "cell_type": "code",
   "execution_count": null,
   "metadata": {
    "execution": {
     "iopub.execute_input": "2021-02-18T12:46:20.205069Z",
     "iopub.status.busy": "2021-02-18T12:46:20.204447Z",
     "iopub.status.idle": "2021-02-18T12:46:20.225238Z",
     "shell.execute_reply": "2021-02-18T12:46:20.224004Z",
     "shell.execute_reply.started": "2021-02-18T12:46:20.205007Z"
    }
   },
   "outputs": [],
   "source": [
    "%load_ext watermark"
   ]
  },
  {
   "cell_type": "code",
   "execution_count": null,
   "metadata": {
    "execution": {
     "iopub.execute_input": "2021-02-18T12:46:20.415883Z",
     "iopub.status.busy": "2021-02-18T12:46:20.415576Z",
     "iopub.status.idle": "2021-02-18T12:46:20.419026Z",
     "shell.execute_reply": "2021-02-18T12:46:20.418281Z",
     "shell.execute_reply.started": "2021-02-18T12:46:20.415851Z"
    }
   },
   "outputs": [],
   "source": [
    "import pandas as pd"
   ]
  },
  {
   "cell_type": "code",
   "execution_count": null,
   "metadata": {
    "execution": {
     "iopub.execute_input": "2021-02-18T12:46:20.614977Z",
     "iopub.status.busy": "2021-02-18T12:46:20.614426Z",
     "iopub.status.idle": "2021-02-18T12:46:20.619603Z",
     "shell.execute_reply": "2021-02-18T12:46:20.618736Z",
     "shell.execute_reply.started": "2021-02-18T12:46:20.614920Z"
    }
   },
   "outputs": [],
   "source": [
    "#import matplotlib.pyplot as plt\n",
    "#%matplotlib inline\n",
    "#from IPython.core.pylabtools import figsize\n",
    "#figsize(12, 8)\n",
    "\n",
    "#import seaborn as sns\n",
    "#sns.set_theme()\n",
    "\n",
    "#pd.set_option(\"max_columns\", None)\n",
    "#pd.set_option(\"max_rows\", None)\n",
    "\n",
    "#from IPython.display import Markdown, display\n",
    "#def md(arg):\n",
    "#    display(Markdown(arg))\n",
    "\n",
    "#from pandas_profiling import ProfileReport\n",
    "# report = ProfileReport(#DataFrame here#, minimal=True)\n",
    "# report.to\n",
    "\n",
    "#import pyarrow.parquet as pq\n",
    "# df = pq.ParquetDataset(path_to_folder_with_parquets, filesystem=None).read_pandas().to_pandas()"
   ]
  },
  {
   "cell_type": "code",
   "execution_count": null,
   "metadata": {
    "execution": {
     "iopub.execute_input": "2021-02-18T12:46:20.791326Z",
     "iopub.status.busy": "2021-02-18T12:46:20.790775Z",
     "iopub.status.idle": "2021-02-18T12:46:22.078863Z",
     "shell.execute_reply": "2021-02-18T12:46:22.077779Z",
     "shell.execute_reply.started": "2021-02-18T12:46:20.791275Z"
    }
   },
   "outputs": [],
   "source": [
    "# Run this cell before close.\n",
    "%watermark -d --iversion -b -r -g -m -v\n",
    "!cat /proc/cpuinfo |grep 'model name'|head -n 1 |sed -e 's/model\\ name/CPU/'\n",
    "!free -h |cut -d'i' -f1  |grep -v total"
   ]
  },
  {
   "cell_type": "code",
   "execution_count": null,
   "metadata": {
    "execution": {
     "iopub.execute_input": "2021-02-18T12:46:22.089646Z",
     "iopub.status.busy": "2021-02-18T12:46:22.089294Z",
     "iopub.status.idle": "2021-02-18T12:46:27.431653Z",
     "shell.execute_reply": "2021-02-18T12:46:27.430966Z",
     "shell.execute_reply.started": "2021-02-18T12:46:22.089609Z"
    },
    "require": [
     "base/js/events",
     "datatables.net",
     "d3",
     "chartjs",
     "dt-config",
     "dt-components",
     "dt-graph-objects",
     "dt-toolbar",
     "dt-tooltips",
     "jupyter-datatables"
    ]
   },
   "outputs": [],
   "source": [
    "iris = pd.read_csv('https://raw.githubusercontent.com/mwaskom/seaborn-data/master/iris.csv')\n",
    "iris"
   ]
  },
  {
   "cell_type": "code",
   "execution_count": null,
   "metadata": {
    "execution": {
     "iopub.execute_input": "2021-02-18T12:46:27.432909Z",
     "iopub.status.busy": "2021-02-18T12:46:27.432678Z",
     "iopub.status.idle": "2021-02-18T12:46:27.438712Z",
     "shell.execute_reply": "2021-02-18T12:46:27.438091Z",
     "shell.execute_reply.started": "2021-02-18T12:46:27.432885Z"
    }
   },
   "outputs": [],
   "source": [
    "from itables import init_notebook_mode\n",
    "init_notebook_mode(all_interactive=True)"
   ]
  },
  {
   "cell_type": "code",
   "execution_count": null,
   "metadata": {
    "execution": {
     "iopub.execute_input": "2021-02-18T12:46:27.449344Z",
     "iopub.status.busy": "2021-02-18T12:46:27.449088Z",
     "iopub.status.idle": "2021-02-18T12:46:27.489724Z",
     "shell.execute_reply": "2021-02-18T12:46:27.488912Z",
     "shell.execute_reply.started": "2021-02-18T12:46:27.449318Z"
    }
   },
   "outputs": [],
   "source": [
    "iris"
   ]
  },
  {
   "cell_type": "code",
   "execution_count": null,
   "metadata": {},
   "outputs": [],
   "source": [
    "from jupyter_datatables import init_datatables_mode\n",
    "\n",
    "init_datatables_mode()"
   ]
  },
  {
   "cell_type": "code",
   "execution_count": null,
   "metadata": {},
   "outputs": [],
   "source": [
    "iris"
   ]
  },
  {
   "cell_type": "code",
   "execution_count": null,
   "metadata": {},
   "outputs": [],
   "source": [
    "import handcalcs.render\n",
    "import forallpeople"
   ]
  },
  {
   "cell_type": "code",
   "execution_count": null,
   "metadata": {},
   "outputs": [],
   "source": [
    "forallpeople.environment('structural', top_level=True)"
   ]
  },
  {
   "cell_type": "code",
   "execution_count": null,
   "metadata": {},
   "outputs": [],
   "source": [
    "from math import sqrt"
   ]
  },
  {
   "cell_type": "code",
   "execution_count": null,
   "metadata": {},
   "outputs": [],
   "source": [
    "%%render\n",
    "\n",
    "a = 1\n",
    "a_b = 2\n",
    "M_x = 300e3*mm**3"
   ]
  },
  {
   "cell_type": "code",
   "execution_count": 1,
   "metadata": {},
   "outputs": [
    {
     "name": "stderr",
     "output_type": "stream",
     "text": [
      "UsageError: Cell magic `%%notify` not found.\n"
     ]
    }
   ],
   "source": [
    "%%notify\n",
    "print('oi')"
   ]
  },
  {
   "cell_type": "code",
   "execution_count": null,
   "metadata": {},
   "outputs": [],
   "source": []
  }
 ],
 "metadata": {
  "kernelspec": {
   "display_name": "Python 3",
   "language": "python",
   "name": "python3"
  },
  "language_info": {
   "codemirror_mode": {
    "name": "ipython",
    "version": 3
   },
   "file_extension": ".py",
   "mimetype": "text/x-python",
   "name": "python",
   "nbconvert_exporter": "python",
   "pygments_lexer": "ipython3",
   "version": "3.7.10"
  },
  "require": {
   "paths": {
    "buttons.colvis": "https://cdn.datatables.net/buttons/1.5.6/js/buttons.colVis.min",
    "buttons.flash": "https://cdn.datatables.net/buttons/1.5.6/js/buttons.flash.min",
    "buttons.html5": "https://cdn.datatables.net/buttons/1.5.6/js/buttons.html5.min",
    "buttons.print": "https://cdn.datatables.net/buttons/1.5.6/js/buttons.print.min",
    "chartjs": "https://cdnjs.cloudflare.com/ajax/libs/Chart.js/2.8.0/Chart",
    "d3": "https://d3js.org/d3.v5.min",
    "d3-array": "https://d3js.org/d3-array.v2.min",
    "datatables.net": "https://cdn.datatables.net/1.10.18/js/jquery.dataTables",
    "datatables.net-buttons": "https://cdn.datatables.net/buttons/1.5.6/js/dataTables.buttons.min",
    "datatables.responsive": "https://cdn.datatables.net/responsive/2.2.2/js/dataTables.responsive.min",
    "datatables.scroller": "https://cdn.datatables.net/scroller/2.0.0/js/dataTables.scroller.min",
    "datatables.select": "https://cdn.datatables.net/select/1.3.0/js/dataTables.select.min",
    "jszip": "https://cdnjs.cloudflare.com/ajax/libs/jszip/2.5.0/jszip.min",
    "moment": "https://cdnjs.cloudflare.com/ajax/libs/moment.js/2.8.0/moment",
    "pdfmake": "https://cdnjs.cloudflare.com/ajax/libs/pdfmake/0.1.36/pdfmake.min",
    "vfsfonts": "https://cdnjs.cloudflare.com/ajax/libs/pdfmake/0.1.36/vfs_fonts"
   },
   "shim": {
    "buttons.colvis": {
     "deps": [
      "jszip",
      "datatables.net-buttons"
     ]
    },
    "buttons.flash": {
     "deps": [
      "jszip",
      "datatables.net-buttons"
     ]
    },
    "buttons.html5": {
     "deps": [
      "jszip",
      "datatables.net-buttons"
     ]
    },
    "buttons.print": {
     "deps": [
      "jszip",
      "datatables.net-buttons"
     ]
    },
    "chartjs": {
     "deps": [
      "moment"
     ]
    },
    "datatables.net": {
     "exports": "$.fn.dataTable"
    },
    "datatables.net-buttons": {
     "deps": [
      "datatables.net"
     ]
    },
    "pdfmake": {
     "deps": [
      "datatables.net"
     ]
    },
    "vfsfonts": {
     "deps": [
      "datatables.net"
     ]
    }
   }
  }
 },
 "nbformat": 4,
 "nbformat_minor": 4
}
