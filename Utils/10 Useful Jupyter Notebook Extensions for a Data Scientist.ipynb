{
 "cells": [
  {
   "cell_type": "markdown",
   "metadata": {},
   "source": [
    "# 10 Useful Jupyter Notebook Extensions for a Data Scientist\n",
    "[Source](https://towardsdatascience.com/10-useful-jupyter-notebook-extensions-for-a-data-scientist-bd4cb472c25e)\n",
    "\n",
    "- Author: Israel Oliveira [\\[e-mail\\]](mailto:'Israel%20Oliveira%20'<prof.israel@gmail.com>)"
   ]
  },
  {
   "cell_type": "code",
   "execution_count": 1,
   "metadata": {
    "execution": {
     "iopub.execute_input": "2021-02-17T20:55:41.676243Z",
     "iopub.status.busy": "2021-02-17T20:55:41.675939Z",
     "iopub.status.idle": "2021-02-17T20:55:41.693682Z",
     "shell.execute_reply": "2021-02-17T20:55:41.692998Z",
     "shell.execute_reply.started": "2021-02-17T20:55:41.676209Z"
    }
   },
   "outputs": [],
   "source": [
    "%load_ext watermark"
   ]
  },
  {
   "cell_type": "code",
   "execution_count": 2,
   "metadata": {
    "execution": {
     "iopub.execute_input": "2021-02-17T20:55:42.112684Z",
     "iopub.status.busy": "2021-02-17T20:55:42.112086Z",
     "iopub.status.idle": "2021-02-17T20:55:42.118340Z",
     "shell.execute_reply": "2021-02-17T20:55:42.117283Z",
     "shell.execute_reply.started": "2021-02-17T20:55:42.112621Z"
    }
   },
   "outputs": [],
   "source": [
    "import pandas as pd"
   ]
  },
  {
   "cell_type": "code",
   "execution_count": 3,
   "metadata": {
    "execution": {
     "iopub.execute_input": "2021-02-17T20:55:42.376783Z",
     "iopub.status.busy": "2021-02-17T20:55:42.376421Z",
     "iopub.status.idle": "2021-02-17T20:55:42.380978Z",
     "shell.execute_reply": "2021-02-17T20:55:42.379701Z",
     "shell.execute_reply.started": "2021-02-17T20:55:42.376748Z"
    }
   },
   "outputs": [],
   "source": [
    "#import matplotlib.pyplot as plt\n",
    "#%matplotlib inline\n",
    "#from IPython.core.pylabtools import figsize\n",
    "#figsize(12, 8)\n",
    "\n",
    "#import seaborn as sns\n",
    "#sns.set_theme()\n",
    "\n",
    "#pd.set_option(\"max_columns\", None)\n",
    "#pd.set_option(\"max_rows\", None)\n",
    "\n",
    "#from IPython.display import Markdown, display\n",
    "#def md(arg):\n",
    "#    display(Markdown(arg))\n",
    "\n",
    "#from pandas_profiling import ProfileReport\n",
    "# report = ProfileReport(#DataFrame here#, minimal=True)\n",
    "# report.to\n",
    "\n",
    "#import pyarrow.parquet as pq\n",
    "# df = pq.ParquetDataset(path_to_folder_with_parquets, filesystem=None).read_pandas().to_pandas()"
   ]
  },
  {
   "cell_type": "code",
   "execution_count": 4,
   "metadata": {
    "execution": {
     "iopub.execute_input": "2021-02-17T20:55:42.921657Z",
     "iopub.status.busy": "2021-02-17T20:55:42.921272Z",
     "iopub.status.idle": "2021-02-17T20:55:44.177574Z",
     "shell.execute_reply": "2021-02-17T20:55:44.176589Z",
     "shell.execute_reply.started": "2021-02-17T20:55:42.921620Z"
    }
   },
   "outputs": [
    {
     "name": "stdout",
     "output_type": "stream",
     "text": [
      "Python implementation: CPython\n",
      "Python version       : 3.7.10\n",
      "IPython version      : 7.20.0\n",
      "\n",
      "Compiler    : GCC 8.3.0\n",
      "OS          : Linux\n",
      "Release     : 5.8.0-7642-generic\n",
      "Machine     : x86_64\n",
      "Processor   : \n",
      "CPU cores   : 4\n",
      "Architecture: 64bit\n",
      "\n",
      "Git hash: 346931c9097044232349d6c6a04b7f43e5435312\n",
      "\n",
      "Git repo: http://github.com/ysraell/examples\n",
      "\n",
      "Git branch: master\n",
      "\n",
      "pandas: 1.2.2\n",
      "\n",
      "CPU\t: Intel(R) Core(TM) i7-7500U CPU @ 2.70GHz\n",
      "Mem:           15G\n",
      "Swap:         4.0G\n"
     ]
    }
   ],
   "source": [
    "# Run this cell before close.\n",
    "%watermark -d --iversion -b -r -g -m -v\n",
    "!cat /proc/cpuinfo |grep 'model name'|head -n 1 |sed -e 's/model\\ name/CPU/'\n",
    "!free -h |cut -d'i' -f1  |grep -v total"
   ]
  },
  {
   "cell_type": "code",
   "execution_count": 5,
   "metadata": {
    "execution": {
     "iopub.execute_input": "2021-02-17T20:55:44.187693Z",
     "iopub.status.busy": "2021-02-17T20:55:44.187330Z",
     "iopub.status.idle": "2021-02-17T20:55:49.764544Z",
     "shell.execute_reply": "2021-02-17T20:55:49.763674Z",
     "shell.execute_reply.started": "2021-02-17T20:55:44.187655Z"
    }
   },
   "outputs": [
    {
     "data": {
      "text/html": [
       "<div>\n",
       "<style scoped>\n",
       "    .dataframe tbody tr th:only-of-type {\n",
       "        vertical-align: middle;\n",
       "    }\n",
       "\n",
       "    .dataframe tbody tr th {\n",
       "        vertical-align: top;\n",
       "    }\n",
       "\n",
       "    .dataframe thead th {\n",
       "        text-align: right;\n",
       "    }\n",
       "</style>\n",
       "<table border=\"1\" class=\"dataframe\">\n",
       "  <thead>\n",
       "    <tr style=\"text-align: right;\">\n",
       "      <th></th>\n",
       "      <th>sepal_length</th>\n",
       "      <th>sepal_width</th>\n",
       "      <th>petal_length</th>\n",
       "      <th>petal_width</th>\n",
       "      <th>species</th>\n",
       "    </tr>\n",
       "  </thead>\n",
       "  <tbody>\n",
       "    <tr>\n",
       "      <th>0</th>\n",
       "      <td>5.1</td>\n",
       "      <td>3.5</td>\n",
       "      <td>1.4</td>\n",
       "      <td>0.2</td>\n",
       "      <td>setosa</td>\n",
       "    </tr>\n",
       "    <tr>\n",
       "      <th>1</th>\n",
       "      <td>4.9</td>\n",
       "      <td>3.0</td>\n",
       "      <td>1.4</td>\n",
       "      <td>0.2</td>\n",
       "      <td>setosa</td>\n",
       "    </tr>\n",
       "    <tr>\n",
       "      <th>2</th>\n",
       "      <td>4.7</td>\n",
       "      <td>3.2</td>\n",
       "      <td>1.3</td>\n",
       "      <td>0.2</td>\n",
       "      <td>setosa</td>\n",
       "    </tr>\n",
       "    <tr>\n",
       "      <th>3</th>\n",
       "      <td>4.6</td>\n",
       "      <td>3.1</td>\n",
       "      <td>1.5</td>\n",
       "      <td>0.2</td>\n",
       "      <td>setosa</td>\n",
       "    </tr>\n",
       "    <tr>\n",
       "      <th>4</th>\n",
       "      <td>5.0</td>\n",
       "      <td>3.6</td>\n",
       "      <td>1.4</td>\n",
       "      <td>0.2</td>\n",
       "      <td>setosa</td>\n",
       "    </tr>\n",
       "    <tr>\n",
       "      <th>...</th>\n",
       "      <td>...</td>\n",
       "      <td>...</td>\n",
       "      <td>...</td>\n",
       "      <td>...</td>\n",
       "      <td>...</td>\n",
       "    </tr>\n",
       "    <tr>\n",
       "      <th>145</th>\n",
       "      <td>6.7</td>\n",
       "      <td>3.0</td>\n",
       "      <td>5.2</td>\n",
       "      <td>2.3</td>\n",
       "      <td>virginica</td>\n",
       "    </tr>\n",
       "    <tr>\n",
       "      <th>146</th>\n",
       "      <td>6.3</td>\n",
       "      <td>2.5</td>\n",
       "      <td>5.0</td>\n",
       "      <td>1.9</td>\n",
       "      <td>virginica</td>\n",
       "    </tr>\n",
       "    <tr>\n",
       "      <th>147</th>\n",
       "      <td>6.5</td>\n",
       "      <td>3.0</td>\n",
       "      <td>5.2</td>\n",
       "      <td>2.0</td>\n",
       "      <td>virginica</td>\n",
       "    </tr>\n",
       "    <tr>\n",
       "      <th>148</th>\n",
       "      <td>6.2</td>\n",
       "      <td>3.4</td>\n",
       "      <td>5.4</td>\n",
       "      <td>2.3</td>\n",
       "      <td>virginica</td>\n",
       "    </tr>\n",
       "    <tr>\n",
       "      <th>149</th>\n",
       "      <td>5.9</td>\n",
       "      <td>3.0</td>\n",
       "      <td>5.1</td>\n",
       "      <td>1.8</td>\n",
       "      <td>virginica</td>\n",
       "    </tr>\n",
       "  </tbody>\n",
       "</table>\n",
       "<p>150 rows × 5 columns</p>\n",
       "</div>"
      ],
      "text/plain": [
       "     sepal_length  sepal_width  petal_length  petal_width    species\n",
       "0             5.1          3.5           1.4          0.2     setosa\n",
       "1             4.9          3.0           1.4          0.2     setosa\n",
       "2             4.7          3.2           1.3          0.2     setosa\n",
       "3             4.6          3.1           1.5          0.2     setosa\n",
       "4             5.0          3.6           1.4          0.2     setosa\n",
       "..            ...          ...           ...          ...        ...\n",
       "145           6.7          3.0           5.2          2.3  virginica\n",
       "146           6.3          2.5           5.0          1.9  virginica\n",
       "147           6.5          3.0           5.2          2.0  virginica\n",
       "148           6.2          3.4           5.4          2.3  virginica\n",
       "149           5.9          3.0           5.1          1.8  virginica\n",
       "\n",
       "[150 rows x 5 columns]"
      ]
     },
     "execution_count": 5,
     "metadata": {},
     "output_type": "execute_result"
    }
   ],
   "source": [
    "iris = pd.read_csv('https://raw.githubusercontent.com/mwaskom/seaborn-data/master/iris.csv')\n",
    "iris"
   ]
  },
  {
   "cell_type": "code",
   "execution_count": 6,
   "metadata": {
    "execution": {
     "iopub.execute_input": "2021-02-17T20:55:49.766221Z",
     "iopub.status.busy": "2021-02-17T20:55:49.765919Z",
     "iopub.status.idle": "2021-02-17T20:55:49.798383Z",
     "shell.execute_reply": "2021-02-17T20:55:49.797524Z",
     "shell.execute_reply.started": "2021-02-17T20:55:49.766190Z"
    }
   },
   "outputs": [
    {
     "data": {
      "application/javascript": [
       "require.config({\n",
       "    paths: {\n",
       "        datatables: 'https://cdn.datatables.net/1.10.19/js/jquery.dataTables.min',\n",
       "    }\n",
       "});\n",
       "\n",
       "$('head').append('<link rel=\"stylesheet\" type=\"text/css\" \\\n",
       "                href = \"https://cdn.datatables.net/1.10.19/css/jquery.dataTables.min.css\" > ');\n",
       "\n",
       "$('head').append('<style> table td { text-overflow: ellipsis; overflow: hidden; } </style>');\n",
       "\n",
       "$('head').append(`<script>\n",
       "function eval_functions(map_or_text) {\n",
       "    if (typeof map_or_text === \"string\") {\n",
       "        if (map_or_text.startsWith(\"function\")) {\n",
       "            try {\n",
       "                // Note: parenthesis are required around the whole expression for eval to return a value!\n",
       "                // See https://stackoverflow.com/a/7399078/911298.\n",
       "                //\n",
       "                // eval(\"local_fun = \" + map_or_text) would fail because local_fun is not declared\n",
       "                // (using var, let or const would work, but it would only be declared in the local scope\n",
       "                // and therefore the value could not be retrieved).\n",
       "                const func = eval(\"(\" + map_or_text + \")\");\n",
       "                if (typeof func !== \"function\") {\n",
       "                    // Note: backquotes are super convenient!\n",
       "                    // https://developer.mozilla.org/en-US/docs/Web/JavaScript/Reference/Template_literals\n",
       "                    console.error(\"Evaluated expression \" + map_or_text + \" is not a function (type is \" + typeof func + \")\");\n",
       "                    return map_or_text;\n",
       "                }\n",
       "                // Return the function\n",
       "                return func;\n",
       "            } catch (e) {\n",
       "                // Make sure to print the error with a second argument to console.error().\n",
       "                console.error(\"itables was not able to parse \" + map_or_text, e);\n",
       "            }\n",
       "        }\n",
       "    } else if (typeof map_or_text === \"object\") {\n",
       "        if (map_or_text instanceof Array) {\n",
       "            // Note: \"var\" is now superseded by \"let\" and \"const\".\n",
       "            // https://medium.com/javascript-scene/javascript-es6-var-let-or-const-ba58b8dcde75\n",
       "            const result = [];\n",
       "            // Note: \"for of\" is the best way to iterate through an iterable.\n",
       "            // https://developer.mozilla.org/en-US/docs/Web/JavaScript/Reference/Statements/for...of\n",
       "            for (const item of map_or_text) {\n",
       "                result.push(eval_functions(item));\n",
       "            }\n",
       "            return result;\n",
       "\n",
       "            // Alternatively, more functional approach in one line:\n",
       "            // return map_or_text.map(eval_functions);\n",
       "        } else {\n",
       "            const result = {};\n",
       "            // Object.keys() is safer than \"for in\" because otherwise you might have keys\n",
       "            // that aren't defined in the object itself.\n",
       "            //\n",
       "            // See https://stackoverflow.com/a/684692/911298.\n",
       "            for (const item of Object.keys(map_or_text)) {\n",
       "                result[item] = eval_functions(map_or_text[item]);\n",
       "            }\n",
       "            return result;\n",
       "        }\n",
       "    }\n",
       "\n",
       "    return map_or_text;\n",
       "}\n",
       "\n",
       "</` + 'script>');"
      ],
      "text/plain": [
       "<IPython.core.display.Javascript object>"
      ]
     },
     "metadata": {},
     "output_type": "display_data"
    }
   ],
   "source": [
    "from itables import init_notebook_mode\n",
    "init_notebook_mode(all_interactive=True)"
   ]
  },
  {
   "cell_type": "code",
   "execution_count": 7,
   "metadata": {
    "execution": {
     "iopub.execute_input": "2021-02-17T20:48:59.067880Z",
     "iopub.status.busy": "2021-02-17T20:48:59.067365Z",
     "iopub.status.idle": "2021-02-17T20:48:59.089269Z",
     "shell.execute_reply": "2021-02-17T20:48:59.088330Z",
     "shell.execute_reply.started": "2021-02-17T20:48:59.067833Z"
    }
   },
   "outputs": [
    {
     "data": {
      "text/html": [
       "<div><table id=\"7389699d-79fe-4d94-ba33-4d82422279d6\" class=\"display\"><thead>\n",
       "    <tr style=\"text-align: right;\">\n",
       "      \n",
       "      <th>sepal_length</th>\n",
       "      <th>sepal_width</th>\n",
       "      <th>petal_length</th>\n",
       "      <th>petal_width</th>\n",
       "      <th>species</th>\n",
       "    </tr>\n",
       "  </thead></table>\n",
       "<script type=\"text/javascript\">\n",
       "require([\"datatables\"], function (datatables) {\n",
       "    $(document).ready(function () {\n",
       "        var dt_args = {\"columnDefs\": [{\"width\": \"70px\", \"targets\": \"_all\"}], \"data\": [[5.1, 3.5, 1.4, 0.2, \"setosa\"], [4.9, 3.0, 1.4, 0.2, \"setosa\"], [4.7, 3.2, 1.3, 0.2, \"setosa\"], [4.6, 3.1, 1.5, 0.2, \"setosa\"], [5.0, 3.6, 1.4, 0.2, \"setosa\"], [5.4, 3.9, 1.7, 0.4, \"setosa\"], [4.6, 3.4, 1.4, 0.3, \"setosa\"], [5.0, 3.4, 1.5, 0.2, \"setosa\"], [4.4, 2.9, 1.4, 0.2, \"setosa\"], [4.9, 3.1, 1.5, 0.1, \"setosa\"], [5.4, 3.7, 1.5, 0.2, \"setosa\"], [4.8, 3.4, 1.6, 0.2, \"setosa\"], [4.8, 3.0, 1.4, 0.1, \"setosa\"], [4.3, 3.0, 1.1, 0.1, \"setosa\"], [5.8, 4.0, 1.2, 0.2, \"setosa\"], [5.7, 4.4, 1.5, 0.4, \"setosa\"], [5.4, 3.9, 1.3, 0.4, \"setosa\"], [5.1, 3.5, 1.4, 0.3, \"setosa\"], [5.7, 3.8, 1.7, 0.3, \"setosa\"], [5.1, 3.8, 1.5, 0.3, \"setosa\"], [5.4, 3.4, 1.7, 0.2, \"setosa\"], [5.1, 3.7, 1.5, 0.4, \"setosa\"], [4.6, 3.6, 1.0, 0.2, \"setosa\"], [5.1, 3.3, 1.7, 0.5, \"setosa\"], [4.8, 3.4, 1.9, 0.2, \"setosa\"], [5.0, 3.0, 1.6, 0.2, \"setosa\"], [5.0, 3.4, 1.6, 0.4, \"setosa\"], [5.2, 3.5, 1.5, 0.2, \"setosa\"], [5.2, 3.4, 1.4, 0.2, \"setosa\"], [4.7, 3.2, 1.6, 0.2, \"setosa\"], [4.8, 3.1, 1.6, 0.2, \"setosa\"], [5.4, 3.4, 1.5, 0.4, \"setosa\"], [5.2, 4.1, 1.5, 0.1, \"setosa\"], [5.5, 4.2, 1.4, 0.2, \"setosa\"], [4.9, 3.1, 1.5, 0.2, \"setosa\"], [5.0, 3.2, 1.2, 0.2, \"setosa\"], [5.5, 3.5, 1.3, 0.2, \"setosa\"], [4.9, 3.6, 1.4, 0.1, \"setosa\"], [4.4, 3.0, 1.3, 0.2, \"setosa\"], [5.1, 3.4, 1.5, 0.2, \"setosa\"], [5.0, 3.5, 1.3, 0.3, \"setosa\"], [4.5, 2.3, 1.3, 0.3, \"setosa\"], [4.4, 3.2, 1.3, 0.2, \"setosa\"], [5.0, 3.5, 1.6, 0.6, \"setosa\"], [5.1, 3.8, 1.9, 0.4, \"setosa\"], [4.8, 3.0, 1.4, 0.3, \"setosa\"], [5.1, 3.8, 1.6, 0.2, \"setosa\"], [4.6, 3.2, 1.4, 0.2, \"setosa\"], [5.3, 3.7, 1.5, 0.2, \"setosa\"], [5.0, 3.3, 1.4, 0.2, \"setosa\"], [7.0, 3.2, 4.7, 1.4, \"versicolor\"], [6.4, 3.2, 4.5, 1.5, \"versicolor\"], [6.9, 3.1, 4.9, 1.5, \"versicolor\"], [5.5, 2.3, 4.0, 1.3, \"versicolor\"], [6.5, 2.8, 4.6, 1.5, \"versicolor\"], [5.7, 2.8, 4.5, 1.3, \"versicolor\"], [6.3, 3.3, 4.7, 1.6, \"versicolor\"], [4.9, 2.4, 3.3, 1.0, \"versicolor\"], [6.6, 2.9, 4.6, 1.3, \"versicolor\"], [5.2, 2.7, 3.9, 1.4, \"versicolor\"], [5.0, 2.0, 3.5, 1.0, \"versicolor\"], [5.9, 3.0, 4.2, 1.5, \"versicolor\"], [6.0, 2.2, 4.0, 1.0, \"versicolor\"], [6.1, 2.9, 4.7, 1.4, \"versicolor\"], [5.6, 2.9, 3.6, 1.3, \"versicolor\"], [6.7, 3.1, 4.4, 1.4, \"versicolor\"], [5.6, 3.0, 4.5, 1.5, \"versicolor\"], [5.8, 2.7, 4.1, 1.0, \"versicolor\"], [6.2, 2.2, 4.5, 1.5, \"versicolor\"], [5.6, 2.5, 3.9, 1.1, \"versicolor\"], [5.9, 3.2, 4.8, 1.8, \"versicolor\"], [6.1, 2.8, 4.0, 1.3, \"versicolor\"], [6.3, 2.5, 4.9, 1.5, \"versicolor\"], [6.1, 2.8, 4.7, 1.2, \"versicolor\"], [6.4, 2.9, 4.3, 1.3, \"versicolor\"], [6.6, 3.0, 4.4, 1.4, \"versicolor\"], [6.8, 2.8, 4.8, 1.4, \"versicolor\"], [6.7, 3.0, 5.0, 1.7, \"versicolor\"], [6.0, 2.9, 4.5, 1.5, \"versicolor\"], [5.7, 2.6, 3.5, 1.0, \"versicolor\"], [5.5, 2.4, 3.8, 1.1, \"versicolor\"], [5.5, 2.4, 3.7, 1.0, \"versicolor\"], [5.8, 2.7, 3.9, 1.2, \"versicolor\"], [6.0, 2.7, 5.1, 1.6, \"versicolor\"], [5.4, 3.0, 4.5, 1.5, \"versicolor\"], [6.0, 3.4, 4.5, 1.6, \"versicolor\"], [6.7, 3.1, 4.7, 1.5, \"versicolor\"], [6.3, 2.3, 4.4, 1.3, \"versicolor\"], [5.6, 3.0, 4.1, 1.3, \"versicolor\"], [5.5, 2.5, 4.0, 1.3, \"versicolor\"], [5.5, 2.6, 4.4, 1.2, \"versicolor\"], [6.1, 3.0, 4.6, 1.4, \"versicolor\"], [5.8, 2.6, 4.0, 1.2, \"versicolor\"], [5.0, 2.3, 3.3, 1.0, \"versicolor\"], [5.6, 2.7, 4.2, 1.3, \"versicolor\"], [5.7, 3.0, 4.2, 1.2, \"versicolor\"], [5.7, 2.9, 4.2, 1.3, \"versicolor\"], [6.2, 2.9, 4.3, 1.3, \"versicolor\"], [5.1, 2.5, 3.0, 1.1, \"versicolor\"], [5.7, 2.8, 4.1, 1.3, \"versicolor\"], [6.3, 3.3, 6.0, 2.5, \"virginica\"], [5.8, 2.7, 5.1, 1.9, \"virginica\"], [7.1, 3.0, 5.9, 2.1, \"virginica\"], [6.3, 2.9, 5.6, 1.8, \"virginica\"], [6.5, 3.0, 5.8, 2.2, \"virginica\"], [7.6, 3.0, 6.6, 2.1, \"virginica\"], [4.9, 2.5, 4.5, 1.7, \"virginica\"], [7.3, 2.9, 6.3, 1.8, \"virginica\"], [6.7, 2.5, 5.8, 1.8, \"virginica\"], [7.2, 3.6, 6.1, 2.5, \"virginica\"], [6.5, 3.2, 5.1, 2.0, \"virginica\"], [6.4, 2.7, 5.3, 1.9, \"virginica\"], [6.8, 3.0, 5.5, 2.1, \"virginica\"], [5.7, 2.5, 5.0, 2.0, \"virginica\"], [5.8, 2.8, 5.1, 2.4, \"virginica\"], [6.4, 3.2, 5.3, 2.3, \"virginica\"], [6.5, 3.0, 5.5, 1.8, \"virginica\"], [7.7, 3.8, 6.7, 2.2, \"virginica\"], [7.7, 2.6, 6.9, 2.3, \"virginica\"], [6.0, 2.2, 5.0, 1.5, \"virginica\"], [6.9, 3.2, 5.7, 2.3, \"virginica\"], [5.6, 2.8, 4.9, 2.0, \"virginica\"], [7.7, 2.8, 6.7, 2.0, \"virginica\"], [6.3, 2.7, 4.9, 1.8, \"virginica\"], [6.7, 3.3, 5.7, 2.1, \"virginica\"], [7.2, 3.2, 6.0, 1.8, \"virginica\"], [6.2, 2.8, 4.8, 1.8, \"virginica\"], [6.1, 3.0, 4.9, 1.8, \"virginica\"], [6.4, 2.8, 5.6, 2.1, \"virginica\"], [7.2, 3.0, 5.8, 1.6, \"virginica\"], [7.4, 2.8, 6.1, 1.9, \"virginica\"], [7.9, 3.8, 6.4, 2.0, \"virginica\"], [6.4, 2.8, 5.6, 2.2, \"virginica\"], [6.3, 2.8, 5.1, 1.5, \"virginica\"], [6.1, 2.6, 5.6, 1.4, \"virginica\"], [7.7, 3.0, 6.1, 2.3, \"virginica\"], [6.3, 3.4, 5.6, 2.4, \"virginica\"], [6.4, 3.1, 5.5, 1.8, \"virginica\"], [6.0, 3.0, 4.8, 1.8, \"virginica\"], [6.9, 3.1, 5.4, 2.1, \"virginica\"], [6.7, 3.1, 5.6, 2.4, \"virginica\"], [6.9, 3.1, 5.1, 2.3, \"virginica\"], [5.8, 2.7, 5.1, 1.9, \"virginica\"], [6.8, 3.2, 5.9, 2.3, \"virginica\"], [6.7, 3.3, 5.7, 2.5, \"virginica\"], [6.7, 3.0, 5.2, 2.3, \"virginica\"], [6.3, 2.5, 5.0, 1.9, \"virginica\"], [6.5, 3.0, 5.2, 2.0, \"virginica\"], [6.2, 3.4, 5.4, 2.3, \"virginica\"], [5.9, 3.0, 5.1, 1.8, \"virginica\"]]};\n",
       "        dt_args = eval_functions(dt_args);\n",
       "        table = $('#7389699d-79fe-4d94-ba33-4d82422279d6').DataTable(dt_args);\n",
       "    });\n",
       "})\n",
       "</script>\n",
       "</div>\n"
      ],
      "text/plain": [
       "     sepal_length  sepal_width  petal_length  petal_width    species\n",
       "0             5.1          3.5           1.4          0.2     setosa\n",
       "1             4.9          3.0           1.4          0.2     setosa\n",
       "2             4.7          3.2           1.3          0.2     setosa\n",
       "3             4.6          3.1           1.5          0.2     setosa\n",
       "4             5.0          3.6           1.4          0.2     setosa\n",
       "..            ...          ...           ...          ...        ...\n",
       "145           6.7          3.0           5.2          2.3  virginica\n",
       "146           6.3          2.5           5.0          1.9  virginica\n",
       "147           6.5          3.0           5.2          2.0  virginica\n",
       "148           6.2          3.4           5.4          2.3  virginica\n",
       "149           5.9          3.0           5.1          1.8  virginica\n",
       "\n",
       "[150 rows x 5 columns]"
      ]
     },
     "execution_count": 7,
     "metadata": {},
     "output_type": "execute_result"
    }
   ],
   "source": [
    "iris"
   ]
  },
  {
   "cell_type": "code",
   "execution_count": null,
   "metadata": {},
   "outputs": [],
   "source": []
  }
 ],
 "metadata": {
  "kernelspec": {
   "display_name": "Python 3",
   "language": "python",
   "name": "python3"
  },
  "language_info": {
   "codemirror_mode": {
    "name": "ipython",
    "version": 3
   },
   "file_extension": ".py",
   "mimetype": "text/x-python",
   "name": "python",
   "nbconvert_exporter": "python",
   "pygments_lexer": "ipython3",
   "version": "3.7.10"
  }
 },
 "nbformat": 4,
 "nbformat_minor": 4
}
