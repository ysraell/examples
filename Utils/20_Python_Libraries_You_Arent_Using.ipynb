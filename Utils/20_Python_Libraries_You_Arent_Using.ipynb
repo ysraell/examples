{
 "cells": [
  {
   "cell_type": "markdown",
   "metadata": {},
   "source": [
    "# 20 Python Libraries You Aren’t Using (But Should) \n",
    "\n",
    "Link: https://www.oreilly.com/programming/free/files/20-python-libraries-you-arent-using-but-should.pdf\n",
    "\n",
    "- Author: Israel Oliveira [\\[e-mail\\]](mailto:'Israel%20Oliveira%20'<prof.israel@gmail.com>)"
   ]
  },
  {
   "cell_type": "code",
   "execution_count": 1,
   "metadata": {},
   "outputs": [],
   "source": [
    "%load_ext watermark"
   ]
  },
  {
   "cell_type": "code",
   "execution_count": 2,
   "metadata": {},
   "outputs": [],
   "source": [
    "import pandas as pd"
   ]
  },
  {
   "cell_type": "code",
   "execution_count": 3,
   "metadata": {},
   "outputs": [],
   "source": [
    "#import matplotlib.pyplot as plt\n",
    "# Algumas configurações para o matplotlib.\n",
    "#%matplotlib inline\n",
    "#from IPython.core.pylabtools import figsize\n",
    "#figsize(12, 8)\n",
    "\n",
    "#pd.set_option(\"max_columns\", None)\n",
    "#pd.set_option(\"max_rows\", None)"
   ]
  },
  {
   "cell_type": "code",
   "execution_count": 4,
   "metadata": {},
   "outputs": [
    {
     "name": "stdout",
     "output_type": "stream",
     "text": [
      "Python implementation: CPython\n",
      "Python version       : 3.7.9\n",
      "IPython version      : 7.19.0\n",
      "\n",
      "Compiler    : GCC 8.3.0\n",
      "OS          : Linux\n",
      "Release     : 4.19.121-linuxkit\n",
      "Machine     : x86_64\n",
      "Processor   : \n",
      "CPU cores   : 16\n",
      "Architecture: 64bit\n",
      "\n",
      "Git hash: 98ccd9a4169e57f48906ce71d47c94c34b997732\n",
      "\n",
      "Git repo: https://github.com/ysraell/examples.git\n",
      "\n",
      "Git branch: master\n",
      "\n",
      "pandas: 1.1.5\n",
      "\n",
      "CPU\t: Intel(R) Core(TM) i9-9880H CPU @ 2.30GHz\n",
      "Mem:           15G\n",
      "Swap:         4.0G\n"
     ]
    }
   ],
   "source": [
    "# Run this cell before close.\n",
    "%watermark -d --iversion -b -r -g -m -v\n",
    "!cat /proc/cpuinfo |grep 'model name'|head -n 1 |sed -e 's/model\\ name/CPU/'\n",
    "!free -h |cut -d'i' -f1  |grep -v total"
   ]
  },
  {
   "cell_type": "code",
   "execution_count": 6,
   "metadata": {},
   "outputs": [],
   "source": [
    "from string import ascii_lowercase"
   ]
  },
  {
   "cell_type": "code",
   "execution_count": 7,
   "metadata": {},
   "outputs": [
    {
     "data": {
      "text/plain": [
       "{'a': 0, 'b': 1, 'c': 2, 'd': 3, 'e': 4, 'f': 5, 'g': 6}"
      ]
     },
     "execution_count": 7,
     "metadata": {},
     "output_type": "execute_result"
    }
   ],
   "source": [
    "dict(zip(ascii_lowercase, range(7)))"
   ]
  },
  {
   "cell_type": "code",
   "execution_count": 8,
   "metadata": {},
   "outputs": [],
   "source": [
    "from collections import OrderedDict"
   ]
  },
  {
   "cell_type": "code",
   "execution_count": 11,
   "metadata": {},
   "outputs": [
    {
     "data": {
      "text/plain": [
       "OrderedDict([('a', 0),\n",
       "             ('b', 1),\n",
       "             ('c', 2),\n",
       "             ('d', 3),\n",
       "             ('e', 4),\n",
       "             ('f', 5),\n",
       "             ('g', 6)])"
      ]
     },
     "execution_count": 11,
     "metadata": {},
     "output_type": "execute_result"
    }
   ],
   "source": [
    "tmp = OrderedDict(zip(ascii_lowercase, range(7)))\n",
    "tmp"
   ]
  },
  {
   "cell_type": "code",
   "execution_count": 19,
   "metadata": {},
   "outputs": [
    {
     "data": {
      "text/plain": [
       "['a', 'b', 'c', 'd', 'e', 'f', 'g']"
      ]
     },
     "execution_count": 19,
     "metadata": {},
     "output_type": "execute_result"
    }
   ],
   "source": [
    "[x for x in tmp]"
   ]
  },
  {
   "cell_type": "code",
   "execution_count": 20,
   "metadata": {},
   "outputs": [
    {
     "data": {
      "text/plain": [
       "[('a', 0), ('b', 1), ('c', 2), ('d', 3), ('e', 4), ('f', 5), ('g', 6)]"
      ]
     },
     "execution_count": 20,
     "metadata": {},
     "output_type": "execute_result"
    }
   ],
   "source": [
    "[x for x in tmp.items()]"
   ]
  },
  {
   "cell_type": "code",
   "execution_count": 21,
   "metadata": {},
   "outputs": [],
   "source": [
    "tup = (1, True, \"red\")"
   ]
  },
  {
   "cell_type": "code",
   "execution_count": 23,
   "metadata": {},
   "outputs": [
    {
     "data": {
      "text/plain": [
       "(1, True, 'red')"
      ]
     },
     "execution_count": 23,
     "metadata": {},
     "output_type": "execute_result"
    }
   ],
   "source": [
    "tup"
   ]
  },
  {
   "cell_type": "code",
   "execution_count": 24,
   "metadata": {},
   "outputs": [],
   "source": [
    "from collections import namedtuple"
   ]
  },
  {
   "cell_type": "code",
   "execution_count": 25,
   "metadata": {},
   "outputs": [
    {
     "data": {
      "text/plain": [
       "1"
      ]
     },
     "execution_count": 25,
     "metadata": {},
     "output_type": "execute_result"
    }
   ],
   "source": [
    "A = namedtuple('A', 'count enabled color')\n",
    "tup = A(count=1, enabled=True, color=\"red\")\n",
    "tup.count"
   ]
  },
  {
   "cell_type": "code",
   "execution_count": 26,
   "metadata": {},
   "outputs": [
    {
     "data": {
      "text/plain": [
       "True"
      ]
     },
     "execution_count": 26,
     "metadata": {},
     "output_type": "execute_result"
    }
   ],
   "source": [
    "tup.enabled"
   ]
  },
  {
   "cell_type": "code",
   "execution_count": 30,
   "metadata": {},
   "outputs": [
    {
     "data": {
      "text/plain": [
       "'red'"
      ]
     },
     "execution_count": 30,
     "metadata": {},
     "output_type": "execute_result"
    }
   ],
   "source": [
    "tup.color"
   ]
  },
  {
   "cell_type": "code",
   "execution_count": 31,
   "metadata": {},
   "outputs": [
    {
     "data": {
      "text/plain": [
       "A(count=1, enabled=True, color='red')"
      ]
     },
     "execution_count": 31,
     "metadata": {},
     "output_type": "execute_result"
    }
   ],
   "source": [
    "tup"
   ]
  },
  {
   "cell_type": "code",
   "execution_count": 34,
   "metadata": {},
   "outputs": [],
   "source": [
    "tup2 = A(2, False, \"Blue\")"
   ]
  },
  {
   "cell_type": "code",
   "execution_count": 36,
   "metadata": {},
   "outputs": [
    {
     "data": {
      "text/plain": [
       "2"
      ]
     },
     "execution_count": 36,
     "metadata": {},
     "output_type": "execute_result"
    }
   ],
   "source": [
    "tup2.count"
   ]
  },
  {
   "cell_type": "code",
   "execution_count": 37,
   "metadata": {},
   "outputs": [
    {
     "data": {
      "text/plain": [
       "\u001b[0;31mSignature:\u001b[0m\n",
       "\u001b[0mnamedtuple\u001b[0m\u001b[0;34m(\u001b[0m\u001b[0;34m\u001b[0m\n",
       "\u001b[0;34m\u001b[0m    \u001b[0mtypename\u001b[0m\u001b[0;34m,\u001b[0m\u001b[0;34m\u001b[0m\n",
       "\u001b[0;34m\u001b[0m    \u001b[0mfield_names\u001b[0m\u001b[0;34m,\u001b[0m\u001b[0;34m\u001b[0m\n",
       "\u001b[0;34m\u001b[0m    \u001b[0;34m*\u001b[0m\u001b[0;34m,\u001b[0m\u001b[0;34m\u001b[0m\n",
       "\u001b[0;34m\u001b[0m    \u001b[0mrename\u001b[0m\u001b[0;34m=\u001b[0m\u001b[0;32mFalse\u001b[0m\u001b[0;34m,\u001b[0m\u001b[0;34m\u001b[0m\n",
       "\u001b[0;34m\u001b[0m    \u001b[0mdefaults\u001b[0m\u001b[0;34m=\u001b[0m\u001b[0;32mNone\u001b[0m\u001b[0;34m,\u001b[0m\u001b[0;34m\u001b[0m\n",
       "\u001b[0;34m\u001b[0m    \u001b[0mmodule\u001b[0m\u001b[0;34m=\u001b[0m\u001b[0;32mNone\u001b[0m\u001b[0;34m,\u001b[0m\u001b[0;34m\u001b[0m\n",
       "\u001b[0;34m\u001b[0m\u001b[0;34m)\u001b[0m\u001b[0;34m\u001b[0m\u001b[0;34m\u001b[0m\u001b[0m\n",
       "\u001b[0;31mDocstring:\u001b[0m\n",
       "Returns a new subclass of tuple with named fields.\n",
       "\n",
       ">>> Point = namedtuple('Point', ['x', 'y'])\n",
       ">>> Point.__doc__                   # docstring for the new class\n",
       "'Point(x, y)'\n",
       ">>> p = Point(11, y=22)             # instantiate with positional args or keywords\n",
       ">>> p[0] + p[1]                     # indexable like a plain tuple\n",
       "33\n",
       ">>> x, y = p                        # unpack like a regular tuple\n",
       ">>> x, y\n",
       "(11, 22)\n",
       ">>> p.x + p.y                       # fields also accessible by name\n",
       "33\n",
       ">>> d = p._asdict()                 # convert to a dictionary\n",
       ">>> d['x']\n",
       "11\n",
       ">>> Point(**d)                      # convert from a dictionary\n",
       "Point(x=11, y=22)\n",
       ">>> p._replace(x=100)               # _replace() is like str.replace() but targets named fields\n",
       "Point(x=100, y=22)\n",
       "\u001b[0;31mFile:\u001b[0m      /usr/local/lib/python3.7/collections/__init__.py\n",
       "\u001b[0;31mType:\u001b[0m      function\n"
      ]
     },
     "metadata": {},
     "output_type": "display_data"
    }
   ],
   "source": [
    "namedtuple?"
   ]
  },
  {
   "cell_type": "code",
   "execution_count": 44,
   "metadata": {},
   "outputs": [],
   "source": [
    "Point_3D = namedtuple('Point_3D', 'x y z')"
   ]
  },
  {
   "cell_type": "code",
   "execution_count": 45,
   "metadata": {},
   "outputs": [],
   "source": [
    "p = Point_3D(1,0,2)"
   ]
  },
  {
   "cell_type": "code",
   "execution_count": 46,
   "metadata": {},
   "outputs": [
    {
     "data": {
      "text/plain": [
       "1"
      ]
     },
     "execution_count": 46,
     "metadata": {},
     "output_type": "execute_result"
    }
   ],
   "source": [
    "p.x"
   ]
  },
  {
   "cell_type": "code",
   "execution_count": 47,
   "metadata": {},
   "outputs": [
    {
     "data": {
      "text/plain": [
       "0"
      ]
     },
     "execution_count": 47,
     "metadata": {},
     "output_type": "execute_result"
    }
   ],
   "source": [
    "p.y"
   ]
  },
  {
   "cell_type": "code",
   "execution_count": 54,
   "metadata": {},
   "outputs": [
    {
     "data": {
      "text/plain": [
       "(1, 0, 2)"
      ]
     },
     "execution_count": 54,
     "metadata": {},
     "output_type": "execute_result"
    }
   ],
   "source": [
    "tuple(p)"
   ]
  },
  {
   "cell_type": "code",
   "execution_count": 63,
   "metadata": {},
   "outputs": [
    {
     "data": {
      "text/plain": [
       "1"
      ]
     },
     "execution_count": 63,
     "metadata": {},
     "output_type": "execute_result"
    }
   ],
   "source": [
    "p.count(2)"
   ]
  },
  {
   "cell_type": "code",
   "execution_count": 69,
   "metadata": {},
   "outputs": [
    {
     "data": {
      "text/plain": [
       "2"
      ]
     },
     "execution_count": 69,
     "metadata": {},
     "output_type": "execute_result"
    }
   ],
   "source": [
    "p.index(2)"
   ]
  },
  {
   "cell_type": "code",
   "execution_count": 75,
   "metadata": {},
   "outputs": [],
   "source": [
    "from time import perf_counter\n",
    "from array import array\n",
    "from contextlib import contextmanager"
   ]
  },
  {
   "cell_type": "code",
   "execution_count": 71,
   "metadata": {},
   "outputs": [
    {
     "name": "stdout",
     "output_type": "stream",
     "text": [
      "Total [Array tests]: 0.072686 s\n",
      " Timing [Array creation innermul]: 0.065656 s\n",
      " Timing [Array creation outermul]: 0.006997 s\n"
     ]
    }
   ],
   "source": [
    "@contextmanager\n",
    "def timing(label: str):\n",
    "    t0 = perf_counter()\n",
    "    yield lambda: (label, t1 - t0)\n",
    "    t1 = perf_counter()\n",
    "\n",
    "with timing('Array tests') as total:\n",
    "    with timing('Array creation innermul') as inner:\n",
    "        x = array('d', [0] * 1000000)\n",
    "    with timing('Array creation outermul') as outer:\n",
    "        x = array('d', [0]) * 1000000\n",
    "        \n",
    "print('Total [%s]: %.6f s' % total())\n",
    "print(' Timing [%s]: %.6f s' % inner())\n",
    "print(' Timing [%s]: %.6f s' % outer())"
   ]
  },
  {
   "cell_type": "code",
   "execution_count": 80,
   "metadata": {},
   "outputs": [
    {
     "data": {
      "text/plain": [
       "('Array tests', 0.07268581000062113)"
      ]
     },
     "execution_count": 80,
     "metadata": {},
     "output_type": "execute_result"
    }
   ],
   "source": [
    "total()"
   ]
  },
  {
   "cell_type": "code",
   "execution_count": 95,
   "metadata": {},
   "outputs": [
    {
     "name": "stdout",
     "output_type": "stream",
     "text": [
      "<h1>\n",
      "foo\n",
      "</h2>\n"
     ]
    }
   ],
   "source": [
    "from contextlib import contextmanager\n",
    "\n",
    "@contextmanager\n",
    "def tag(name):\n",
    "    print(\"<%s>\" % name)\n",
    "    yield lambda: a\n",
    "    a = name.replace('1','2')\n",
    "    print(\"</%s>\" % a)\n",
    "\n",
    "with tag(\"h1\") as tag_out:\n",
    "    print(\"foo\")\n"
   ]
  },
  {
   "cell_type": "code",
   "execution_count": 101,
   "metadata": {},
   "outputs": [],
   "source": [
    "B = lambda x,y: x+y"
   ]
  },
  {
   "cell_type": "code",
   "execution_count": 103,
   "metadata": {},
   "outputs": [
    {
     "data": {
      "text/plain": [
       "3"
      ]
     },
     "execution_count": 103,
     "metadata": {},
     "output_type": "execute_result"
    }
   ],
   "source": [
    "B(1,2)"
   ]
  },
  {
   "cell_type": "code",
   "execution_count": 104,
   "metadata": {},
   "outputs": [],
   "source": [
    "import threading\n",
    "def work():\n",
    "     return sum(x for x in range(1000000))\n",
    "thread = threading.Thread(target=work)\n",
    "thread.start()\n",
    "thread.join()"
   ]
  },
  {
   "cell_type": "code",
   "execution_count": 105,
   "metadata": {},
   "outputs": [
    {
     "data": {
      "text/plain": [
       "<Thread(Thread-4, stopped 139846771353344)>"
      ]
     },
     "execution_count": 105,
     "metadata": {},
     "output_type": "execute_result"
    }
   ],
   "source": [
    "thread."
   ]
  },
  {
   "cell_type": "code",
   "execution_count": 118,
   "metadata": {},
   "outputs": [],
   "source": [
    "from concurrent.futures import ThreadPoolExecutor as Executor\n",
    "\n",
    "urls = \"\"\"google twitter facebook youtube pinterest tumblr\n",
    "instagram reddit flickr meetup classmates microsoft apple\n",
    "linkedin xing renren disqus snapchat twoo whatsapp\"\"\".split()\n",
    "\n",
    "def fetch(url):\n",
    "    from urllib import request, error\n",
    "    try:\n",
    "        data = request.urlopen(url).read()\n",
    "        return '{}: length {}'.format(url, len(data))\n",
    "    except Exception as e:\n",
    "        return '{}: {}'.format(url, e)\n",
    "time_results = {}\n",
    "for i in range(1,17):\n",
    "    with timing('Array tests') as total:\n",
    "        with Executor(max_workers=i) as exe:\n",
    "            template = 'http://www.{}.com'\n",
    "            jobs = [exe.submit(fetch, template.format(u)) for u in urls]\n",
    "            results = [job.result() for job in jobs]\n",
    "    time_results[i] = total()[1]"
   ]
  },
  {
   "cell_type": "code",
   "execution_count": 135,
   "metadata": {},
   "outputs": [
    {
     "name": "stdout",
     "output_type": "stream",
     "text": [
      "2: 11.729542647000017\n",
      "4: 9.930166838999867\n",
      "6: 13.91367270900082\n",
      "8: 5.2516821779991005\n",
      "10: 3.4606271739994554\n",
      "12: 3.0471735850005643\n",
      "14: 3.077025294998748\n",
      "16: 3.650094185999478\n"
     ]
    }
   ],
   "source": [
    "for i in range(2,17,2):\n",
    "    print(f'{i}: {time_results[i]}')"
   ]
  },
  {
   "cell_type": "code",
   "execution_count": 125,
   "metadata": {},
   "outputs": [
    {
     "name": "stdout",
     "output_type": "stream",
     "text": [
      "Overwriting loggingLevelsDummy.py\n"
     ]
    }
   ],
   "source": [
    "%%writefile loggingLevelsDummy.py\n",
    "\n",
    "import logging\n",
    "logger = logging.getLogger()\n",
    "\n",
    "if __name__ == '__main__':\n",
    "    from argparse import ArgumentParser\n",
    "    \n",
    "    parser = ArgumentParser(description='My app which is mine')\n",
    "    \n",
    "    parser.add_argument(\n",
    "        '-ll',\n",
    "        '--loglevel',\n",
    "        type=str,\n",
    "        choices=['DEBUG','INFO','WARNING','ERROR','CRITICAL'],\n",
    "        help='Set the logging level'\n",
    "    )\n",
    "    \n",
    "    args = parser.parse_args()\n",
    "    logging.basicConfig(level=args.loglevel)\n",
    "\n",
    "    logger.debug('This is for debugging. Very talkative!')\n",
    "    logger.info('This is for normal chatter')\n",
    "    logger.warning('Warnings should almost always be seen.')\n",
    "    logger.error('You definitely want to see all errors!')\n",
    "    logger.critical('Last message before a program crash!')\n",
    "    \n",
    "    "
   ]
  },
  {
   "cell_type": "code",
   "execution_count": 149,
   "metadata": {},
   "outputs": [
    {
     "name": "stdout",
     "output_type": "stream",
     "text": [
      "usage: loggingLevelsDummy.py [-h] [-ll {DEBUG,INFO,WARNING,ERROR,CRITICAL}]\n",
      "\n",
      "My app which is mine\n",
      "\n",
      "optional arguments:\n",
      "  -h, --help            show this help message and exit\n",
      "  -ll {DEBUG,INFO,WARNING,ERROR,CRITICAL}, --loglevel {DEBUG,INFO,WARNING,ERROR,CRITICAL}\n",
      "                        Set the logging level\n",
      "\n",
      "Default level (WARNING).\n",
      "\n",
      "WARNING:root:Warnings should almost always be seen.\n",
      "ERROR:root:You definitely want to see all errors!\n",
      "CRITICAL:root:Last message before a program crash!\n",
      "\n",
      "CRITICAL level.\n",
      "\n",
      "CRITICAL:root:Last message before a program crash!\n",
      "\n",
      "ERROR level.\n",
      "\n",
      "ERROR:root:You definitely want to see all errors!\n",
      "CRITICAL:root:Last message before a program crash!\n",
      "\n",
      "WARNING level.\n",
      "\n",
      "WARNING:root:Warnings should almost always be seen.\n",
      "ERROR:root:You definitely want to see all errors!\n",
      "CRITICAL:root:Last message before a program crash!\n",
      "\n",
      "INFO level.\n",
      "\n",
      "INFO:root:This is for normal chatter\n",
      "WARNING:root:Warnings should almost always be seen.\n",
      "ERROR:root:You definitely want to see all errors!\n",
      "CRITICAL:root:Last message before a program crash!\n",
      "\n",
      "DEBUG level.\n",
      "\n",
      "DEBUG:root:This is for debugging. Very talkative!\n",
      "INFO:root:This is for normal chatter\n",
      "WARNING:root:Warnings should almost always be seen.\n",
      "ERROR:root:You definitely want to see all errors!\n",
      "CRITICAL:root:Last message before a program crash!\n"
     ]
    }
   ],
   "source": [
    "!python3 loggingLevelsDummy.py -h\n",
    "!echo \"\\nDefault level (WARNING).\\n\"\n",
    "!python3 loggingLevelsDummy.py\n",
    "!echo \"\\nCRITICAL level.\\n\"\n",
    "!python3 loggingLevelsDummy.py -ll CRITICAL\n",
    "!echo \"\\nERROR level.\\n\"\n",
    "!python3 loggingLevelsDummy.py -ll ERROR\n",
    "!echo \"\\nWARNING level.\\n\"\n",
    "!python3 loggingLevelsDummy.py -ll WARNING\n",
    "!echo \"\\nINFO level.\\n\"\n",
    "!python3 loggingLevelsDummy.py -ll INFO\n",
    "!echo \"\\nDEBUG level.\\n\"\n",
    "!python3 loggingLevelsDummy.py -ll DEBUG"
   ]
  },
  {
   "cell_type": "code",
   "execution_count": 129,
   "metadata": {},
   "outputs": [
    {
     "name": "stdout",
     "output_type": "stream",
     "text": [
      "CRITICAL:root:Last message before a program crash!\n"
     ]
    }
   ],
   "source": []
  },
  {
   "cell_type": "code",
   "execution_count": 136,
   "metadata": {},
   "outputs": [
    {
     "name": "stdout",
     "output_type": "stream",
     "text": [
      "Sun Dec 27 17:55:00 2020\n",
      "Sun Dec 27 17:56:00 2020\n",
      "Stopped.\n"
     ]
    }
   ],
   "source": [
    "\n",
    "\n",
    "import sched\n",
    "import time\n",
    "from datetime import datetime, timedelta\n",
    "\n",
    "scheduler = sched.scheduler(timefunc=time.time)\n",
    "\n",
    "def reschedule():\n",
    "    new_target = datetime.now().replace(second=0, microsecond=0)\n",
    "    new_target += timedelta(minutes=1)\n",
    "    scheduler.enterabs(new_target.timestamp(), priority=0, action=saytime)\n",
    "def saytime():\n",
    "    print(time.ctime(), flush=True)\n",
    "    reschedule()\n",
    "reschedule()\n",
    "try:\n",
    "    scheduler.run(blocking=True)\n",
    "except KeyboardInterrupt:\n",
    "    print('Stopped.')"
   ]
  },
  {
   "cell_type": "code",
   "execution_count": 140,
   "metadata": {},
   "outputs": [
    {
     "data": {
      "text/plain": [
       "datetime.datetime(2020, 12, 27, 18, 27)"
      ]
     },
     "execution_count": 140,
     "metadata": {},
     "output_type": "execute_result"
    }
   ],
   "source": [
    "datetime.now().replace(second=0, microsecond=0)+timedelta(minutes=30)"
   ]
  },
  {
   "cell_type": "code",
   "execution_count": 143,
   "metadata": {},
   "outputs": [
    {
     "name": "stdout",
     "output_type": "stream",
     "text": [
      "Writing colortmp.py\n"
     ]
    }
   ],
   "source": [
    "%%writefile colortmp.py\n",
    "\n",
    "from colorama import init, Fore, Back, Style\n",
    "init(autoreset=True)\n",
    "messages = [\n",
    "    'blah blah blah',\n",
    "    (Fore.LIGHTYELLOW_EX + Style.BRIGHT\n",
    "    + Back.MAGENTA + 'Alert!!!'),\n",
    "    'blah blah blah'\n",
    "]\n",
    "for m in messages:\n",
    "    print(m)"
   ]
  },
  {
   "cell_type": "code",
   "execution_count": 144,
   "metadata": {},
   "outputs": [
    {
     "name": "stdout",
     "output_type": "stream",
     "text": [
      "blah blah blah\n",
      "Alert!!!\n",
      "blah blah blah\n"
     ]
    }
   ],
   "source": [
    "!python3 colortmp.py"
   ]
  },
  {
   "cell_type": "code",
   "execution_count": 165,
   "metadata": {},
   "outputs": [
    {
     "name": "stdout",
     "output_type": "stream",
     "text": [
      "Overwriting ColorloggingLevelsDummy.py\n"
     ]
    }
   ],
   "source": [
    "%%writefile ColorloggingLevelsDummy.py\n",
    "\n",
    "def foo():\n",
    "    return \"bar\"\n",
    "\n",
    "if __name__ == '__main__':\n",
    "    import colorlog\n",
    "    from argparse import ArgumentParser\n",
    "    \n",
    "    parser = ArgumentParser(description='My app which is mine')\n",
    "    \n",
    "    parser.add_argument(\n",
    "        '-ll',\n",
    "        '--loglevel',\n",
    "        type=str,\n",
    "        choices=['DEBUG','INFO','WARNING','ERROR','CRITICAL'],\n",
    "        help='Set the logging level'\n",
    "    )\n",
    "    \n",
    "    args = parser.parse_args()\n",
    "    \n",
    "    colorlog.logging.basicConfig(level=args.loglevel)\n",
    "    logger = colorlog.getLogger()\n",
    "    \n",
    "    logger.debug('This is for debugging. Very talkative!')\n",
    "    logger.info('This is for normal chatter')\n",
    "    logger.warning('Warnings should almost always be seen.')\n",
    "    logger.error('You definitely want to see all errors!')\n",
    "    logger.critical('Last message before a program crash!')\n",
    "    \n",
    "    "
   ]
  },
  {
   "cell_type": "code",
   "execution_count": 166,
   "metadata": {},
   "outputs": [
    {
     "name": "stdout",
     "output_type": "stream",
     "text": [
      "usage: ColorloggingLevelsDummy.py [-h]\n",
      "                                  [-ll {DEBUG,INFO,WARNING,ERROR,CRITICAL}]\n",
      "\n",
      "My app which is mine\n",
      "\n",
      "optional arguments:\n",
      "  -h, --help            show this help message and exit\n",
      "  -ll {DEBUG,INFO,WARNING,ERROR,CRITICAL}, --loglevel {DEBUG,INFO,WARNING,ERROR,CRITICAL}\n",
      "                        Set the logging level\n",
      "\n",
      "Default level (WARNING).\n",
      "\n",
      "WARNING:root:Warnings should almost always be seen.\n",
      "ERROR:root:You definitely want to see all errors!\n",
      "CRITICAL:root:Last message before a program crash!\n",
      "\n",
      "CRITICAL level.\n",
      "\n",
      "CRITICAL:root:Last message before a program crash!\n",
      "\n",
      "ERROR level.\n",
      "\n",
      "ERROR:root:You definitely want to see all errors!\n",
      "CRITICAL:root:Last message before a program crash!\n",
      "\n",
      "WARNING level.\n",
      "\n",
      "WARNING:root:Warnings should almost always be seen.\n",
      "ERROR:root:You definitely want to see all errors!\n",
      "CRITICAL:root:Last message before a program crash!\n",
      "\n",
      "INFO level.\n",
      "\n",
      "INFO:root:This is for normal chatter\n",
      "WARNING:root:Warnings should almost always be seen.\n",
      "ERROR:root:You definitely want to see all errors!\n",
      "CRITICAL:root:Last message before a program crash!\n",
      "\n",
      "DEBUG level.\n",
      "\n",
      "DEBUG:root:This is for debugging. Very talkative!\n",
      "INFO:root:This is for normal chatter\n",
      "WARNING:root:Warnings should almost always be seen.\n",
      "ERROR:root:You definitely want to see all errors!\n",
      "CRITICAL:root:Last message before a program crash!\n"
     ]
    }
   ],
   "source": [
    "!python3 ColorloggingLevelsDummy.py -h\n",
    "!echo \"\\nDefault level (WARNING).\\n\"\n",
    "!python3 ColorloggingLevelsDummy.py\n",
    "!echo \"\\nCRITICAL level.\\n\"\n",
    "!python3 ColorloggingLevelsDummy.py -ll CRITICAL\n",
    "!echo \"\\nERROR level.\\n\"\n",
    "!python3 ColorloggingLevelsDummy.py -ll ERROR\n",
    "!echo \"\\nWARNING level.\\n\"\n",
    "!python3 ColorloggingLevelsDummy.py -ll WARNING\n",
    "!echo \"\\nINFO level.\\n\"\n",
    "!python3 ColorloggingLevelsDummy.py -ll INFO\n",
    "!echo \"\\nDEBUG level.\\n\"\n",
    "!python3 ColorloggingLevelsDummy.py -ll DEBUG"
   ]
  },
  {
   "cell_type": "code",
   "execution_count": 216,
   "metadata": {},
   "outputs": [
    {
     "name": "stdout",
     "output_type": "stream",
     "text": [
      "Overwriting beginExample.py\n"
     ]
    }
   ],
   "source": [
    "%%writefile beginExample.py\n",
    "\n",
    "import begin\n",
    "\n",
    "@begin.subcommand()\n",
    "def status(compact: 'Short or long format' = True):\n",
    "    \"\"\" Report the current status. \"\"\"\n",
    "    if compact:\n",
    "        print('ok.')\n",
    "    else:\n",
    "        print('Very well, thank-you.')\n",
    "\n",
    "@begin.subcommand\n",
    "def fetch(url: 'Data source' = 'http://google.com'):\n",
    "    \"\"\" Fetch data from the URL. \"\"\"\n",
    "    print(f'URL: {url}')\n",
    "        \n",
    "@begin.start\n",
    "def main(a_value: 'First value' = 0.0, b_value: 'Second value' = 0.0):\n",
    "    \"\"\" Add two numbers \"\"\"\n",
    "    print(a_value + b_value)"
   ]
  },
  {
   "cell_type": "code",
   "execution_count": 217,
   "metadata": {},
   "outputs": [
    {
     "name": "stdout",
     "output_type": "stream",
     "text": [
      "usage: beginExample.py [-h] [--a-value A_VALUE] [--b-value B_VALUE]\n",
      "                       {fetch,status} ...\n",
      "\n",
      "Add two numbers\n",
      "\n",
      "optional arguments:\n",
      "  -h, --help            show this help message and exit\n",
      "  --a-value A_VALUE, -a A_VALUE\n",
      "                        First value (default: 0.0)\n",
      "  --b-value B_VALUE, -b B_VALUE\n",
      "                        Second value (default: 0.0)\n",
      "\n",
      "Available subcommands:\n",
      "  {fetch,status}\n",
      "    fetch               Fetch data from the URL.\n",
      "    status              Report the current status.\n"
     ]
    }
   ],
   "source": [
    "!python3 beginExample.py -h"
   ]
  },
  {
   "cell_type": "code",
   "execution_count": 220,
   "metadata": {},
   "outputs": [
    {
     "name": "stdout",
     "output_type": "stream",
     "text": [
      "1.33\n",
      "URL: www.oi.com\n"
     ]
    }
   ],
   "source": [
    "!python3 beginExample.py -a 1.3 -b 3 fetch --url www.oi.com"
   ]
  },
  {
   "cell_type": "code",
   "execution_count": 221,
   "metadata": {},
   "outputs": [
    {
     "name": "stdout",
     "output_type": "stream",
     "text": [
      "[0.0, 0.0, 0.2, 0.4, 0.4, 0.4, 0.2, 0.0, 0.0, 0.4, 0.6, 0.2, 0.0, 0.4, 0.4, 0.2]\n"
     ]
    }
   ],
   "source": [
    "import psutil\n",
    "cpu = psutil.cpu_percent(interval=5, percpu=True)\n",
    "print(cpu)"
   ]
  },
  {
   "cell_type": "code",
   "execution_count": 226,
   "metadata": {},
   "outputs": [
    {
     "name": "stdout",
     "output_type": "stream",
     "text": [
      "Process info:\n",
      " name : python\n",
      " exe : /usr/local/bin/python3.7\n",
      "Memory used: 174.58 MB\n",
      "Memory used: 175.49 MB\n",
      "Memory used: 178.59 MB\n",
      "Memory used: 181.68 MB\n",
      "Memory used: 184.77 MB\n",
      "Memory used: 187.86 MB\n"
     ]
    },
    {
     "ename": "KeyboardInterrupt",
     "evalue": "",
     "output_type": "error",
     "traceback": [
      "\u001b[0;31m---------------------------------------------------------------------------\u001b[0m",
      "\u001b[0;31mKeyboardInterrupt\u001b[0m                         Traceback (most recent call last)",
      "\u001b[0;32m<ipython-input-226-c2d3e8d5b06f>\u001b[0m in \u001b[0;36m<module>\u001b[0;34m\u001b[0m\n\u001b[1;32m     19\u001b[0m         \u001b[0mprint\u001b[0m\u001b[0;34m(\u001b[0m\u001b[0;34m'Memory too big! Exiting.'\u001b[0m\u001b[0;34m)\u001b[0m\u001b[0;34m\u001b[0m\u001b[0;34m\u001b[0m\u001b[0m\n\u001b[1;32m     20\u001b[0m         \u001b[0msys\u001b[0m\u001b[0;34m.\u001b[0m\u001b[0mexit\u001b[0m\u001b[0;34m(\u001b[0m\u001b[0;34m)\u001b[0m\u001b[0;34m\u001b[0m\u001b[0;34m\u001b[0m\u001b[0m\n\u001b[0;32m---> 21\u001b[0;31m     \u001b[0mtime\u001b[0m\u001b[0;34m.\u001b[0m\u001b[0msleep\u001b[0m\u001b[0;34m(\u001b[0m\u001b[0;36m1\u001b[0m\u001b[0;34m)\u001b[0m\u001b[0;34m\u001b[0m\u001b[0;34m\u001b[0m\u001b[0m\n\u001b[0m",
      "\u001b[0;31mKeyboardInterrupt\u001b[0m: "
     ]
    }
   ],
   "source": [
    "import psutil\n",
    "import os, sys, time\n",
    "\n",
    "pid = os.getpid()\n",
    "p = psutil.Process(pid)\n",
    "\n",
    "print('Process info:')\n",
    "print(' name :', p.name())\n",
    "print(' exe :', p.exe())\n",
    "\n",
    "data = []\n",
    "while True:\n",
    "    data += list(range(100000))\n",
    "    info = p.memory_full_info()\n",
    "    # Convert to MB\n",
    "    memory = info.uss / 1024 / 1024\n",
    "    print('Memory used: {:.2f} MB'.format(memory))\n",
    "    if memory > 1000:\n",
    "        print('Memory too big! Exiting.')\n",
    "        sys.exit()\n",
    "    time.sleep(1)"
   ]
  },
  {
   "cell_type": "code",
   "execution_count": 227,
   "metadata": {},
   "outputs": [
    {
     "data": {
      "text/plain": [
       "84"
      ]
     },
     "execution_count": 227,
     "metadata": {},
     "output_type": "execute_result"
    }
   ],
   "source": [
    "pid"
   ]
  },
  {
   "cell_type": "code",
   "execution_count": 229,
   "metadata": {},
   "outputs": [
    {
     "name": "stdout",
     "output_type": "stream",
     "text": [
      "2020-12-27T20:12:21.756222+00:00\n",
      "2020-12-27T20:12:21.758949+00:00\n",
      "Total difference: -0.00 seconds\n"
     ]
    }
   ],
   "source": [
    "import arrow\n",
    "\n",
    "t0 = arrow.now()\n",
    "print(t0)\n",
    "t1 = arrow.utcnow()\n",
    "print(t1)\n",
    "difference = (t0 - t1).total_seconds()\n",
    "print('Total difference: %.2f seconds' % difference)"
   ]
  },
  {
   "cell_type": "code",
   "execution_count": 232,
   "metadata": {},
   "outputs": [
    {
     "data": {
      "text/plain": [
       "'19 minutes ago'"
      ]
     },
     "execution_count": 232,
     "metadata": {},
     "output_type": "execute_result"
    }
   ],
   "source": [
    "t0.humanize()"
   ]
  },
  {
   "cell_type": "code",
   "execution_count": 234,
   "metadata": {},
   "outputs": [
    {
     "name": "stdout",
     "output_type": "stream",
     "text": [
      "Now: Sun Dec 27 20:36:49 2020\n",
      "\n",
      "Input                                                           Result\n",
      "======================================================================\n",
      "\"2016-07-16\"                                  Sat Jul 16 20:36:49 2016\n",
      "\"2016/07/16\"                                  Sat Jul 16 20:36:49 2016\n",
      "\"2016-7-16\"                                   Sat Jul 16 20:36:49 2016\n",
      "\"2016/7/16\"                                   Sat Jul 16 20:36:49 2016\n",
      "\"07-16-2016\"                                  Sat Jul 16 20:36:49 2016\n",
      "\"7-16-2016\"                                   Sat Jul 16 20:36:49 2016\n",
      "\"7-16-16\"                                     Sat Jul 16 20:36:49 2016\n",
      "\"7/16/16\"                                     Sat Jul 16 20:36:49 2016\n",
      "\"19 November 1975\"                            Wed Nov 19 20:36:49 1975\n",
      "\"19 November 75\"                              Wed Nov 19 20:36:49 1975\n",
      "\"19 Nov 75\"                                   Wed Nov 19 20:36:49 1975\n",
      "\"tomorrow\"                                    Mon Dec 28 09:00:00 2020\n",
      "\"yesterday\"                                   Sat Dec 26 09:00:00 2020\n"
     ]
    },
    {
     "name": "stderr",
     "output_type": "stream",
     "text": [
      "DEBUG:parsedatetime:eval now with context - False, False\n"
     ]
    },
    {
     "name": "stdout",
     "output_type": "stream",
     "text": [
      "\"10 minutes from now\"                         Sun Dec 27 20:46:49 2020\n"
     ]
    },
    {
     "name": "stderr",
     "output_type": "stream",
     "text": [
      "DEBUG:parsedatetime:eval the first of with context - True, False\n"
     ]
    },
    {
     "name": "stdout",
     "output_type": "stream",
     "text": [
      "\"the first of January, 2001\"                  Mon Jan  1 20:36:49 2001\n",
      "\"3 days ago\"                                  Thu Dec 24 20:36:49 2020\n"
     ]
    },
    {
     "name": "stderr",
     "output_type": "stream",
     "text": [
      "DEBUG:parsedatetime:eval in time with context - True, False\n"
     ]
    },
    {
     "name": "stdout",
     "output_type": "stream",
     "text": [
      "\"in four days' time\"                          Thu Dec 31 20:36:49 2020\n"
     ]
    },
    {
     "name": "stderr",
     "output_type": "stream",
     "text": [
      "DEBUG:parsedatetime:eval now with context - False, False\n"
     ]
    },
    {
     "name": "stdout",
     "output_type": "stream",
     "text": [
      "\"two weeks from now\"                          Sun Jan 10 20:36:49 2021\n",
      "\"three months ago\"                            Sun Sep 27 20:36:49 2020\n"
     ]
    },
    {
     "name": "stderr",
     "output_type": "stream",
     "text": [
      "DEBUG:parsedatetime:eval and in the future with context - True, False\n"
     ]
    },
    {
     "name": "stdout",
     "output_type": "stream",
     "text": [
      "\"2 weeks and 3 days in the future\"            Wed Jan 13 20:36:49 2021\n"
     ]
    }
   ],
   "source": [
    "import parsedatetime as pdt\n",
    "\n",
    "cal = pdt.Calendar()\n",
    "examples = [\n",
    "    \"2016-07-16\",\n",
    "    \"2016/07/16\",\n",
    "    \"2016-7-16\",\n",
    "    \"2016/7/16\",\n",
    "    \"07-16-2016\",\n",
    "    \"7-16-2016\",\n",
    "    \"7-16-16\",\n",
    "    \"7/16/16\",\n",
    "    \"19 November 1975\",\n",
    "    \"19 November 75\",\n",
    "    \"19 Nov 75\",\n",
    "    \"tomorrow\",\n",
    "    \"yesterday\",\n",
    "    \"10 minutes from now\",\n",
    "    \"the first of January, 2001\",\n",
    "    \"3 days ago\",\n",
    "    \"in four days' time\",\n",
    "    \"two weeks from now\",\n",
    "    \"three months ago\",\n",
    "    \"2 weeks and 3 days in the future\",\n",
    "]\n",
    "print('Now: {}'.format(datetime.now().ctime()), end='\\n\\n')\n",
    "print('{:40s}{:>30s}'.format('Input', 'Result'))\n",
    "print('=' * 70)\n",
    "for e in examples:\n",
    "    dt, result = cal.parseDT(e)\n",
    "    print('{:<40s}{:>30}'.format('\"' + e + '\"', dt.ctime()))\n",
    "    "
   ]
  },
  {
   "cell_type": "code",
   "execution_count": 243,
   "metadata": {},
   "outputs": [],
   "source": [
    "from boltons.iterutils import chunked_iter, windowed_iter"
   ]
  },
  {
   "cell_type": "code",
   "execution_count": 242,
   "metadata": {},
   "outputs": [
    {
     "data": {
      "text/plain": [
       "[[0, 1, 2], [3, 4, 5], [6, 7, 8], [9]]"
      ]
     },
     "execution_count": 242,
     "metadata": {},
     "output_type": "execute_result"
    }
   ],
   "source": [
    "list(chunked_iter(range(10), 3))"
   ]
  },
  {
   "cell_type": "code",
   "execution_count": 244,
   "metadata": {},
   "outputs": [
    {
     "data": {
      "text/plain": [
       "[(0, 1, 2), (1, 2, 3), (2, 3, 4), (3, 4, 5), (4, 5, 6)]"
      ]
     },
     "execution_count": 244,
     "metadata": {},
     "output_type": "execute_result"
    }
   ],
   "source": [
    "list(windowed_iter(range(7), 3))"
   ]
  },
  {
   "cell_type": "code",
   "execution_count": 245,
   "metadata": {},
   "outputs": [],
   "source": [
    "from boltons.strutils import ordinalize, cardinalize, pluralize, singularize, bytes2human"
   ]
  },
  {
   "cell_type": "code",
   "execution_count": 248,
   "metadata": {},
   "outputs": [
    {
     "name": "stdout",
     "output_type": "stream",
     "text": [
      "0th\n",
      "1st\n",
      "2nd\n",
      "3rd\n",
      "4th\n",
      "5th\n",
      "6th\n",
      "7th\n",
      "8th\n",
      "9th\n"
     ]
    }
   ],
   "source": [
    "for i in range(10):\n",
    "    print(ordinalize(i))"
   ]
  },
  {
   "cell_type": "code",
   "execution_count": 251,
   "metadata": {},
   "outputs": [
    {
     "name": "stdout",
     "output_type": "stream",
     "text": [
      "pythons\n",
      "feet\n",
      "mice\n"
     ]
    }
   ],
   "source": [
    "print(cardinalize('python', 99))\n",
    "print(cardinalize('foot', 6))\n",
    "print(cardinalize('mouse', 6))"
   ]
  },
  {
   "cell_type": "code",
   "execution_count": 252,
   "metadata": {},
   "outputs": [
    {
     "data": {
      "text/plain": [
       "'theories'"
      ]
     },
     "execution_count": 252,
     "metadata": {},
     "output_type": "execute_result"
    }
   ],
   "source": [
    "pluralize('theory')"
   ]
  },
  {
   "cell_type": "code",
   "execution_count": 253,
   "metadata": {},
   "outputs": [
    {
     "data": {
      "text/plain": [
       "'theory'"
      ]
     },
     "execution_count": 253,
     "metadata": {},
     "output_type": "execute_result"
    }
   ],
   "source": [
    "singularize('theories')"
   ]
  },
  {
   "cell_type": "code",
   "execution_count": 254,
   "metadata": {},
   "outputs": [
    {
     "data": {
      "text/plain": [
       "'19.53K'"
      ]
     },
     "execution_count": 254,
     "metadata": {},
     "output_type": "execute_result"
    }
   ],
   "source": [
    "bytes2human(2e4, ndigits=2)"
   ]
  },
  {
   "cell_type": "code",
   "execution_count": null,
   "metadata": {},
   "outputs": [],
   "source": []
  }
 ],
 "metadata": {
  "kernelspec": {
   "display_name": "Python 3",
   "language": "python",
   "name": "python3"
  },
  "language_info": {
   "codemirror_mode": {
    "name": "ipython",
    "version": 3
   },
   "file_extension": ".py",
   "mimetype": "text/x-python",
   "name": "python",
   "nbconvert_exporter": "python",
   "pygments_lexer": "ipython3",
   "version": "3.7.9"
  }
 },
 "nbformat": 4,
 "nbformat_minor": 4
}
