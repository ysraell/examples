{
 "cells": [
  {
   "cell_type": "markdown",
   "metadata": {},
   "source": [
    "# ADPR - DataCloud - Data Science Team \\[Brazil\\]\n",
    "\n",
    "- Author: Oliveira, Israel (ESI) [\\[e-mail\\]](mailto:'Israel%20Oliveira%20'<israel.oliveira@adp.com>)"
   ]
  },
  {
   "cell_type": "code",
   "execution_count": 1,
   "metadata": {},
   "outputs": [
    {
     "name": "stdout",
     "output_type": "stream",
     "text": [
      "Collecting locust\n",
      "  Downloading locust-1.2.3-py3-none-any.whl (658 kB)\n",
      "\u001b[K     |████████████████████████████████| 658 kB 1.1 MB/s eta 0:00:01\n",
      "\u001b[?25hCollecting ConfigArgParse>=1.0\n",
      "  Downloading ConfigArgParse-1.2.3.tar.gz (42 kB)\n",
      "\u001b[K     |████████████████████████████████| 42 kB 2.0 MB/s eta 0:00:01\n",
      "\u001b[?25hCollecting msgpack>=0.6.2\n",
      "  Downloading msgpack-1.0.0-cp37-cp37m-manylinux1_x86_64.whl (275 kB)\n",
      "\u001b[K     |████████████████████████████████| 275 kB 3.4 MB/s eta 0:00:01\n",
      "\u001b[?25hRequirement already satisfied: pyzmq>=16.0.2 in /usr/local/lib/python3.7/site-packages (from locust) (19.0.2)\n",
      "Collecting Werkzeug>=1.0.1\n",
      "  Downloading Werkzeug-1.0.1-py2.py3-none-any.whl (298 kB)\n",
      "\u001b[K     |████████████████████████████████| 298 kB 2.7 MB/s eta 0:00:01\n",
      "\u001b[?25hCollecting gevent>=1.5.0\n",
      "  Downloading gevent-20.9.0-cp37-cp37m-manylinux2010_x86_64.whl (5.5 MB)\n",
      "\u001b[K     |████████████████████████████████| 5.5 MB 1.6 MB/s eta 0:00:01     |██████████████████████████▉     | 4.6 MB 1.2 MB/s eta 0:00:01     |█████████████████████████████▋  | 5.0 MB 1.6 MB/s eta 0:00:01\n",
      "\u001b[?25hCollecting geventhttpclient>=1.4.4\n",
      "  Downloading geventhttpclient-1.4.4-cp37-cp37m-manylinux2010_x86_64.whl (77 kB)\n",
      "\u001b[K     |████████████████████████████████| 77 kB 2.0 MB/s eta 0:00:01\n",
      "\u001b[?25hRequirement already satisfied: psutil>=5.6.7 in /usr/local/lib/python3.7/site-packages (from locust) (5.7.2)\n",
      "Requirement already satisfied: requests>=2.9.1 in /usr/local/lib/python3.7/site-packages (from locust) (2.24.0)\n",
      "Collecting flask>=1.1.2\n",
      "  Downloading Flask-1.1.2-py2.py3-none-any.whl (94 kB)\n",
      "\u001b[K     |████████████████████████████████| 94 kB 2.7 MB/s eta 0:00:01\n",
      "\u001b[?25hCollecting Flask-BasicAuth>=0.2.0\n",
      "  Downloading Flask-BasicAuth-0.2.0.tar.gz (16 kB)\n",
      "Collecting zope.interface\n",
      "  Downloading zope.interface-5.1.2-cp37-cp37m-manylinux2010_x86_64.whl (237 kB)\n",
      "\u001b[K     |████████████████████████████████| 237 kB 6.7 MB/s eta 0:00:01\n",
      "\u001b[?25hRequirement already satisfied: setuptools in /usr/local/lib/python3.7/site-packages (from gevent>=1.5.0->locust) (50.3.0)\n",
      "Collecting greenlet>=0.4.17; platform_python_implementation == \"CPython\"\n",
      "  Downloading greenlet-0.4.17-cp37-cp37m-manylinux1_x86_64.whl (45 kB)\n",
      "\u001b[K     |████████████████████████████████| 45 kB 1.7 MB/s eta 0:00:01\n",
      "\u001b[?25hCollecting zope.event\n",
      "  Downloading zope.event-4.5.0-py2.py3-none-any.whl (6.8 kB)\n",
      "Requirement already satisfied: certifi in /usr/local/lib/python3.7/site-packages (from geventhttpclient>=1.4.4->locust) (2020.6.20)\n",
      "Requirement already satisfied: six in /usr/local/lib/python3.7/site-packages (from geventhttpclient>=1.4.4->locust) (1.15.0)\n",
      "Requirement already satisfied: chardet<4,>=3.0.2 in /usr/local/lib/python3.7/site-packages (from requests>=2.9.1->locust) (3.0.4)\n",
      "Requirement already satisfied: urllib3!=1.25.0,!=1.25.1,<1.26,>=1.21.1 in /usr/local/lib/python3.7/site-packages (from requests>=2.9.1->locust) (1.25.10)\n",
      "Requirement already satisfied: idna<3,>=2.5 in /usr/local/lib/python3.7/site-packages (from requests>=2.9.1->locust) (2.10)\n",
      "Requirement already satisfied: Jinja2>=2.10.1 in /usr/local/lib/python3.7/site-packages (from flask>=1.1.2->locust) (2.11.2)\n",
      "Requirement already satisfied: click>=5.1 in /usr/local/lib/python3.7/site-packages (from flask>=1.1.2->locust) (7.1.2)\n",
      "Collecting itsdangerous>=0.24\n",
      "  Downloading itsdangerous-1.1.0-py2.py3-none-any.whl (16 kB)\n",
      "Requirement already satisfied: MarkupSafe>=0.23 in /usr/local/lib/python3.7/site-packages (from Jinja2>=2.10.1->flask>=1.1.2->locust) (1.1.1)\n",
      "Building wheels for collected packages: ConfigArgParse, Flask-BasicAuth\n",
      "  Building wheel for ConfigArgParse (setup.py) ... \u001b[?25ldone\n",
      "\u001b[?25h  Created wheel for ConfigArgParse: filename=ConfigArgParse-1.2.3-py3-none-any.whl size=19328 sha256=190fece9b6496e6e6d652350f0aa9ebcb770b5c7208427683a39740b3d62c3ab\n",
      "  Stored in directory: /root/.cache/pip/wheels/8c/56/a5/1c051b2cca57d199fc048e2516424f24263cefd3ec2059990e\n",
      "  Building wheel for Flask-BasicAuth (setup.py) ... \u001b[?25ldone\n",
      "\u001b[?25h  Created wheel for Flask-BasicAuth: filename=Flask_BasicAuth-0.2.0-py3-none-any.whl size=4227 sha256=f463c889f737ba18f6365c6140fb96d7f56a7cb2781aaec1f3f1793efa08f117\n",
      "  Stored in directory: /root/.cache/pip/wheels/d5/08/a3/19638d90fdf01258ede772449bcbde424839459749acb977b6\n",
      "Successfully built ConfigArgParse Flask-BasicAuth\n",
      "Installing collected packages: ConfigArgParse, msgpack, Werkzeug, zope.interface, greenlet, zope.event, gevent, geventhttpclient, itsdangerous, flask, Flask-BasicAuth, locust\n",
      "Successfully installed ConfigArgParse-1.2.3 Flask-BasicAuth-0.2.0 Werkzeug-1.0.1 flask-1.1.2 gevent-20.9.0 geventhttpclient-1.4.4 greenlet-0.4.17 itsdangerous-1.1.0 locust-1.2.3 msgpack-1.0.0 zope.event-4.5.0 zope.interface-5.1.2\n"
     ]
    }
   ],
   "source": [
    "!pip3 install locust"
   ]
  },
  {
   "cell_type": "code",
   "execution_count": 2,
   "metadata": {},
   "outputs": [
    {
     "name": "stdout",
     "output_type": "stream",
     "text": [
      "locust 1.2.3\n"
     ]
    }
   ],
   "source": [
    "!locust -V"
   ]
  },
  {
   "cell_type": "code",
   "execution_count": 4,
   "metadata": {},
   "outputs": [
    {
     "name": "stdout",
     "output_type": "stream",
     "text": [
      "The watermark extension is already loaded. To reload it, use:\n",
      "  %reload_ext watermark\n"
     ]
    }
   ],
   "source": [
    "%load_ext watermark"
   ]
  },
  {
   "cell_type": "code",
   "execution_count": 5,
   "metadata": {},
   "outputs": [
    {
     "name": "stdout",
     "output_type": "stream",
     "text": [
      "2020-10-01 \n",
      "\n",
      "CPython 3.7.9\n",
      "IPython 7.18.1\n",
      "\n",
      "compiler   : GCC 8.3.0\n",
      "system     : Linux\n",
      "release    : 4.19.76-linuxkit\n",
      "machine    : x86_64\n",
      "processor  : \n",
      "CPU cores  : 16\n",
      "interpreter: 64bit\n",
      "Git hash   : \n",
      "Git repo   : \n",
      "Git branch :\n",
      "CPU\t: Intel(R) Core(TM) i9-9880H CPU @ 2.30GHz\n",
      "Mem:           15G\n",
      "Swap:         4.0G\n"
     ]
    }
   ],
   "source": [
    "# Run this cell before close.\n",
    "%watermark -d --iversion -b -r -g -m -v\n",
    "!grep 'model name' /proc/cpuinfo |head -n 1 |sed -e 's/model\\ name/CPU/'\n",
    "!free -h |cut -d'i' -f1  |grep -v total"
   ]
  },
  {
   "cell_type": "code",
   "execution_count": 7,
   "metadata": {},
   "outputs": [],
   "source": [
    "!mkdir locust"
   ]
  },
  {
   "cell_type": "code",
   "execution_count": 3,
   "metadata": {},
   "outputs": [
    {
     "name": "stdout",
     "output_type": "stream",
     "text": [
      "Overwriting converter.py\n"
     ]
    }
   ],
   "source": [
    "%%writefile converter.py\n",
    "\n",
    "from flask import Flask\n",
    "\n",
    "\n",
    "converter = {'DH': lambda d: d * 24,     # day to hours\n",
    "             'HM': lambda h: h * 60,     # hour to minutes\n",
    "             'MS': lambda m: m * 60,     # minute to seconds\n",
    "             'DM': lambda d: d * 1440,   # day to minutes\n",
    "             'DS': lambda d: d * 86400,  # day to seconds\n",
    "             'HS': lambda h: h * 3600}   # hour to seconds\n",
    "\n",
    "app = Flask(__name__)\n",
    "\n",
    "@app.route('/<rule>/<int:value>')\n",
    "def conversion(rule, value):\n",
    "    try:\n",
    "        return str(converter[rule.upper()](value))\n",
    "    except KeyError:\n",
    "        return \"Rule for conversion not found\", 404\n",
    "\n",
    "\n",
    "if __name__ == \"__main__\":\n",
    "    app.run(host='0.0.0.0', port=5000)"
   ]
  },
  {
   "cell_type": "code",
   "execution_count": 4,
   "metadata": {},
   "outputs": [
    {
     "name": "stdout",
     "output_type": "stream",
     "text": [
      "converter.py  locust.ipynb  locust_script.py\n"
     ]
    }
   ],
   "source": [
    "!ls"
   ]
  },
  {
   "cell_type": "code",
   "execution_count": 10,
   "metadata": {},
   "outputs": [
    {
     "name": "stdout",
     "output_type": "stream",
     "text": [
      " * Serving Flask app \"converter\" (lazy loading)\n",
      " * Environment: production\n",
      "\u001b[31m   WARNING: This is a development server. Do not use it in a production deployment.\u001b[0m\n",
      "\u001b[2m   Use a production WSGI server instead.\u001b[0m\n",
      " * Debug mode: off\n",
      " * Running on http://127.0.0.1:5000/ (Press CTRL+C to quit)\n",
      "^C\n"
     ]
    }
   ],
   "source": [
    "!# run in shell $ python3 locust/converter.py"
   ]
  },
  {
   "cell_type": "code",
   "execution_count": 6,
   "metadata": {},
   "outputs": [
    {
     "name": "stdout",
     "output_type": "stream",
     "text": [
      "Overwriting locust_script.py\n"
     ]
    }
   ],
   "source": [
    "%%writefile locust_script.py\n",
    "\n",
    "import time\n",
    "from locust import HttpUser, task, between\n",
    "\n",
    "class QuickstartUser(HttpUser):\n",
    "    wait_time = between(1, 2)\n",
    "\n",
    "    @tag('dh5')\n",
    "    @task\n",
    "    def day_to_hour(self):\n",
    "        self.client.get('/dh/5')\n",
    "\n",
    "    @tag('dm2')\n",
    "    @task\n",
    "    def day_to_minute(self):\n",
    "        self.client.get('/dm/2')\n",
    "        "
   ]
  },
  {
   "cell_type": "code",
   "execution_count": null,
   "metadata": {},
   "outputs": [],
   "source": []
  }
 ],
 "metadata": {
  "kernelspec": {
   "display_name": "Python 3",
   "language": "python",
   "name": "python3"
  },
  "language_info": {
   "codemirror_mode": {
    "name": "ipython",
    "version": 3
   },
   "file_extension": ".py",
   "mimetype": "text/x-python",
   "name": "python",
   "nbconvert_exporter": "python",
   "pygments_lexer": "ipython3",
   "version": "3.7.9"
  }
 },
 "nbformat": 4,
 "nbformat_minor": 4
}
