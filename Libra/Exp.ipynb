{
 "cells": [
  {
   "cell_type": "markdown",
   "metadata": {},
   "source": [
    "# Libra: Fully Automated Machine Learning in One-Liners\n",
    "[Site](https://libradocs.github.io/)\n",
    "\n",
    "Conclusions: it's maybe better to use with some NLP.\n",
    "\n",
    "- Author: Israel Oliveira [\\[e-mail\\]](mailto:'Israel%20Oliveira%20'<prof.israel@gmail.com>)"
   ]
  },
  {
   "cell_type": "code",
   "execution_count": 3,
   "metadata": {},
   "outputs": [
    {
     "name": "stdout",
     "output_type": "stream",
     "text": [
      "The watermark extension is already loaded. To reload it, use:\n",
      "  %reload_ext watermark\n"
     ]
    }
   ],
   "source": [
    "%load_ext watermark"
   ]
  },
  {
   "cell_type": "code",
   "execution_count": 4,
   "metadata": {},
   "outputs": [],
   "source": [
    "from libra import client"
   ]
  },
  {
   "cell_type": "code",
   "execution_count": 5,
   "metadata": {},
   "outputs": [],
   "source": [
    "#import matplotlib.pyplot as plt\n",
    "# Algumas configurações para o matplotlib.\n",
    "#%matplotlib inline\n",
    "#from IPython.core.pylabtools import figsize\n",
    "#figsize(12, 8)\n",
    "#sns.set()"
   ]
  },
  {
   "cell_type": "code",
   "execution_count": 6,
   "metadata": {},
   "outputs": [
    {
     "name": "stdout",
     "output_type": "stream",
     "text": [
      "2020-07-31 \n",
      "\n",
      "CPython 3.7.8\n",
      "IPython 7.16.1\n",
      "\n",
      "compiler   : GCC 8.3.0\n",
      "system     : Linux\n",
      "release    : 4.19.76-linuxkit\n",
      "machine    : x86_64\n",
      "processor  : \n",
      "CPU cores  : 16\n",
      "interpreter: 64bit\n",
      "Git hash   : 7d6f8dba48f5f8565b148e44c79714169f4bf154\n",
      "Git repo   : https://github.com/ysraell/examples.git\n",
      "Git branch : master\n"
     ]
    }
   ],
   "source": [
    "# Run this cell before close.\n",
    "%watermark -d --iversion -b -r -g -m -v"
   ]
  },
  {
   "cell_type": "markdown",
   "metadata": {},
   "source": [
    "# `housing.csv`"
   ]
  },
  {
   "cell_type": "code",
   "execution_count": 5,
   "metadata": {},
   "outputs": [
    {
     "name": "stdout",
     "output_type": "stream",
     "text": [
      "Creating client object\n",
      "  |- Reading in dataset\n",
      "\n",
      "\n"
     ]
    }
   ],
   "source": [
    "new_client = client('housing.csv')"
   ]
  },
  {
   "cell_type": "code",
   "execution_count": 6,
   "metadata": {},
   "outputs": [
    {
     "name": "stdout",
     "output_type": "stream",
     "text": [
      "Reading in dataset\n",
      "->Target column found: median_house_value\n",
      "  |- Establishing callback function\n",
      "    |- Training initial model\n",
      "      | Initial number of layers   | Training Loss            | Test Loss                 |\n",
      "      | 3                          | 0.21590912342071533      | 0.2400595098733902        |\n",
      "      |- Testing number of layers\n",
      "        | Current number of layers  | Training Loss           | Test Loss                |\n",
      "        | 3                         | 0.2068963199853897      | 0.22055281698703766      |\n",
      "        | 4                         | 0.19326919317245483     | 0.21667234599590302      |\n",
      "        | 5                         | 0.17238163948059082     | 0.2242012768983841       |\n",
      "\n",
      "      ->Best number of layers found: 4\n",
      "      ->Training Loss: 0.19326919317245483\n",
      "      ->Test Loss: 0.21667234599590302\n",
      "\n",
      "        |- Stored model under 'regression_ANN' key\n",
      "\n",
      "\n"
     ]
    },
    {
     "data": {
      "image/png": "[encoded data removed]",
      "text/plain": [
       "<Figure size 432x288 with 1 Axes>"
      ]
     },
     "metadata": {
      "needs_background": "light"
     },
     "output_type": "display_data"
    }
   ],
   "source": [
    "new_client.neural_network_query('Accurately estimate the median value of houses.')"
   ]
  },
  {
   "cell_type": "code",
   "execution_count": 8,
   "metadata": {},
   "outputs": [
    {
     "name": "stdout",
     "output_type": "stream",
     "text": [
      "\n",
      "Analyzing regression_ANN for further understanding\n",
      "  |- Making predictions for test data\n",
      "    |- Gathering metrics for display: \n",
      "      |-  MSE on test set: 0.2166724385336705\n",
      "      ->MAE on test set: 0.3125090390790319\n",
      "\n"
     ]
    }
   ],
   "source": [
    "new_client.analyze()"
   ]
  },
  {
   "cell_type": "code",
   "execution_count": 11,
   "metadata": {},
   "outputs": [
    {
     "name": "stdout",
     "output_type": "stream",
     "text": [
      "Reading in dataset\n",
      "  |- Preprocessing data\n",
      "  ->Target column found: population\n",
      "    |- Fitting Support Vector Machine\n",
      "    ->Accuracy found on testing set: 0.002119285498032092\n",
      "    ->Stored model under 'svm' key\n",
      "\n",
      "\n"
     ]
    },
    {
     "data": {
      "text/plain": [
       "dict_keys(['id', 'model', 'num_classes', 'accuracy', 'target', 'preprocesser', 'interpreter', 'test_data'])"
      ]
     },
     "execution_count": 11,
     "metadata": {},
     "output_type": "execute_result"
    }
   ],
   "source": [
    "new_client.svm_query('predict the proximity to the ocean')\n",
    "new_client.model().keys()"
   ]
  },
  {
   "cell_type": "markdown",
   "metadata": {},
   "source": [
    "# `titanic.csv`"
   ]
  },
  {
   "cell_type": "code",
   "execution_count": 7,
   "metadata": {},
   "outputs": [
    {
     "name": "stdout",
     "output_type": "stream",
     "text": [
      "Survived,Pclass,Name,Sex,Age,Siblings/Spouses Aboard,Parents/Children Aboard,Fare\n",
      "0,3,Mr. Owen Harris Braund,male,22,1,0,7.25\n"
     ]
    }
   ],
   "source": [
    "!head -n 2 titanic.csv"
   ]
  },
  {
   "cell_type": "code",
   "execution_count": 8,
   "metadata": {},
   "outputs": [
    {
     "name": "stdout",
     "output_type": "stream",
     "text": [
      "Creating client object\n",
      "  |- Reading in dataset\n",
      "\n",
      "\n"
     ]
    }
   ],
   "source": [
    "newClient = client('titanic.csv')"
   ]
  },
  {
   "cell_type": "code",
   "execution_count": 13,
   "metadata": {},
   "outputs": [
    {
     "name": "stdout",
     "output_type": "stream",
     "text": [
      "Reading in dataset\n",
      "  |- Preprocessing data\n",
      "  ->Target column found: Survived\n",
      "    |- Labels being mapped to appropriate classes\n",
      "      |- Fitting Decision Tree\n",
      "      ->Score found on testing set: 0.7676056338028169\n",
      "        |- Stored model under 'decision_tree' key\n",
      "\n"
     ]
    }
   ],
   "source": [
    "newClient.decision_tree_query('Survived')"
   ]
  },
  {
   "cell_type": "code",
   "execution_count": 14,
   "metadata": {},
   "outputs": [
    {
     "name": "stdout",
     "output_type": "stream",
     "text": [
      "\n",
      "Analyzing decision_tree for further understanding\n",
      "  |- Making predictions for test data\n",
      "  ->Plotting ROC curves and creating confusion matrix...\n",
      "    |- Investigating potential issues with calculations\n",
      "      |- Gathering metrics for display: \n",
      "      ->Accuracy on test set: 0.7676056338028169\n",
      "      ->Recall on test set: 0.7676056338028169\n",
      "      ->Precision on test set: 0.7676056338028169\n",
      "      ->F1 Score on test set: 0.7676056338028169\n",
      "\n"
     ]
    },
    {
     "data": {
      "image/png": "[encoded data removed]",
      "text/plain": [
       "<Figure size 432x288 with 1 Axes>"
      ]
     },
     "metadata": {
      "needs_background": "light"
     },
     "output_type": "display_data"
    },
    {
     "data": {
      "image/png": "[encoded data removed]",
      "text/plain": [
       "<Figure size 432x288 with 2 Axes>"
      ]
     },
     "metadata": {
      "needs_background": "light"
     },
     "output_type": "display_data"
    }
   ],
   "source": [
    "newClient.analyze()"
   ]
  },
  {
   "cell_type": "code",
   "execution_count": 15,
   "metadata": {},
   "outputs": [
    {
     "data": {
      "text/plain": [
       "dict_keys(['id', 'model', 'target', 'num_classes', 'accuracy', 'accuracy_score', 'preprocesser', 'interpreter', 'test_data', 'plots', 'scores'])"
      ]
     },
     "execution_count": 15,
     "metadata": {},
     "output_type": "execute_result"
    }
   ],
   "source": [
    "newClient.info()"
   ]
  },
  {
   "cell_type": "code",
   "execution_count": 19,
   "metadata": {},
   "outputs": [
    {
     "name": "stdout",
     "output_type": "stream",
     "text": [
      "\n"
     ]
    },
    {
     "data": {
      "text/plain": [
       "{'id': 'f6f6d2bc-e8e2-4ac7-b160-a32f346e2ff0',\n",
       " 'model': DecisionTreeClassifier(),\n",
       " 'target': 'Survived',\n",
       " 'num_classes': 1,\n",
       " 'accuracy': {'cross_val_score': array([0.75789474, 0.70899471, 0.73015873]),\n",
       "  'accuracy_score': 0.7676056338028169},\n",
       " 'accuracy_score': 0.7676056338028169,\n",
       " 'preprocesser': ColumnTransformer(remainder='passthrough',\n",
       "                   transformers=[('num',\n",
       "                                  Pipeline(steps=[('imputer',\n",
       "                                                   SimpleImputer(strategy='median')),\n",
       "                                                  ('std_scaler',\n",
       "                                                   StandardScaler())]),\n",
       "                                  Index(['Pclass', 'Age', 'Siblings/Spouses Aboard', 'Parents/Children Aboard',\n",
       "        'Fare'],\n",
       "       dtype='object')),\n",
       "                                 ('cat',\n",
       "                                  Pipeline(steps=[('imputer',\n",
       "                                                   SimpleImputer(fill_value='',\n",
       "                                                                 strategy='constant')),\n",
       "                                                  ('one_hot_encoder',\n",
       "                                                   OneHotEncoder(handle_unknown='ignore')),\n",
       "                                                  ('transformer',\n",
       "                                                   FunctionTransformer(accept_sparse=True,\n",
       "                                                                       func=<function structured_preprocesser.<locals>.<lambda> at 0x7f798c65bc20>)),\n",
       "                                                  ('ca', CA(n_components=-1))]),\n",
       "                                  ['Name', 'Sex'])]),\n",
       " 'interpreter': LabelEncoder(),\n",
       " 'test_data': {'X':        Pclass       Age  Siblings/Spouses Aboard  Parents/Children Aboard  \\\n",
       "  0   -1.558257 -0.426437                -0.458654                -0.448063   \n",
       "  1    0.811462 -0.212858                -0.458654                 0.830830   \n",
       "  2    0.811462 -0.995981                 3.488551                 0.830830   \n",
       "  3    0.811462 -0.782402                -0.458654                -0.448063   \n",
       "  4    0.811462  0.499071                 0.528147                -0.448063   \n",
       "  ..        ...       ...                      ...                      ...   \n",
       "  137  0.811462  0.036317                -0.458654                -0.448063   \n",
       "  138  0.811462 -0.711209                -0.458654                -0.448063   \n",
       "  139 -1.558257  2.207703                -0.458654                -0.448063   \n",
       "  140  0.811462  0.000721                -0.458654                -0.448063   \n",
       "  141 -0.373397 -0.924788                -0.458654                -0.448063   \n",
       "  \n",
       "           Fare      CA_0          CA_1          CA_2          CA_3  \\\n",
       "  0    0.927441 -0.720207  5.158534e-16  4.081477e-17  1.706284e-16   \n",
       "  1   -0.396082  1.388440  5.121278e-16  1.275072e-16  4.217446e-16   \n",
       "  2    0.143691 -0.720207  5.158534e-16  4.081477e-17  1.706284e-16   \n",
       "  3   -0.483854 -0.720207  5.158534e-16  4.081477e-17  1.706284e-16   \n",
       "  4   -0.324178 -0.720207  5.158534e-16  4.081477e-17  1.706284e-16   \n",
       "  ..        ...       ...           ...           ...           ...   \n",
       "  137 -0.489805  1.388440  5.121278e-16  1.275072e-16  4.217446e-16   \n",
       "  138 -0.489805  1.388440  5.121278e-16  1.275072e-16  4.217446e-16   \n",
       "  139  0.020959 -0.720207  5.158534e-16  4.081477e-17  1.706284e-16   \n",
       "  140 -0.164503 -0.720207  5.158534e-16  4.081477e-17  1.706284e-16   \n",
       "  141 -0.405504  1.388440  5.121278e-16  1.275072e-16  4.217446e-16   \n",
       "  \n",
       "               CA_4          CA_5          CA_6          CA_7  \n",
       "  0   -2.637844e-16 -4.459392e-16  3.707342e-16 -1.445523e-16  \n",
       "  1   -9.182620e-17 -1.742074e-16  3.914420e-16  7.687165e-17  \n",
       "  2   -2.637844e-16 -4.459392e-16  3.707342e-16 -1.445523e-16  \n",
       "  3   -2.637844e-16 -4.459392e-16  3.707342e-16 -1.445523e-16  \n",
       "  4   -2.637844e-16 -4.459392e-16  3.707342e-16 -1.445523e-16  \n",
       "  ..            ...           ...           ...           ...  \n",
       "  137 -9.182620e-17 -1.742074e-16  3.914420e-16  7.687165e-17  \n",
       "  138 -9.182620e-17 -1.742074e-16  3.914420e-16  7.687165e-17  \n",
       "  139 -2.637844e-16 -4.459392e-16  3.707342e-16 -1.445523e-16  \n",
       "  140 -2.637844e-16 -4.459392e-16  3.707342e-16 -1.445523e-16  \n",
       "  141 -9.182620e-17 -1.742074e-16  3.914420e-16  7.687165e-17  \n",
       "  \n",
       "  [142 rows x 13 columns],\n",
       "  'y': array([0, 1, 0, 0, 0, 0, 1, 0, 1, 1, 1, 1, 1, 1, 1, 0, 1, 0, 0, 1, 0, 0,\n",
       "         1, 0, 1, 1, 0, 0, 1, 0, 0, 0, 1, 0, 0, 0, 1, 0, 1, 0, 0, 0, 1, 0,\n",
       "         1, 0, 1, 0, 0, 0, 1, 0, 1, 1, 0, 0, 0, 1, 0, 0, 0, 0, 1, 1, 1, 0,\n",
       "         0, 1, 0, 1, 0, 0, 0, 0, 0, 1, 0, 1, 1, 0, 0, 0, 0, 1, 0, 1, 0, 0,\n",
       "         1, 0, 0, 1, 0, 1, 0, 0, 1, 0, 1, 0, 0, 0, 1, 0, 0, 0, 0, 1, 1, 1,\n",
       "         0, 0, 0, 1, 0, 1, 1, 0, 0, 0, 0, 0, 0, 0, 0, 0, 0, 0, 1, 0, 0, 0,\n",
       "         1, 1, 1, 0, 0, 0, 1, 0, 0, 1])},\n",
       " 'plots': {'roc_curve': <Figure size 432x288 with 1 Axes>,\n",
       "  'confusion_matrix': <Figure size 432x288 with 2 Axes>},\n",
       " 'scores': {'recall_score': 0.7676056338028169,\n",
       "  'precision_score': 0.7676056338028169,\n",
       "  'f1_score': 0.7676056338028169}}"
      ]
     },
     "execution_count": 19,
     "metadata": {},
     "output_type": "execute_result"
    }
   ],
   "source": [
    "newClient.model()"
   ]
  },
  {
   "cell_type": "code",
   "execution_count": 20,
   "metadata": {},
   "outputs": [
    {
     "name": "stdout",
     "output_type": "stream",
     "text": [
      "\n"
     ]
    },
    {
     "data": {
      "text/plain": [
       "DecisionTreeClassifier()"
      ]
     },
     "execution_count": 20,
     "metadata": {},
     "output_type": "execute_result"
    }
   ],
   "source": [
    "newClient.model()['model']"
   ]
  },
  {
   "cell_type": "code",
   "execution_count": 22,
   "metadata": {},
   "outputs": [
    {
     "name": "stdout",
     "output_type": "stream",
     "text": [
      "Reading in dataset\n",
      "->Target column found: Survived\n",
      "  |- Establishing callback function\n",
      "    |- Training initial model\n",
      "      | Initial number of layers   | Training Accuracy        | Test Accuracy             |\n",
      "      | 3                          | 0.8855633735656738       | 0.7746478915214539        |\n",
      "      |- Testing number of layers\n",
      "        | Current number of layers  | Training Accuracy       | Test Accuracy            |\n",
      "        | 3                         | 0.8644366264343262      | 0.8098591566085815       |\n",
      "        | 4                         | 0.8996478915214539      | 0.8028169274330139       |\n",
      "\n",
      "      ->Best number of layers found: 3\n",
      "      ->Training Accuracy: 0.8644366264343262\n",
      "      ->Test Accuracy: 0.8098591566085815\n",
      "\n",
      "        |- Stored model under 'classification_ANN' key\n"
     ]
    },
    {
     "ename": "UnboundLocalError",
     "evalue": "local variable 'one_hot_encoder' referenced before assignment",
     "output_type": "error",
     "traceback": [
      "\u001b[0;31m---------------------------------------------------------------------------\u001b[0m",
      "\u001b[0;31mUnboundLocalError\u001b[0m                         Traceback (most recent call last)",
      "\u001b[0;32m<ipython-input-22-6998f3140995>\u001b[0m in \u001b[0;36m<module>\u001b[0;34m\u001b[0m\n\u001b[0;32m----> 1\u001b[0;31m \u001b[0mnewClient\u001b[0m\u001b[0;34m.\u001b[0m\u001b[0mneural_network_query\u001b[0m\u001b[0;34m(\u001b[0m\u001b[0;34m'Predict the survived'\u001b[0m\u001b[0;34m)\u001b[0m\u001b[0;34m\u001b[0m\u001b[0;34m\u001b[0m\u001b[0m\n\u001b[0m",
      "\u001b[0;32m/usr/local/lib/python3.7/site-packages/libra/queries.py\u001b[0m in \u001b[0;36mneural_network_query\u001b[0;34m(self, instruction, callback, text, ca_threshold, drop, preprocess, test_size, random_state, epochs, generate_plots, callback_mode, maximizer, save_model, save_path)\u001b[0m\n\u001b[1;32m    202\u001b[0m                     \u001b[0mmaximizer\u001b[0m\u001b[0;34m=\u001b[0m\u001b[0mmaximizer\u001b[0m\u001b[0;34m,\u001b[0m\u001b[0;34m\u001b[0m\u001b[0;34m\u001b[0m\u001b[0m\n\u001b[1;32m    203\u001b[0m                     \u001b[0msave_model\u001b[0m\u001b[0;34m=\u001b[0m\u001b[0msave_model\u001b[0m\u001b[0;34m,\u001b[0m\u001b[0;34m\u001b[0m\u001b[0;34m\u001b[0m\u001b[0m\n\u001b[0;32m--> 204\u001b[0;31m                     save_path=save_path)\n\u001b[0m\u001b[1;32m    205\u001b[0m             \u001b[0;32melse\u001b[0m\u001b[0;34m:\u001b[0m\u001b[0;34m\u001b[0m\u001b[0;34m\u001b[0m\u001b[0m\n\u001b[1;32m    206\u001b[0m                 self.regression_query_ann(\n",
      "\u001b[0;32m/usr/local/lib/python3.7/site-packages/libra/queries.py\u001b[0m in \u001b[0;36mclassification_query_ann\u001b[0;34m(self, instruction, callback, text, ca_threshold, preprocess, callback_mode, drop, random_state, test_size, epochs, generate_plots, maximizer, save_model, save_path)\u001b[0m\n\u001b[1;32m    335\u001b[0m             \u001b[0mmaximizer\u001b[0m\u001b[0;34m=\u001b[0m\u001b[0mmaximizer\u001b[0m\u001b[0;34m,\u001b[0m\u001b[0;34m\u001b[0m\u001b[0;34m\u001b[0m\u001b[0m\n\u001b[1;32m    336\u001b[0m             \u001b[0msave_model\u001b[0m\u001b[0;34m=\u001b[0m\u001b[0msave_model\u001b[0m\u001b[0;34m,\u001b[0m\u001b[0;34m\u001b[0m\u001b[0;34m\u001b[0m\u001b[0m\n\u001b[0;32m--> 337\u001b[0;31m             save_path=save_path)\n\u001b[0m\u001b[1;32m    338\u001b[0m \u001b[0;34m\u001b[0m\u001b[0m\n\u001b[1;32m    339\u001b[0m         \u001b[0mself\u001b[0m\u001b[0;34m.\u001b[0m\u001b[0mlatest_model\u001b[0m \u001b[0;34m=\u001b[0m \u001b[0;34m'classification_ANN'\u001b[0m\u001b[0;34m\u001b[0m\u001b[0;34m\u001b[0m\u001b[0m\n",
      "\u001b[0;32m/usr/local/lib/python3.7/site-packages/libra/query/feedforward_nn.py\u001b[0m in \u001b[0;36mclassification_ann\u001b[0;34m(instruction, callback, dataset, text, ca_threshold, preprocess, callback_mode, drop, random_state, test_size, epochs, generate_plots, maximizer, save_model, save_path)\u001b[0m\n\u001b[1;32m    445\u001b[0m         \u001b[0;34m\"target\"\u001b[0m\u001b[0;34m:\u001b[0m \u001b[0mremove\u001b[0m\u001b[0;34m,\u001b[0m\u001b[0;34m\u001b[0m\u001b[0;34m\u001b[0m\u001b[0m\n\u001b[1;32m    446\u001b[0m         \u001b[0;34m\"preprocesser\"\u001b[0m\u001b[0;34m:\u001b[0m \u001b[0mfull_pipeline\u001b[0m\u001b[0;34m,\u001b[0m\u001b[0;34m\u001b[0m\u001b[0;34m\u001b[0m\u001b[0m\n\u001b[0;32m--> 447\u001b[0;31m         \u001b[0;34m\"interpreter\"\u001b[0m\u001b[0;34m:\u001b[0m \u001b[0mone_hot_encoder\u001b[0m\u001b[0;34m,\u001b[0m\u001b[0;34m\u001b[0m\u001b[0;34m\u001b[0m\u001b[0m\n\u001b[0m\u001b[1;32m    448\u001b[0m         \u001b[0;34m'test_data'\u001b[0m\u001b[0;34m:\u001b[0m \u001b[0;34m{\u001b[0m\u001b[0;34m'X'\u001b[0m\u001b[0;34m:\u001b[0m \u001b[0mX_test\u001b[0m\u001b[0;34m,\u001b[0m \u001b[0;34m'y'\u001b[0m\u001b[0;34m:\u001b[0m \u001b[0my_test\u001b[0m\u001b[0;34m}\u001b[0m\u001b[0;34m,\u001b[0m\u001b[0;34m\u001b[0m\u001b[0;34m\u001b[0m\u001b[0m\n\u001b[1;32m    449\u001b[0m         'losses': {\n",
      "\u001b[0;31mUnboundLocalError\u001b[0m: local variable 'one_hot_encoder' referenced before assignment"
     ]
    },
    {
     "data": {
      "image/png": "[encoded data removed]",
      "text/plain": [
       "<Figure size 432x288 with 1 Axes>"
      ]
     },
     "metadata": {
      "needs_background": "light"
     },
     "output_type": "display_data"
    },
    {
     "data": {
      "image/png": "[encoded data removed]",
      "text/plain": [
       "<Figure size 432x288 with 1 Axes>"
      ]
     },
     "metadata": {
      "needs_background": "light"
     },
     "output_type": "display_data"
    }
   ],
   "source": [
    "newClient.neural_network_query('Predict the survived')"
   ]
  },
  {
   "cell_type": "code",
   "execution_count": 23,
   "metadata": {},
   "outputs": [
    {
     "name": "stdout",
     "output_type": "stream",
     "text": [
      "\n"
     ]
    },
    {
     "data": {
      "text/plain": [
       "{'id': 'f6f6d2bc-e8e2-4ac7-b160-a32f346e2ff0',\n",
       " 'model': DecisionTreeClassifier(),\n",
       " 'target': 'Survived',\n",
       " 'num_classes': 1,\n",
       " 'accuracy': {'cross_val_score': array([0.75789474, 0.70899471, 0.73015873]),\n",
       "  'accuracy_score': 0.7676056338028169},\n",
       " 'accuracy_score': 0.7676056338028169,\n",
       " 'preprocesser': ColumnTransformer(remainder='passthrough',\n",
       "                   transformers=[('num',\n",
       "                                  Pipeline(steps=[('imputer',\n",
       "                                                   SimpleImputer(strategy='median')),\n",
       "                                                  ('std_scaler',\n",
       "                                                   StandardScaler())]),\n",
       "                                  Index(['Pclass', 'Age', 'Siblings/Spouses Aboard', 'Parents/Children Aboard',\n",
       "        'Fare'],\n",
       "       dtype='object')),\n",
       "                                 ('cat',\n",
       "                                  Pipeline(steps=[('imputer',\n",
       "                                                   SimpleImputer(fill_value='',\n",
       "                                                                 strategy='constant')),\n",
       "                                                  ('one_hot_encoder',\n",
       "                                                   OneHotEncoder(handle_unknown='ignore')),\n",
       "                                                  ('transformer',\n",
       "                                                   FunctionTransformer(accept_sparse=True,\n",
       "                                                                       func=<function structured_preprocesser.<locals>.<lambda> at 0x7f798c65bc20>)),\n",
       "                                                  ('ca', CA(n_components=-1))]),\n",
       "                                  ['Name', 'Sex'])]),\n",
       " 'interpreter': LabelEncoder(),\n",
       " 'test_data': {'X':        Pclass       Age  Siblings/Spouses Aboard  Parents/Children Aboard  \\\n",
       "  0   -1.558257 -0.426437                -0.458654                -0.448063   \n",
       "  1    0.811462 -0.212858                -0.458654                 0.830830   \n",
       "  2    0.811462 -0.995981                 3.488551                 0.830830   \n",
       "  3    0.811462 -0.782402                -0.458654                -0.448063   \n",
       "  4    0.811462  0.499071                 0.528147                -0.448063   \n",
       "  ..        ...       ...                      ...                      ...   \n",
       "  137  0.811462  0.036317                -0.458654                -0.448063   \n",
       "  138  0.811462 -0.711209                -0.458654                -0.448063   \n",
       "  139 -1.558257  2.207703                -0.458654                -0.448063   \n",
       "  140  0.811462  0.000721                -0.458654                -0.448063   \n",
       "  141 -0.373397 -0.924788                -0.458654                -0.448063   \n",
       "  \n",
       "           Fare      CA_0          CA_1          CA_2          CA_3  \\\n",
       "  0    0.927441 -0.720207  5.158534e-16  4.081477e-17  1.706284e-16   \n",
       "  1   -0.396082  1.388440  5.121278e-16  1.275072e-16  4.217446e-16   \n",
       "  2    0.143691 -0.720207  5.158534e-16  4.081477e-17  1.706284e-16   \n",
       "  3   -0.483854 -0.720207  5.158534e-16  4.081477e-17  1.706284e-16   \n",
       "  4   -0.324178 -0.720207  5.158534e-16  4.081477e-17  1.706284e-16   \n",
       "  ..        ...       ...           ...           ...           ...   \n",
       "  137 -0.489805  1.388440  5.121278e-16  1.275072e-16  4.217446e-16   \n",
       "  138 -0.489805  1.388440  5.121278e-16  1.275072e-16  4.217446e-16   \n",
       "  139  0.020959 -0.720207  5.158534e-16  4.081477e-17  1.706284e-16   \n",
       "  140 -0.164503 -0.720207  5.158534e-16  4.081477e-17  1.706284e-16   \n",
       "  141 -0.405504  1.388440  5.121278e-16  1.275072e-16  4.217446e-16   \n",
       "  \n",
       "               CA_4          CA_5          CA_6          CA_7  \n",
       "  0   -2.637844e-16 -4.459392e-16  3.707342e-16 -1.445523e-16  \n",
       "  1   -9.182620e-17 -1.742074e-16  3.914420e-16  7.687165e-17  \n",
       "  2   -2.637844e-16 -4.459392e-16  3.707342e-16 -1.445523e-16  \n",
       "  3   -2.637844e-16 -4.459392e-16  3.707342e-16 -1.445523e-16  \n",
       "  4   -2.637844e-16 -4.459392e-16  3.707342e-16 -1.445523e-16  \n",
       "  ..            ...           ...           ...           ...  \n",
       "  137 -9.182620e-17 -1.742074e-16  3.914420e-16  7.687165e-17  \n",
       "  138 -9.182620e-17 -1.742074e-16  3.914420e-16  7.687165e-17  \n",
       "  139 -2.637844e-16 -4.459392e-16  3.707342e-16 -1.445523e-16  \n",
       "  140 -2.637844e-16 -4.459392e-16  3.707342e-16 -1.445523e-16  \n",
       "  141 -9.182620e-17 -1.742074e-16  3.914420e-16  7.687165e-17  \n",
       "  \n",
       "  [142 rows x 13 columns],\n",
       "  'y': array([0, 1, 0, 0, 0, 0, 1, 0, 1, 1, 1, 1, 1, 1, 1, 0, 1, 0, 0, 1, 0, 0,\n",
       "         1, 0, 1, 1, 0, 0, 1, 0, 0, 0, 1, 0, 0, 0, 1, 0, 1, 0, 0, 0, 1, 0,\n",
       "         1, 0, 1, 0, 0, 0, 1, 0, 1, 1, 0, 0, 0, 1, 0, 0, 0, 0, 1, 1, 1, 0,\n",
       "         0, 1, 0, 1, 0, 0, 0, 0, 0, 1, 0, 1, 1, 0, 0, 0, 0, 1, 0, 1, 0, 0,\n",
       "         1, 0, 0, 1, 0, 1, 0, 0, 1, 0, 1, 0, 0, 0, 1, 0, 0, 0, 0, 1, 1, 1,\n",
       "         0, 0, 0, 1, 0, 1, 1, 0, 0, 0, 0, 0, 0, 0, 0, 0, 0, 0, 1, 0, 0, 0,\n",
       "         1, 1, 1, 0, 0, 0, 1, 0, 0, 1])},\n",
       " 'plots': {'roc_curve': <Figure size 432x288 with 1 Axes>,\n",
       "  'confusion_matrix': <Figure size 432x288 with 2 Axes>},\n",
       " 'scores': {'recall_score': 0.7676056338028169,\n",
       "  'precision_score': 0.7676056338028169,\n",
       "  'f1_score': 0.7676056338028169}}"
      ]
     },
     "execution_count": 23,
     "metadata": {},
     "output_type": "execute_result"
    }
   ],
   "source": [
    "newClient.model()"
   ]
  },
  {
   "cell_type": "code",
   "execution_count": null,
   "metadata": {},
   "outputs": [],
   "source": []
  }
 ],
 "metadata": {
  "kernelspec": {
   "display_name": "Python 3",
   "language": "python",
   "name": "python3"
  },
  "language_info": {
   "codemirror_mode": {
    "name": "ipython",
    "version": 3
   },
   "file_extension": ".py",
   "mimetype": "text/x-python",
   "name": "python",
   "nbconvert_exporter": "python",
   "pygments_lexer": "ipython3",
   "version": "3.7.8"
  }
 },
 "nbformat": 4,
 "nbformat_minor": 4
}
