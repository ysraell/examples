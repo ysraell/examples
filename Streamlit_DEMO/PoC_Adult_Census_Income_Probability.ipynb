{
 "cells": [
  {
   "cell_type": "markdown",
   "metadata": {},
   "source": [
    "# 1994 Census bureau databas\n",
    "\n",
    "### Goal: Objective: Given some characteristics, return the probability of receiving more than \\$50k\n",
    "\n",
    "[Reference: Nham, Tracy. Classifying Income from 1994 Census Data](http://cseweb.ucsd.edu/classes/sp15/cse190-c/reports/sp15/024.pdf)"
   ]
  },
  {
   "cell_type": "code",
   "execution_count": 1,
   "metadata": {},
   "outputs": [],
   "source": [
    "import pandas as pd"
   ]
  },
  {
   "cell_type": "code",
   "execution_count": 2,
   "metadata": {},
   "outputs": [],
   "source": [
    "df = pd.read_csv('Adult_Census_Income.csv')"
   ]
  },
  {
   "cell_type": "markdown",
   "metadata": {},
   "source": [
    "#### A) What we have?"
   ]
  },
  {
   "cell_type": "code",
   "execution_count": 3,
   "metadata": {},
   "outputs": [
    {
     "data": {
      "text/html": [
       "<div>\n",
       "<style scoped>\n",
       "    .dataframe tbody tr th:only-of-type {\n",
       "        vertical-align: middle;\n",
       "    }\n",
       "\n",
       "    .dataframe tbody tr th {\n",
       "        vertical-align: top;\n",
       "    }\n",
       "\n",
       "    .dataframe thead th {\n",
       "        text-align: right;\n",
       "    }\n",
       "</style>\n",
       "<table border=\"1\" class=\"dataframe\">\n",
       "  <thead>\n",
       "    <tr style=\"text-align: right;\">\n",
       "      <th></th>\n",
       "      <th>age</th>\n",
       "      <th>workclass</th>\n",
       "      <th>fnlwgt</th>\n",
       "      <th>education</th>\n",
       "      <th>education.num</th>\n",
       "      <th>marital.status</th>\n",
       "      <th>occupation</th>\n",
       "      <th>relationship</th>\n",
       "      <th>race</th>\n",
       "      <th>sex</th>\n",
       "      <th>capital.gain</th>\n",
       "      <th>capital.loss</th>\n",
       "      <th>hours.per.week</th>\n",
       "      <th>native.country</th>\n",
       "      <th>income</th>\n",
       "    </tr>\n",
       "  </thead>\n",
       "  <tbody>\n",
       "    <tr>\n",
       "      <td>0</td>\n",
       "      <td>90</td>\n",
       "      <td>?</td>\n",
       "      <td>77053</td>\n",
       "      <td>HS-grad</td>\n",
       "      <td>9</td>\n",
       "      <td>Widowed</td>\n",
       "      <td>?</td>\n",
       "      <td>Not-in-family</td>\n",
       "      <td>White</td>\n",
       "      <td>Female</td>\n",
       "      <td>0</td>\n",
       "      <td>4356</td>\n",
       "      <td>40</td>\n",
       "      <td>United-States</td>\n",
       "      <td>&lt;=50K</td>\n",
       "    </tr>\n",
       "    <tr>\n",
       "      <td>1</td>\n",
       "      <td>82</td>\n",
       "      <td>Private</td>\n",
       "      <td>132870</td>\n",
       "      <td>HS-grad</td>\n",
       "      <td>9</td>\n",
       "      <td>Widowed</td>\n",
       "      <td>Exec-managerial</td>\n",
       "      <td>Not-in-family</td>\n",
       "      <td>White</td>\n",
       "      <td>Female</td>\n",
       "      <td>0</td>\n",
       "      <td>4356</td>\n",
       "      <td>18</td>\n",
       "      <td>United-States</td>\n",
       "      <td>&lt;=50K</td>\n",
       "    </tr>\n",
       "    <tr>\n",
       "      <td>2</td>\n",
       "      <td>66</td>\n",
       "      <td>?</td>\n",
       "      <td>186061</td>\n",
       "      <td>Some-college</td>\n",
       "      <td>10</td>\n",
       "      <td>Widowed</td>\n",
       "      <td>?</td>\n",
       "      <td>Unmarried</td>\n",
       "      <td>Black</td>\n",
       "      <td>Female</td>\n",
       "      <td>0</td>\n",
       "      <td>4356</td>\n",
       "      <td>40</td>\n",
       "      <td>United-States</td>\n",
       "      <td>&lt;=50K</td>\n",
       "    </tr>\n",
       "    <tr>\n",
       "      <td>3</td>\n",
       "      <td>54</td>\n",
       "      <td>Private</td>\n",
       "      <td>140359</td>\n",
       "      <td>7th-8th</td>\n",
       "      <td>4</td>\n",
       "      <td>Divorced</td>\n",
       "      <td>Machine-op-inspct</td>\n",
       "      <td>Unmarried</td>\n",
       "      <td>White</td>\n",
       "      <td>Female</td>\n",
       "      <td>0</td>\n",
       "      <td>3900</td>\n",
       "      <td>40</td>\n",
       "      <td>United-States</td>\n",
       "      <td>&lt;=50K</td>\n",
       "    </tr>\n",
       "    <tr>\n",
       "      <td>4</td>\n",
       "      <td>41</td>\n",
       "      <td>Private</td>\n",
       "      <td>264663</td>\n",
       "      <td>Some-college</td>\n",
       "      <td>10</td>\n",
       "      <td>Separated</td>\n",
       "      <td>Prof-specialty</td>\n",
       "      <td>Own-child</td>\n",
       "      <td>White</td>\n",
       "      <td>Female</td>\n",
       "      <td>0</td>\n",
       "      <td>3900</td>\n",
       "      <td>40</td>\n",
       "      <td>United-States</td>\n",
       "      <td>&lt;=50K</td>\n",
       "    </tr>\n",
       "  </tbody>\n",
       "</table>\n",
       "</div>"
      ],
      "text/plain": [
       "   age workclass  fnlwgt     education  education.num marital.status  \\\n",
       "0   90         ?   77053       HS-grad              9        Widowed   \n",
       "1   82   Private  132870       HS-grad              9        Widowed   \n",
       "2   66         ?  186061  Some-college             10        Widowed   \n",
       "3   54   Private  140359       7th-8th              4       Divorced   \n",
       "4   41   Private  264663  Some-college             10      Separated   \n",
       "\n",
       "          occupation   relationship   race     sex  capital.gain  \\\n",
       "0                  ?  Not-in-family  White  Female             0   \n",
       "1    Exec-managerial  Not-in-family  White  Female             0   \n",
       "2                  ?      Unmarried  Black  Female             0   \n",
       "3  Machine-op-inspct      Unmarried  White  Female             0   \n",
       "4     Prof-specialty      Own-child  White  Female             0   \n",
       "\n",
       "   capital.loss  hours.per.week native.country income  \n",
       "0          4356              40  United-States  <=50K  \n",
       "1          4356              18  United-States  <=50K  \n",
       "2          4356              40  United-States  <=50K  \n",
       "3          3900              40  United-States  <=50K  \n",
       "4          3900              40  United-States  <=50K  "
      ]
     },
     "execution_count": 3,
     "metadata": {},
     "output_type": "execute_result"
    }
   ],
   "source": [
    "df.head()"
   ]
  },
  {
   "cell_type": "markdown",
   "metadata": {},
   "source": [
    "#### B) Selecting features"
   ]
  },
  {
   "cell_type": "code",
   "execution_count": 4,
   "metadata": {},
   "outputs": [
    {
     "data": {
      "text/plain": [
       "age                int64\n",
       "workclass         object\n",
       "fnlwgt             int64\n",
       "education         object\n",
       "education.num      int64\n",
       "marital.status    object\n",
       "occupation        object\n",
       "relationship      object\n",
       "race              object\n",
       "sex               object\n",
       "capital.gain       int64\n",
       "capital.loss       int64\n",
       "hours.per.week     int64\n",
       "native.country    object\n",
       "income            object\n",
       "dtype: object"
      ]
     },
     "execution_count": 4,
     "metadata": {},
     "output_type": "execute_result"
    }
   ],
   "source": [
    "df.dtypes"
   ]
  },
  {
   "cell_type": "markdown",
   "metadata": {},
   "source": [
    "- 'fnlwgt': not useful for this work.\n",
    "- 'education.num': the feature 'education' is enough.\n",
    "- 'income': our target."
   ]
  },
  {
   "cell_type": "code",
   "execution_count": 5,
   "metadata": {},
   "outputs": [
    {
     "name": "stdout",
     "output_type": "stream",
     "text": [
      "['age', 'workclass', 'education', 'marital.status', 'occupation', 'relationship', 'race', 'sex', 'capital.gain', 'capital.loss', 'hours.per.week', 'native.country']\n"
     ]
    }
   ],
   "source": [
    "target = 'income'\n",
    "black_cols = ['fnlwgt','education.num','income']\n",
    "features = df.columns.tolist()\n",
    "for col in black_cols:\n",
    "    features.pop(features.index(col))\n",
    "print(features)"
   ]
  },
  {
   "cell_type": "markdown",
   "metadata": {},
   "source": [
    "#### C) Filtering and staging values "
   ]
  },
  {
   "cell_type": "markdown",
   "metadata": {},
   "source": [
    "- Taking a look at unique values. *Some values like numbers may not be seen below.*"
   ]
  },
  {
   "cell_type": "code",
   "execution_count": 6,
   "metadata": {},
   "outputs": [
    {
     "name": "stdout",
     "output_type": "stream",
     "text": [
      "Feature: 'workclass', total uniques 9:\n",
      "?\n",
      "Private\n",
      "State-gov\n",
      "Federal-gov\n",
      "Self-emp-not-inc\n",
      "Self-emp-inc\n",
      "Local-gov\n",
      "Without-pay\n",
      "Never-worked\n",
      "\n",
      "\n",
      "Feature: 'education', total uniques 16:\n",
      "HS-grad\n",
      "Some-college\n",
      "7th-8th\n",
      "10th\n",
      "Doctorate\n",
      "Prof-school\n",
      "Bachelors\n",
      "Masters\n",
      "11th\n",
      "Assoc-acdm\n",
      "Assoc-voc\n",
      "1st-4th\n",
      "5th-6th\n",
      "12th\n",
      "9th\n",
      "Preschool\n",
      "\n",
      "\n",
      "Feature: 'marital.status', total uniques 7:\n",
      "Widowed\n",
      "Divorced\n",
      "Separated\n",
      "Never-married\n",
      "Married-civ-spouse\n",
      "Married-spouse-absent\n",
      "Married-AF-spouse\n",
      "\n",
      "\n",
      "Feature: 'occupation', total uniques 15:\n",
      "?\n",
      "Exec-managerial\n",
      "Machine-op-inspct\n",
      "Prof-specialty\n",
      "Other-service\n",
      "Adm-clerical\n",
      "Craft-repair\n",
      "Transport-moving\n",
      "Handlers-cleaners\n",
      "Sales\n",
      "Farming-fishing\n",
      "Tech-support\n",
      "Protective-serv\n",
      "Armed-Forces\n",
      "Priv-house-serv\n",
      "\n",
      "\n",
      "Feature: 'relationship', total uniques 6:\n",
      "Not-in-family\n",
      "Unmarried\n",
      "Own-child\n",
      "Other-relative\n",
      "Husband\n",
      "Wife\n",
      "\n",
      "\n",
      "Feature: 'race', total uniques 5:\n",
      "White\n",
      "Black\n",
      "Asian-Pac-Islander\n",
      "Other\n",
      "Amer-Indian-Eskimo\n",
      "\n",
      "\n",
      "Feature: 'sex', total uniques 2:\n",
      "Female\n",
      "Male\n",
      "\n",
      "\n",
      "Feature: 'native.country', total uniques 42:\n",
      "United-States\n",
      "?\n",
      "Mexico\n",
      "Greece\n",
      "Vietnam\n",
      "China\n",
      "Taiwan\n",
      "India\n",
      "Philippines\n",
      "Trinadad&Tobago\n",
      "Canada\n",
      "South\n",
      "Holand-Netherlands\n",
      "Puerto-Rico\n",
      "Poland\n",
      "Iran\n",
      "England\n",
      "Germany\n",
      "Italy\n",
      "Japan\n",
      "Hong\n",
      "Honduras\n",
      "Cuba\n",
      "Ireland\n",
      "Cambodia\n",
      "Peru\n",
      "Nicaragua\n",
      "Dominican-Republic\n",
      "Haiti\n",
      "El-Salvador\n",
      "Hungary\n",
      "Columbia\n",
      "Guatemala\n",
      "Jamaica\n",
      "Ecuador\n",
      "France\n",
      "Yugoslavia\n",
      "Scotland\n",
      "Portugal\n",
      "Laos\n",
      "Thailand\n",
      "Outlying-US(Guam-USVI-etc)\n",
      "\n",
      "\n"
     ]
    }
   ],
   "source": [
    "cols_not_uniques = []\n",
    "for col in features:\n",
    "    try:\n",
    "        uniqs = df[col].unique()\n",
    "        print('Feature: \\'{}\\', total uniques {}:\\n{}\\n\\n'.format(col,len(uniqs),\"\\n\".join(uniqs)))\n",
    "    except Exception as e:\n",
    "        cols_not_uniques.append(col)\n",
    "        "
   ]
  },
  {
   "cell_type": "code",
   "execution_count": 7,
   "metadata": {},
   "outputs": [],
   "source": [
    "black_vals = ['?']"
   ]
  },
  {
   "cell_type": "code",
   "execution_count": 8,
   "metadata": {},
   "outputs": [
    {
     "data": {
      "text/plain": [
       "['age', 'capital.gain', 'capital.loss', 'hours.per.week']"
      ]
     },
     "execution_count": 8,
     "metadata": {},
     "output_type": "execute_result"
    }
   ],
   "source": [
    "cols_not_uniques"
   ]
  },
  {
   "cell_type": "code",
   "execution_count": 9,
   "metadata": {},
   "outputs": [
    {
     "data": {
      "text/html": [
       "<div>\n",
       "<style scoped>\n",
       "    .dataframe tbody tr th:only-of-type {\n",
       "        vertical-align: middle;\n",
       "    }\n",
       "\n",
       "    .dataframe tbody tr th {\n",
       "        vertical-align: top;\n",
       "    }\n",
       "\n",
       "    .dataframe thead th {\n",
       "        text-align: right;\n",
       "    }\n",
       "</style>\n",
       "<table border=\"1\" class=\"dataframe\">\n",
       "  <thead>\n",
       "    <tr style=\"text-align: right;\">\n",
       "      <th></th>\n",
       "      <th>age</th>\n",
       "      <th>capital.gain</th>\n",
       "      <th>capital.loss</th>\n",
       "      <th>hours.per.week</th>\n",
       "    </tr>\n",
       "  </thead>\n",
       "  <tbody>\n",
       "    <tr>\n",
       "      <td>count</td>\n",
       "      <td>32561.000000</td>\n",
       "      <td>32561.000000</td>\n",
       "      <td>32561.000000</td>\n",
       "      <td>32561.000000</td>\n",
       "    </tr>\n",
       "    <tr>\n",
       "      <td>mean</td>\n",
       "      <td>38.581647</td>\n",
       "      <td>1077.648844</td>\n",
       "      <td>87.303830</td>\n",
       "      <td>40.437456</td>\n",
       "    </tr>\n",
       "    <tr>\n",
       "      <td>std</td>\n",
       "      <td>13.640433</td>\n",
       "      <td>7385.292085</td>\n",
       "      <td>402.960219</td>\n",
       "      <td>12.347429</td>\n",
       "    </tr>\n",
       "    <tr>\n",
       "      <td>min</td>\n",
       "      <td>17.000000</td>\n",
       "      <td>0.000000</td>\n",
       "      <td>0.000000</td>\n",
       "      <td>1.000000</td>\n",
       "    </tr>\n",
       "    <tr>\n",
       "      <td>25%</td>\n",
       "      <td>28.000000</td>\n",
       "      <td>0.000000</td>\n",
       "      <td>0.000000</td>\n",
       "      <td>40.000000</td>\n",
       "    </tr>\n",
       "    <tr>\n",
       "      <td>50%</td>\n",
       "      <td>37.000000</td>\n",
       "      <td>0.000000</td>\n",
       "      <td>0.000000</td>\n",
       "      <td>40.000000</td>\n",
       "    </tr>\n",
       "    <tr>\n",
       "      <td>75%</td>\n",
       "      <td>48.000000</td>\n",
       "      <td>0.000000</td>\n",
       "      <td>0.000000</td>\n",
       "      <td>45.000000</td>\n",
       "    </tr>\n",
       "    <tr>\n",
       "      <td>max</td>\n",
       "      <td>90.000000</td>\n",
       "      <td>99999.000000</td>\n",
       "      <td>4356.000000</td>\n",
       "      <td>99.000000</td>\n",
       "    </tr>\n",
       "  </tbody>\n",
       "</table>\n",
       "</div>"
      ],
      "text/plain": [
       "                age  capital.gain  capital.loss  hours.per.week\n",
       "count  32561.000000  32561.000000  32561.000000    32561.000000\n",
       "mean      38.581647   1077.648844     87.303830       40.437456\n",
       "std       13.640433   7385.292085    402.960219       12.347429\n",
       "min       17.000000      0.000000      0.000000        1.000000\n",
       "25%       28.000000      0.000000      0.000000       40.000000\n",
       "50%       37.000000      0.000000      0.000000       40.000000\n",
       "75%       48.000000      0.000000      0.000000       45.000000\n",
       "max       90.000000  99999.000000   4356.000000       99.000000"
      ]
     },
     "execution_count": 9,
     "metadata": {},
     "output_type": "execute_result"
    }
   ],
   "source": [
    "df[cols_not_uniques].describe()"
   ]
  },
  {
   "cell_type": "markdown",
   "metadata": {},
   "source": [
    "- Thinking about a person's use at any time, knowing and reporting the capital gain in the year may cause an inconsistent data entry."
   ]
  },
  {
   "cell_type": "code",
   "execution_count": 10,
   "metadata": {},
   "outputs": [],
   "source": [
    "black_cols.extend(['capital.gain','capital.loss'])\n",
    "features_num = ['age','hours.per.week']"
   ]
  },
  {
   "cell_type": "code",
   "execution_count": 11,
   "metadata": {},
   "outputs": [
    {
     "name": "stdout",
     "output_type": "stream",
     "text": [
      "['age', 'workclass', 'education', 'marital.status', 'occupation', 'relationship', 'race', 'sex', 'hours.per.week', 'native.country']\n"
     ]
    }
   ],
   "source": [
    "features = df.columns.tolist()\n",
    "for col in black_cols:\n",
    "    features.pop(features.index(col))\n",
    "print(features)"
   ]
  },
  {
   "cell_type": "code",
   "execution_count": 12,
   "metadata": {},
   "outputs": [],
   "source": [
    "features_cat = features\n",
    "for col in features_num:\n",
    "    features_cat.pop(features_cat.index(col))"
   ]
  },
  {
   "cell_type": "code",
   "execution_count": 13,
   "metadata": {},
   "outputs": [
    {
     "name": "stdout",
     "output_type": "stream",
     "text": [
      "Categorical features: ['workclass', 'education', 'marital.status', 'occupation', 'relationship', 'race', 'sex', 'native.country']\n",
      "\n",
      "Numerical features: ['age', 'hours.per.week']\n"
     ]
    }
   ],
   "source": [
    "print(\"Categorical features: {}\\n\\nNumerical features: {}\".format(features_cat,features_num))"
   ]
  },
  {
   "cell_type": "markdown",
   "metadata": {},
   "source": [
    "#### Creating the model\n",
    "\n",
    "- Dictionary for categorical features."
   ]
  },
  {
   "cell_type": "code",
   "execution_count": 14,
   "metadata": {},
   "outputs": [],
   "source": [
    "col = 'race'\n"
   ]
  },
  {
   "cell_type": "code",
   "execution_count": 15,
   "metadata": {},
   "outputs": [],
   "source": [
    "features_cat_dict = {}\n",
    "for col in features_cat:\n",
    "    tmp = df[col].unique().tolist()\n",
    "    for val in black_vals:\n",
    "        if val in tmp:\n",
    "            tmp.pop(tmp.index(val))\n",
    "    features_cat_dict[col] = tmp"
   ]
  },
  {
   "cell_type": "code",
   "execution_count": 16,
   "metadata": {
    "scrolled": true
   },
   "outputs": [
    {
     "data": {
      "text/plain": [
       "{'workclass': ['Private',\n",
       "  'State-gov',\n",
       "  'Federal-gov',\n",
       "  'Self-emp-not-inc',\n",
       "  'Self-emp-inc',\n",
       "  'Local-gov',\n",
       "  'Without-pay',\n",
       "  'Never-worked'],\n",
       " 'education': ['HS-grad',\n",
       "  'Some-college',\n",
       "  '7th-8th',\n",
       "  '10th',\n",
       "  'Doctorate',\n",
       "  'Prof-school',\n",
       "  'Bachelors',\n",
       "  'Masters',\n",
       "  '11th',\n",
       "  'Assoc-acdm',\n",
       "  'Assoc-voc',\n",
       "  '1st-4th',\n",
       "  '5th-6th',\n",
       "  '12th',\n",
       "  '9th',\n",
       "  'Preschool'],\n",
       " 'marital.status': ['Widowed',\n",
       "  'Divorced',\n",
       "  'Separated',\n",
       "  'Never-married',\n",
       "  'Married-civ-spouse',\n",
       "  'Married-spouse-absent',\n",
       "  'Married-AF-spouse'],\n",
       " 'occupation': ['Exec-managerial',\n",
       "  'Machine-op-inspct',\n",
       "  'Prof-specialty',\n",
       "  'Other-service',\n",
       "  'Adm-clerical',\n",
       "  'Craft-repair',\n",
       "  'Transport-moving',\n",
       "  'Handlers-cleaners',\n",
       "  'Sales',\n",
       "  'Farming-fishing',\n",
       "  'Tech-support',\n",
       "  'Protective-serv',\n",
       "  'Armed-Forces',\n",
       "  'Priv-house-serv'],\n",
       " 'relationship': ['Not-in-family',\n",
       "  'Unmarried',\n",
       "  'Own-child',\n",
       "  'Other-relative',\n",
       "  'Husband',\n",
       "  'Wife'],\n",
       " 'race': ['White',\n",
       "  'Black',\n",
       "  'Asian-Pac-Islander',\n",
       "  'Other',\n",
       "  'Amer-Indian-Eskimo'],\n",
       " 'sex': ['Female', 'Male'],\n",
       " 'native.country': ['United-States',\n",
       "  'Mexico',\n",
       "  'Greece',\n",
       "  'Vietnam',\n",
       "  'China',\n",
       "  'Taiwan',\n",
       "  'India',\n",
       "  'Philippines',\n",
       "  'Trinadad&Tobago',\n",
       "  'Canada',\n",
       "  'South',\n",
       "  'Holand-Netherlands',\n",
       "  'Puerto-Rico',\n",
       "  'Poland',\n",
       "  'Iran',\n",
       "  'England',\n",
       "  'Germany',\n",
       "  'Italy',\n",
       "  'Japan',\n",
       "  'Hong',\n",
       "  'Honduras',\n",
       "  'Cuba',\n",
       "  'Ireland',\n",
       "  'Cambodia',\n",
       "  'Peru',\n",
       "  'Nicaragua',\n",
       "  'Dominican-Republic',\n",
       "  'Haiti',\n",
       "  'El-Salvador',\n",
       "  'Hungary',\n",
       "  'Columbia',\n",
       "  'Guatemala',\n",
       "  'Jamaica',\n",
       "  'Ecuador',\n",
       "  'France',\n",
       "  'Yugoslavia',\n",
       "  'Scotland',\n",
       "  'Portugal',\n",
       "  'Laos',\n",
       "  'Thailand',\n",
       "  'Outlying-US(Guam-USVI-etc)']}"
      ]
     },
     "execution_count": 16,
     "metadata": {},
     "output_type": "execute_result"
    }
   ],
   "source": [
    "features_cat_dict"
   ]
  },
  {
   "cell_type": "markdown",
   "metadata": {},
   "source": [
    "- Get randomly sample dataset and some categories:"
   ]
  },
  {
   "cell_type": "code",
   "execution_count": 150,
   "metadata": {},
   "outputs": [
    {
     "data": {
      "text/html": [
       "<div>\n",
       "<style scoped>\n",
       "    .dataframe tbody tr th:only-of-type {\n",
       "        vertical-align: middle;\n",
       "    }\n",
       "\n",
       "    .dataframe tbody tr th {\n",
       "        vertical-align: top;\n",
       "    }\n",
       "\n",
       "    .dataframe thead th {\n",
       "        text-align: right;\n",
       "    }\n",
       "</style>\n",
       "<table border=\"1\" class=\"dataframe\">\n",
       "  <thead>\n",
       "    <tr style=\"text-align: right;\">\n",
       "      <th></th>\n",
       "      <th>age</th>\n",
       "      <th>workclass</th>\n",
       "      <th>fnlwgt</th>\n",
       "      <th>education</th>\n",
       "      <th>education.num</th>\n",
       "      <th>marital.status</th>\n",
       "      <th>occupation</th>\n",
       "      <th>relationship</th>\n",
       "      <th>race</th>\n",
       "      <th>sex</th>\n",
       "      <th>capital.gain</th>\n",
       "      <th>capital.loss</th>\n",
       "      <th>hours.per.week</th>\n",
       "      <th>native.country</th>\n",
       "      <th>income</th>\n",
       "    </tr>\n",
       "  </thead>\n",
       "  <tbody>\n",
       "    <tr>\n",
       "      <td>22361</td>\n",
       "      <td>65</td>\n",
       "      <td>?</td>\n",
       "      <td>117162</td>\n",
       "      <td>Assoc-voc</td>\n",
       "      <td>11</td>\n",
       "      <td>Married-civ-spouse</td>\n",
       "      <td>?</td>\n",
       "      <td>Wife</td>\n",
       "      <td>White</td>\n",
       "      <td>Female</td>\n",
       "      <td>0</td>\n",
       "      <td>0</td>\n",
       "      <td>56</td>\n",
       "      <td>United-States</td>\n",
       "      <td>&gt;50K</td>\n",
       "    </tr>\n",
       "  </tbody>\n",
       "</table>\n",
       "</div>"
      ],
      "text/plain": [
       "       age workclass  fnlwgt  education  education.num      marital.status  \\\n",
       "22361   65         ?  117162  Assoc-voc             11  Married-civ-spouse   \n",
       "\n",
       "      occupation relationship   race     sex  capital.gain  capital.loss  \\\n",
       "22361          ?         Wife  White  Female             0             0   \n",
       "\n",
       "       hours.per.week native.country income  \n",
       "22361              56  United-States   >50K  "
      ]
     },
     "execution_count": 150,
     "metadata": {},
     "output_type": "execute_result"
    }
   ],
   "source": [
    "some_cats = ['education','age','marital.status','sex']\n",
    "\n",
    "df_tmp = df.sample()\n",
    "df_tmp"
   ]
  },
  {
   "cell_type": "code",
   "execution_count": 42,
   "metadata": {
    "scrolled": true
   },
   "outputs": [
    {
     "data": {
      "text/html": [
       "<div>\n",
       "<style scoped>\n",
       "    .dataframe tbody tr th:only-of-type {\n",
       "        vertical-align: middle;\n",
       "    }\n",
       "\n",
       "    .dataframe tbody tr th {\n",
       "        vertical-align: top;\n",
       "    }\n",
       "\n",
       "    .dataframe thead th {\n",
       "        text-align: right;\n",
       "    }\n",
       "</style>\n",
       "<table border=\"1\" class=\"dataframe\">\n",
       "  <thead>\n",
       "    <tr style=\"text-align: right;\">\n",
       "      <th></th>\n",
       "      <th>age</th>\n",
       "      <th>workclass</th>\n",
       "      <th>fnlwgt</th>\n",
       "      <th>education</th>\n",
       "      <th>education.num</th>\n",
       "      <th>marital.status</th>\n",
       "      <th>occupation</th>\n",
       "      <th>relationship</th>\n",
       "      <th>race</th>\n",
       "      <th>sex</th>\n",
       "      <th>capital.gain</th>\n",
       "      <th>capital.loss</th>\n",
       "      <th>hours.per.week</th>\n",
       "      <th>native.country</th>\n",
       "      <th>income</th>\n",
       "    </tr>\n",
       "  </thead>\n",
       "  <tbody>\n",
       "    <tr>\n",
       "      <td>309</td>\n",
       "      <td>23</td>\n",
       "      <td>Private</td>\n",
       "      <td>213955</td>\n",
       "      <td>HS-grad</td>\n",
       "      <td>9</td>\n",
       "      <td>Never-married</td>\n",
       "      <td>Adm-clerical</td>\n",
       "      <td>Own-child</td>\n",
       "      <td>Black</td>\n",
       "      <td>Male</td>\n",
       "      <td>0</td>\n",
       "      <td>2001</td>\n",
       "      <td>40</td>\n",
       "      <td>United-States</td>\n",
       "      <td>&lt;=50K</td>\n",
       "    </tr>\n",
       "    <tr>\n",
       "      <td>1160</td>\n",
       "      <td>23</td>\n",
       "      <td>Private</td>\n",
       "      <td>435835</td>\n",
       "      <td>HS-grad</td>\n",
       "      <td>9</td>\n",
       "      <td>Never-married</td>\n",
       "      <td>Sales</td>\n",
       "      <td>Not-in-family</td>\n",
       "      <td>White</td>\n",
       "      <td>Male</td>\n",
       "      <td>0</td>\n",
       "      <td>1669</td>\n",
       "      <td>55</td>\n",
       "      <td>United-States</td>\n",
       "      <td>&lt;=50K</td>\n",
       "    </tr>\n",
       "    <tr>\n",
       "      <td>1286</td>\n",
       "      <td>23</td>\n",
       "      <td>Private</td>\n",
       "      <td>220993</td>\n",
       "      <td>HS-grad</td>\n",
       "      <td>9</td>\n",
       "      <td>Never-married</td>\n",
       "      <td>Sales</td>\n",
       "      <td>Not-in-family</td>\n",
       "      <td>White</td>\n",
       "      <td>Male</td>\n",
       "      <td>0</td>\n",
       "      <td>1590</td>\n",
       "      <td>48</td>\n",
       "      <td>United-States</td>\n",
       "      <td>&lt;=50K</td>\n",
       "    </tr>\n",
       "    <tr>\n",
       "      <td>3881</td>\n",
       "      <td>23</td>\n",
       "      <td>Private</td>\n",
       "      <td>160951</td>\n",
       "      <td>HS-grad</td>\n",
       "      <td>9</td>\n",
       "      <td>Never-married</td>\n",
       "      <td>Craft-repair</td>\n",
       "      <td>Own-child</td>\n",
       "      <td>Black</td>\n",
       "      <td>Male</td>\n",
       "      <td>2597</td>\n",
       "      <td>0</td>\n",
       "      <td>40</td>\n",
       "      <td>United-States</td>\n",
       "      <td>&lt;=50K</td>\n",
       "    </tr>\n",
       "    <tr>\n",
       "      <td>4437</td>\n",
       "      <td>23</td>\n",
       "      <td>Private</td>\n",
       "      <td>115458</td>\n",
       "      <td>HS-grad</td>\n",
       "      <td>9</td>\n",
       "      <td>Never-married</td>\n",
       "      <td>Transport-moving</td>\n",
       "      <td>Own-child</td>\n",
       "      <td>White</td>\n",
       "      <td>Male</td>\n",
       "      <td>0</td>\n",
       "      <td>0</td>\n",
       "      <td>40</td>\n",
       "      <td>United-States</td>\n",
       "      <td>&lt;=50K</td>\n",
       "    </tr>\n",
       "    <tr>\n",
       "      <td>...</td>\n",
       "      <td>...</td>\n",
       "      <td>...</td>\n",
       "      <td>...</td>\n",
       "      <td>...</td>\n",
       "      <td>...</td>\n",
       "      <td>...</td>\n",
       "      <td>...</td>\n",
       "      <td>...</td>\n",
       "      <td>...</td>\n",
       "      <td>...</td>\n",
       "      <td>...</td>\n",
       "      <td>...</td>\n",
       "      <td>...</td>\n",
       "      <td>...</td>\n",
       "      <td>...</td>\n",
       "    </tr>\n",
       "    <tr>\n",
       "      <td>30717</td>\n",
       "      <td>23</td>\n",
       "      <td>Private</td>\n",
       "      <td>236994</td>\n",
       "      <td>HS-grad</td>\n",
       "      <td>9</td>\n",
       "      <td>Never-married</td>\n",
       "      <td>Sales</td>\n",
       "      <td>Own-child</td>\n",
       "      <td>White</td>\n",
       "      <td>Male</td>\n",
       "      <td>0</td>\n",
       "      <td>0</td>\n",
       "      <td>60</td>\n",
       "      <td>United-States</td>\n",
       "      <td>&lt;=50K</td>\n",
       "    </tr>\n",
       "    <tr>\n",
       "      <td>30956</td>\n",
       "      <td>23</td>\n",
       "      <td>Private</td>\n",
       "      <td>376383</td>\n",
       "      <td>HS-grad</td>\n",
       "      <td>9</td>\n",
       "      <td>Never-married</td>\n",
       "      <td>Other-service</td>\n",
       "      <td>Unmarried</td>\n",
       "      <td>White</td>\n",
       "      <td>Male</td>\n",
       "      <td>0</td>\n",
       "      <td>0</td>\n",
       "      <td>35</td>\n",
       "      <td>Mexico</td>\n",
       "      <td>&lt;=50K</td>\n",
       "    </tr>\n",
       "    <tr>\n",
       "      <td>31212</td>\n",
       "      <td>23</td>\n",
       "      <td>Private</td>\n",
       "      <td>234302</td>\n",
       "      <td>HS-grad</td>\n",
       "      <td>9</td>\n",
       "      <td>Never-married</td>\n",
       "      <td>Handlers-cleaners</td>\n",
       "      <td>Not-in-family</td>\n",
       "      <td>Black</td>\n",
       "      <td>Male</td>\n",
       "      <td>0</td>\n",
       "      <td>0</td>\n",
       "      <td>40</td>\n",
       "      <td>United-States</td>\n",
       "      <td>&lt;=50K</td>\n",
       "    </tr>\n",
       "    <tr>\n",
       "      <td>31357</td>\n",
       "      <td>23</td>\n",
       "      <td>Private</td>\n",
       "      <td>60331</td>\n",
       "      <td>HS-grad</td>\n",
       "      <td>9</td>\n",
       "      <td>Never-married</td>\n",
       "      <td>Machine-op-inspct</td>\n",
       "      <td>Own-child</td>\n",
       "      <td>White</td>\n",
       "      <td>Male</td>\n",
       "      <td>0</td>\n",
       "      <td>0</td>\n",
       "      <td>40</td>\n",
       "      <td>United-States</td>\n",
       "      <td>&lt;=50K</td>\n",
       "    </tr>\n",
       "    <tr>\n",
       "      <td>32340</td>\n",
       "      <td>23</td>\n",
       "      <td>Federal-gov</td>\n",
       "      <td>173851</td>\n",
       "      <td>HS-grad</td>\n",
       "      <td>9</td>\n",
       "      <td>Never-married</td>\n",
       "      <td>Armed-Forces</td>\n",
       "      <td>Not-in-family</td>\n",
       "      <td>White</td>\n",
       "      <td>Male</td>\n",
       "      <td>0</td>\n",
       "      <td>0</td>\n",
       "      <td>8</td>\n",
       "      <td>United-States</td>\n",
       "      <td>&lt;=50K</td>\n",
       "    </tr>\n",
       "  </tbody>\n",
       "</table>\n",
       "<p>123 rows × 15 columns</p>\n",
       "</div>"
      ],
      "text/plain": [
       "       age    workclass  fnlwgt education  education.num marital.status  \\\n",
       "309     23      Private  213955   HS-grad              9  Never-married   \n",
       "1160    23      Private  435835   HS-grad              9  Never-married   \n",
       "1286    23      Private  220993   HS-grad              9  Never-married   \n",
       "3881    23      Private  160951   HS-grad              9  Never-married   \n",
       "4437    23      Private  115458   HS-grad              9  Never-married   \n",
       "...    ...          ...     ...       ...            ...            ...   \n",
       "30717   23      Private  236994   HS-grad              9  Never-married   \n",
       "30956   23      Private  376383   HS-grad              9  Never-married   \n",
       "31212   23      Private  234302   HS-grad              9  Never-married   \n",
       "31357   23      Private   60331   HS-grad              9  Never-married   \n",
       "32340   23  Federal-gov  173851   HS-grad              9  Never-married   \n",
       "\n",
       "              occupation   relationship   race   sex  capital.gain  \\\n",
       "309         Adm-clerical      Own-child  Black  Male             0   \n",
       "1160               Sales  Not-in-family  White  Male             0   \n",
       "1286               Sales  Not-in-family  White  Male             0   \n",
       "3881        Craft-repair      Own-child  Black  Male          2597   \n",
       "4437    Transport-moving      Own-child  White  Male             0   \n",
       "...                  ...            ...    ...   ...           ...   \n",
       "30717              Sales      Own-child  White  Male             0   \n",
       "30956      Other-service      Unmarried  White  Male             0   \n",
       "31212  Handlers-cleaners  Not-in-family  Black  Male             0   \n",
       "31357  Machine-op-inspct      Own-child  White  Male             0   \n",
       "32340       Armed-Forces  Not-in-family  White  Male             0   \n",
       "\n",
       "       capital.loss  hours.per.week native.country income  \n",
       "309            2001              40  United-States  <=50K  \n",
       "1160           1669              55  United-States  <=50K  \n",
       "1286           1590              48  United-States  <=50K  \n",
       "3881              0              40  United-States  <=50K  \n",
       "4437              0              40  United-States  <=50K  \n",
       "...             ...             ...            ...    ...  \n",
       "30717             0              60  United-States  <=50K  \n",
       "30956             0              35         Mexico  <=50K  \n",
       "31212             0              40  United-States  <=50K  \n",
       "31357             0              40  United-States  <=50K  \n",
       "32340             0               8  United-States  <=50K  \n",
       "\n",
       "[123 rows x 15 columns]"
      ]
     },
     "execution_count": 42,
     "metadata": {},
     "output_type": "execute_result"
    }
   ],
   "source": [
    "cond = (df[some_cats[0]] == df_tmp[some_cats[0]].values.tolist()[0])\n",
    "for col in some_cats[1:]:\n",
    "    cond = (cond & (df[col] == df_tmp[col].values.tolist()[0]))\n",
    "df_pop = df.loc[cond]\n",
    "df_pop"
   ]
  },
  {
   "cell_type": "code",
   "execution_count": 19,
   "metadata": {},
   "outputs": [
    {
     "name": "stdout",
     "output_type": "stream",
     "text": [
      "       education  age      marital.status   sex\n",
      "18738  Doctorate   34  Married-civ-spouse  Male\n",
      "P(target) = 85.71%, with 7/32,561 (0.0215%) of the entire dataset.\n"
     ]
    }
   ],
   "source": [
    "target_val = '>50K'\n",
    "tg_vals = ((df_pop[target] == '>50K')*1).values.tolist()\n",
    "N = len(df)\n",
    "n = len(tg_vals)\n",
    "p = 100*sum(tg_vals)/n\n",
    "s = 100*n/N\n",
    "print(df_tmp)\n",
    "print(\"P(target) = {:.2f}%, with {:,}/{:,} ({:.4f}%) of the entire dataset.\".format(p,n,N,s))"
   ]
  },
  {
   "cell_type": "markdown",
   "metadata": {},
   "source": [
    "# Done!!"
   ]
  },
  {
   "cell_type": "code",
   "execution_count": 22,
   "metadata": {},
   "outputs": [
    {
     "data": {
      "text/plain": [
       "['age', 'hours.per.week']"
      ]
     },
     "execution_count": 22,
     "metadata": {},
     "output_type": "execute_result"
    }
   ],
   "source": [
    "features_num"
   ]
  },
  {
   "cell_type": "code",
   "execution_count": 23,
   "metadata": {},
   "outputs": [
    {
     "data": {
      "text/plain": [
       "['workclass',\n",
       " 'education',\n",
       " 'marital.status',\n",
       " 'occupation',\n",
       " 'relationship',\n",
       " 'race',\n",
       " 'sex',\n",
       " 'native.country']"
      ]
     },
     "execution_count": 23,
     "metadata": {},
     "output_type": "execute_result"
    }
   ],
   "source": [
    "features_cat"
   ]
  },
  {
   "cell_type": "code",
   "execution_count": 28,
   "metadata": {},
   "outputs": [],
   "source": [
    "features = []\n",
    "features.extend(features_cat)\n",
    "features.extend(features_num)\n",
    "features_label = {}\n",
    "for feat in features:\n",
    "    features_label[feat] = \" \".join(feat.split('.')).capitalize()"
   ]
  },
  {
   "cell_type": "code",
   "execution_count": 29,
   "metadata": {},
   "outputs": [
    {
     "data": {
      "text/plain": [
       "{'workclass': 'Workclass',\n",
       " 'education': 'Education',\n",
       " 'marital.status': 'Marital status',\n",
       " 'occupation': 'Occupation',\n",
       " 'relationship': 'Relationship',\n",
       " 'race': 'Race',\n",
       " 'sex': 'Sex',\n",
       " 'native.country': 'Native country',\n",
       " 'age': 'Age',\n",
       " 'hours.per.week': 'Hours per week'}"
      ]
     },
     "execution_count": 29,
     "metadata": {},
     "output_type": "execute_result"
    }
   ],
   "source": [
    "features_label"
   ]
  },
  {
   "cell_type": "code",
   "execution_count": 37,
   "metadata": {},
   "outputs": [
    {
     "data": {
      "text/plain": [
       "['Workclass',\n",
       " 'Education',\n",
       " 'Marital status',\n",
       " 'Occupation',\n",
       " 'Relationship',\n",
       " 'Race',\n",
       " 'Sex',\n",
       " 'Native country',\n",
       " 'Age',\n",
       " 'Hours per week']"
      ]
     },
     "execution_count": 37,
     "metadata": {},
     "output_type": "execute_result"
    }
   ],
   "source": [
    "list(features_label.values())"
   ]
  },
  {
   "cell_type": "code",
   "execution_count": 39,
   "metadata": {},
   "outputs": [],
   "source": [
    "features_label.get('Age')"
   ]
  },
  {
   "cell_type": "code",
   "execution_count": 159,
   "metadata": {},
   "outputs": [
    {
     "data": {
      "text/plain": [
       "False"
      ]
     },
     "execution_count": 159,
     "metadata": {},
     "output_type": "execute_result"
    }
   ],
   "source": [
    "not '?' in df_tmp.values.tolist()[0]"
   ]
  },
  {
   "cell_type": "code",
   "execution_count": 160,
   "metadata": {},
   "outputs": [],
   "source": [
    "import random"
   ]
  },
  {
   "cell_type": "code",
   "execution_count": 200,
   "metadata": {},
   "outputs": [
    {
     "data": {
      "text/plain": [
       "['Native country', 'Occupation', 'Race']"
      ]
     },
     "execution_count": 200,
     "metadata": {},
     "output_type": "execute_result"
    }
   ],
   "source": [
    "random.choices(,k=3)"
   ]
  },
  {
   "cell_type": "code",
   "execution_count": 331,
   "metadata": {},
   "outputs": [
    {
     "data": {
      "text/plain": [
       "2"
      ]
     },
     "execution_count": 331,
     "metadata": {},
     "output_type": "execute_result"
    }
   ],
   "source": [
    "random.randint(1,9)"
   ]
  },
  {
   "cell_type": "code",
   "execution_count": 388,
   "metadata": {},
   "outputs": [
    {
     "data": {
      "text/plain": [
       "'native.country'"
      ]
     },
     "execution_count": 388,
     "metadata": {},
     "output_type": "execute_result"
    }
   ],
   "source": [
    "random.choice(list(features_label.keys()))"
   ]
  },
  {
   "cell_type": "code",
   "execution_count": 476,
   "metadata": {},
   "outputs": [
    {
     "name": "stdout",
     "output_type": "stream",
     "text": [
      "['native.country']\n"
     ]
    }
   ],
   "source": [
    "tmp = list(features_label.keys())\n",
    "random.shuffle(tmp)\n",
    "print(tmp[:random.randint(1,len(tmp))])"
   ]
  },
  {
   "cell_type": "code",
   "execution_count": 484,
   "metadata": {},
   "outputs": [
    {
     "data": {
      "text/html": [
       "<div>\n",
       "<style scoped>\n",
       "    .dataframe tbody tr th:only-of-type {\n",
       "        vertical-align: middle;\n",
       "    }\n",
       "\n",
       "    .dataframe tbody tr th {\n",
       "        vertical-align: top;\n",
       "    }\n",
       "\n",
       "    .dataframe thead th {\n",
       "        text-align: right;\n",
       "    }\n",
       "</style>\n",
       "<table border=\"1\" class=\"dataframe\">\n",
       "  <thead>\n",
       "    <tr style=\"text-align: right;\">\n",
       "      <th></th>\n",
       "      <th>Char.</th>\n",
       "      <th>Value</th>\n",
       "    </tr>\n",
       "  </thead>\n",
       "  <tbody>\n",
       "    <tr>\n",
       "      <td>0</td>\n",
       "      <td>workclass</td>\n",
       "      <td>Workclass</td>\n",
       "    </tr>\n",
       "    <tr>\n",
       "      <td>1</td>\n",
       "      <td>education</td>\n",
       "      <td>Education</td>\n",
       "    </tr>\n",
       "    <tr>\n",
       "      <td>2</td>\n",
       "      <td>marital.status</td>\n",
       "      <td>Marital status</td>\n",
       "    </tr>\n",
       "    <tr>\n",
       "      <td>3</td>\n",
       "      <td>occupation</td>\n",
       "      <td>Occupation</td>\n",
       "    </tr>\n",
       "    <tr>\n",
       "      <td>4</td>\n",
       "      <td>relationship</td>\n",
       "      <td>Relationship</td>\n",
       "    </tr>\n",
       "    <tr>\n",
       "      <td>5</td>\n",
       "      <td>race</td>\n",
       "      <td>Race</td>\n",
       "    </tr>\n",
       "    <tr>\n",
       "      <td>6</td>\n",
       "      <td>sex</td>\n",
       "      <td>Sex</td>\n",
       "    </tr>\n",
       "    <tr>\n",
       "      <td>7</td>\n",
       "      <td>native.country</td>\n",
       "      <td>Native country</td>\n",
       "    </tr>\n",
       "    <tr>\n",
       "      <td>8</td>\n",
       "      <td>age</td>\n",
       "      <td>Age</td>\n",
       "    </tr>\n",
       "    <tr>\n",
       "      <td>9</td>\n",
       "      <td>hours.per.week</td>\n",
       "      <td>Hours per week</td>\n",
       "    </tr>\n",
       "  </tbody>\n",
       "</table>\n",
       "</div>"
      ],
      "text/plain": [
       "            Char.           Value\n",
       "0       workclass       Workclass\n",
       "1       education       Education\n",
       "2  marital.status  Marital status\n",
       "3      occupation      Occupation\n",
       "4    relationship    Relationship\n",
       "5            race            Race\n",
       "6             sex             Sex\n",
       "7  native.country  Native country\n",
       "8             age             Age\n",
       "9  hours.per.week  Hours per week"
      ]
     },
     "execution_count": 484,
     "metadata": {},
     "output_type": "execute_result"
    }
   ],
   "source": [
    "pd.DataFrame([(key,val) for key,val in features_label.items()],columns=['Char.','Value'])\n",
    "    "
   ]
  },
  {
   "cell_type": "code",
   "execution_count": 486,
   "metadata": {},
   "outputs": [
    {
     "data": {
      "text/plain": [
       "['workclass',\n",
       " 'education',\n",
       " 'marital.status',\n",
       " 'occupation',\n",
       " 'relationship',\n",
       " 'race',\n",
       " 'sex',\n",
       " 'native.country',\n",
       " 'age',\n",
       " 'hours.per.week']"
      ]
     },
     "execution_count": 486,
     "metadata": {},
     "output_type": "execute_result"
    }
   ],
   "source": [
    "list(features_label.keys())"
   ]
  },
  {
   "cell_type": "code",
   "execution_count": 487,
   "metadata": {},
   "outputs": [],
   "source": [
    "import matplotlib.pyplot as plt"
   ]
  },
  {
   "cell_type": "code",
   "execution_count": 494,
   "metadata": {},
   "outputs": [
    {
     "data": {
      "image/png": "[encoded data removed]",
      "text/plain": [
       "<Figure size 432x288 with 1 Axes>"
      ]
     },
     "metadata": {},
     "output_type": "display_data"
    }
   ],
   "source": [
    "s = 70.32\n",
    "# Pie chart, where the slices will be ordered and plotted counter-clockwise:\n",
    "labels = ['Rich', 'Not Rich']\n",
    "colors = ['blue', 'coral']\n",
    "sizes = [s, 100-s]\n",
    "\n",
    "fig1, ax1 = plt.subplots()\n",
    "ax1.pie(sizes, labels=labels, autopct='%0.1f%%', colors=colors,\n",
    "        shadow=True, startangle=90)\n",
    "ax1.axis('equal')  # Equal aspect ratio ensures that pie is drawn as a circle.\n",
    "plt.legend()\n",
    "\n",
    "plt.show()"
   ]
  },
  {
   "cell_type": "markdown",
   "metadata": {},
   "source": [
    "\n",
    "# Demonstration and experiments with Streamlit\n",
    "\n",
    "\n",
    " - **PoC_Adult_Census_Income_Probability.ipynb:** PoC for product engine.\n",
    " - **Prototype_Adult_Census_Income_Probability.py:** Product's prototype.\n",
    " - **set_config.sh:** to configure better the Streamlit, working for external access.\n",
    " - **Others \\*.py:** only experiments.\n",
    " - **\\*.toml:** config file for Streamlit."
   ]
  },
  {
   "cell_type": "code",
   "execution_count": null,
   "metadata": {},
   "outputs": [],
   "source": []
  }
 ],
 "metadata": {
  "kernel_info": {
   "name": "python3"
  },
  "kernelspec": {
   "display_name": "Python 3",
   "language": "python",
   "name": "python3"
  },
  "language_info": {
   "codemirror_mode": {
    "name": "ipython",
    "version": 3
   },
   "file_extension": ".py",
   "mimetype": "text/x-python",
   "name": "python",
   "nbconvert_exporter": "python",
   "pygments_lexer": "ipython3",
   "version": "3.7.9"
  },
  "nteract": {
   "version": "0.15.0"
  }
 },
 "nbformat": 4,
 "nbformat_minor": 4
}
