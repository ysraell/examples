{
 "cells": [
  {
   "cell_type": "markdown",
   "metadata": {},
   "source": [
    "# Template \n",
    "\n",
    "- Author: Israel Oliveira [\\[e-mail\\]](mailto:'Israel%20Oliveira%20'<israel.oliveira@softplan.com.br>)"
   ]
  },
  {
   "cell_type": "code",
   "execution_count": 1,
   "metadata": {
    "execution": {
     "iopub.execute_input": "2021-07-01T17:14:36.777461Z",
     "iopub.status.busy": "2021-07-01T17:14:36.775923Z",
     "iopub.status.idle": "2021-07-01T17:14:36.825453Z",
     "shell.execute_reply": "2021-07-01T17:14:36.824583Z",
     "shell.execute_reply.started": "2021-07-01T17:14:36.777331Z"
    }
   },
   "outputs": [],
   "source": [
    "%load_ext watermark"
   ]
  },
  {
   "cell_type": "code",
   "execution_count": 2,
   "metadata": {
    "execution": {
     "iopub.execute_input": "2021-07-01T17:14:37.254132Z",
     "iopub.status.busy": "2021-07-01T17:14:37.251277Z",
     "iopub.status.idle": "2021-07-01T17:14:37.351476Z",
     "shell.execute_reply": "2021-07-01T17:14:37.350078Z",
     "shell.execute_reply.started": "2021-07-01T17:14:37.253954Z"
    }
   },
   "outputs": [],
   "source": [
    "from unittest.mock import Mock"
   ]
  },
  {
   "cell_type": "code",
   "execution_count": 3,
   "metadata": {
    "execution": {
     "iopub.execute_input": "2021-07-01T17:14:40.039475Z",
     "iopub.status.busy": "2021-07-01T17:14:40.037312Z",
     "iopub.status.idle": "2021-07-01T17:14:40.060042Z",
     "shell.execute_reply": "2021-07-01T17:14:40.055337Z",
     "shell.execute_reply.started": "2021-07-01T17:14:40.039348Z"
    }
   },
   "outputs": [],
   "source": [
    "# from tqdm import tqdm\n",
    "\n",
    "# from glob import glob\n",
    "\n",
    "# import matplotlib.pyplot as plt\n",
    "# %matplotlib inline\n",
    "# from IPython.core.pylabtools import figsize\n",
    "# figsize(12, 8)\n",
    "\n",
    "# import seaborn as sns\n",
    "# sns.set_theme()\n",
    "\n",
    "# pd.set_option(\"max_columns\", None)\n",
    "# pd.set_option(\"max_rows\", None)\n",
    "# pd.set_option('display.max_colwidth', None)\n",
    "\n",
    "# from IPython.display import Markdown, display\n",
    "# def md(arg):\n",
    "#     display(Markdown(arg))\n",
    "\n",
    "# from pandas_profiling import ProfileReport\n",
    "# #report = ProfileReport(#DataFrame here#, minimal=True)\n",
    "# #report.to\n",
    "\n",
    "# import pyarrow.parquet as pq\n",
    "# #df = pq.ParquetDataset(path_to_folder_with_parquets, filesystem=None).read_pandas().to_pandas()\n",
    "\n",
    "# import json\n",
    "# def open_file_json(path,mode='r',var=None):\n",
    "#     if mode == 'w':\n",
    "#         with open(path,'w') as f:\n",
    "#             json.dump(var, f)\n",
    "#     if mode == 'r':\n",
    "#         with open(path,'r') as f:\n",
    "#             return json.load(f)\n",
    "\n",
    "# import functools\n",
    "# import operator\n",
    "# def flat(a):\n",
    "#     return functools.reduce(operator.iconcat, a, [])"
   ]
  },
  {
   "cell_type": "code",
   "execution_count": 4,
   "metadata": {
    "execution": {
     "iopub.execute_input": "2021-07-01T17:14:40.593832Z",
     "iopub.status.busy": "2021-07-01T17:14:40.592052Z",
     "iopub.status.idle": "2021-07-01T17:14:41.920285Z",
     "shell.execute_reply": "2021-07-01T17:14:41.919479Z",
     "shell.execute_reply.started": "2021-07-01T17:14:40.593687Z"
    }
   },
   "outputs": [
    {
     "name": "stdout",
     "output_type": "stream",
     "text": [
      "Python implementation: CPython\n",
      "Python version       : 3.8.11\n",
      "IPython version      : 7.25.0\n",
      "\n",
      "Compiler    : GCC 8.3.0\n",
      "OS          : Linux\n",
      "Release     : 5.11.0-7614-generic\n",
      "Machine     : x86_64\n",
      "Processor   : \n",
      "CPU cores   : 4\n",
      "Architecture: 64bit\n",
      "\n",
      "Git hash: 346931c9097044232349d6c6a04b7f43e5435312\n",
      "\n",
      "Git repo: http://github.com/ysraell/examples\n",
      "\n",
      "Git branch: master\n",
      "\n",
      "numpy     : 1.19.5\n",
      "sys       : 3.8.11 (default, Jun 29 2021, 19:54:56) \n",
      "[GCC 8.3.0]\n",
      "json      : 2.0.9\n",
      "ipywidgets: 7.6.3\n",
      "pandas    : 1.2.5\n",
      "\n",
      "CPU\t: Intel(R) Core(TM) i7-7500U CPU @ 2.70GHz\n",
      "Mem:           15G\n",
      "Swap:         4.0G\n"
     ]
    }
   ],
   "source": [
    "# Run this cell before close.\n",
    "%watermark -d --iversion -b -r -g -m -v\n",
    "!cat /proc/cpuinfo |grep 'model name'|head -n 1 |sed -e 's/model\\ name/CPU/'\n",
    "!free -h |cut -d'i' -f1  |grep -v total"
   ]
  },
  {
   "cell_type": "code",
   "execution_count": 5,
   "metadata": {
    "execution": {
     "iopub.execute_input": "2021-07-01T17:18:44.783094Z",
     "iopub.status.busy": "2021-07-01T17:18:44.780323Z",
     "iopub.status.idle": "2021-07-01T17:18:44.810908Z",
     "shell.execute_reply": "2021-07-01T17:18:44.805871Z",
     "shell.execute_reply.started": "2021-07-01T17:18:44.782894Z"
    }
   },
   "outputs": [
    {
     "data": {
      "text/plain": [
       "<Mock id='140201624632000'>"
      ]
     },
     "execution_count": 5,
     "metadata": {},
     "output_type": "execute_result"
    }
   ],
   "source": [
    "mock = Mock()\n",
    "mock"
   ]
  },
  {
   "cell_type": "code",
   "execution_count": 6,
   "metadata": {
    "execution": {
     "iopub.execute_input": "2021-07-01T17:19:24.343631Z",
     "iopub.status.busy": "2021-07-01T17:19:24.341780Z",
     "iopub.status.idle": "2021-07-01T17:19:24.391792Z",
     "shell.execute_reply": "2021-07-01T17:19:24.380466Z",
     "shell.execute_reply.started": "2021-07-01T17:19:24.343459Z"
    }
   },
   "outputs": [
    {
     "data": {
      "text/plain": [
       "<Mock name='mock.some_attribute' id='140200549620800'>"
      ]
     },
     "execution_count": 6,
     "metadata": {},
     "output_type": "execute_result"
    }
   ],
   "source": [
    "mock.some_attribute"
   ]
  },
  {
   "cell_type": "code",
   "execution_count": 12,
   "metadata": {
    "execution": {
     "iopub.execute_input": "2021-07-01T17:20:47.102425Z",
     "iopub.status.busy": "2021-07-01T17:20:47.101375Z",
     "iopub.status.idle": "2021-07-01T17:20:47.127324Z",
     "shell.execute_reply": "2021-07-01T17:20:47.120455Z",
     "shell.execute_reply.started": "2021-07-01T17:20:47.102324Z"
    }
   },
   "outputs": [
    {
     "data": {
      "text/plain": [
       "<Mock name='mock.do_something()' id='140200549556720'>"
      ]
     },
     "execution_count": 12,
     "metadata": {},
     "output_type": "execute_result"
    }
   ],
   "source": [
    "mock.do_something()"
   ]
  },
  {
   "cell_type": "code",
   "execution_count": 13,
   "metadata": {
    "execution": {
     "iopub.execute_input": "2021-07-01T17:21:05.280156Z",
     "iopub.status.busy": "2021-07-01T17:21:05.278225Z",
     "iopub.status.idle": "2021-07-01T17:21:05.303658Z",
     "shell.execute_reply": "2021-07-01T17:21:05.296775Z",
     "shell.execute_reply.started": "2021-07-01T17:21:05.280003Z"
    }
   },
   "outputs": [],
   "source": [
    "json = Mock()"
   ]
  },
  {
   "cell_type": "code",
   "execution_count": 14,
   "metadata": {
    "execution": {
     "iopub.execute_input": "2021-07-01T17:21:15.897529Z",
     "iopub.status.busy": "2021-07-01T17:21:15.896203Z",
     "iopub.status.idle": "2021-07-01T17:21:15.914311Z",
     "shell.execute_reply": "2021-07-01T17:21:15.910370Z",
     "shell.execute_reply.started": "2021-07-01T17:21:15.897408Z"
    }
   },
   "outputs": [],
   "source": [
    "dumped = json.dumps()"
   ]
  },
  {
   "cell_type": "code",
   "execution_count": 16,
   "metadata": {
    "execution": {
     "iopub.execute_input": "2021-07-01T17:21:26.969106Z",
     "iopub.status.busy": "2021-07-01T17:21:26.965793Z",
     "iopub.status.idle": "2021-07-01T17:21:27.002531Z",
     "shell.execute_reply": "2021-07-01T17:21:26.993122Z",
     "shell.execute_reply.started": "2021-07-01T17:21:26.968942Z"
    }
   },
   "outputs": [
    {
     "name": "stdout",
     "output_type": "stream",
     "text": [
      "<Mock name='mock.dumps()' id='140200554985312'>\n"
     ]
    }
   ],
   "source": [
    "print(dumped)"
   ]
  },
  {
   "cell_type": "code",
   "execution_count": 17,
   "metadata": {
    "execution": {
     "iopub.execute_input": "2021-07-01T17:22:12.430509Z",
     "iopub.status.busy": "2021-07-01T17:22:12.425304Z",
     "iopub.status.idle": "2021-07-01T17:22:12.455414Z",
     "shell.execute_reply": "2021-07-01T17:22:12.452635Z",
     "shell.execute_reply.started": "2021-07-01T17:22:12.430313Z"
    }
   },
   "outputs": [
    {
     "data": {
      "text/plain": [
       "<Mock name='mock.loads().get()' id='140200550634544'>"
      ]
     },
     "execution_count": 17,
     "metadata": {},
     "output_type": "execute_result"
    }
   ],
   "source": [
    "json.loads('{\"k\": \"v\"}').get('k')"
   ]
  },
  {
   "cell_type": "code",
   "execution_count": 24,
   "metadata": {
    "execution": {
     "iopub.execute_input": "2021-07-01T17:25:27.337824Z",
     "iopub.status.busy": "2021-07-01T17:25:27.335191Z",
     "iopub.status.idle": "2021-07-01T17:25:27.373481Z",
     "shell.execute_reply": "2021-07-01T17:25:27.369769Z",
     "shell.execute_reply.started": "2021-07-01T17:25:27.337646Z"
    }
   },
   "outputs": [
    {
     "data": {
      "text/plain": [
       "<Mock name='mock.loads()' id='140200550636512'>"
      ]
     },
     "execution_count": 24,
     "metadata": {},
     "output_type": "execute_result"
    }
   ],
   "source": [
    "json = Mock()\n",
    "json.loads('{\"key\": \"value\"}')"
   ]
  },
  {
   "cell_type": "code",
   "execution_count": 25,
   "metadata": {
    "execution": {
     "iopub.execute_input": "2021-07-01T17:25:54.292329Z",
     "iopub.status.busy": "2021-07-01T17:25:54.289228Z",
     "iopub.status.idle": "2021-07-01T17:25:54.324785Z",
     "shell.execute_reply": "2021-07-01T17:25:54.314858Z",
     "shell.execute_reply.started": "2021-07-01T17:25:54.292154Z"
    }
   },
   "outputs": [],
   "source": [
    "json.loads.assert_called()"
   ]
  },
  {
   "cell_type": "code",
   "execution_count": 26,
   "metadata": {
    "execution": {
     "iopub.execute_input": "2021-07-01T17:26:18.653688Z",
     "iopub.status.busy": "2021-07-01T17:26:18.650604Z",
     "iopub.status.idle": "2021-07-01T17:26:18.686976Z",
     "shell.execute_reply": "2021-07-01T17:26:18.676137Z",
     "shell.execute_reply.started": "2021-07-01T17:26:18.653506Z"
    }
   },
   "outputs": [],
   "source": [
    "json.loads.assert_called_once()"
   ]
  },
  {
   "cell_type": "code",
   "execution_count": 27,
   "metadata": {
    "execution": {
     "iopub.execute_input": "2021-07-01T17:26:25.366992Z",
     "iopub.status.busy": "2021-07-01T17:26:25.364408Z",
     "iopub.status.idle": "2021-07-01T17:26:25.384118Z",
     "shell.execute_reply": "2021-07-01T17:26:25.380822Z",
     "shell.execute_reply.started": "2021-07-01T17:26:25.366812Z"
    }
   },
   "outputs": [],
   "source": [
    "json.loads.assert_called_with('{\"key\": \"value\"}')"
   ]
  },
  {
   "cell_type": "code",
   "execution_count": 28,
   "metadata": {
    "execution": {
     "iopub.execute_input": "2021-07-01T17:26:32.971203Z",
     "iopub.status.busy": "2021-07-01T17:26:32.968057Z",
     "iopub.status.idle": "2021-07-01T17:26:32.998330Z",
     "shell.execute_reply": "2021-07-01T17:26:32.990205Z",
     "shell.execute_reply.started": "2021-07-01T17:26:32.971015Z"
    }
   },
   "outputs": [],
   "source": [
    "json.loads.assert_called_once_with('{\"key\": \"value\"}')"
   ]
  },
  {
   "cell_type": "code",
   "execution_count": 29,
   "metadata": {
    "execution": {
     "iopub.execute_input": "2021-07-01T17:26:38.436411Z",
     "iopub.status.busy": "2021-07-01T17:26:38.433059Z",
     "iopub.status.idle": "2021-07-01T17:26:38.469131Z",
     "shell.execute_reply": "2021-07-01T17:26:38.463616Z",
     "shell.execute_reply.started": "2021-07-01T17:26:38.436215Z"
    }
   },
   "outputs": [
    {
     "data": {
      "text/plain": [
       "<Mock name='mock.loads()' id='140200550636512'>"
      ]
     },
     "execution_count": 29,
     "metadata": {},
     "output_type": "execute_result"
    }
   ],
   "source": [
    "json.loads('{\"key\": \"value\"}')"
   ]
  },
  {
   "cell_type": "code",
   "execution_count": 30,
   "metadata": {
    "execution": {
     "iopub.execute_input": "2021-07-01T17:26:47.840605Z",
     "iopub.status.busy": "2021-07-01T17:26:47.836216Z",
     "iopub.status.idle": "2021-07-01T17:26:47.921732Z",
     "shell.execute_reply": "2021-07-01T17:26:47.918673Z",
     "shell.execute_reply.started": "2021-07-01T17:26:47.840415Z"
    }
   },
   "outputs": [
    {
     "ename": "AssertionError",
     "evalue": "Expected 'loads' to have been called once. Called 2 times.\nCalls: [call('{\"key\": \"value\"}'), call('{\"key\": \"value\"}')].",
     "output_type": "error",
     "traceback": [
      "\u001b[0;31m---------------------------------------------------------------------------\u001b[0m",
      "\u001b[0;31mAssertionError\u001b[0m                            Traceback (most recent call last)",
      "\u001b[0;32m<ipython-input-30-49075abb995e>\u001b[0m in \u001b[0;36m<module>\u001b[0;34m\u001b[0m\n\u001b[0;32m----> 1\u001b[0;31m \u001b[0mjson\u001b[0m\u001b[0;34m.\u001b[0m\u001b[0mloads\u001b[0m\u001b[0;34m.\u001b[0m\u001b[0massert_called_once\u001b[0m\u001b[0;34m(\u001b[0m\u001b[0;34m)\u001b[0m\u001b[0;34m\u001b[0m\u001b[0;34m\u001b[0m\u001b[0m\n\u001b[0m",
      "\u001b[0;32m/usr/local/lib/python3.8/unittest/mock.py\u001b[0m in \u001b[0;36massert_called_once\u001b[0;34m(self)\u001b[0m\n\u001b[1;32m    890\u001b[0m                       \u001b[0mself\u001b[0m\u001b[0;34m.\u001b[0m\u001b[0mcall_count\u001b[0m\u001b[0;34m,\u001b[0m\u001b[0;34m\u001b[0m\u001b[0;34m\u001b[0m\u001b[0m\n\u001b[1;32m    891\u001b[0m                       self._calls_repr()))\n\u001b[0;32m--> 892\u001b[0;31m             \u001b[0;32mraise\u001b[0m \u001b[0mAssertionError\u001b[0m\u001b[0;34m(\u001b[0m\u001b[0mmsg\u001b[0m\u001b[0;34m)\u001b[0m\u001b[0;34m\u001b[0m\u001b[0;34m\u001b[0m\u001b[0m\n\u001b[0m\u001b[1;32m    893\u001b[0m \u001b[0;34m\u001b[0m\u001b[0m\n\u001b[1;32m    894\u001b[0m     \u001b[0;32mdef\u001b[0m \u001b[0massert_called_with\u001b[0m\u001b[0;34m(\u001b[0m\u001b[0mself\u001b[0m\u001b[0;34m,\u001b[0m \u001b[0;34m/\u001b[0m\u001b[0;34m,\u001b[0m \u001b[0;34m*\u001b[0m\u001b[0margs\u001b[0m\u001b[0;34m,\u001b[0m \u001b[0;34m**\u001b[0m\u001b[0mkwargs\u001b[0m\u001b[0;34m)\u001b[0m\u001b[0;34m:\u001b[0m\u001b[0;34m\u001b[0m\u001b[0;34m\u001b[0m\u001b[0m\n",
      "\u001b[0;31mAssertionError\u001b[0m: Expected 'loads' to have been called once. Called 2 times.\nCalls: [call('{\"key\": \"value\"}'), call('{\"key\": \"value\"}')]."
     ]
    }
   ],
   "source": [
    "json.loads.assert_called_once()"
   ]
  },
  {
   "cell_type": "code",
   "execution_count": 31,
   "metadata": {
    "execution": {
     "iopub.execute_input": "2021-07-01T17:27:25.410669Z",
     "iopub.status.busy": "2021-07-01T17:27:25.409860Z",
     "iopub.status.idle": "2021-07-01T17:27:25.431135Z",
     "shell.execute_reply": "2021-07-01T17:27:25.429657Z",
     "shell.execute_reply.started": "2021-07-01T17:27:25.410592Z"
    }
   },
   "outputs": [
    {
     "ename": "AssertionError",
     "evalue": "Expected 'loads' to be called once. Called 2 times.\nCalls: [call('{\"key\": \"value\"}'), call('{\"key\": \"value\"}')].",
     "output_type": "error",
     "traceback": [
      "\u001b[0;31m---------------------------------------------------------------------------\u001b[0m",
      "\u001b[0;31mAssertionError\u001b[0m                            Traceback (most recent call last)",
      "\u001b[0;32m<ipython-input-31-b48900ae0c07>\u001b[0m in \u001b[0;36m<module>\u001b[0;34m\u001b[0m\n\u001b[0;32m----> 1\u001b[0;31m \u001b[0mjson\u001b[0m\u001b[0;34m.\u001b[0m\u001b[0mloads\u001b[0m\u001b[0;34m.\u001b[0m\u001b[0massert_called_once_with\u001b[0m\u001b[0;34m(\u001b[0m\u001b[0;34m'{\"key\": \"value\"}'\u001b[0m\u001b[0;34m)\u001b[0m\u001b[0;34m\u001b[0m\u001b[0;34m\u001b[0m\u001b[0m\n\u001b[0m",
      "\u001b[0;32m/usr/local/lib/python3.8/unittest/mock.py\u001b[0m in \u001b[0;36massert_called_once_with\u001b[0;34m(self, *args, **kwargs)\u001b[0m\n\u001b[1;32m    922\u001b[0m                       \u001b[0mself\u001b[0m\u001b[0;34m.\u001b[0m\u001b[0mcall_count\u001b[0m\u001b[0;34m,\u001b[0m\u001b[0;34m\u001b[0m\u001b[0;34m\u001b[0m\u001b[0m\n\u001b[1;32m    923\u001b[0m                       self._calls_repr()))\n\u001b[0;32m--> 924\u001b[0;31m             \u001b[0;32mraise\u001b[0m \u001b[0mAssertionError\u001b[0m\u001b[0;34m(\u001b[0m\u001b[0mmsg\u001b[0m\u001b[0;34m)\u001b[0m\u001b[0;34m\u001b[0m\u001b[0;34m\u001b[0m\u001b[0m\n\u001b[0m\u001b[1;32m    925\u001b[0m         \u001b[0;32mreturn\u001b[0m \u001b[0mself\u001b[0m\u001b[0;34m.\u001b[0m\u001b[0massert_called_with\u001b[0m\u001b[0;34m(\u001b[0m\u001b[0;34m*\u001b[0m\u001b[0margs\u001b[0m\u001b[0;34m,\u001b[0m \u001b[0;34m**\u001b[0m\u001b[0mkwargs\u001b[0m\u001b[0;34m)\u001b[0m\u001b[0;34m\u001b[0m\u001b[0;34m\u001b[0m\u001b[0m\n\u001b[1;32m    926\u001b[0m \u001b[0;34m\u001b[0m\u001b[0m\n",
      "\u001b[0;31mAssertionError\u001b[0m: Expected 'loads' to be called once. Called 2 times.\nCalls: [call('{\"key\": \"value\"}'), call('{\"key\": \"value\"}')]."
     ]
    }
   ],
   "source": [
    "json.loads.assert_called_once_with('{\"key\": \"value\"}')"
   ]
  },
  {
   "cell_type": "code",
   "execution_count": 32,
   "metadata": {
    "execution": {
     "iopub.execute_input": "2021-07-01T17:27:36.121634Z",
     "iopub.status.busy": "2021-07-01T17:27:36.121024Z",
     "iopub.status.idle": "2021-07-01T17:27:36.144461Z",
     "shell.execute_reply": "2021-07-01T17:27:36.142880Z",
     "shell.execute_reply.started": "2021-07-01T17:27:36.121573Z"
    }
   },
   "outputs": [
    {
     "ename": "AssertionError",
     "evalue": "Expected 'loads' to not have been called. Called 2 times.\nCalls: [call('{\"key\": \"value\"}'), call('{\"key\": \"value\"}')].",
     "output_type": "error",
     "traceback": [
      "\u001b[0;31m---------------------------------------------------------------------------\u001b[0m",
      "\u001b[0;31mAssertionError\u001b[0m                            Traceback (most recent call last)",
      "\u001b[0;32m<ipython-input-32-51fb1d651fcf>\u001b[0m in \u001b[0;36m<module>\u001b[0;34m\u001b[0m\n\u001b[0;32m----> 1\u001b[0;31m \u001b[0mjson\u001b[0m\u001b[0;34m.\u001b[0m\u001b[0mloads\u001b[0m\u001b[0;34m.\u001b[0m\u001b[0massert_not_called\u001b[0m\u001b[0;34m(\u001b[0m\u001b[0;34m)\u001b[0m\u001b[0;34m\u001b[0m\u001b[0;34m\u001b[0m\u001b[0m\n\u001b[0m",
      "\u001b[0;32m/usr/local/lib/python3.8/unittest/mock.py\u001b[0m in \u001b[0;36massert_not_called\u001b[0;34m(self)\u001b[0m\n\u001b[1;32m    872\u001b[0m                       \u001b[0mself\u001b[0m\u001b[0;34m.\u001b[0m\u001b[0mcall_count\u001b[0m\u001b[0;34m,\u001b[0m\u001b[0;34m\u001b[0m\u001b[0;34m\u001b[0m\u001b[0m\n\u001b[1;32m    873\u001b[0m                       self._calls_repr()))\n\u001b[0;32m--> 874\u001b[0;31m             \u001b[0;32mraise\u001b[0m \u001b[0mAssertionError\u001b[0m\u001b[0;34m(\u001b[0m\u001b[0mmsg\u001b[0m\u001b[0;34m)\u001b[0m\u001b[0;34m\u001b[0m\u001b[0;34m\u001b[0m\u001b[0m\n\u001b[0m\u001b[1;32m    875\u001b[0m \u001b[0;34m\u001b[0m\u001b[0m\n\u001b[1;32m    876\u001b[0m     \u001b[0;32mdef\u001b[0m \u001b[0massert_called\u001b[0m\u001b[0;34m(\u001b[0m\u001b[0mself\u001b[0m\u001b[0;34m)\u001b[0m\u001b[0;34m:\u001b[0m\u001b[0;34m\u001b[0m\u001b[0;34m\u001b[0m\u001b[0m\n",
      "\u001b[0;31mAssertionError\u001b[0m: Expected 'loads' to not have been called. Called 2 times.\nCalls: [call('{\"key\": \"value\"}'), call('{\"key\": \"value\"}')]."
     ]
    }
   ],
   "source": [
    "json.loads.assert_not_called()"
   ]
  },
  {
   "cell_type": "code",
   "execution_count": 34,
   "metadata": {
    "execution": {
     "iopub.execute_input": "2021-07-01T17:33:33.829421Z",
     "iopub.status.busy": "2021-07-01T17:33:33.827384Z",
     "iopub.status.idle": "2021-07-01T17:33:33.848941Z",
     "shell.execute_reply": "2021-07-01T17:33:33.847073Z",
     "shell.execute_reply.started": "2021-07-01T17:33:33.829249Z"
    }
   },
   "outputs": [
    {
     "data": {
      "text/plain": [
       "<Mock name='mock.dumps()' id='140200553959872'>"
      ]
     },
     "execution_count": 34,
     "metadata": {},
     "output_type": "execute_result"
    }
   ],
   "source": [
    "json.dumps()"
   ]
  },
  {
   "cell_type": "code",
   "execution_count": 36,
   "metadata": {
    "execution": {
     "iopub.execute_input": "2021-07-01T17:34:01.583632Z",
     "iopub.status.busy": "2021-07-01T17:34:01.583013Z",
     "iopub.status.idle": "2021-07-01T17:34:01.600090Z",
     "shell.execute_reply": "2021-07-01T17:34:01.598838Z",
     "shell.execute_reply.started": "2021-07-01T17:34:01.583572Z"
    }
   },
   "outputs": [
    {
     "data": {
      "text/plain": [
       "<Mock name='mock.loads()' id='140200553998224'>"
      ]
     },
     "execution_count": 36,
     "metadata": {},
     "output_type": "execute_result"
    }
   ],
   "source": [
    "json = Mock()\n",
    "json.loads(s='{\"key\": \"value\"}')"
   ]
  },
  {
   "cell_type": "code",
   "execution_count": 37,
   "metadata": {
    "execution": {
     "iopub.execute_input": "2021-07-01T17:34:03.031564Z",
     "iopub.status.busy": "2021-07-01T17:34:03.025226Z",
     "iopub.status.idle": "2021-07-01T17:34:03.111560Z",
     "shell.execute_reply": "2021-07-01T17:34:03.103294Z",
     "shell.execute_reply.started": "2021-07-01T17:34:03.031342Z"
    }
   },
   "outputs": [
    {
     "ename": "AssertionError",
     "evalue": "expected call not found.\nExpected: loads('{\"key\": \"value\"}')\nActual: loads(s='{\"key\": \"value\"}')",
     "output_type": "error",
     "traceback": [
      "\u001b[0;31m---------------------------------------------------------------------------\u001b[0m",
      "\u001b[0;31mAssertionError\u001b[0m                            Traceback (most recent call last)",
      "\u001b[0;32m<ipython-input-37-8214a3d90a26>\u001b[0m in \u001b[0;36m<module>\u001b[0;34m\u001b[0m\n\u001b[0;32m----> 1\u001b[0;31m \u001b[0mjson\u001b[0m\u001b[0;34m.\u001b[0m\u001b[0mloads\u001b[0m\u001b[0;34m.\u001b[0m\u001b[0massert_called_with\u001b[0m\u001b[0;34m(\u001b[0m\u001b[0;34m'{\"key\": \"value\"}'\u001b[0m\u001b[0;34m)\u001b[0m\u001b[0;34m\u001b[0m\u001b[0;34m\u001b[0m\u001b[0m\n\u001b[0m",
      "\u001b[0;32m/usr/local/lib/python3.8/unittest/mock.py\u001b[0m in \u001b[0;36massert_called_with\u001b[0;34m(self, *args, **kwargs)\u001b[0m\n\u001b[1;32m    911\u001b[0m         \u001b[0;32mif\u001b[0m \u001b[0mexpected\u001b[0m \u001b[0;34m!=\u001b[0m \u001b[0mactual\u001b[0m\u001b[0;34m:\u001b[0m\u001b[0;34m\u001b[0m\u001b[0;34m\u001b[0m\u001b[0m\n\u001b[1;32m    912\u001b[0m             \u001b[0mcause\u001b[0m \u001b[0;34m=\u001b[0m \u001b[0mexpected\u001b[0m \u001b[0;32mif\u001b[0m \u001b[0misinstance\u001b[0m\u001b[0;34m(\u001b[0m\u001b[0mexpected\u001b[0m\u001b[0;34m,\u001b[0m \u001b[0mException\u001b[0m\u001b[0;34m)\u001b[0m \u001b[0;32melse\u001b[0m \u001b[0;32mNone\u001b[0m\u001b[0;34m\u001b[0m\u001b[0;34m\u001b[0m\u001b[0m\n\u001b[0;32m--> 913\u001b[0;31m             \u001b[0;32mraise\u001b[0m \u001b[0mAssertionError\u001b[0m\u001b[0;34m(\u001b[0m\u001b[0m_error_message\u001b[0m\u001b[0;34m(\u001b[0m\u001b[0;34m)\u001b[0m\u001b[0;34m)\u001b[0m \u001b[0;32mfrom\u001b[0m \u001b[0mcause\u001b[0m\u001b[0;34m\u001b[0m\u001b[0;34m\u001b[0m\u001b[0m\n\u001b[0m\u001b[1;32m    914\u001b[0m \u001b[0;34m\u001b[0m\u001b[0m\n\u001b[1;32m    915\u001b[0m \u001b[0;34m\u001b[0m\u001b[0m\n",
      "\u001b[0;31mAssertionError\u001b[0m: expected call not found.\nExpected: loads('{\"key\": \"value\"}')\nActual: loads(s='{\"key\": \"value\"}')"
     ]
    }
   ],
   "source": [
    "json.loads.assert_called_with('{\"key\": \"value\"}')"
   ]
  },
  {
   "cell_type": "code",
   "execution_count": 38,
   "metadata": {
    "execution": {
     "iopub.execute_input": "2021-07-01T17:34:12.821782Z",
     "iopub.status.busy": "2021-07-01T17:34:12.818353Z",
     "iopub.status.idle": "2021-07-01T17:34:12.859907Z",
     "shell.execute_reply": "2021-07-01T17:34:12.847943Z",
     "shell.execute_reply.started": "2021-07-01T17:34:12.821597Z"
    }
   },
   "outputs": [],
   "source": [
    "json.loads.assert_called_with(s='{\"key\": \"value\"}')"
   ]
  },
  {
   "cell_type": "code",
   "execution_count": 39,
   "metadata": {
    "execution": {
     "iopub.execute_input": "2021-07-01T17:34:37.110097Z",
     "iopub.status.busy": "2021-07-01T17:34:37.107282Z",
     "iopub.status.idle": "2021-07-01T17:34:37.145067Z",
     "shell.execute_reply": "2021-07-01T17:34:37.141656Z",
     "shell.execute_reply.started": "2021-07-01T17:34:37.109958Z"
    }
   },
   "outputs": [
    {
     "data": {
      "text/plain": [
       "<Mock name='mock.loads()' id='140200553999664'>"
      ]
     },
     "execution_count": 39,
     "metadata": {},
     "output_type": "execute_result"
    }
   ],
   "source": [
    "json = Mock()\n",
    "json.loads('{\"key\": \"value\"}')"
   ]
  },
  {
   "cell_type": "code",
   "execution_count": 40,
   "metadata": {
    "execution": {
     "iopub.execute_input": "2021-07-01T17:34:39.848491Z",
     "iopub.status.busy": "2021-07-01T17:34:39.846690Z",
     "iopub.status.idle": "2021-07-01T17:34:39.867787Z",
     "shell.execute_reply": "2021-07-01T17:34:39.866402Z",
     "shell.execute_reply.started": "2021-07-01T17:34:39.848323Z"
    }
   },
   "outputs": [
    {
     "data": {
      "text/plain": [
       "1"
      ]
     },
     "execution_count": 40,
     "metadata": {},
     "output_type": "execute_result"
    }
   ],
   "source": [
    "json.loads.call_count"
   ]
  },
  {
   "cell_type": "code",
   "execution_count": 41,
   "metadata": {
    "execution": {
     "iopub.execute_input": "2021-07-01T17:34:45.662427Z",
     "iopub.status.busy": "2021-07-01T17:34:45.657344Z",
     "iopub.status.idle": "2021-07-01T17:34:45.696405Z",
     "shell.execute_reply": "2021-07-01T17:34:45.693243Z",
     "shell.execute_reply.started": "2021-07-01T17:34:45.662213Z"
    }
   },
   "outputs": [
    {
     "data": {
      "text/plain": [
       "call('{\"key\": \"value\"}')"
      ]
     },
     "execution_count": 41,
     "metadata": {},
     "output_type": "execute_result"
    }
   ],
   "source": [
    "json.loads.call_args"
   ]
  },
  {
   "cell_type": "code",
   "execution_count": 42,
   "metadata": {
    "execution": {
     "iopub.execute_input": "2021-07-01T17:45:28.795292Z",
     "iopub.status.busy": "2021-07-01T17:45:28.792651Z",
     "iopub.status.idle": "2021-07-01T17:45:28.813806Z",
     "shell.execute_reply": "2021-07-01T17:45:28.812353Z",
     "shell.execute_reply.started": "2021-07-01T17:45:28.795117Z"
    }
   },
   "outputs": [
    {
     "data": {
      "text/plain": [
       "[call('{\"key\": \"value\"}')]"
      ]
     },
     "execution_count": 42,
     "metadata": {},
     "output_type": "execute_result"
    }
   ],
   "source": [
    "json.loads.call_args_list"
   ]
  },
  {
   "cell_type": "code",
   "execution_count": 45,
   "metadata": {
    "execution": {
     "iopub.execute_input": "2021-07-01T17:45:50.143090Z",
     "iopub.status.busy": "2021-07-01T17:45:50.140656Z",
     "iopub.status.idle": "2021-07-01T17:45:50.160079Z",
     "shell.execute_reply": "2021-07-01T17:45:50.158099Z",
     "shell.execute_reply.started": "2021-07-01T17:45:50.142981Z"
    }
   },
   "outputs": [
    {
     "data": {
      "text/plain": [
       "[call.loads('{\"key\": \"value\"}'),\n",
       " call.dumps([], ensure_ascii=False),\n",
       " call.dumps([], ensure_ascii=False),\n",
       " call.dumps([], ensure_ascii=False),\n",
       " call.dumps([], ensure_ascii=False),\n",
       " call.dumps([], ensure_ascii=False),\n",
       " call.dumps([], ensure_ascii=False)]"
      ]
     },
     "execution_count": 45,
     "metadata": {},
     "output_type": "execute_result"
    }
   ],
   "source": [
    "json.method_calls"
   ]
  },
  {
   "cell_type": "code",
   "execution_count": 46,
   "metadata": {
    "execution": {
     "iopub.execute_input": "2021-07-01T17:59:23.208992Z",
     "iopub.status.busy": "2021-07-01T17:59:23.206307Z",
     "iopub.status.idle": "2021-07-01T17:59:23.217686Z",
     "shell.execute_reply": "2021-07-01T17:59:23.215805Z",
     "shell.execute_reply.started": "2021-07-01T17:59:23.208865Z"
    }
   },
   "outputs": [],
   "source": [
    "from datetime import datetime"
   ]
  },
  {
   "cell_type": "code",
   "execution_count": 47,
   "metadata": {
    "execution": {
     "iopub.execute_input": "2021-07-01T17:59:32.008150Z",
     "iopub.status.busy": "2021-07-01T17:59:32.004921Z",
     "iopub.status.idle": "2021-07-01T17:59:32.029198Z",
     "shell.execute_reply": "2021-07-01T17:59:32.026505Z",
     "shell.execute_reply.started": "2021-07-01T17:59:32.007966Z"
    }
   },
   "outputs": [],
   "source": [
    "def is_weekday():\n",
    "    today = datetime.today()\n",
    "    # Python's datetime library treats Monday as 0 and Sunday as 6\n",
    "    return (0 <= today.weekday() < 5)\n",
    "\n",
    "# Test if today is a weekday\n",
    "assert is_weekday()"
   ]
  },
  {
   "cell_type": "code",
   "execution_count": 49,
   "metadata": {
    "execution": {
     "iopub.execute_input": "2021-07-01T17:59:45.435336Z",
     "iopub.status.busy": "2021-07-01T17:59:45.434829Z",
     "iopub.status.idle": "2021-07-01T17:59:45.448448Z",
     "shell.execute_reply": "2021-07-01T17:59:45.446914Z",
     "shell.execute_reply.started": "2021-07-01T17:59:45.435290Z"
    }
   },
   "outputs": [
    {
     "ename": "AssertionError",
     "evalue": "uuuhuu",
     "output_type": "error",
     "traceback": [
      "\u001b[0;31m---------------------------------------------------------------------------\u001b[0m",
      "\u001b[0;31mAssertionError\u001b[0m                            Traceback (most recent call last)",
      "\u001b[0;32m<ipython-input-49-f12091e3694d>\u001b[0m in \u001b[0;36m<module>\u001b[0;34m\u001b[0m\n\u001b[0;32m----> 1\u001b[0;31m \u001b[0;32massert\u001b[0m \u001b[0;32mFalse\u001b[0m\u001b[0;34m,\u001b[0m \u001b[0;34m'uuuhuu'\u001b[0m\u001b[0;34m\u001b[0m\u001b[0;34m\u001b[0m\u001b[0m\n\u001b[0m",
      "\u001b[0;31mAssertionError\u001b[0m: uuuhuu"
     ]
    }
   ],
   "source": [
    "assert False, 'uuuhuu'"
   ]
  },
  {
   "cell_type": "code",
   "execution_count": 50,
   "metadata": {
    "execution": {
     "iopub.execute_input": "2021-07-01T17:59:57.185487Z",
     "iopub.status.busy": "2021-07-01T17:59:57.182758Z",
     "iopub.status.idle": "2021-07-01T17:59:57.199384Z",
     "shell.execute_reply": "2021-07-01T17:59:57.197034Z",
     "shell.execute_reply.started": "2021-07-01T17:59:57.185329Z"
    }
   },
   "outputs": [
    {
     "data": {
      "text/plain": [
       "True"
      ]
     },
     "execution_count": 50,
     "metadata": {},
     "output_type": "execute_result"
    }
   ],
   "source": [
    "is_weekday()"
   ]
  },
  {
   "cell_type": "code",
   "execution_count": 51,
   "metadata": {
    "execution": {
     "iopub.execute_input": "2021-07-01T18:00:21.084594Z",
     "iopub.status.busy": "2021-07-01T18:00:21.083660Z",
     "iopub.status.idle": "2021-07-01T18:00:21.098787Z",
     "shell.execute_reply": "2021-07-01T18:00:21.097112Z",
     "shell.execute_reply.started": "2021-07-01T18:00:21.084517Z"
    }
   },
   "outputs": [],
   "source": [
    "import datetime\n",
    "from unittest.mock import Mock\n",
    "\n",
    "# Save a couple of test days\n",
    "tuesday = datetime.datetime(year=2019, month=1, day=1)\n",
    "saturday = datetime.datetime(year=2019, month=1, day=5)\n",
    "\n",
    "# Mock datetime to control today's date\n",
    "datetime = Mock()"
   ]
  },
  {
   "cell_type": "code",
   "execution_count": 53,
   "metadata": {
    "execution": {
     "iopub.execute_input": "2021-07-01T18:00:48.097053Z",
     "iopub.status.busy": "2021-07-01T18:00:48.093909Z",
     "iopub.status.idle": "2021-07-01T18:00:48.116311Z",
     "shell.execute_reply": "2021-07-01T18:00:48.114254Z",
     "shell.execute_reply.started": "2021-07-01T18:00:48.096871Z"
    }
   },
   "outputs": [],
   "source": [
    "datetime.datetime.today.return_value = tuesday"
   ]
  },
  {
   "cell_type": "code",
   "execution_count": 56,
   "metadata": {
    "execution": {
     "iopub.execute_input": "2021-07-01T18:01:16.173288Z",
     "iopub.status.busy": "2021-07-01T18:01:16.170009Z",
     "iopub.status.idle": "2021-07-01T18:01:16.191998Z",
     "shell.execute_reply": "2021-07-01T18:01:16.188788Z",
     "shell.execute_reply.started": "2021-07-01T18:01:16.173097Z"
    }
   },
   "outputs": [],
   "source": [
    "def is_weekday():\n",
    "    today = datetime.datetime.today()\n",
    "    # Python's datetime library treats Monday as 0 and Sunday as 6\n",
    "    return (0 <= today.weekday() < 5)"
   ]
  },
  {
   "cell_type": "code",
   "execution_count": 57,
   "metadata": {
    "execution": {
     "iopub.execute_input": "2021-07-01T18:01:17.491592Z",
     "iopub.status.busy": "2021-07-01T18:01:17.489564Z",
     "iopub.status.idle": "2021-07-01T18:01:17.505353Z",
     "shell.execute_reply": "2021-07-01T18:01:17.503717Z",
     "shell.execute_reply.started": "2021-07-01T18:01:17.491397Z"
    }
   },
   "outputs": [
    {
     "data": {
      "text/plain": [
       "True"
      ]
     },
     "execution_count": 57,
     "metadata": {},
     "output_type": "execute_result"
    }
   ],
   "source": [
    "is_weekday()"
   ]
  },
  {
   "cell_type": "code",
   "execution_count": 59,
   "metadata": {
    "execution": {
     "iopub.execute_input": "2021-07-01T18:01:43.465500Z",
     "iopub.status.busy": "2021-07-01T18:01:43.464146Z",
     "iopub.status.idle": "2021-07-01T18:01:43.480366Z",
     "shell.execute_reply": "2021-07-01T18:01:43.478489Z",
     "shell.execute_reply.started": "2021-07-01T18:01:43.465415Z"
    }
   },
   "outputs": [
    {
     "data": {
      "text/plain": [
       "datetime.datetime(2019, 1, 1, 0, 0)"
      ]
     },
     "execution_count": 59,
     "metadata": {},
     "output_type": "execute_result"
    }
   ],
   "source": [
    "datetime.datetime.today()"
   ]
  },
  {
   "cell_type": "code",
   "execution_count": 60,
   "metadata": {
    "execution": {
     "iopub.execute_input": "2021-07-01T18:01:53.376522Z",
     "iopub.status.busy": "2021-07-01T18:01:53.374641Z",
     "iopub.status.idle": "2021-07-01T18:01:53.384785Z",
     "shell.execute_reply": "2021-07-01T18:01:53.383216Z",
     "shell.execute_reply.started": "2021-07-01T18:01:53.376411Z"
    }
   },
   "outputs": [],
   "source": [
    "datetime.datetime.today.return_value = saturday"
   ]
  },
  {
   "cell_type": "code",
   "execution_count": 61,
   "metadata": {
    "execution": {
     "iopub.execute_input": "2021-07-01T18:01:57.086070Z",
     "iopub.status.busy": "2021-07-01T18:01:57.085756Z",
     "iopub.status.idle": "2021-07-01T18:01:57.093636Z",
     "shell.execute_reply": "2021-07-01T18:01:57.092865Z",
     "shell.execute_reply.started": "2021-07-01T18:01:57.086040Z"
    }
   },
   "outputs": [
    {
     "data": {
      "text/plain": [
       "False"
      ]
     },
     "execution_count": 61,
     "metadata": {},
     "output_type": "execute_result"
    }
   ],
   "source": [
    "is_weekday()"
   ]
  },
  {
   "cell_type": "code",
   "execution_count": 62,
   "metadata": {
    "execution": {
     "iopub.execute_input": "2021-07-01T18:13:57.813505Z",
     "iopub.status.busy": "2021-07-01T18:13:57.810569Z",
     "iopub.status.idle": "2021-07-01T18:13:57.828931Z",
     "shell.execute_reply": "2021-07-01T18:13:57.826882Z",
     "shell.execute_reply.started": "2021-07-01T18:13:57.813331Z"
    }
   },
   "outputs": [],
   "source": [
    "mega = Mock()"
   ]
  },
  {
   "cell_type": "code",
   "execution_count": 63,
   "metadata": {
    "execution": {
     "iopub.execute_input": "2021-07-01T18:14:20.496625Z",
     "iopub.status.busy": "2021-07-01T18:14:20.493735Z",
     "iopub.status.idle": "2021-07-01T18:14:20.506994Z",
     "shell.execute_reply": "2021-07-01T18:14:20.505328Z",
     "shell.execute_reply.started": "2021-07-01T18:14:20.496501Z"
    }
   },
   "outputs": [],
   "source": [
    "mega.super.pega.return_value = 'toma!'"
   ]
  },
  {
   "cell_type": "code",
   "execution_count": 65,
   "metadata": {
    "execution": {
     "iopub.execute_input": "2021-07-01T18:14:27.080104Z",
     "iopub.status.busy": "2021-07-01T18:14:27.079408Z",
     "iopub.status.idle": "2021-07-01T18:14:27.087776Z",
     "shell.execute_reply": "2021-07-01T18:14:27.086660Z",
     "shell.execute_reply.started": "2021-07-01T18:14:27.080040Z"
    }
   },
   "outputs": [
    {
     "data": {
      "text/plain": [
       "'toma!'"
      ]
     },
     "execution_count": 65,
     "metadata": {},
     "output_type": "execute_result"
    }
   ],
   "source": [
    "mega.super.pega()"
   ]
  },
  {
   "cell_type": "code",
   "execution_count": 67,
   "metadata": {
    "execution": {
     "iopub.execute_input": "2021-07-01T19:12:57.500491Z",
     "iopub.status.busy": "2021-07-01T19:12:57.498991Z",
     "iopub.status.idle": "2021-07-01T19:12:57.535587Z",
     "shell.execute_reply": "2021-07-01T19:12:57.533346Z",
     "shell.execute_reply.started": "2021-07-01T19:12:57.500346Z"
    }
   },
   "outputs": [],
   "source": [
    "requests = Mock()\n",
    "r = Mock()\n",
    "r.json.return_value = {'key': 'value'}\n",
    "r.status_code = 200"
   ]
  },
  {
   "cell_type": "code",
   "execution_count": 68,
   "metadata": {
    "execution": {
     "iopub.execute_input": "2021-07-01T19:13:04.450482Z",
     "iopub.status.busy": "2021-07-01T19:13:04.448965Z",
     "iopub.status.idle": "2021-07-01T19:13:04.484826Z",
     "shell.execute_reply": "2021-07-01T19:13:04.480180Z",
     "shell.execute_reply.started": "2021-07-01T19:13:04.450343Z"
    }
   },
   "outputs": [
    {
     "data": {
      "text/plain": [
       "{'key': 'value'}"
      ]
     },
     "execution_count": 68,
     "metadata": {},
     "output_type": "execute_result"
    }
   ],
   "source": [
    "r.json()"
   ]
  },
  {
   "cell_type": "code",
   "execution_count": 72,
   "metadata": {
    "execution": {
     "iopub.execute_input": "2021-07-01T19:13:57.959151Z",
     "iopub.status.busy": "2021-07-01T19:13:57.958600Z",
     "iopub.status.idle": "2021-07-01T19:13:57.964095Z",
     "shell.execute_reply": "2021-07-01T19:13:57.962779Z",
     "shell.execute_reply.started": "2021-07-01T19:13:57.959105Z"
    }
   },
   "outputs": [],
   "source": [
    "requests.get.return_value = r"
   ]
  },
  {
   "cell_type": "code",
   "execution_count": 91,
   "metadata": {
    "execution": {
     "iopub.execute_input": "2021-07-01T19:17:47.611065Z",
     "iopub.status.busy": "2021-07-01T19:17:47.610066Z",
     "iopub.status.idle": "2021-07-01T19:17:47.622766Z",
     "shell.execute_reply": "2021-07-01T19:17:47.620537Z",
     "shell.execute_reply.started": "2021-07-01T19:17:47.610994Z"
    }
   },
   "outputs": [],
   "source": [
    "r2 = requests.get(url='http://localhost/api/holidays')"
   ]
  },
  {
   "cell_type": "code",
   "execution_count": 74,
   "metadata": {
    "execution": {
     "iopub.execute_input": "2021-07-01T19:13:59.891538Z",
     "iopub.status.busy": "2021-07-01T19:13:59.890685Z",
     "iopub.status.idle": "2021-07-01T19:13:59.904036Z",
     "shell.execute_reply": "2021-07-01T19:13:59.901901Z",
     "shell.execute_reply.started": "2021-07-01T19:13:59.891454Z"
    }
   },
   "outputs": [
    {
     "data": {
      "text/plain": [
       "200"
      ]
     },
     "execution_count": 74,
     "metadata": {},
     "output_type": "execute_result"
    }
   ],
   "source": [
    "r2.status_code"
   ]
  },
  {
   "cell_type": "code",
   "execution_count": 75,
   "metadata": {
    "execution": {
     "iopub.execute_input": "2021-07-01T19:14:19.612877Z",
     "iopub.status.busy": "2021-07-01T19:14:19.605968Z",
     "iopub.status.idle": "2021-07-01T19:14:19.657391Z",
     "shell.execute_reply": "2021-07-01T19:14:19.651826Z",
     "shell.execute_reply.started": "2021-07-01T19:14:19.612703Z"
    }
   },
   "outputs": [
    {
     "data": {
      "text/plain": [
       "{'key': 'value'}"
      ]
     },
     "execution_count": 75,
     "metadata": {},
     "output_type": "execute_result"
    }
   ],
   "source": [
    "r2.json()"
   ]
  },
  {
   "cell_type": "code",
   "execution_count": 77,
   "metadata": {
    "execution": {
     "iopub.execute_input": "2021-07-01T19:15:11.063540Z",
     "iopub.status.busy": "2021-07-01T19:15:11.062869Z",
     "iopub.status.idle": "2021-07-01T19:15:11.081197Z",
     "shell.execute_reply": "2021-07-01T19:15:11.079269Z",
     "shell.execute_reply.started": "2021-07-01T19:15:11.063476Z"
    }
   },
   "outputs": [
    {
     "ename": "AssertionError",
     "evalue": "Expected 'get' to have been called once. Called 3 times.\nCalls: [call('http://localhost/api/holidays'),\n call('http://localhost/api/holidays'),\n call('http://localhost/api/holidays'),\n call()().json()].",
     "output_type": "error",
     "traceback": [
      "\u001b[0;31m---------------------------------------------------------------------------\u001b[0m",
      "\u001b[0;31mAssertionError\u001b[0m                            Traceback (most recent call last)",
      "\u001b[0;32m<ipython-input-77-c6061dd4746c>\u001b[0m in \u001b[0;36m<module>\u001b[0;34m\u001b[0m\n\u001b[0;32m----> 1\u001b[0;31m \u001b[0mrequests\u001b[0m\u001b[0;34m.\u001b[0m\u001b[0mget\u001b[0m\u001b[0;34m.\u001b[0m\u001b[0massert_called_once\u001b[0m\u001b[0;34m(\u001b[0m\u001b[0;34m)\u001b[0m\u001b[0;34m\u001b[0m\u001b[0;34m\u001b[0m\u001b[0m\n\u001b[0m",
      "\u001b[0;32m/usr/local/lib/python3.8/unittest/mock.py\u001b[0m in \u001b[0;36massert_called_once\u001b[0;34m(self)\u001b[0m\n\u001b[1;32m    890\u001b[0m                       \u001b[0mself\u001b[0m\u001b[0;34m.\u001b[0m\u001b[0mcall_count\u001b[0m\u001b[0;34m,\u001b[0m\u001b[0;34m\u001b[0m\u001b[0;34m\u001b[0m\u001b[0m\n\u001b[1;32m    891\u001b[0m                       self._calls_repr()))\n\u001b[0;32m--> 892\u001b[0;31m             \u001b[0;32mraise\u001b[0m \u001b[0mAssertionError\u001b[0m\u001b[0;34m(\u001b[0m\u001b[0mmsg\u001b[0m\u001b[0;34m)\u001b[0m\u001b[0;34m\u001b[0m\u001b[0;34m\u001b[0m\u001b[0m\n\u001b[0m\u001b[1;32m    893\u001b[0m \u001b[0;34m\u001b[0m\u001b[0m\n\u001b[1;32m    894\u001b[0m     \u001b[0;32mdef\u001b[0m \u001b[0massert_called_with\u001b[0m\u001b[0;34m(\u001b[0m\u001b[0mself\u001b[0m\u001b[0;34m,\u001b[0m \u001b[0;34m/\u001b[0m\u001b[0;34m,\u001b[0m \u001b[0;34m*\u001b[0m\u001b[0margs\u001b[0m\u001b[0;34m,\u001b[0m \u001b[0;34m**\u001b[0m\u001b[0mkwargs\u001b[0m\u001b[0;34m)\u001b[0m\u001b[0;34m:\u001b[0m\u001b[0;34m\u001b[0m\u001b[0;34m\u001b[0m\u001b[0m\n",
      "\u001b[0;31mAssertionError\u001b[0m: Expected 'get' to have been called once. Called 3 times.\nCalls: [call('http://localhost/api/holidays'),\n call('http://localhost/api/holidays'),\n call('http://localhost/api/holidays'),\n call()().json()]."
     ]
    }
   ],
   "source": [
    "requests.get.assert_called_once()"
   ]
  },
  {
   "cell_type": "code",
   "execution_count": 92,
   "metadata": {
    "execution": {
     "iopub.execute_input": "2021-07-01T19:17:58.272647Z",
     "iopub.status.busy": "2021-07-01T19:17:58.271665Z",
     "iopub.status.idle": "2021-07-01T19:17:58.299583Z",
     "shell.execute_reply": "2021-07-01T19:17:58.296269Z",
     "shell.execute_reply.started": "2021-07-01T19:17:58.272557Z"
    }
   },
   "outputs": [
    {
     "data": {
      "text/plain": [
       "[call('http://localhost/api/holidays'),\n",
       " call('http://localhost/api/holidays'),\n",
       " call('http://localhost/api/holidays'),\n",
       " call(url='http://localhost/api/holidays')]"
      ]
     },
     "execution_count": 92,
     "metadata": {},
     "output_type": "execute_result"
    }
   ],
   "source": [
    "requests.get.call_args_list"
   ]
  },
  {
   "cell_type": "code",
   "execution_count": 90,
   "metadata": {
    "execution": {
     "iopub.execute_input": "2021-07-01T19:17:24.753239Z",
     "iopub.status.busy": "2021-07-01T19:17:24.752962Z",
     "iopub.status.idle": "2021-07-01T19:17:24.758302Z",
     "shell.execute_reply": "2021-07-01T19:17:24.757347Z",
     "shell.execute_reply.started": "2021-07-01T19:17:24.753212Z"
    }
   },
   "outputs": [
    {
     "data": {
      "text/plain": [
       "\"call('http://localhost/api/holidays')\""
      ]
     },
     "execution_count": 90,
     "metadata": {},
     "output_type": "execute_result"
    }
   ],
   "source": [
    "str(requests.get.call_args_list[0])"
   ]
  },
  {
   "cell_type": "code",
   "execution_count": 89,
   "metadata": {
    "execution": {
     "iopub.execute_input": "2021-07-01T19:17:19.588124Z",
     "iopub.status.busy": "2021-07-01T19:17:19.587439Z",
     "iopub.status.idle": "2021-07-01T19:17:19.604781Z",
     "shell.execute_reply": "2021-07-01T19:17:19.603194Z",
     "shell.execute_reply.started": "2021-07-01T19:17:19.588049Z"
    }
   },
   "outputs": [
    {
     "ename": "NameError",
     "evalue": "name 'call' is not defined",
     "output_type": "error",
     "traceback": [
      "\u001b[0;31m---------------------------------------------------------------------------\u001b[0m",
      "\u001b[0;31mNameError\u001b[0m                                 Traceback (most recent call last)",
      "\u001b[0;32m<ipython-input-89-1e003f29707b>\u001b[0m in \u001b[0;36m<module>\u001b[0;34m\u001b[0m\n\u001b[0;32m----> 1\u001b[0;31m \u001b[0mstr\u001b[0m\u001b[0;34m(\u001b[0m\u001b[0mcall\u001b[0m\u001b[0;34m(\u001b[0m\u001b[0;34m'http://localhost/api/holidays'\u001b[0m\u001b[0;34m)\u001b[0m\u001b[0;34m)\u001b[0m\u001b[0;34m\u001b[0m\u001b[0;34m\u001b[0m\u001b[0m\n\u001b[0m",
      "\u001b[0;31mNameError\u001b[0m: name 'call' is not defined"
     ]
    }
   ],
   "source": [
    "str(call('http://localhost/api/holidays'))"
   ]
  },
  {
   "cell_type": "code",
   "execution_count": null,
   "metadata": {},
   "outputs": [],
   "source": []
  }
 ],
 "metadata": {
  "kernelspec": {
   "display_name": "Python 3",
   "language": "python",
   "name": "python3"
  },
  "language_info": {
   "codemirror_mode": {
    "name": "ipython",
    "version": 3
   },
   "file_extension": ".py",
   "mimetype": "text/x-python",
   "name": "python",
   "nbconvert_exporter": "python",
   "pygments_lexer": "ipython3",
   "version": "3.8.11"
  }
 },
 "nbformat": 4,
 "nbformat_minor": 4
}
